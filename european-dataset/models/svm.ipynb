{
 "cells": [
  {
   "metadata": {},
   "cell_type": "markdown",
   "source": "# Libraries",
   "id": "679b32eda79ca7b3"
  },
  {
   "metadata": {
    "ExecuteTime": {
     "end_time": "2025-07-19T13:46:34.013692Z",
     "start_time": "2025-07-19T13:46:34.010857Z"
    }
   },
   "cell_type": "code",
   "source": [
    "import pandas as pd\n",
    "import numpy as np\n",
    "import warnings\n",
    "warnings.filterwarnings('ignore')\n",
    "from sklearn.model_selection import GridSearchCV, RandomizedSearchCV\n",
    "from sklearn.metrics import accuracy_score, precision_score, recall_score, f1_score, confusion_matrix\n",
    "import json\n",
    "from matplotlib import pyplot as plt\n",
    "from sklearn.metrics import ConfusionMatrixDisplay\n",
    "from sklearn.svm import SVC\n",
    "from imblearn.over_sampling import SMOTE\n",
    "from sklearn.model_selection import train_test_split\n",
    "from scipy.stats import loguniform"
   ],
   "id": "e7051ce527a6a76d",
   "outputs": [],
   "execution_count": 12
  },
  {
   "metadata": {},
   "cell_type": "markdown",
   "source": "# Loading the processed Data",
   "id": "cbdc0ee05b31c726"
  },
  {
   "metadata": {
    "ExecuteTime": {
     "end_time": "2025-07-19T13:45:45.392047Z",
     "start_time": "2025-07-19T13:45:43.964767Z"
    }
   },
   "cell_type": "code",
   "source": [
    "X_temp = pd.read_csv('/Users/raya/Desktop/fraud-detection/european-dataset/data/processed/X_train.csv')\n",
    "X_test = pd.read_csv('/Users/raya/Desktop/fraud-detection/european-dataset/data/processed/X_test.csv')\n",
    "y_temp = pd.read_csv('/Users/raya/Desktop/fraud-detection/european-dataset/data/processed/y_train.csv')['Class']\n",
    "y_test = pd.read_csv('/Users/raya/Desktop/fraud-detection/european-dataset/data/processed/y_test.csv')['Class']"
   ],
   "id": "72f0d07101b4dbfb",
   "outputs": [],
   "execution_count": 7
  },
  {
   "metadata": {
    "ExecuteTime": {
     "end_time": "2025-07-19T13:45:47.901214Z",
     "start_time": "2025-07-19T13:45:47.828359Z"
    }
   },
   "cell_type": "code",
   "source": "X_train, X_val, y_train, y_val = train_test_split(X_temp, y_temp, test_size=0.2, random_state=42, stratify=y_temp)",
   "id": "bed38f9768f11699",
   "outputs": [],
   "execution_count": 8
  },
  {
   "metadata": {
    "ExecuteTime": {
     "end_time": "2025-07-19T13:45:49.383571Z",
     "start_time": "2025-07-19T13:45:49.243880Z"
    }
   },
   "cell_type": "code",
   "source": [
    "smote = SMOTE(random_state=42)\n",
    "X_train_smote, y_train_smote = smote.fit_resample(X_train, y_train)\n",
    "print(\"SMOTE X_train shape:\", X_train_smote.shape)\n",
    "print(\"SMOTE y_train shape:\", y_train_smote.shape)\n",
    "print(\"Fraud ratio after SMOTE:\", np.mean(y_train_smote))"
   ],
   "id": "1bbb5ac4f1038844",
   "outputs": [
    {
     "name": "stdout",
     "output_type": "stream",
     "text": [
      "SMOTE X_train shape: (363514, 30)\n",
      "SMOTE y_train shape: (363514,)\n",
      "Fraud ratio after SMOTE: 0.5\n"
     ]
    }
   ],
   "execution_count": 9
  },
  {
   "metadata": {
    "ExecuteTime": {
     "end_time": "2025-07-19T13:46:38.611053Z",
     "start_time": "2025-07-19T13:46:38.607779Z"
    }
   },
   "cell_type": "code",
   "source": [
    "svm = SVC(kernel='rbf', probability=True, random_state=42)\n",
    "param_dist = {\n",
    "    'C': loguniform(1e-3, 1e3),  # Regularization parameter\n",
    "    'gamma': loguniform(1e-4, 1e0),  # Kernel coefficient\n",
    "    'class_weight': [{0: 1, 1: w} for w in [1, 10, 50, 100, 200]]  # Weight for fraud class\n",
    "}"
   ],
   "id": "d8b0d977fcf48163",
   "outputs": [],
   "execution_count": 13
  },
  {
   "metadata": {
    "ExecuteTime": {
     "end_time": "2025-07-19T13:46:52.991733Z",
     "start_time": "2025-07-19T13:46:52.988105Z"
    }
   },
   "cell_type": "code",
   "source": [
    "random_search = RandomizedSearchCV(\n",
    "    estimator=svm,\n",
    "    param_distributions=param_dist,\n",
    "    n_iter=20,  # Number of parameter settings to sample\n",
    "    scoring='f1',  # Optimize for F1-score\n",
    "    cv=3,  # 3-fold cross-validation\n",
    "    n_jobs=-1,  # Use all available cores\n",
    "    verbose=2,\n",
    "    random_state=42\n",
    ")"
   ],
   "id": "2c028428a2f3f2cd",
   "outputs": [],
   "execution_count": 14
  },
  {
   "metadata": {
    "jupyter": {
     "is_executing": true
    },
    "ExecuteTime": {
     "start_time": "2025-07-19T13:48:34.759658Z"
    }
   },
   "cell_type": "code",
   "source": "random_search.fit(X_train_smote, y_train_smote)",
   "id": "1608a82a12b4f402",
   "outputs": [
    {
     "name": "stdout",
     "output_type": "stream",
     "text": [
      "Fitting 3 folds for each of 20 candidates, totalling 60 fits\n"
     ]
    }
   ],
   "execution_count": null
  },
  {
   "metadata": {},
   "cell_type": "code",
   "outputs": [],
   "execution_count": null,
   "source": [
    "print(\"Best parameters:\", random_search.best_params_)\n",
    "print(\"Best F1-score (validation):\", random_search.best_score_)"
   ],
   "id": "cbdaedf1c0eacafb"
  },
  {
   "metadata": {},
   "cell_type": "code",
   "outputs": [],
   "execution_count": null,
   "source": [
    "best_svm = random_search.best_estimator_\n",
    "y_pred_val = best_svm.predict(X_val)"
   ],
   "id": "34eb83755cf5640d"
  },
  {
   "metadata": {},
   "cell_type": "code",
   "outputs": [],
   "execution_count": null,
   "source": [
    "print(\"\\nValidation Set Performance:\")\n",
    "print(f\"F1-Score: {f1_score(y_val, y_pred_val):.4f}\")\n",
    "print(f\"Precision: {precision_score(y_val, y_pred_val):.4f}\")\n",
    "print(f\"Recall: {recall_score(y_val, y_pred_val):.4f}\")"
   ],
   "id": "f33904d0d69bdf6a"
  },
  {
   "metadata": {},
   "cell_type": "code",
   "outputs": [],
   "execution_count": null,
   "source": [
    "import joblib\n",
    "joblib.dump(best_svm, 'svm_fraud_model.pkl')"
   ],
   "id": "b549014364a288d"
  },
  {
   "metadata": {},
   "cell_type": "markdown",
   "source": "# Evaluation",
   "id": "220cbcf9df783798"
  },
  {
   "metadata": {},
   "cell_type": "code",
   "outputs": [],
   "execution_count": null,
   "source": "predictions = best_svm.predict(X_test)",
   "id": "d0bbbc1282a44799"
  },
  {
   "metadata": {},
   "cell_type": "code",
   "outputs": [],
   "execution_count": null,
   "source": [
    "accuracy = accuracy_score(y_test, predictions)\n",
    "precision = precision_score(y_test, predictions)\n",
    "recall = recall_score(y_test, predictions)\n",
    "f1 = f1_score(y_test, predictions)\n",
    "tn, fp, fn, tp = confusion_matrix(y_test, predictions).ravel()"
   ],
   "id": "7e13830fba7b7c05"
  }
 ],
 "metadata": {
  "kernelspec": {
   "display_name": "Python 3",
   "language": "python",
   "name": "python3"
  },
  "language_info": {
   "codemirror_mode": {
    "name": "ipython",
    "version": 2
   },
   "file_extension": ".py",
   "mimetype": "text/x-python",
   "name": "python",
   "nbconvert_exporter": "python",
   "pygments_lexer": "ipython2",
   "version": "2.7.6"
  }
 },
 "nbformat": 4,
 "nbformat_minor": 5
}
