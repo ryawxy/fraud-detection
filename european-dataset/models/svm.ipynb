{
 "cells": [
  {
   "metadata": {},
   "cell_type": "markdown",
   "source": "# Libraries",
   "id": "679b32eda79ca7b3"
  },
  {
   "metadata": {
    "ExecuteTime": {
     "end_time": "2025-06-12T09:35:09.400527Z",
     "start_time": "2025-06-12T09:35:09.300503Z"
    }
   },
   "cell_type": "code",
   "source": [
    "import pandas as pd\n",
    "import numpy as np\n",
    "import warnings\n",
    "warnings.filterwarnings('ignore')\n",
    "from sklearn.model_selection import GridSearchCV, RandomizedSearchCV\n",
    "from sklearn.metrics import accuracy_score, precision_score, recall_score, f1_score, confusion_matrix\n",
    "import json\n",
    "from matplotlib import pyplot as plt\n",
    "from sklearn.metrics import ConfusionMatrixDisplay\n",
    "from sklearn.svm import SVC"
   ],
   "id": "e7051ce527a6a76d",
   "outputs": [],
   "execution_count": 5
  },
  {
   "metadata": {},
   "cell_type": "markdown",
   "source": "# Loading the processed Data",
   "id": "cbdc0ee05b31c726"
  },
  {
   "metadata": {
    "ExecuteTime": {
     "end_time": "2025-06-12T09:33:06.551990Z",
     "start_time": "2025-06-12T09:33:04.318760Z"
    }
   },
   "cell_type": "code",
   "source": [
    "X_train = pd.read_csv('/Users/raya/Desktop/fraud-detection/european-dataset/data/processed/X_train.csv')\n",
    "X_test = pd.read_csv('/Users/raya/Desktop/fraud-detection/european-dataset/data/processed/X_test.csv')\n",
    "y_train = pd.read_csv('/Users/raya/Desktop/fraud-detection/european-dataset/data/processed/y_train.csv')['Class']\n",
    "y_test = pd.read_csv('/Users/raya/Desktop/fraud-detection/european-dataset/data/processed/y_test.csv')['Class']\n",
    "X_train_res = pd.read_csv('/Users/raya/Desktop/fraud-detection/european-dataset/data/processed/X_train_res.csv')\n",
    "y_train_res = pd.read_csv('/Users/raya/Desktop/fraud-detection/european-dataset/data/processed/y_train_res.csv')['Class']"
   ],
   "id": "9ba6ce4cc38770d2",
   "outputs": [],
   "execution_count": 2
  },
  {
   "metadata": {
    "ExecuteTime": {
     "end_time": "2025-06-12T09:33:15.219481Z",
     "start_time": "2025-06-12T09:33:15.217321Z"
    }
   },
   "cell_type": "code",
   "source": [
    "y_train = y_train.ravel()\n",
    "y_test = y_test.ravel()\n",
    "y_train_res = y_train_res.ravel()"
   ],
   "id": "607d45a50b127d9f",
   "outputs": [],
   "execution_count": 3
  },
  {
   "metadata": {},
   "cell_type": "markdown",
   "source": "# Model",
   "id": "45fa0b3b45ff23c8"
  },
  {
   "metadata": {},
   "cell_type": "markdown",
   "source": "## Training on imbalanced data",
   "id": "6871abcafd2e85e0"
  },
  {
   "metadata": {
    "ExecuteTime": {
     "end_time": "2025-06-12T09:34:40.665582Z",
     "start_time": "2025-06-12T09:34:40.661315Z"
    }
   },
   "cell_type": "code",
   "source": [
    "param_grid = {\n",
    "    'C': [0.1, 1, 10],\n",
    "    'gamma': ['scale', 'auto', 0.001, 0.01],\n",
    "    'class_weight': [{0: 1, 1: w} for w in [10, 50, 100]]\n",
    "}"
   ],
   "id": "9abd1d9020d9c365",
   "outputs": [],
   "execution_count": 4
  },
  {
   "metadata": {
    "ExecuteTime": {
     "end_time": "2025-06-12T09:35:18.425583Z",
     "start_time": "2025-06-12T09:35:18.423702Z"
    }
   },
   "cell_type": "code",
   "source": [
    "grid_search = GridSearchCV(\n",
    "    SVC(kernel='rbf', probability=True, random_state=42),\n",
    "    param_grid,\n",
    "    cv=3,\n",
    "    scoring='precision',\n",
    "    n_jobs=-1\n",
    ")"
   ],
   "id": "5a077eba3bbbf301",
   "outputs": [],
   "execution_count": 6
  },
  {
   "metadata": {
    "ExecuteTime": {
     "end_time": "2025-06-12T10:06:46.120653Z",
     "start_time": "2025-06-12T10:06:44.004659Z"
    }
   },
   "cell_type": "code",
   "source": "grid_search.fit(X_train, y_train)",
   "id": "b51a4c585cebb7f3",
   "outputs": [
    {
     "name": "stderr",
     "output_type": "stream",
     "text": [
      "Traceback (most recent call last):\n",
      "  File \u001B[35m\"<frozen runpy>\"\u001B[0m, line \u001B[35m189\u001B[0m, in \u001B[35m_run_module_as_main\u001B[0m\n",
      "  File \u001B[35m\"<frozen runpy>\"\u001B[0m, line \u001B[35m112\u001B[0m, in \u001B[35m_get_module_details\u001B[0m\n",
      "  File \u001B[35m\"/Library/Frameworks/Python.framework/Versions/3.13/lib/python3.13/site-packages/joblib/__init__.py\"\u001B[0m, line \u001B[35m114\u001B[0m, in \u001B[35m<module>\u001B[0m\n",
      "    from .memory import Memory\n",
      "  File \u001B[35m\"/Library/Frameworks/Python.framework/Versions/3.13/lib/python3.13/site-packages/joblib/memory.py\"\u001B[0m, line \u001B[35m12\u001B[0m, in \u001B[35m<module>\u001B[0m\n",
      "    import asyncio\n",
      "  File \u001B[35m\"/Library/Frameworks/Python.framework/Versions/3.13/lib/python3.13/asyncio/__init__.py\"\u001B[0m, line \u001B[35m8\u001B[0m, in \u001B[35m<module>\u001B[0m\n",
      "    from .base_events import *\n",
      "  File \u001B[35m\"/Library/Frameworks/Python.framework/Versions/3.13/lib/python3.13/asyncio/base_events.py\"\u001B[0m, line \u001B[35m39\u001B[0m, in \u001B[35m<module>\u001B[0m\n",
      "    from . import coroutines\n",
      "  File \u001B[35m\"/Library/Frameworks/Python.framework/Versions/3.13/lib/python3.13/asyncio/coroutines.py\"\u001B[0m, line \u001B[35m4\u001B[0m, in \u001B[35m<module>\u001B[0m\n",
      "    import inspect\n",
      "  File \u001B[35m\"/Library/Frameworks/Python.framework/Versions/3.13/lib/python3.13/inspect.py\"\u001B[0m, line \u001B[35m146\u001B[0m, in \u001B[35m<module>\u001B[0m\n",
      "    import dis\n",
      "  File \u001B[35m\"/Library/Frameworks/Python.framework/Versions/3.13/lib/python3.13/dis.py\"\u001B[0m, line \u001B[35m8\u001B[0m, in \u001B[35m<module>\u001B[0m\n",
      "    from opcode import *\n",
      "  File \u001B[35m\"<frozen importlib._bootstrap>\"\u001B[0m, line \u001B[35m1360\u001B[0m, in \u001B[35m_find_and_load\u001B[0m\n",
      "  File \u001B[35m\"<frozen importlib._bootstrap>\"\u001B[0m, line \u001B[35m1322\u001B[0m, in \u001B[35m_find_and_load_unlocked\u001B[0m\n",
      "  File \u001B[35m\"<frozen importlib._bootstrap>\"\u001B[0m, line \u001B[35m1262\u001B[0m, in \u001B[35m_find_spec\u001B[0m\n",
      "  File \u001B[35m\"<frozen importlib._bootstrap_external>\"\u001B[0m, line \u001B[35m1559\u001B[0m, in \u001B[35mfind_spec\u001B[0m\n",
      "  File \u001B[35m\"<frozen importlib._bootstrap_external>\"\u001B[0m, line \u001B[35m1533\u001B[0m, in \u001B[35m_get_spec\u001B[0m\n",
      "  File \u001B[35m\"<frozen importlib._bootstrap_external>\"\u001B[0m, line \u001B[35m1632\u001B[0m, in \u001B[35mfind_spec\u001B[0m\n",
      "  File \u001B[35m\"<frozen importlib._bootstrap_external>\"\u001B[0m, line \u001B[35m152\u001B[0m, in \u001B[35m_path_stat\u001B[0m\n",
      "\u001B[1;35mKeyboardInterrupt\u001B[0m\n",
      "Traceback (most recent call last):\n",
      "  File \u001B[35m\"<frozen runpy>\"\u001B[0m, line \u001B[35m189\u001B[0m, in \u001B[35m_run_module_as_main\u001B[0m\n",
      "  File \u001B[35m\"<frozen runpy>\"\u001B[0m, line \u001B[35m112\u001B[0m, in \u001B[35m_get_module_details\u001B[0m\n",
      "  File \u001B[35m\"/Library/Frameworks/Python.framework/Versions/3.13/lib/python3.13/site-packages/joblib/__init__.py\"\u001B[0m, line \u001B[35m114\u001B[0m, in \u001B[35m<module>\u001B[0m\n",
      "    from .memory import Memory\n",
      "  File \u001B[35m\"/Library/Frameworks/Python.framework/Versions/3.13/lib/python3.13/site-packages/joblib/memory.py\"\u001B[0m, line \u001B[35m12\u001B[0m, in \u001B[35m<module>\u001B[0m\n",
      "    import asyncio\n",
      "  File \u001B[35m\"/Library/Frameworks/Python.framework/Versions/3.13/lib/python3.13/asyncio/__init__.py\"\u001B[0m, line \u001B[35m8\u001B[0m, in \u001B[35m<module>\u001B[0m\n",
      "    from .base_events import *\n",
      "  File \u001B[35m\"/Library/Frameworks/Python.framework/Versions/3.13/lib/python3.13/asyncio/base_events.py\"\u001B[0m, line \u001B[35m18\u001B[0m, in \u001B[35m<module>\u001B[0m\n",
      "    import concurrent.futures\n",
      "  File \u001B[35m\"/Library/Frameworks/Python.framework/Versions/3.13/lib/python3.13/concurrent/futures/__init__.py\"\u001B[0m, line \u001B[35m8\u001B[0m, in \u001B[35m<module>\u001B[0m\n",
      "    from concurrent.futures._base import (FIRST_COMPLETED,\n",
      "    ...<9 lines>...\n",
      "                                          as_completed)\n",
      "  File \u001B[35m\"/Library/Frameworks/Python.framework/Versions/3.13/lib/python3.13/concurrent/futures/_base.py\"\u001B[0m, line \u001B[35m7\u001B[0m, in \u001B[35m<module>\u001B[0m\n",
      "    import logging\n",
      "  File \u001B[35m\"/Library/Frameworks/Python.framework/Versions/3.13/lib/python3.13/logging/__init__.py\"\u001B[0m, line \u001B[35m26\u001B[0m, in \u001B[35m<module>\u001B[0m\n",
      "    import sys, os, time, io, re, traceback, warnings, weakref, collections.abc\n",
      "  File \u001B[35m\"/Library/Frameworks/Python.framework/Versions/3.13/lib/python3.13/traceback.py\"\u001B[0m, line \u001B[35m5\u001B[0m, in \u001B[35m<module>\u001B[0m\n",
      "    import linecache\n",
      "  File \u001B[35m\"<frozen importlib._bootstrap>\"\u001B[0m, line \u001B[35m1360\u001B[0m, in \u001B[35m_find_and_load\u001B[0m\n",
      "  File \u001B[35m\"<frozen importlib._bootstrap>\"\u001B[0m, line \u001B[35m1331\u001B[0m, in \u001B[35m_find_and_load_unlocked\u001B[0m\n",
      "  File \u001B[35m\"<frozen importlib._bootstrap>\"\u001B[0m, line \u001B[35m935\u001B[0m, in \u001B[35m_load_unlocked\u001B[0m\n",
      "  File \u001B[35m\"<frozen importlib._bootstrap_external>\"\u001B[0m, line \u001B[35m1022\u001B[0m, in \u001B[35mexec_module\u001B[0m\n",
      "  File \u001B[35m\"<frozen importlib._bootstrap_external>\"\u001B[0m, line \u001B[35m1118\u001B[0m, in \u001B[35mget_code\u001B[0m\n",
      "  File \u001B[35m\"<frozen importlib._bootstrap_external>\"\u001B[0m, line \u001B[35m1218\u001B[0m, in \u001B[35mget_data\u001B[0m\n",
      "\u001B[1;35mKeyboardInterrupt\u001B[0m\n",
      "Traceback (most recent call last):\n",
      "  File \u001B[35m\"<frozen runpy>\"\u001B[0m, line \u001B[35m189\u001B[0m, in \u001B[35m_run_module_as_main\u001B[0m\n",
      "  File \u001B[35m\"<frozen runpy>\"\u001B[0m, line \u001B[35m112\u001B[0m, in \u001B[35m_get_module_details\u001B[0m\n",
      "  File \u001B[35m\"/Library/Frameworks/Python.framework/Versions/3.13/lib/python3.13/site-packages/joblib/__init__.py\"\u001B[0m, line \u001B[35m114\u001B[0m, in \u001B[35m<module>\u001B[0m\n",
      "    from .memory import Memory\n",
      "  File \u001B[35m\"/Library/Frameworks/Python.framework/Versions/3.13/lib/python3.13/site-packages/joblib/memory.py\"\u001B[0m, line \u001B[35m12\u001B[0m, in \u001B[35m<module>\u001B[0m\n",
      "    import asyncio\n",
      "  File \u001B[35m\"/Library/Frameworks/Python.framework/Versions/3.13/lib/python3.13/asyncio/__init__.py\"\u001B[0m, line \u001B[35m8\u001B[0m, in \u001B[35m<module>\u001B[0m\n",
      "    from .base_events import *\n",
      "  File \u001B[35m\"/Library/Frameworks/Python.framework/Versions/3.13/lib/python3.13/asyncio/base_events.py\"\u001B[0m, line \u001B[35m34\u001B[0m, in \u001B[35m<module>\u001B[0m\n",
      "    import ssl\n",
      "  File \u001B[35m\"/Library/Frameworks/Python.framework/Versions/3.13/lib/python3.13/ssl.py\"\u001B[0m, line \u001B[35m100\u001B[0m, in \u001B[35m<module>\u001B[0m\n",
      "    \u001B[1;31mimport _ssl\u001B[0m             # if we can't import it, let the error propagate\n",
      "    \u001B[1;31m^^^^^^^^^^^\u001B[0m\n",
      "\u001B[1;35mKeyboardInterrupt\u001B[0m\n",
      "Traceback (most recent call last):\n",
      "  File \u001B[35m\"<frozen runpy>\"\u001B[0m, line \u001B[35m189\u001B[0m, in \u001B[35m_run_module_as_main\u001B[0m\n",
      "  File \u001B[35m\"<frozen runpy>\"\u001B[0m, line \u001B[35m112\u001B[0m, in \u001B[35m_get_module_details\u001B[0m\n",
      "  File \u001B[35m\"/Library/Frameworks/Python.framework/Versions/3.13/lib/python3.13/site-packages/joblib/__init__.py\"\u001B[0m, line \u001B[35m114\u001B[0m, in \u001B[35m<module>\u001B[0m\n",
      "    from .memory import Memory\n",
      "  File \u001B[35m\"/Library/Frameworks/Python.framework/Versions/3.13/lib/python3.13/site-packages/joblib/memory.py\"\u001B[0m, line \u001B[35m12\u001B[0m, in \u001B[35m<module>\u001B[0m\n",
      "    import asyncio\n",
      "  File \u001B[35m\"/Library/Frameworks/Python.framework/Versions/3.13/lib/python3.13/asyncio/__init__.py\"\u001B[0m, line \u001B[35m8\u001B[0m, in \u001B[35m<module>\u001B[0m\n",
      "    from .base_events import *\n",
      "  File \u001B[35m\"/Library/Frameworks/Python.framework/Versions/3.13/lib/python3.13/asyncio/base_events.py\"\u001B[0m, line \u001B[35m23\u001B[0m, in \u001B[35m<module>\u001B[0m\n",
      "    import socket\n",
      "  File \u001B[35m\"/Library/Frameworks/Python.framework/Versions/3.13/lib/python3.13/socket.py\"\u001B[0m, line \u001B[35m76\u001B[0m, in \u001B[35m<module>\u001B[0m\n",
      "    \u001B[31mIntEnum._convert_\u001B[0m\u001B[1;31m(\u001B[0m\n",
      "    \u001B[31m~~~~~~~~~~~~~~~~~\u001B[0m\u001B[1;31m^\u001B[0m\n",
      "            \u001B[1;31m'AddressFamily',\u001B[0m\n",
      "            \u001B[1;31m^^^^^^^^^^^^^^^^\u001B[0m\n",
      "            \u001B[1;31m__name__,\u001B[0m\n",
      "            \u001B[1;31m^^^^^^^^^\u001B[0m\n",
      "            \u001B[1;31mlambda C: C.isupper() and C.startswith('AF_'))\u001B[0m\n",
      "            \u001B[1;31m^^^^^^^^^^^^^^^^^^^^^^^^^^^^^^^^^^^^^^^^^^^^^^\u001B[0m\n",
      "  File \u001B[35m\"/Library/Frameworks/Python.framework/Versions/3.13/lib/python3.13/enum.py\"\u001B[0m, line \u001B[35m924\u001B[0m, in \u001B[35m_convert_\u001B[0m\n",
      "    cls = _simple_enum(etype=cls, boundary=boundary or KEEP)(tmp_cls)\n",
      "  File \u001B[35m\"/Library/Frameworks/Python.framework/Versions/3.13/lib/python3.13/enum.py\"\u001B[0m, line \u001B[35m1801\u001B[0m, in \u001B[35mconvert_class\u001B[0m\n",
      "    enum_class = type(cls_name, (etype, ), body, boundary=boundary, _simple=True)\n",
      "\u001B[1;35mKeyboardInterrupt\u001B[0m\n",
      "Traceback (most recent call last):\n",
      "  File \u001B[35m\"<frozen runpy>\"\u001B[0m, line \u001B[35m189\u001B[0m, in \u001B[35m_run_module_as_main\u001B[0m\n",
      "  File \u001B[35m\"<frozen runpy>\"\u001B[0m, line \u001B[35m112\u001B[0m, in \u001B[35m_get_module_details\u001B[0m\n",
      "  File \u001B[35m\"/Library/Frameworks/Python.framework/Versions/3.13/lib/python3.13/site-packages/joblib/__init__.py\"\u001B[0m, line \u001B[35m114\u001B[0m, in \u001B[35m<module>\u001B[0m\n",
      "    from .memory import Memory\n",
      "  File \u001B[35m\"/Library/Frameworks/Python.framework/Versions/3.13/lib/python3.13/site-packages/joblib/memory.py\"\u001B[0m, line \u001B[35m12\u001B[0m, in \u001B[35m<module>\u001B[0m\n",
      "    import asyncio\n",
      "  File \u001B[35m\"/Library/Frameworks/Python.framework/Versions/3.13/lib/python3.13/asyncio/__init__.py\"\u001B[0m, line \u001B[35m8\u001B[0m, in \u001B[35m<module>\u001B[0m\n",
      "    from .base_events import *\n",
      "  File \u001B[35m\"/Library/Frameworks/Python.framework/Versions/3.13/lib/python3.13/asyncio/base_events.py\"\u001B[0m, line \u001B[35m16\u001B[0m, in \u001B[35m<module>\u001B[0m\n",
      "    import collections\n",
      "  File \u001B[35m\"/Library/Frameworks/Python.framework/Versions/3.13/lib/python3.13/collections/__init__.py\"\u001B[0m, line \u001B[35m38\u001B[0m, in \u001B[35m<module>\u001B[0m\n",
      "    from keyword import iskeyword as _iskeyword\n",
      "  File \u001B[35m\"<frozen importlib._bootstrap>\"\u001B[0m, line \u001B[35m1360\u001B[0m, in \u001B[35m_find_and_load\u001B[0m\n",
      "  File \u001B[35m\"<frozen importlib._bootstrap>\"\u001B[0m, line \u001B[35m1322\u001B[0m, in \u001B[35m_find_and_load_unlocked\u001B[0m\n",
      "  File \u001B[35m\"<frozen importlib._bootstrap>\"\u001B[0m, line \u001B[35m1262\u001B[0m, in \u001B[35m_find_spec\u001B[0m\n",
      "  File \u001B[35m\"<frozen importlib._bootstrap_external>\"\u001B[0m, line \u001B[35m1559\u001B[0m, in \u001B[35mfind_spec\u001B[0m\n",
      "  File \u001B[35m\"<frozen importlib._bootstrap_external>\"\u001B[0m, line \u001B[35m1533\u001B[0m, in \u001B[35m_get_spec\u001B[0m\n",
      "  File \u001B[35m\"<frozen importlib._bootstrap_external>\"\u001B[0m, line \u001B[35m1663\u001B[0m, in \u001B[35mfind_spec\u001B[0m\n",
      "  File \u001B[35m\"<frozen importlib._bootstrap>\"\u001B[0m, line \u001B[35m491\u001B[0m, in \u001B[35m_verbose_message\u001B[0m\n",
      "\u001B[1;35mKeyboardInterrupt\u001B[0m\n",
      "Traceback (most recent call last):\n",
      "Traceback (most recent call last):\n",
      "  File \u001B[35m\"<frozen runpy>\"\u001B[0m, line \u001B[35m189\u001B[0m, in \u001B[35m_run_module_as_main\u001B[0m\n",
      "  File \u001B[35m\"<frozen runpy>\"\u001B[0m, line \u001B[35m112\u001B[0m, in \u001B[35m_get_module_details\u001B[0m\n",
      "  File \u001B[35m\"/Library/Frameworks/Python.framework/Versions/3.13/lib/python3.13/site-packages/joblib/__init__.py\"\u001B[0m, line \u001B[35m114\u001B[0m, in \u001B[35m<module>\u001B[0m\n",
      "    from .memory import Memory\n",
      "  File \u001B[35m\"/Library/Frameworks/Python.framework/Versions/3.13/lib/python3.13/site-packages/joblib/memory.py\"\u001B[0m, line \u001B[35m12\u001B[0m, in \u001B[35m<module>\u001B[0m\n",
      "    import asyncio\n",
      "  File \u001B[35m\"/Library/Frameworks/Python.framework/Versions/3.13/lib/python3.13/asyncio/__init__.py\"\u001B[0m, line \u001B[35m8\u001B[0m, in \u001B[35m<module>\u001B[0m\n",
      "    from .base_events import *\n",
      "  File \u001B[35m\"/Library/Frameworks/Python.framework/Versions/3.13/lib/python3.13/asyncio/base_events.py\"\u001B[0m, line \u001B[35m16\u001B[0m, in \u001B[35m<module>\u001B[0m\n",
      "    import collections\n",
      "  File \u001B[35m\"/Library/Frameworks/Python.framework/Versions/3.13/lib/python3.13/collections/__init__.py\"\u001B[0m, line \u001B[35m39\u001B[0m, in \u001B[35m<module>\u001B[0m\n",
      "    from operator import eq as _eq\n",
      "  File \u001B[35m\"/Library/Frameworks/Python.framework/Versions/3.13/lib/python3.13/operator.py\"\u001B[0m, line \u001B[35m414\u001B[0m, in \u001B[35m<module>\u001B[0m\n",
      "    from _operator import *\n",
      "  File \u001B[35m\"<frozen importlib._bootstrap>\"\u001B[0m, line \u001B[35m1360\u001B[0m, in \u001B[35m_find_and_load\u001B[0m\n",
      "  File \u001B[35m\"<frozen importlib._bootstrap>\"\u001B[0m, line \u001B[35m1331\u001B[0m, in \u001B[35m_find_and_load_unlocked\u001B[0m\n",
      "  File \u001B[35m\"<frozen importlib._bootstrap>\"\u001B[0m, line \u001B[35m921\u001B[0m, in \u001B[35m_load_unlocked\u001B[0m\n",
      "  File \u001B[35m\"<frozen importlib._bootstrap>\"\u001B[0m, line \u001B[35m819\u001B[0m, in \u001B[35mmodule_from_spec\u001B[0m\n",
      "  File \u001B[35m\"<frozen importlib._bootstrap>\"\u001B[0m, line \u001B[35m733\u001B[0m, in \u001B[35m_init_module_attrs\u001B[0m\n",
      "\u001B[1;35mKeyboardInterrupt\u001B[0m\n",
      "  File \u001B[35m\"<frozen runpy>\"\u001B[0m, line \u001B[35m189\u001B[0m, in \u001B[35m_run_module_as_main\u001B[0m\n",
      "  File \u001B[35m\"<frozen runpy>\"\u001B[0m, line \u001B[35m112\u001B[0m, in \u001B[35m_get_module_details\u001B[0m\n",
      "  File \u001B[35m\"/Library/Frameworks/Python.framework/Versions/3.13/lib/python3.13/site-packages/joblib/__init__.py\"\u001B[0m, line \u001B[35m114\u001B[0m, in \u001B[35m<module>\u001B[0m\n",
      "    from .memory import Memory\n",
      "  File \u001B[35m\"/Library/Frameworks/Python.framework/Versions/3.13/lib/python3.13/site-packages/joblib/memory.py\"\u001B[0m, line \u001B[35m12\u001B[0m, in \u001B[35m<module>\u001B[0m\n",
      "    import asyncio\n",
      "  File \u001B[35m\"/Library/Frameworks/Python.framework/Versions/3.13/lib/python3.13/asyncio/__init__.py\"\u001B[0m, line \u001B[35m8\u001B[0m, in \u001B[35m<module>\u001B[0m\n",
      "    from .base_events import *\n",
      "  File \u001B[35m\"/Library/Frameworks/Python.framework/Versions/3.13/lib/python3.13/asyncio/base_events.py\"\u001B[0m, line \u001B[35m18\u001B[0m, in \u001B[35m<module>\u001B[0m\n",
      "    import concurrent.futures\n",
      "  File \u001B[35m\"<frozen importlib._bootstrap>\"\u001B[0m, line \u001B[35m1360\u001B[0m, in \u001B[35m_find_and_load\u001B[0m\n",
      "  File \u001B[35m\"<frozen importlib._bootstrap>\"\u001B[0m, line \u001B[35m1331\u001B[0m, in \u001B[35m_find_and_load_unlocked\u001B[0m\n",
      "  File \u001B[35m\"<frozen importlib._bootstrap>\"\u001B[0m, line \u001B[35m935\u001B[0m, in \u001B[35m_load_unlocked\u001B[0m\n",
      "  File \u001B[35m\"<frozen importlib._bootstrap_external>\"\u001B[0m, line \u001B[35m1022\u001B[0m, in \u001B[35mexec_module\u001B[0m\n",
      "  File \u001B[35m\"<frozen importlib._bootstrap_external>\"\u001B[0m, line \u001B[35m1118\u001B[0m, in \u001B[35mget_code\u001B[0m\n",
      "  File \u001B[35m\"<frozen importlib._bootstrap_external>\"\u001B[0m, line \u001B[35m1217\u001B[0m, in \u001B[35mget_data\u001B[0m\n",
      "\u001B[1;35mKeyboardInterrupt\u001B[0m\n"
     ]
    },
    {
     "ename": "KeyboardInterrupt",
     "evalue": "",
     "output_type": "error",
     "traceback": [
      "\u001B[31m---------------------------------------------------------------------------\u001B[39m",
      "\u001B[31mKeyboardInterrupt\u001B[39m                         Traceback (most recent call last)",
      "\u001B[36mCell\u001B[39m\u001B[36m \u001B[39m\u001B[32mIn[8]\u001B[39m\u001B[32m, line 1\u001B[39m\n\u001B[32m----> \u001B[39m\u001B[32m1\u001B[39m \u001B[43mgrid_search\u001B[49m\u001B[43m.\u001B[49m\u001B[43mfit\u001B[49m\u001B[43m(\u001B[49m\u001B[43mX_train\u001B[49m\u001B[43m,\u001B[49m\u001B[43m \u001B[49m\u001B[43my_train\u001B[49m\u001B[43m)\u001B[49m\n",
      "\u001B[36mFile \u001B[39m\u001B[32m/Library/Frameworks/Python.framework/Versions/3.13/lib/python3.13/site-packages/sklearn/base.py:1389\u001B[39m, in \u001B[36m_fit_context.<locals>.decorator.<locals>.wrapper\u001B[39m\u001B[34m(estimator, *args, **kwargs)\u001B[39m\n\u001B[32m   1382\u001B[39m     estimator._validate_params()\n\u001B[32m   1384\u001B[39m \u001B[38;5;28;01mwith\u001B[39;00m config_context(\n\u001B[32m   1385\u001B[39m     skip_parameter_validation=(\n\u001B[32m   1386\u001B[39m         prefer_skip_nested_validation \u001B[38;5;129;01mor\u001B[39;00m global_skip_validation\n\u001B[32m   1387\u001B[39m     )\n\u001B[32m   1388\u001B[39m ):\n\u001B[32m-> \u001B[39m\u001B[32m1389\u001B[39m     \u001B[38;5;28;01mreturn\u001B[39;00m \u001B[43mfit_method\u001B[49m\u001B[43m(\u001B[49m\u001B[43mestimator\u001B[49m\u001B[43m,\u001B[49m\u001B[43m \u001B[49m\u001B[43m*\u001B[49m\u001B[43margs\u001B[49m\u001B[43m,\u001B[49m\u001B[43m \u001B[49m\u001B[43m*\u001B[49m\u001B[43m*\u001B[49m\u001B[43mkwargs\u001B[49m\u001B[43m)\u001B[49m\n",
      "\u001B[36mFile \u001B[39m\u001B[32m/Library/Frameworks/Python.framework/Versions/3.13/lib/python3.13/site-packages/sklearn/model_selection/_search.py:1024\u001B[39m, in \u001B[36mBaseSearchCV.fit\u001B[39m\u001B[34m(self, X, y, **params)\u001B[39m\n\u001B[32m   1018\u001B[39m     results = \u001B[38;5;28mself\u001B[39m._format_results(\n\u001B[32m   1019\u001B[39m         all_candidate_params, n_splits, all_out, all_more_results\n\u001B[32m   1020\u001B[39m     )\n\u001B[32m   1022\u001B[39m     \u001B[38;5;28;01mreturn\u001B[39;00m results\n\u001B[32m-> \u001B[39m\u001B[32m1024\u001B[39m \u001B[38;5;28;43mself\u001B[39;49m\u001B[43m.\u001B[49m\u001B[43m_run_search\u001B[49m\u001B[43m(\u001B[49m\u001B[43mevaluate_candidates\u001B[49m\u001B[43m)\u001B[49m\n\u001B[32m   1026\u001B[39m \u001B[38;5;66;03m# multimetric is determined here because in the case of a callable\u001B[39;00m\n\u001B[32m   1027\u001B[39m \u001B[38;5;66;03m# self.scoring the return type is only known after calling\u001B[39;00m\n\u001B[32m   1028\u001B[39m first_test_score = all_out[\u001B[32m0\u001B[39m][\u001B[33m\"\u001B[39m\u001B[33mtest_scores\u001B[39m\u001B[33m\"\u001B[39m]\n",
      "\u001B[36mFile \u001B[39m\u001B[32m/Library/Frameworks/Python.framework/Versions/3.13/lib/python3.13/site-packages/sklearn/model_selection/_search.py:1571\u001B[39m, in \u001B[36mGridSearchCV._run_search\u001B[39m\u001B[34m(self, evaluate_candidates)\u001B[39m\n\u001B[32m   1569\u001B[39m \u001B[38;5;28;01mdef\u001B[39;00m\u001B[38;5;250m \u001B[39m\u001B[34m_run_search\u001B[39m(\u001B[38;5;28mself\u001B[39m, evaluate_candidates):\n\u001B[32m   1570\u001B[39m \u001B[38;5;250m    \u001B[39m\u001B[33;03m\"\"\"Search all candidates in param_grid\"\"\"\u001B[39;00m\n\u001B[32m-> \u001B[39m\u001B[32m1571\u001B[39m     \u001B[43mevaluate_candidates\u001B[49m\u001B[43m(\u001B[49m\u001B[43mParameterGrid\u001B[49m\u001B[43m(\u001B[49m\u001B[38;5;28;43mself\u001B[39;49m\u001B[43m.\u001B[49m\u001B[43mparam_grid\u001B[49m\u001B[43m)\u001B[49m\u001B[43m)\u001B[49m\n",
      "\u001B[36mFile \u001B[39m\u001B[32m/Library/Frameworks/Python.framework/Versions/3.13/lib/python3.13/site-packages/sklearn/model_selection/_search.py:970\u001B[39m, in \u001B[36mBaseSearchCV.fit.<locals>.evaluate_candidates\u001B[39m\u001B[34m(candidate_params, cv, more_results)\u001B[39m\n\u001B[32m    962\u001B[39m \u001B[38;5;28;01mif\u001B[39;00m \u001B[38;5;28mself\u001B[39m.verbose > \u001B[32m0\u001B[39m:\n\u001B[32m    963\u001B[39m     \u001B[38;5;28mprint\u001B[39m(\n\u001B[32m    964\u001B[39m         \u001B[33m\"\u001B[39m\u001B[33mFitting \u001B[39m\u001B[38;5;132;01m{0}\u001B[39;00m\u001B[33m folds for each of \u001B[39m\u001B[38;5;132;01m{1}\u001B[39;00m\u001B[33m candidates,\u001B[39m\u001B[33m\"\u001B[39m\n\u001B[32m    965\u001B[39m         \u001B[33m\"\u001B[39m\u001B[33m totalling \u001B[39m\u001B[38;5;132;01m{2}\u001B[39;00m\u001B[33m fits\u001B[39m\u001B[33m\"\u001B[39m.format(\n\u001B[32m    966\u001B[39m             n_splits, n_candidates, n_candidates * n_splits\n\u001B[32m    967\u001B[39m         )\n\u001B[32m    968\u001B[39m     )\n\u001B[32m--> \u001B[39m\u001B[32m970\u001B[39m out = \u001B[43mparallel\u001B[49m\u001B[43m(\u001B[49m\n\u001B[32m    971\u001B[39m \u001B[43m    \u001B[49m\u001B[43mdelayed\u001B[49m\u001B[43m(\u001B[49m\u001B[43m_fit_and_score\u001B[49m\u001B[43m)\u001B[49m\u001B[43m(\u001B[49m\n\u001B[32m    972\u001B[39m \u001B[43m        \u001B[49m\u001B[43mclone\u001B[49m\u001B[43m(\u001B[49m\u001B[43mbase_estimator\u001B[49m\u001B[43m)\u001B[49m\u001B[43m,\u001B[49m\n\u001B[32m    973\u001B[39m \u001B[43m        \u001B[49m\u001B[43mX\u001B[49m\u001B[43m,\u001B[49m\n\u001B[32m    974\u001B[39m \u001B[43m        \u001B[49m\u001B[43my\u001B[49m\u001B[43m,\u001B[49m\n\u001B[32m    975\u001B[39m \u001B[43m        \u001B[49m\u001B[43mtrain\u001B[49m\u001B[43m=\u001B[49m\u001B[43mtrain\u001B[49m\u001B[43m,\u001B[49m\n\u001B[32m    976\u001B[39m \u001B[43m        \u001B[49m\u001B[43mtest\u001B[49m\u001B[43m=\u001B[49m\u001B[43mtest\u001B[49m\u001B[43m,\u001B[49m\n\u001B[32m    977\u001B[39m \u001B[43m        \u001B[49m\u001B[43mparameters\u001B[49m\u001B[43m=\u001B[49m\u001B[43mparameters\u001B[49m\u001B[43m,\u001B[49m\n\u001B[32m    978\u001B[39m \u001B[43m        \u001B[49m\u001B[43msplit_progress\u001B[49m\u001B[43m=\u001B[49m\u001B[43m(\u001B[49m\u001B[43msplit_idx\u001B[49m\u001B[43m,\u001B[49m\u001B[43m \u001B[49m\u001B[43mn_splits\u001B[49m\u001B[43m)\u001B[49m\u001B[43m,\u001B[49m\n\u001B[32m    979\u001B[39m \u001B[43m        \u001B[49m\u001B[43mcandidate_progress\u001B[49m\u001B[43m=\u001B[49m\u001B[43m(\u001B[49m\u001B[43mcand_idx\u001B[49m\u001B[43m,\u001B[49m\u001B[43m \u001B[49m\u001B[43mn_candidates\u001B[49m\u001B[43m)\u001B[49m\u001B[43m,\u001B[49m\n\u001B[32m    980\u001B[39m \u001B[43m        \u001B[49m\u001B[43m*\u001B[49m\u001B[43m*\u001B[49m\u001B[43mfit_and_score_kwargs\u001B[49m\u001B[43m,\u001B[49m\n\u001B[32m    981\u001B[39m \u001B[43m    \u001B[49m\u001B[43m)\u001B[49m\n\u001B[32m    982\u001B[39m \u001B[43m    \u001B[49m\u001B[38;5;28;43;01mfor\u001B[39;49;00m\u001B[43m \u001B[49m\u001B[43m(\u001B[49m\u001B[43mcand_idx\u001B[49m\u001B[43m,\u001B[49m\u001B[43m \u001B[49m\u001B[43mparameters\u001B[49m\u001B[43m)\u001B[49m\u001B[43m,\u001B[49m\u001B[43m \u001B[49m\u001B[43m(\u001B[49m\u001B[43msplit_idx\u001B[49m\u001B[43m,\u001B[49m\u001B[43m \u001B[49m\u001B[43m(\u001B[49m\u001B[43mtrain\u001B[49m\u001B[43m,\u001B[49m\u001B[43m \u001B[49m\u001B[43mtest\u001B[49m\u001B[43m)\u001B[49m\u001B[43m)\u001B[49m\u001B[43m \u001B[49m\u001B[38;5;129;43;01min\u001B[39;49;00m\u001B[43m \u001B[49m\u001B[43mproduct\u001B[49m\u001B[43m(\u001B[49m\n\u001B[32m    983\u001B[39m \u001B[43m        \u001B[49m\u001B[38;5;28;43menumerate\u001B[39;49m\u001B[43m(\u001B[49m\u001B[43mcandidate_params\u001B[49m\u001B[43m)\u001B[49m\u001B[43m,\u001B[49m\n\u001B[32m    984\u001B[39m \u001B[43m        \u001B[49m\u001B[38;5;28;43menumerate\u001B[39;49m\u001B[43m(\u001B[49m\u001B[43mcv\u001B[49m\u001B[43m.\u001B[49m\u001B[43msplit\u001B[49m\u001B[43m(\u001B[49m\u001B[43mX\u001B[49m\u001B[43m,\u001B[49m\u001B[43m \u001B[49m\u001B[43my\u001B[49m\u001B[43m,\u001B[49m\u001B[43m \u001B[49m\u001B[43m*\u001B[49m\u001B[43m*\u001B[49m\u001B[43mrouted_params\u001B[49m\u001B[43m.\u001B[49m\u001B[43msplitter\u001B[49m\u001B[43m.\u001B[49m\u001B[43msplit\u001B[49m\u001B[43m)\u001B[49m\u001B[43m)\u001B[49m\u001B[43m,\u001B[49m\n\u001B[32m    985\u001B[39m \u001B[43m    \u001B[49m\u001B[43m)\u001B[49m\n\u001B[32m    986\u001B[39m \u001B[43m\u001B[49m\u001B[43m)\u001B[49m\n\u001B[32m    988\u001B[39m \u001B[38;5;28;01mif\u001B[39;00m \u001B[38;5;28mlen\u001B[39m(out) < \u001B[32m1\u001B[39m:\n\u001B[32m    989\u001B[39m     \u001B[38;5;28;01mraise\u001B[39;00m \u001B[38;5;167;01mValueError\u001B[39;00m(\n\u001B[32m    990\u001B[39m         \u001B[33m\"\u001B[39m\u001B[33mNo fits were performed. \u001B[39m\u001B[33m\"\u001B[39m\n\u001B[32m    991\u001B[39m         \u001B[33m\"\u001B[39m\u001B[33mWas the CV iterator empty? \u001B[39m\u001B[33m\"\u001B[39m\n\u001B[32m    992\u001B[39m         \u001B[33m\"\u001B[39m\u001B[33mWere there no candidates?\u001B[39m\u001B[33m\"\u001B[39m\n\u001B[32m    993\u001B[39m     )\n",
      "\u001B[36mFile \u001B[39m\u001B[32m/Library/Frameworks/Python.framework/Versions/3.13/lib/python3.13/site-packages/sklearn/utils/parallel.py:77\u001B[39m, in \u001B[36mParallel.__call__\u001B[39m\u001B[34m(self, iterable)\u001B[39m\n\u001B[32m     72\u001B[39m config = get_config()\n\u001B[32m     73\u001B[39m iterable_with_config = (\n\u001B[32m     74\u001B[39m     (_with_config(delayed_func, config), args, kwargs)\n\u001B[32m     75\u001B[39m     \u001B[38;5;28;01mfor\u001B[39;00m delayed_func, args, kwargs \u001B[38;5;129;01min\u001B[39;00m iterable\n\u001B[32m     76\u001B[39m )\n\u001B[32m---> \u001B[39m\u001B[32m77\u001B[39m \u001B[38;5;28;01mreturn\u001B[39;00m \u001B[38;5;28;43msuper\u001B[39;49m\u001B[43m(\u001B[49m\u001B[43m)\u001B[49m\u001B[43m.\u001B[49m\u001B[34;43m__call__\u001B[39;49m\u001B[43m(\u001B[49m\u001B[43miterable_with_config\u001B[49m\u001B[43m)\u001B[49m\n",
      "\u001B[36mFile \u001B[39m\u001B[32m/Library/Frameworks/Python.framework/Versions/3.13/lib/python3.13/site-packages/joblib/parallel.py:2005\u001B[39m, in \u001B[36mParallel.__call__\u001B[39m\u001B[34m(self, iterable)\u001B[39m\n\u001B[32m   1999\u001B[39m \u001B[38;5;28mself\u001B[39m._call_ref = weakref.ref(output)\n\u001B[32m   2001\u001B[39m \u001B[38;5;66;03m# The first item from the output is blank, but it makes the interpreter\u001B[39;00m\n\u001B[32m   2002\u001B[39m \u001B[38;5;66;03m# progress until it enters the Try/Except block of the generator and\u001B[39;00m\n\u001B[32m   2003\u001B[39m \u001B[38;5;66;03m# reaches the first `yield` statement. This starts the asynchronous\u001B[39;00m\n\u001B[32m   2004\u001B[39m \u001B[38;5;66;03m# dispatch of the tasks to the workers.\u001B[39;00m\n\u001B[32m-> \u001B[39m\u001B[32m2005\u001B[39m \u001B[38;5;28;43mnext\u001B[39;49m\u001B[43m(\u001B[49m\u001B[43moutput\u001B[49m\u001B[43m)\u001B[49m\n\u001B[32m   2007\u001B[39m \u001B[38;5;28;01mreturn\u001B[39;00m output \u001B[38;5;28;01mif\u001B[39;00m \u001B[38;5;28mself\u001B[39m.return_generator \u001B[38;5;28;01melse\u001B[39;00m \u001B[38;5;28mlist\u001B[39m(output)\n",
      "\u001B[36mFile \u001B[39m\u001B[32m/Library/Frameworks/Python.framework/Versions/3.13/lib/python3.13/site-packages/joblib/parallel.py:1643\u001B[39m, in \u001B[36mParallel._get_outputs\u001B[39m\u001B[34m(self, iterator, pre_dispatch)\u001B[39m\n\u001B[32m   1641\u001B[39m detach_generator_exit = \u001B[38;5;28;01mFalse\u001B[39;00m\n\u001B[32m   1642\u001B[39m \u001B[38;5;28;01mtry\u001B[39;00m:\n\u001B[32m-> \u001B[39m\u001B[32m1643\u001B[39m     \u001B[38;5;28;43mself\u001B[39;49m\u001B[43m.\u001B[49m\u001B[43m_start\u001B[49m\u001B[43m(\u001B[49m\u001B[43miterator\u001B[49m\u001B[43m,\u001B[49m\u001B[43m \u001B[49m\u001B[43mpre_dispatch\u001B[49m\u001B[43m)\u001B[49m\n\u001B[32m   1644\u001B[39m     \u001B[38;5;66;03m# first yield returns None, for internal use only. This ensures\u001B[39;00m\n\u001B[32m   1645\u001B[39m     \u001B[38;5;66;03m# that we enter the try/except block and start dispatching the\u001B[39;00m\n\u001B[32m   1646\u001B[39m     \u001B[38;5;66;03m# tasks.\u001B[39;00m\n\u001B[32m   1647\u001B[39m     \u001B[38;5;28;01myield\u001B[39;00m\n",
      "\u001B[36mFile \u001B[39m\u001B[32m/Library/Frameworks/Python.framework/Versions/3.13/lib/python3.13/site-packages/joblib/parallel.py:1626\u001B[39m, in \u001B[36mParallel._start\u001B[39m\u001B[34m(self, iterator, pre_dispatch)\u001B[39m\n\u001B[32m   1617\u001B[39m \u001B[38;5;28;01mdef\u001B[39;00m\u001B[38;5;250m \u001B[39m\u001B[34m_start\u001B[39m(\u001B[38;5;28mself\u001B[39m, iterator, pre_dispatch):\n\u001B[32m   1618\u001B[39m     \u001B[38;5;66;03m# Only set self._iterating to True if at least a batch\u001B[39;00m\n\u001B[32m   1619\u001B[39m     \u001B[38;5;66;03m# was dispatched. In particular this covers the edge\u001B[39;00m\n\u001B[32m   (...)\u001B[39m\u001B[32m   1623\u001B[39m     \u001B[38;5;66;03m# was very quick and its callback already dispatched all the\u001B[39;00m\n\u001B[32m   1624\u001B[39m     \u001B[38;5;66;03m# remaining jobs.\u001B[39;00m\n\u001B[32m   1625\u001B[39m     \u001B[38;5;28mself\u001B[39m._iterating = \u001B[38;5;28;01mFalse\u001B[39;00m\n\u001B[32m-> \u001B[39m\u001B[32m1626\u001B[39m     \u001B[38;5;28;01mif\u001B[39;00m \u001B[38;5;28;43mself\u001B[39;49m\u001B[43m.\u001B[49m\u001B[43mdispatch_one_batch\u001B[49m\u001B[43m(\u001B[49m\u001B[43miterator\u001B[49m\u001B[43m)\u001B[49m:\n\u001B[32m   1627\u001B[39m         \u001B[38;5;28mself\u001B[39m._iterating = \u001B[38;5;28mself\u001B[39m._original_iterator \u001B[38;5;129;01mis\u001B[39;00m \u001B[38;5;129;01mnot\u001B[39;00m \u001B[38;5;28;01mNone\u001B[39;00m\n\u001B[32m   1629\u001B[39m     \u001B[38;5;28;01mwhile\u001B[39;00m \u001B[38;5;28mself\u001B[39m.dispatch_one_batch(iterator):\n",
      "\u001B[36mFile \u001B[39m\u001B[32m/Library/Frameworks/Python.framework/Versions/3.13/lib/python3.13/site-packages/joblib/parallel.py:1517\u001B[39m, in \u001B[36mParallel.dispatch_one_batch\u001B[39m\u001B[34m(self, iterator)\u001B[39m\n\u001B[32m   1515\u001B[39m     \u001B[38;5;28;01mreturn\u001B[39;00m \u001B[38;5;28;01mFalse\u001B[39;00m\n\u001B[32m   1516\u001B[39m \u001B[38;5;28;01melse\u001B[39;00m:\n\u001B[32m-> \u001B[39m\u001B[32m1517\u001B[39m     \u001B[38;5;28;43mself\u001B[39;49m\u001B[43m.\u001B[49m\u001B[43m_dispatch\u001B[49m\u001B[43m(\u001B[49m\u001B[43mtasks\u001B[49m\u001B[43m)\u001B[49m\n\u001B[32m   1518\u001B[39m     \u001B[38;5;28;01mreturn\u001B[39;00m \u001B[38;5;28;01mTrue\u001B[39;00m\n",
      "\u001B[36mFile \u001B[39m\u001B[32m/Library/Frameworks/Python.framework/Versions/3.13/lib/python3.13/site-packages/joblib/parallel.py:1418\u001B[39m, in \u001B[36mParallel._dispatch\u001B[39m\u001B[34m(self, batch)\u001B[39m\n\u001B[32m   1411\u001B[39m     \u001B[38;5;28mself\u001B[39m._jobs.append(batch_tracker)\n\u001B[32m   1413\u001B[39m \u001B[38;5;66;03m# If return_ordered is False, the batch_tracker is not stored in the\u001B[39;00m\n\u001B[32m   1414\u001B[39m \u001B[38;5;66;03m# jobs queue at the time of submission. Instead, it will be appended to\u001B[39;00m\n\u001B[32m   1415\u001B[39m \u001B[38;5;66;03m# the queue by itself as soon as the callback is triggered to be able\u001B[39;00m\n\u001B[32m   1416\u001B[39m \u001B[38;5;66;03m# to return the results in the order of completion.\u001B[39;00m\n\u001B[32m-> \u001B[39m\u001B[32m1418\u001B[39m job = \u001B[38;5;28;43mself\u001B[39;49m\u001B[43m.\u001B[49m\u001B[43m_backend\u001B[49m\u001B[43m.\u001B[49m\u001B[43mapply_async\u001B[49m\u001B[43m(\u001B[49m\u001B[43mbatch\u001B[49m\u001B[43m,\u001B[49m\u001B[43m \u001B[49m\u001B[43mcallback\u001B[49m\u001B[43m=\u001B[49m\u001B[43mbatch_tracker\u001B[49m\u001B[43m)\u001B[49m\n\u001B[32m   1419\u001B[39m batch_tracker.register_job(job)\n",
      "\u001B[36mFile \u001B[39m\u001B[32m/Library/Frameworks/Python.framework/Versions/3.13/lib/python3.13/site-packages/joblib/_parallel_backends.py:588\u001B[39m, in \u001B[36mLokyBackend.apply_async\u001B[39m\u001B[34m(self, func, callback)\u001B[39m\n\u001B[32m    586\u001B[39m \u001B[38;5;28;01mdef\u001B[39;00m\u001B[38;5;250m \u001B[39m\u001B[34mapply_async\u001B[39m(\u001B[38;5;28mself\u001B[39m, func, callback=\u001B[38;5;28;01mNone\u001B[39;00m):\n\u001B[32m    587\u001B[39m \u001B[38;5;250m    \u001B[39m\u001B[33;03m\"\"\"Schedule a func to be run\"\"\"\u001B[39;00m\n\u001B[32m--> \u001B[39m\u001B[32m588\u001B[39m     future = \u001B[38;5;28;43mself\u001B[39;49m\u001B[43m.\u001B[49m\u001B[43m_workers\u001B[49m\u001B[43m.\u001B[49m\u001B[43msubmit\u001B[49m\u001B[43m(\u001B[49m\u001B[43mfunc\u001B[49m\u001B[43m)\u001B[49m\n\u001B[32m    589\u001B[39m     \u001B[38;5;28;01mif\u001B[39;00m callback \u001B[38;5;129;01mis\u001B[39;00m \u001B[38;5;129;01mnot\u001B[39;00m \u001B[38;5;28;01mNone\u001B[39;00m:\n\u001B[32m    590\u001B[39m         future.add_done_callback(callback)\n",
      "\u001B[36mFile \u001B[39m\u001B[32m/Library/Frameworks/Python.framework/Versions/3.13/lib/python3.13/site-packages/joblib/externals/loky/reusable_executor.py:225\u001B[39m, in \u001B[36m_ReusablePoolExecutor.submit\u001B[39m\u001B[34m(self, fn, *args, **kwargs)\u001B[39m\n\u001B[32m    223\u001B[39m \u001B[38;5;28;01mdef\u001B[39;00m\u001B[38;5;250m \u001B[39m\u001B[34msubmit\u001B[39m(\u001B[38;5;28mself\u001B[39m, fn, *args, **kwargs):\n\u001B[32m    224\u001B[39m     \u001B[38;5;28;01mwith\u001B[39;00m \u001B[38;5;28mself\u001B[39m._submit_resize_lock:\n\u001B[32m--> \u001B[39m\u001B[32m225\u001B[39m         \u001B[38;5;28;01mreturn\u001B[39;00m \u001B[38;5;28;43msuper\u001B[39;49m\u001B[43m(\u001B[49m\u001B[43m)\u001B[49m\u001B[43m.\u001B[49m\u001B[43msubmit\u001B[49m\u001B[43m(\u001B[49m\u001B[43mfn\u001B[49m\u001B[43m,\u001B[49m\u001B[43m \u001B[49m\u001B[43m*\u001B[49m\u001B[43margs\u001B[49m\u001B[43m,\u001B[49m\u001B[43m \u001B[49m\u001B[43m*\u001B[49m\u001B[43m*\u001B[49m\u001B[43mkwargs\u001B[49m\u001B[43m)\u001B[49m\n",
      "\u001B[36mFile \u001B[39m\u001B[32m/Library/Frameworks/Python.framework/Versions/3.13/lib/python3.13/site-packages/joblib/externals/loky/process_executor.py:1248\u001B[39m, in \u001B[36mProcessPoolExecutor.submit\u001B[39m\u001B[34m(self, fn, *args, **kwargs)\u001B[39m\n\u001B[32m   1245\u001B[39m \u001B[38;5;66;03m# Wake up queue management thread\u001B[39;00m\n\u001B[32m   1246\u001B[39m \u001B[38;5;28mself\u001B[39m._executor_manager_thread_wakeup.wakeup()\n\u001B[32m-> \u001B[39m\u001B[32m1248\u001B[39m \u001B[38;5;28;43mself\u001B[39;49m\u001B[43m.\u001B[49m\u001B[43m_ensure_executor_running\u001B[49m\u001B[43m(\u001B[49m\u001B[43m)\u001B[49m\n\u001B[32m   1249\u001B[39m \u001B[38;5;28;01mreturn\u001B[39;00m f\n",
      "\u001B[36mFile \u001B[39m\u001B[32m/Library/Frameworks/Python.framework/Versions/3.13/lib/python3.13/site-packages/joblib/externals/loky/process_executor.py:1220\u001B[39m, in \u001B[36mProcessPoolExecutor._ensure_executor_running\u001B[39m\u001B[34m(self)\u001B[39m\n\u001B[32m   1218\u001B[39m \u001B[38;5;28;01mwith\u001B[39;00m \u001B[38;5;28mself\u001B[39m._processes_management_lock:\n\u001B[32m   1219\u001B[39m     \u001B[38;5;28;01mif\u001B[39;00m \u001B[38;5;28mlen\u001B[39m(\u001B[38;5;28mself\u001B[39m._processes) != \u001B[38;5;28mself\u001B[39m._max_workers:\n\u001B[32m-> \u001B[39m\u001B[32m1220\u001B[39m         \u001B[38;5;28;43mself\u001B[39;49m\u001B[43m.\u001B[49m\u001B[43m_adjust_process_count\u001B[49m\u001B[43m(\u001B[49m\u001B[43m)\u001B[49m\n\u001B[32m   1221\u001B[39m     \u001B[38;5;28mself\u001B[39m._start_executor_manager_thread()\n",
      "\u001B[36mFile \u001B[39m\u001B[32m/Library/Frameworks/Python.framework/Versions/3.13/lib/python3.13/site-packages/joblib/externals/loky/process_executor.py:1188\u001B[39m, in \u001B[36mProcessPoolExecutor._adjust_process_count\u001B[39m\u001B[34m(self)\u001B[39m\n\u001B[32m   1186\u001B[39m \u001B[38;5;28;01mdef\u001B[39;00m\u001B[38;5;250m \u001B[39m\u001B[34m_adjust_process_count\u001B[39m(\u001B[38;5;28mself\u001B[39m):\n\u001B[32m   1187\u001B[39m     \u001B[38;5;28;01mwhile\u001B[39;00m \u001B[38;5;28mlen\u001B[39m(\u001B[38;5;28mself\u001B[39m._processes) < \u001B[38;5;28mself\u001B[39m._max_workers:\n\u001B[32m-> \u001B[39m\u001B[32m1188\u001B[39m         worker_exit_lock = \u001B[38;5;28;43mself\u001B[39;49m\u001B[43m.\u001B[49m\u001B[43m_context\u001B[49m\u001B[43m.\u001B[49m\u001B[43mBoundedSemaphore\u001B[49m\u001B[43m(\u001B[49m\u001B[32;43m1\u001B[39;49m\u001B[43m)\u001B[49m\n\u001B[32m   1189\u001B[39m         args = (\n\u001B[32m   1190\u001B[39m             \u001B[38;5;28mself\u001B[39m._call_queue,\n\u001B[32m   1191\u001B[39m             \u001B[38;5;28mself\u001B[39m._result_queue,\n\u001B[32m   (...)\u001B[39m\u001B[32m   1197\u001B[39m             _CURRENT_DEPTH + \u001B[32m1\u001B[39m,\n\u001B[32m   1198\u001B[39m         )\n\u001B[32m   1199\u001B[39m         worker_exit_lock.acquire()\n",
      "\u001B[36mFile \u001B[39m\u001B[32m/Library/Frameworks/Python.framework/Versions/3.13/lib/python3.13/site-packages/joblib/externals/loky/backend/context.py:329\u001B[39m, in \u001B[36mLokyContext.BoundedSemaphore\u001B[39m\u001B[34m(self, value)\u001B[39m\n\u001B[32m    326\u001B[39m \u001B[38;5;250m\u001B[39m\u001B[33;03m\"\"\"Returns a bounded semaphore object\"\"\"\u001B[39;00m\n\u001B[32m    327\u001B[39m \u001B[38;5;28;01mfrom\u001B[39;00m\u001B[38;5;250m \u001B[39m\u001B[34;01m.\u001B[39;00m\u001B[34;01msynchronize\u001B[39;00m\u001B[38;5;250m \u001B[39m\u001B[38;5;28;01mimport\u001B[39;00m BoundedSemaphore\n\u001B[32m--> \u001B[39m\u001B[32m329\u001B[39m \u001B[38;5;28;01mreturn\u001B[39;00m \u001B[43mBoundedSemaphore\u001B[49m\u001B[43m(\u001B[49m\u001B[43mvalue\u001B[49m\u001B[43m)\u001B[49m\n",
      "\u001B[36mFile \u001B[39m\u001B[32m/Library/Frameworks/Python.framework/Versions/3.13/lib/python3.13/site-packages/joblib/externals/loky/backend/synchronize.py:172\u001B[39m, in \u001B[36mBoundedSemaphore.__init__\u001B[39m\u001B[34m(self, value)\u001B[39m\n\u001B[32m    171\u001B[39m \u001B[38;5;28;01mdef\u001B[39;00m\u001B[38;5;250m \u001B[39m\u001B[34m__init__\u001B[39m(\u001B[38;5;28mself\u001B[39m, value=\u001B[32m1\u001B[39m):\n\u001B[32m--> \u001B[39m\u001B[32m172\u001B[39m     \u001B[43mSemLock\u001B[49m\u001B[43m.\u001B[49m\u001B[34;43m__init__\u001B[39;49m\u001B[43m(\u001B[49m\u001B[38;5;28;43mself\u001B[39;49m\u001B[43m,\u001B[49m\u001B[43m \u001B[49m\u001B[43mSEMAPHORE\u001B[49m\u001B[43m,\u001B[49m\u001B[43m \u001B[49m\u001B[43mvalue\u001B[49m\u001B[43m,\u001B[49m\u001B[43m \u001B[49m\u001B[43mvalue\u001B[49m\u001B[43m)\u001B[49m\n",
      "\u001B[36mFile \u001B[39m\u001B[32m/Library/Frameworks/Python.framework/Versions/3.13/lib/python3.13/site-packages/joblib/externals/loky/backend/synchronize.py:73\u001B[39m, in \u001B[36mSemLock.__init__\u001B[39m\u001B[34m(self, kind, value, maxvalue, name)\u001B[39m\n\u001B[32m     70\u001B[39m \u001B[38;5;28;01mfor\u001B[39;00m _ \u001B[38;5;129;01min\u001B[39;00m \u001B[38;5;28mrange\u001B[39m(\u001B[32m100\u001B[39m):\n\u001B[32m     71\u001B[39m     \u001B[38;5;28;01mtry\u001B[39;00m:\n\u001B[32m     72\u001B[39m         \u001B[38;5;28mself\u001B[39m._semlock = _SemLock(\n\u001B[32m---> \u001B[39m\u001B[32m73\u001B[39m             kind, value, maxvalue, \u001B[43mSemLock\u001B[49m\u001B[43m.\u001B[49m\u001B[43m_make_name\u001B[49m\u001B[43m(\u001B[49m\u001B[43m)\u001B[49m, unlink_now\n\u001B[32m     74\u001B[39m         )\n\u001B[32m     75\u001B[39m     \u001B[38;5;28;01mexcept\u001B[39;00m \u001B[38;5;167;01mFileExistsError\u001B[39;00m:  \u001B[38;5;66;03m# pragma: no cover\u001B[39;00m\n\u001B[32m     76\u001B[39m         \u001B[38;5;28;01mpass\u001B[39;00m\n",
      "\u001B[36mFile \u001B[39m\u001B[32m/Library/Frameworks/Python.framework/Versions/3.13/lib/python3.13/site-packages/joblib/externals/loky/backend/synchronize.py:140\u001B[39m, in \u001B[36mSemLock._make_name\u001B[39m\u001B[34m()\u001B[39m\n\u001B[32m    137\u001B[39m \u001B[38;5;129m@staticmethod\u001B[39m\n\u001B[32m    138\u001B[39m \u001B[38;5;28;01mdef\u001B[39;00m\u001B[38;5;250m \u001B[39m\u001B[34m_make_name\u001B[39m():\n\u001B[32m    139\u001B[39m     \u001B[38;5;66;03m# OSX does not support long names for semaphores\u001B[39;00m\n\u001B[32m--> \u001B[39m\u001B[32m140\u001B[39m     \u001B[38;5;28;01mreturn\u001B[39;00m \u001B[33mf\u001B[39m\u001B[33m\"\u001B[39m\u001B[33m/loky-\u001B[39m\u001B[38;5;132;01m{\u001B[39;00mos.getpid()\u001B[38;5;132;01m}\u001B[39;00m\u001B[33m-\u001B[39m\u001B[38;5;132;01m{\u001B[39;00m\u001B[38;5;28;43mnext\u001B[39;49m\u001B[43m(\u001B[49m\u001B[43mSemLock\u001B[49m\u001B[43m.\u001B[49m\u001B[43m_rand\u001B[49m\u001B[43m)\u001B[49m\u001B[38;5;132;01m}\u001B[39;00m\u001B[33m\"\u001B[39m\n",
      "\u001B[36mFile \u001B[39m\u001B[32m/Library/Frameworks/Python.framework/Versions/3.13/lib/python3.13/tempfile.py:154\u001B[39m, in \u001B[36m_RandomNameSequence.__next__\u001B[39m\u001B[34m(self)\u001B[39m\n\u001B[32m    153\u001B[39m \u001B[38;5;28;01mdef\u001B[39;00m\u001B[38;5;250m \u001B[39m\u001B[34m__next__\u001B[39m(\u001B[38;5;28mself\u001B[39m):\n\u001B[32m--> \u001B[39m\u001B[32m154\u001B[39m     \u001B[38;5;28;01mreturn\u001B[39;00m \u001B[33m'\u001B[39m\u001B[33m'\u001B[39m.join(\u001B[38;5;28;43mself\u001B[39;49m\u001B[43m.\u001B[49m\u001B[43mrng\u001B[49m\u001B[43m.\u001B[49m\u001B[43mchoices\u001B[49m\u001B[43m(\u001B[49m\u001B[38;5;28;43mself\u001B[39;49m\u001B[43m.\u001B[49m\u001B[43mcharacters\u001B[49m\u001B[43m,\u001B[49m\u001B[43m \u001B[49m\u001B[43mk\u001B[49m\u001B[43m=\u001B[49m\u001B[32;43m8\u001B[39;49m\u001B[43m)\u001B[49m)\n",
      "\u001B[36mFile \u001B[39m\u001B[32m/Library/Frameworks/Python.framework/Versions/3.13/lib/python3.13/random.py:471\u001B[39m, in \u001B[36mRandom.choices\u001B[39m\u001B[34m(self, population, weights, cum_weights, k)\u001B[39m\n\u001B[32m    469\u001B[39m     floor = _floor\n\u001B[32m    470\u001B[39m     n += \u001B[32m0.0\u001B[39m    \u001B[38;5;66;03m# convert to float for a small speed improvement\u001B[39;00m\n\u001B[32m--> \u001B[39m\u001B[32m471\u001B[39m     \u001B[38;5;28;01mreturn\u001B[39;00m [population[floor(random() * n)] \u001B[38;5;28;01mfor\u001B[39;00m i \u001B[38;5;129;01min\u001B[39;00m \u001B[43m_repeat\u001B[49m\u001B[43m(\u001B[49m\u001B[38;5;28;43;01mNone\u001B[39;49;00m\u001B[43m,\u001B[49m\u001B[43m \u001B[49m\u001B[43mk\u001B[49m\u001B[43m)\u001B[49m]\n\u001B[32m    472\u001B[39m \u001B[38;5;28;01mtry\u001B[39;00m:\n\u001B[32m    473\u001B[39m     cum_weights = \u001B[38;5;28mlist\u001B[39m(_accumulate(weights))\n",
      "\u001B[31mKeyboardInterrupt\u001B[39m: "
     ]
    }
   ],
   "execution_count": 8
  },
  {
   "metadata": {},
   "cell_type": "code",
   "outputs": [],
   "execution_count": null,
   "source": [
    "print(\"Best parameters:\", grid_search.best_params_)\n",
    "best_svm = grid_search.best_estimator_"
   ],
   "id": "9204d8362f529080"
  },
  {
   "metadata": {},
   "cell_type": "code",
   "outputs": [],
   "execution_count": null,
   "source": "y_pred = best_svm.predict(X_test)",
   "id": "3257342988b35256"
  }
 ],
 "metadata": {
  "kernelspec": {
   "display_name": "Python 3",
   "language": "python",
   "name": "python3"
  },
  "language_info": {
   "codemirror_mode": {
    "name": "ipython",
    "version": 2
   },
   "file_extension": ".py",
   "mimetype": "text/x-python",
   "name": "python",
   "nbconvert_exporter": "python",
   "pygments_lexer": "ipython2",
   "version": "2.7.6"
  }
 },
 "nbformat": 4,
 "nbformat_minor": 5
}
