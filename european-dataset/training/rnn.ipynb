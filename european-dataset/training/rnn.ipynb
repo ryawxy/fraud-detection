{
 "nbformat": 4,
 "nbformat_minor": 0,
 "metadata": {
  "colab": {
   "provenance": []
  },
  "kernelspec": {
   "name": "python3",
   "display_name": "Python 3"
  },
  "language_info": {
   "name": "python"
  }
 },
 "cells": [
  {
   "cell_type": "markdown",
   "source": [
    "# Libraries"
   ],
   "metadata": {
    "id": "Q92jwGiAMXNe"
   },
   "id": "6c4539084483f72a"
  },
  {
   "cell_type": "code",
   "source": [
    "import pandas as pd\n",
    "import numpy as np\n",
    "import seaborn as sns\n",
    "from matplotlib import pyplot as plt\n",
    "sns.set_theme()\n",
    "import warnings\n",
    "warnings.filterwarnings('ignore')\n",
    "from imblearn.over_sampling import SMOTE\n",
    "from sklearn.preprocessing import StandardScaler\n",
    "from sklearn.model_selection import train_test_split\n",
    "from sklearn.utils.class_weight import compute_class_weight\n",
    "from tensorflow.keras.models import Sequential\n",
    "from tensorflow.keras.layers import LSTM, Dense, Dropout\n",
    "from tensorflow.keras.optimizers import Adam\n",
    "from tensorflow.keras.callbacks import EarlyStopping\n",
    "from sklearn.metrics import classification_report, confusion_matrix\n",
    "from imblearn.under_sampling import RandomUnderSampler\n",
    "from imblearn.over_sampling import SMOTE\n",
    "from tensorflow.keras.models import load_model\n",
    "from sklearn.metrics import precision_score, f1_score, recall_score"
   ],
   "metadata": {
    "id": "673HIIjXMVuX"
   },
   "execution_count": 152,
   "outputs": [],
   "id": "67a2093fc2ea9d99"
  },
  {
   "cell_type": "markdown",
   "source": [
    "# Loading the processed Data"
   ],
   "metadata": {
    "id": "8W3RPokZMdOZ"
   },
   "id": "8ded86fcd8ac9fba"
  },
  {
   "cell_type": "code",
   "source": [
    "X_train = pd.read_csv('X_train.csv')\n",
    "X_test = pd.read_csv('X_test.csv')\n",
    "y_train = pd.read_csv('y_train.csv')['Class']\n",
    "y_test = pd.read_csv('y_test.csv')['Class']"
   ],
   "metadata": {
    "id": "cNi7Bs3cMfTX"
   },
   "execution_count": null,
   "outputs": [],
   "id": "9673062e45a9baa2"
  },
  {
   "cell_type": "code",
   "source": [
    "print(X_train.shape)\n",
    "print(y_train.shape)"
   ],
   "metadata": {
    "colab": {
     "base_uri": "https://localhost:8080/"
    },
    "id": "N0DwoSaQSfYc",
    "outputId": "0717539d-1220-469e-a0ef-449e3db2881e"
   },
   "execution_count": null,
   "outputs": [
    {
     "output_type": "stream",
     "name": "stdout",
     "text": [
      "(227604, 30)\n",
      "(227604,)\n"
     ]
    }
   ],
   "id": "7cb56ca9c7c79b1a"
  },
  {
   "cell_type": "code",
   "source": [
    "print(X_test.shape)\n",
    "print(y_test.shape)"
   ],
   "metadata": {
    "colab": {
     "base_uri": "https://localhost:8080/"
    },
    "id": "-HV-Q4uKTphT",
    "outputId": "d30d71df-f8dd-41f1-9bbf-fa9f77235040"
   },
   "execution_count": null,
   "outputs": [
    {
     "output_type": "stream",
     "name": "stdout",
     "text": [
      "(56902, 30)\n",
      "(56902,)\n"
     ]
    }
   ],
   "id": "723550940f9660c8"
  },
  {
   "cell_type": "markdown",
   "source": [
    "# OverSampling/UnderSampling"
   ],
   "metadata": {
    "id": "KrloPFkPOukb"
   },
   "id": "ef7ddb080a120d2e"
  },
  {
   "cell_type": "code",
   "source": [
    "smote = SMOTE(random_state=42)\n",
    "X_train_smote, y_train_smote = smote.fit_resample(X_train, y_train)\n",
    "\n",
    "undersampler = RandomUnderSampler(random_state=42)\n",
    "X_train_under, y_train_under = undersampler.fit_resample(X_train, y_train)"
   ],
   "metadata": {
    "id": "rxkkdCAgOwxq"
   },
   "execution_count": null,
   "outputs": [],
   "id": "dcecbb764daa2634"
  },
  {
   "cell_type": "markdown",
   "source": [
    "# Create Sequential Data"
   ],
   "metadata": {
    "id": "owfnonHaMqoR"
   },
   "id": "2ade785ca89ca178"
  },
  {
   "cell_type": "code",
   "source": [
    "def create_sequences(X, y, seq_length=10):\n",
    "    sequences = []\n",
    "    labels = []\n",
    "    # Group by time to simulate user transaction sequences\n",
    "    for i in range(0, len(X) - seq_length, seq_length):\n",
    "        seq = X.iloc[i:i + seq_length].values\n",
    "        label = y.iloc[i + seq_length - 1]  # Label of the last transaction\n",
    "        sequences.append(seq)\n",
    "        labels.append(label)\n",
    "    return np.array(sequences), np.array(labels)"
   ],
   "metadata": {
    "id": "xSa7wMISMspA"
   },
   "execution_count": null,
   "outputs": [],
   "id": "f8b7e46438f3ee76"
  },
  {
   "cell_type": "markdown",
   "source": [
    "# Computing Class weights"
   ],
   "metadata": {
    "id": "DpAYyggXNGMQ"
   },
   "id": "2d9a7f7281f8fdf8"
  },
  {
   "cell_type": "code",
   "source": [
    "# Compute class weights to handle imbalance\n",
    "class_weights = compute_class_weight('balanced', classes=np.unique(y_train), y=y_train)\n",
    "class_weight_dict = dict(enumerate(class_weights))"
   ],
   "metadata": {
    "id": "0UOIqWKQNH22"
   },
   "execution_count": null,
   "outputs": [],
   "id": "3ad40b324325b27"
  },
  {
   "cell_type": "markdown",
   "source": [
    "# Training"
   ],
   "metadata": {
    "id": "cDSL_cirNJrt"
   },
   "id": "3f5ba97268d2218a"
  },
  {
   "cell_type": "code",
   "source": [
    "seq_length = 10\n",
    "X_seq, y_seq = create_sequences(X_train, y_train, seq_length)\n",
    "X_seq_smote, y_seq_smote = create_sequences(X_train_smote, y_train_smote, seq_length)\n",
    "X_seq_under, y_seq_under = create_sequences(X_train_under, y_train_under, seq_length)\n",
    "X_test_seq, y_test_seq = create_sequences(X_test, y_test, seq_length)"
   ],
   "metadata": {
    "id": "Ea9nPGfSW8gc"
   },
   "execution_count": null,
   "outputs": [],
   "id": "b99820c520ea935b"
  },
  {
   "cell_type": "code",
   "source": [
    "datasets = [\n",
    "    ('original', X_seq, y_seq, class_weight_dict),\n",
    "    ('smote', X_seq_smote, y_seq_smote, None),  # No class weights for SMOTE as it's balanced\n",
    "    ('undersampled', X_seq_under, y_seq_under, None)  # No class weights for undersampled as it's balanced\n",
    "]\n",
    "batches = [32, 64, 128, 256]"
   ],
   "metadata": {
    "id": "lsuFPTO7OWve"
   },
   "execution_count": null,
   "outputs": [],
   "id": "efc83ace8afc0c6e"
  },
  {
   "cell_type": "code",
   "source": [
    "early_stopping = EarlyStopping(monitor='val_loss', patience=5, restore_best_weights=True)\n",
    "\n",
    "def create_model(input_shape):\n",
    "    model = Sequential([\n",
    "        LSTM(64, input_shape=input_shape, return_sequences=True),\n",
    "        Dropout(0.2),\n",
    "        LSTM(32),\n",
    "        Dropout(0.2),\n",
    "        Dense(16, activation='relu'),\n",
    "        Dense(1, activation='sigmoid')\n",
    "    ])\n",
    "    model.compile(optimizer=Adam(learning_rate=0.001),\n",
    "                 loss='binary_crossentropy',\n",
    "                 metrics=['precision', 'recall', 'accuracy'])\n",
    "    return model"
   ],
   "metadata": {
    "id": "adW52c7MN8tm"
   },
   "execution_count": null,
   "outputs": [],
   "id": "f7cf71f9affbfd37"
  },
  {
   "cell_type": "code",
   "source": [
    "for dataset_name, X_data, y_data, class_weights in datasets:\n",
    "    for batch in batches:\n",
    "        print(f'\\nTraining recurrent neural network with dataset: {dataset_name}, batch size: {batch}')\n",
    "        model = create_model((X_data.shape[1], X_data.shape[2]))\n",
    "        history = model.fit(\n",
    "            X_data, y_data,\n",
    "            epochs=50,\n",
    "            batch_size=batch,\n",
    "            validation_split=0.2,\n",
    "            class_weight=class_weights,\n",
    "            callbacks=[early_stopping],\n",
    "            verbose=1\n",
    "        )\n",
    "\n",
    "\n",
    "        model_name = f'model_{dataset_name}_batch{batch}.h5'\n",
    "        model.save(model_name)\n",
    "        print(f\"Model saved as {model_name}\")"
   ],
   "metadata": {
    "colab": {
     "base_uri": "https://localhost:8080/"
    },
    "id": "4oUmv9HaXchk",
    "outputId": "40bc5f21-295a-46b8-f2b3-93fa256592a4"
   },
   "execution_count": 148,
   "outputs": [
    {
     "metadata": {
      "tags": null
     },
     "name": "stdout",
     "output_type": "stream",
     "text": [
      "\n",
      "Training recurrent neural network with dataset: original, batch size: 32\n",
      "Epoch 1/50\n",
      "\u001B[1m569/569\u001B[0m \u001B[32m━━━━━━━━━━━━━━━━━━━━\u001B[0m\u001B[37m\u001B[0m \u001B[1m14s\u001B[0m 16ms/step - accuracy: 0.8560 - loss: 0.6654 - precision: 0.0052 - recall: 0.4902 - val_accuracy: 0.9550 - val_loss: 0.4374 - val_precision: 0.0286 - val_recall: 0.8571\n",
      "Epoch 2/50\n",
      "\u001B[1m569/569\u001B[0m \u001B[32m━━━━━━━━━━━━━━━━━━━━\u001B[0m\u001B[37m\u001B[0m \u001B[1m10s\u001B[0m 15ms/step - accuracy: 0.9678 - loss: 0.2205 - precision: 0.0358 - recall: 0.8214 - val_accuracy: 0.9941 - val_loss: 0.0568 - val_precision: 0.1875 - val_recall: 0.8571\n",
      "Epoch 3/50\n",
      "\u001B[1m569/569\u001B[0m \u001B[32m━━━━━━━━━━━━━━━━━━━━\u001B[0m\u001B[37m\u001B[0m \u001B[1m12s\u001B[0m 21ms/step - accuracy: 0.9831 - loss: 0.0766 - precision: 0.0801 - recall: 0.9485 - val_accuracy: 0.9750 - val_loss: 0.0589 - val_precision: 0.0504 - val_recall: 0.8571\n",
      "Epoch 4/50\n",
      "\u001B[1m569/569\u001B[0m \u001B[32m━━━━━━━━━━━━━━━━━━━━\u001B[0m\u001B[37m\u001B[0m \u001B[1m17s\u001B[0m 14ms/step - accuracy: 0.9890 - loss: 0.0242 - precision: 0.0935 - recall: 0.9754 - val_accuracy: 0.9952 - val_loss: 0.0212 - val_precision: 0.2222 - val_recall: 0.8571\n",
      "Epoch 5/50\n",
      "\u001B[1m569/569\u001B[0m \u001B[32m━━━━━━━━━━━━━━━━━━━━\u001B[0m\u001B[37m\u001B[0m \u001B[1m9s\u001B[0m 16ms/step - accuracy: 0.9961 - loss: 0.0150 - precision: 0.3376 - recall: 0.9982 - val_accuracy: 0.9985 - val_loss: 0.0077 - val_precision: 0.5000 - val_recall: 0.8571\n",
      "Epoch 6/50\n",
      "\u001B[1m569/569\u001B[0m \u001B[32m━━━━━━━━━━━━━━━━━━━━\u001B[0m\u001B[37m\u001B[0m \u001B[1m15s\u001B[0m 26ms/step - accuracy: 0.9994 - loss: 0.0029 - precision: 0.6889 - recall: 0.9684 - val_accuracy: 0.9989 - val_loss: 0.0070 - val_precision: 0.6000 - val_recall: 0.8571\n",
      "Epoch 7/50\n",
      "\u001B[1m569/569\u001B[0m \u001B[32m━━━━━━━━━━━━━━━━━━━━\u001B[0m\u001B[37m\u001B[0m \u001B[1m13s\u001B[0m 14ms/step - accuracy: 0.9995 - loss: 0.0029 - precision: 0.7596 - recall: 0.9684 - val_accuracy: 0.9991 - val_loss: 0.0067 - val_precision: 0.6667 - val_recall: 0.8571\n",
      "Epoch 8/50\n",
      "\u001B[1m569/569\u001B[0m \u001B[32m━━━━━━━━━━━━━━━━━━━━\u001B[0m\u001B[37m\u001B[0m \u001B[1m10s\u001B[0m 14ms/step - accuracy: 0.9997 - loss: 0.0018 - precision: 0.8435 - recall: 0.9947 - val_accuracy: 0.9993 - val_loss: 0.0059 - val_precision: 0.7500 - val_recall: 0.8571\n",
      "Epoch 9/50\n",
      "\u001B[1m569/569\u001B[0m \u001B[32m━━━━━━━━━━━━━━━━━━━━\u001B[0m\u001B[37m\u001B[0m \u001B[1m9s\u001B[0m 15ms/step - accuracy: 0.9998 - loss: 0.0014 - precision: 0.8716 - recall: 0.9877 - val_accuracy: 0.9991 - val_loss: 0.0068 - val_precision: 0.6667 - val_recall: 0.8571\n",
      "Epoch 10/50\n",
      "\u001B[1m569/569\u001B[0m \u001B[32m━━━━━━━━━━━━━━━━━━━━\u001B[0m\u001B[37m\u001B[0m \u001B[1m8s\u001B[0m 15ms/step - accuracy: 0.9998 - loss: 6.8722e-04 - precision: 0.8322 - recall: 0.9667 - val_accuracy: 0.9993 - val_loss: 0.0058 - val_precision: 0.7500 - val_recall: 0.8571\n",
      "Epoch 11/50\n",
      "\u001B[1m569/569\u001B[0m \u001B[32m━━━━━━━━━━━━━━━━━━━━\u001B[0m\u001B[37m\u001B[0m \u001B[1m8s\u001B[0m 14ms/step - accuracy: 0.9998 - loss: 0.0011 - precision: 0.8268 - recall: 0.9333 - val_accuracy: 0.9993 - val_loss: 0.0059 - val_precision: 0.7500 - val_recall: 0.8571\n",
      "Epoch 12/50\n",
      "\u001B[1m569/569\u001B[0m \u001B[32m━━━━━━━━━━━━━━━━━━━━\u001B[0m\u001B[37m\u001B[0m \u001B[1m9s\u001B[0m 17ms/step - accuracy: 0.9998 - loss: 0.0015 - precision: 0.8865 - recall: 0.9965 - val_accuracy: 0.9993 - val_loss: 0.0065 - val_precision: 0.7500 - val_recall: 0.8571\n",
      "Epoch 13/50\n",
      "\u001B[1m569/569\u001B[0m \u001B[32m━━━━━━━━━━━━━━━━━━━━\u001B[0m\u001B[37m\u001B[0m \u001B[1m8s\u001B[0m 15ms/step - accuracy: 0.9987 - loss: 0.0033 - precision: 0.6804 - recall: 0.9649 - val_accuracy: 0.9976 - val_loss: 0.0160 - val_precision: 0.3750 - val_recall: 0.8571\n",
      "Epoch 14/50\n",
      "\u001B[1m569/569\u001B[0m \u001B[32m━━━━━━━━━━━━━━━━━━━━\u001B[0m\u001B[37m\u001B[0m \u001B[1m10s\u001B[0m 14ms/step - accuracy: 0.9990 - loss: 0.0046 - precision: 0.5756 - recall: 0.9860 - val_accuracy: 0.9987 - val_loss: 0.0069 - val_precision: 0.5455 - val_recall: 0.8571\n",
      "Epoch 15/50\n",
      "\u001B[1m569/569\u001B[0m \u001B[32m━━━━━━━━━━━━━━━━━━━━\u001B[0m\u001B[37m\u001B[0m \u001B[1m10s\u001B[0m 13ms/step - accuracy: 0.9997 - loss: 9.9097e-04 - precision: 0.7474 - recall: 0.9474 - val_accuracy: 0.9993 - val_loss: 0.0060 - val_precision: 0.7500 - val_recall: 0.8571\n"
     ]
    },
    {
     "metadata": {
      "tags": null
     },
     "name": "stderr",
     "output_type": "stream",
     "text": [
      "WARNING:absl:You are saving your model as an HDF5 file via `model.save()` or `keras.saving.save_model(model)`. This file format is considered legacy. We recommend using instead the native Keras format, e.g. `model.save('my_model.keras')` or `keras.saving.save_model(model, 'my_model.keras')`. \n"
     ]
    },
    {
     "metadata": {
      "tags": null
     },
     "name": "stdout",
     "output_type": "stream",
     "text": [
      "Model saved as model_original_batch32.h5\n",
      "\n",
      "Training recurrent neural network with dataset: original, batch size: 64\n",
      "Epoch 1/50\n",
      "\u001B[1m285/285\u001B[0m \u001B[32m━━━━━━━━━━━━━━━━━━━━\u001B[0m\u001B[37m\u001B[0m \u001B[1m11s\u001B[0m 21ms/step - accuracy: 0.9226 - loss: 0.5746 - precision: 0.0035 - recall: 0.1863 - val_accuracy: 0.7669 - val_loss: 0.5625 - val_precision: 0.0056 - val_recall: 0.8571\n",
      "Epoch 2/50\n",
      "\u001B[1m285/285\u001B[0m \u001B[32m━━━━━━━━━━━━━━━━━━━━\u001B[0m\u001B[37m\u001B[0m \u001B[1m7s\u001B[0m 23ms/step - accuracy: 0.8922 - loss: 0.3070 - precision: 0.0160 - recall: 0.8891 - val_accuracy: 0.9923 - val_loss: 0.0376 - val_precision: 0.1500 - val_recall: 0.8571\n",
      "Epoch 3/50\n",
      "\u001B[1m285/285\u001B[0m \u001B[32m━━━━━━━━━━━━━━━━━━━━\u001B[0m\u001B[37m\u001B[0m \u001B[1m9s\u001B[0m 18ms/step - accuracy: 0.9768 - loss: 0.1378 - precision: 0.0582 - recall: 0.8755 - val_accuracy: 0.9960 - val_loss: 0.0203 - val_precision: 0.2609 - val_recall: 0.8571\n",
      "Epoch 4/50\n",
      "\u001B[1m285/285\u001B[0m \u001B[32m━━━━━━━━━━━━━━━━━━━━\u001B[0m\u001B[37m\u001B[0m \u001B[1m10s\u001B[0m 19ms/step - accuracy: 0.9754 - loss: 0.0790 - precision: 0.1052 - recall: 0.9337 - val_accuracy: 0.9914 - val_loss: 0.0309 - val_precision: 0.1364 - val_recall: 0.8571\n",
      "Epoch 5/50\n",
      "\u001B[1m285/285\u001B[0m \u001B[32m━━━━━━━━━━━━━━━━━━━━\u001B[0m\u001B[37m\u001B[0m \u001B[1m7s\u001B[0m 23ms/step - accuracy: 0.9939 - loss: 0.0189 - precision: 0.2221 - recall: 0.9965 - val_accuracy: 0.9976 - val_loss: 0.0105 - val_precision: 0.3750 - val_recall: 0.8571\n",
      "Epoch 6/50\n",
      "\u001B[1m285/285\u001B[0m \u001B[32m━━━━━━━━━━━━━━━━━━━━\u001B[0m\u001B[37m\u001B[0m \u001B[1m10s\u001B[0m 22ms/step - accuracy: 0.9985 - loss: 0.0052 - precision: 0.3729 - recall: 0.9056 - val_accuracy: 0.9980 - val_loss: 0.0085 - val_precision: 0.4286 - val_recall: 0.8571\n",
      "Epoch 7/50\n",
      "\u001B[1m285/285\u001B[0m \u001B[32m━━━━━━━━━━━━━━━━━━━━\u001B[0m\u001B[37m\u001B[0m \u001B[1m9s\u001B[0m 18ms/step - accuracy: 0.9989 - loss: 0.0030 - precision: 0.4399 - recall: 0.9336 - val_accuracy: 0.9987 - val_loss: 0.0073 - val_precision: 0.5455 - val_recall: 0.8571\n",
      "Epoch 8/50\n",
      "\u001B[1m285/285\u001B[0m \u001B[32m━━━━━━━━━━━━━━━━━━━━\u001B[0m\u001B[37m\u001B[0m \u001B[1m10s\u001B[0m 18ms/step - accuracy: 0.9994 - loss: 0.0032 - precision: 0.7304 - recall: 0.9895 - val_accuracy: 0.9989 - val_loss: 0.0066 - val_precision: 0.6000 - val_recall: 0.8571\n",
      "Epoch 9/50\n",
      "\u001B[1m285/285\u001B[0m \u001B[32m━━━━━━━━━━━━━━━━━━━━\u001B[0m\u001B[37m\u001B[0m \u001B[1m7s\u001B[0m 23ms/step - accuracy: 0.9996 - loss: 0.0026 - precision: 0.7234 - recall: 0.9825 - val_accuracy: 0.9989 - val_loss: 0.0068 - val_precision: 0.6000 - val_recall: 0.8571\n",
      "Epoch 10/50\n",
      "\u001B[1m285/285\u001B[0m \u001B[32m━━━━━━━━━━━━━━━━━━━━\u001B[0m\u001B[37m\u001B[0m \u001B[1m9s\u001B[0m 18ms/step - accuracy: 0.9994 - loss: 0.0020 - precision: 0.7652 - recall: 1.0000 - val_accuracy: 0.9991 - val_loss: 0.0067 - val_precision: 0.6667 - val_recall: 0.8571\n",
      "Epoch 11/50\n",
      "\u001B[1m285/285\u001B[0m \u001B[32m━━━━━━━━━━━━━━━━━━━━\u001B[0m\u001B[37m\u001B[0m \u001B[1m10s\u001B[0m 18ms/step - accuracy: 0.9997 - loss: 0.0013 - precision: 0.8368 - recall: 0.9755 - val_accuracy: 0.9991 - val_loss: 0.0067 - val_precision: 0.6667 - val_recall: 0.8571\n",
      "Epoch 12/50\n",
      "\u001B[1m285/285\u001B[0m \u001B[32m━━━━━━━━━━━━━━━━━━━━\u001B[0m\u001B[37m\u001B[0m \u001B[1m11s\u001B[0m 19ms/step - accuracy: 0.9999 - loss: 9.2778e-04 - precision: 0.8584 - recall: 0.9580 - val_accuracy: 0.9991 - val_loss: 0.0069 - val_precision: 0.6667 - val_recall: 0.8571\n",
      "Epoch 13/50\n",
      "\u001B[1m285/285\u001B[0m \u001B[32m━━━━━━━━━━━━━━━━━━━━\u001B[0m\u001B[37m\u001B[0m \u001B[1m11s\u001B[0m 21ms/step - accuracy: 0.9995 - loss: 0.0020 - precision: 0.6448 - recall: 0.8601 - val_accuracy: 0.9991 - val_loss: 0.0070 - val_precision: 0.6667 - val_recall: 0.8571\n"
     ]
    },
    {
     "metadata": {
      "tags": null
     },
     "name": "stderr",
     "output_type": "stream",
     "text": [
      "WARNING:absl:You are saving your model as an HDF5 file via `model.save()` or `keras.saving.save_model(model)`. This file format is considered legacy. We recommend using instead the native Keras format, e.g. `model.save('my_model.keras')` or `keras.saving.save_model(model, 'my_model.keras')`. \n"
     ]
    },
    {
     "metadata": {
      "tags": null
     },
     "name": "stdout",
     "output_type": "stream",
     "text": [
      "Model saved as model_original_batch64.h5\n",
      "\n",
      "Training recurrent neural network with dataset: original, batch size: 128\n",
      "Epoch 1/50\n",
      "\u001B[1m143/143\u001B[0m \u001B[32m━━━━━━━━━━━━━━━━━━━━\u001B[0m\u001B[37m\u001B[0m \u001B[1m13s\u001B[0m 38ms/step - accuracy: 0.9463 - loss: 0.5853 - precision: 0.0079 - recall: 0.1583 - val_accuracy: 0.9903 - val_loss: 0.4149 - val_precision: 0.1064 - val_recall: 0.7143\n",
      "Epoch 2/50\n",
      "\u001B[1m143/143\u001B[0m \u001B[32m━━━━━━━━━━━━━━━━━━━━\u001B[0m\u001B[37m\u001B[0m \u001B[1m4s\u001B[0m 30ms/step - accuracy: 0.9883 - loss: 0.3907 - precision: 0.0751 - recall: 0.6282 - val_accuracy: 0.9807 - val_loss: 0.1831 - val_precision: 0.0645 - val_recall: 0.8571\n",
      "Epoch 3/50\n",
      "\u001B[1m143/143\u001B[0m \u001B[32m━━━━━━━━━━━━━━━━━━━━\u001B[0m\u001B[37m\u001B[0m \u001B[1m6s\u001B[0m 43ms/step - accuracy: 0.9769 - loss: 0.1350 - precision: 0.0543 - recall: 0.9359 - val_accuracy: 0.9855 - val_loss: 0.0646 - val_precision: 0.0845 - val_recall: 0.8571\n",
      "Epoch 4/50\n",
      "\u001B[1m143/143\u001B[0m \u001B[32m━━━━━━━━━━━━━━━━━━━━\u001B[0m\u001B[37m\u001B[0m \u001B[1m9s\u001B[0m 32ms/step - accuracy: 0.9900 - loss: 0.0393 - precision: 0.1266 - recall: 0.9931 - val_accuracy: 0.9947 - val_loss: 0.0210 - val_precision: 0.2069 - val_recall: 0.8571\n",
      "Epoch 5/50\n",
      "\u001B[1m143/143\u001B[0m \u001B[32m━━━━━━━━━━━━━━━━━━━━\u001B[0m\u001B[37m\u001B[0m \u001B[1m6s\u001B[0m 38ms/step - accuracy: 0.9952 - loss: 0.0164 - precision: 0.2079 - recall: 0.9306 - val_accuracy: 0.9965 - val_loss: 0.0129 - val_precision: 0.2857 - val_recall: 0.8571\n",
      "Epoch 6/50\n",
      "\u001B[1m143/143\u001B[0m \u001B[32m━━━━━━━━━━━━━━━━━━━━\u001B[0m\u001B[37m\u001B[0m \u001B[1m11s\u001B[0m 42ms/step - accuracy: 0.9973 - loss: 0.0130 - precision: 0.3681 - recall: 0.9931 - val_accuracy: 0.9974 - val_loss: 0.0101 - val_precision: 0.3529 - val_recall: 0.8571\n",
      "Epoch 7/50\n",
      "\u001B[1m143/143\u001B[0m \u001B[32m━━━━━━━━━━━━━━━━━━━━\u001B[0m\u001B[37m\u001B[0m \u001B[1m5s\u001B[0m 32ms/step - accuracy: 0.9980 - loss: 0.0089 - precision: 0.4377 - recall: 1.0000 - val_accuracy: 0.9985 - val_loss: 0.0067 - val_precision: 0.5000 - val_recall: 0.8571\n",
      "Epoch 8/50\n",
      "\u001B[1m143/143\u001B[0m \u001B[32m━━━━━━━━━━━━━━━━━━━━\u001B[0m\u001B[37m\u001B[0m \u001B[1m5s\u001B[0m 32ms/step - accuracy: 0.9990 - loss: 0.0048 - precision: 0.4967 - recall: 0.9514 - val_accuracy: 0.9982 - val_loss: 0.0065 - val_precision: 0.4615 - val_recall: 0.8571\n",
      "Epoch 9/50\n",
      "\u001B[1m143/143\u001B[0m \u001B[32m━━━━━━━━━━━━━━━━━━━━\u001B[0m\u001B[37m\u001B[0m \u001B[1m6s\u001B[0m 39ms/step - accuracy: 0.9990 - loss: 0.0036 - precision: 0.5668 - recall: 0.9792 - val_accuracy: 0.9985 - val_loss: 0.0067 - val_precision: 0.5000 - val_recall: 0.8571\n",
      "Epoch 10/50\n",
      "\u001B[1m143/143\u001B[0m \u001B[32m━━━━━━━━━━━━━━━━━━━━\u001B[0m\u001B[37m\u001B[0m \u001B[1m4s\u001B[0m 30ms/step - accuracy: 0.9992 - loss: 0.0028 - precision: 0.6594 - recall: 0.9722 - val_accuracy: 0.9989 - val_loss: 0.0059 - val_precision: 0.6000 - val_recall: 0.8571\n",
      "Epoch 11/50\n",
      "\u001B[1m143/143\u001B[0m \u001B[32m━━━━━━━━━━━━━━━━━━━━\u001B[0m\u001B[37m\u001B[0m \u001B[1m6s\u001B[0m 39ms/step - accuracy: 0.9995 - loss: 0.0026 - precision: 0.7438 - recall: 0.9792 - val_accuracy: 0.9991 - val_loss: 0.0062 - val_precision: 0.6667 - val_recall: 0.8571\n",
      "Epoch 12/50\n",
      "\u001B[1m143/143\u001B[0m \u001B[32m━━━━━━━━━━━━━━━━━━━━\u001B[0m\u001B[37m\u001B[0m \u001B[1m9s\u001B[0m 30ms/step - accuracy: 0.9997 - loss: 0.0015 - precision: 0.7135 - recall: 0.9236 - val_accuracy: 0.9989 - val_loss: 0.0063 - val_precision: 0.6000 - val_recall: 0.8571\n",
      "Epoch 13/50\n",
      "\u001B[1m143/143\u001B[0m \u001B[32m━━━━━━━━━━━━━━━━━━━━\u001B[0m\u001B[37m\u001B[0m \u001B[1m7s\u001B[0m 41ms/step - accuracy: 0.9995 - loss: 0.0013 - precision: 0.7406 - recall: 0.9931 - val_accuracy: 0.9993 - val_loss: 0.0056 - val_precision: 0.7500 - val_recall: 0.8571\n",
      "Epoch 14/50\n",
      "\u001B[1m143/143\u001B[0m \u001B[32m━━━━━━━━━━━━━━━━━━━━\u001B[0m\u001B[37m\u001B[0m \u001B[1m5s\u001B[0m 32ms/step - accuracy: 0.9998 - loss: 0.0013 - precision: 0.8699 - recall: 0.9931 - val_accuracy: 0.9993 - val_loss: 0.0055 - val_precision: 0.7500 - val_recall: 0.8571\n",
      "Epoch 15/50\n",
      "\u001B[1m143/143\u001B[0m \u001B[32m━━━━━━━━━━━━━━━━━━━━\u001B[0m\u001B[37m\u001B[0m \u001B[1m6s\u001B[0m 41ms/step - accuracy: 0.9997 - loss: 9.0595e-04 - precision: 0.7959 - recall: 0.9931 - val_accuracy: 0.9993 - val_loss: 0.0054 - val_precision: 0.7500 - val_recall: 0.8571\n",
      "Epoch 16/50\n",
      "\u001B[1m143/143\u001B[0m \u001B[32m━━━━━━━━━━━━━━━━━━━━\u001B[0m\u001B[37m\u001B[0m \u001B[1m9s\u001B[0m 30ms/step - accuracy: 0.9996 - loss: 0.0012 - precision: 0.6200 - recall: 0.8611 - val_accuracy: 0.9993 - val_loss: 0.0054 - val_precision: 0.7500 - val_recall: 0.8571\n",
      "Epoch 17/50\n",
      "\u001B[1m143/143\u001B[0m \u001B[32m━━━━━━━━━━━━━━━━━━━━\u001B[0m\u001B[37m\u001B[0m \u001B[1m6s\u001B[0m 43ms/step - accuracy: 0.9998 - loss: 9.1490e-04 - precision: 0.8689 - recall: 0.9861 - val_accuracy: 0.9993 - val_loss: 0.0052 - val_precision: 0.7500 - val_recall: 0.8571\n",
      "Epoch 18/50\n",
      "\u001B[1m143/143\u001B[0m \u001B[32m━━━━━━━━━━━━━━━━━━━━\u001B[0m\u001B[37m\u001B[0m \u001B[1m5s\u001B[0m 32ms/step - accuracy: 0.9999 - loss: 8.2284e-04 - precision: 0.9539 - recall: 1.0000 - val_accuracy: 0.9993 - val_loss: 0.0053 - val_precision: 0.7500 - val_recall: 0.8571\n",
      "Epoch 19/50\n",
      "\u001B[1m143/143\u001B[0m \u001B[32m━━━━━━━━━━━━━━━━━━━━\u001B[0m\u001B[37m\u001B[0m \u001B[1m4s\u001B[0m 31ms/step - accuracy: 0.9998 - loss: 9.0426e-04 - precision: 0.8608 - recall: 0.9792 - val_accuracy: 0.9993 - val_loss: 0.0053 - val_precision: 0.7500 - val_recall: 0.8571\n",
      "Epoch 20/50\n",
      "\u001B[1m143/143\u001B[0m \u001B[32m━━━━━━━━━━━━━━━━━━━━\u001B[0m\u001B[37m\u001B[0m \u001B[1m6s\u001B[0m 35ms/step - accuracy: 1.0000 - loss: 2.6587e-04 - precision: 0.9802 - recall: 0.9931 - val_accuracy: 0.9993 - val_loss: 0.0052 - val_precision: 0.7500 - val_recall: 0.8571\n",
      "Epoch 21/50\n",
      "\u001B[1m143/143\u001B[0m \u001B[32m━━━━━━━━━━━━━━━━━━━━\u001B[0m\u001B[37m\u001B[0m \u001B[1m5s\u001B[0m 32ms/step - accuracy: 0.9999 - loss: 3.6981e-04 - precision: 0.9337 - recall: 0.9931 - val_accuracy: 0.9993 - val_loss: 0.0050 - val_precision: 0.7500 - val_recall: 0.8571\n",
      "Epoch 22/50\n",
      "\u001B[1m143/143\u001B[0m \u001B[32m━━━━━━━━━━━━━━━━━━━━\u001B[0m\u001B[37m\u001B[0m \u001B[1m6s\u001B[0m 43ms/step - accuracy: 1.0000 - loss: 2.3507e-04 - precision: 0.9043 - recall: 0.9375 - val_accuracy: 0.9993 - val_loss: 0.0052 - val_precision: 0.7500 - val_recall: 0.8571\n",
      "Epoch 23/50\n",
      "\u001B[1m143/143\u001B[0m \u001B[32m━━━━━━━━━━━━━━━━━━━━\u001B[0m\u001B[37m\u001B[0m \u001B[1m4s\u001B[0m 30ms/step - accuracy: 1.0000 - loss: 1.6176e-04 - precision: 0.9134 - recall: 0.9444 - val_accuracy: 0.9993 - val_loss: 0.0051 - val_precision: 0.7500 - val_recall: 0.8571\n",
      "Epoch 24/50\n",
      "\u001B[1m143/143\u001B[0m \u001B[32m━━━━━━━━━━━━━━━━━━━━\u001B[0m\u001B[37m\u001B[0m \u001B[1m4s\u001B[0m 30ms/step - accuracy: 1.0000 - loss: 2.1127e-04 - precision: 0.9516 - recall: 0.9722 - val_accuracy: 0.9993 - val_loss: 0.0052 - val_precision: 0.7500 - val_recall: 0.8571\n",
      "Epoch 25/50\n",
      "\u001B[1m143/143\u001B[0m \u001B[32m━━━━━━━━━━━━━━━━━━━━\u001B[0m\u001B[37m\u001B[0m \u001B[1m6s\u001B[0m 42ms/step - accuracy: 1.0000 - loss: 1.3002e-04 - precision: 0.9653 - recall: 0.9653 - val_accuracy: 0.9993 - val_loss: 0.0052 - val_precision: 0.7500 - val_recall: 0.8571\n",
      "Epoch 26/50\n",
      "\u001B[1m143/143\u001B[0m \u001B[32m━━━━━━━━━━━━━━━━━━━━\u001B[0m\u001B[37m\u001B[0m \u001B[1m9s\u001B[0m 32ms/step - accuracy: 1.0000 - loss: 9.9426e-05 - precision: 0.9792 - recall: 0.9792 - val_accuracy: 0.9993 - val_loss: 0.0051 - val_precision: 0.7500 - val_recall: 0.8571\n"
     ]
    },
    {
     "metadata": {
      "tags": null
     },
     "name": "stderr",
     "output_type": "stream",
     "text": [
      "WARNING:absl:You are saving your model as an HDF5 file via `model.save()` or `keras.saving.save_model(model)`. This file format is considered legacy. We recommend using instead the native Keras format, e.g. `model.save('my_model.keras')` or `keras.saving.save_model(model, 'my_model.keras')`. \n"
     ]
    },
    {
     "metadata": {
      "tags": null
     },
     "name": "stdout",
     "output_type": "stream",
     "text": [
      "Model saved as model_original_batch128.h5\n",
      "\n",
      "Training recurrent neural network with dataset: original, batch size: 256\n",
      "Epoch 1/50\n",
      "\u001B[1m72/72\u001B[0m \u001B[32m━━━━━━━━━━━━━━━━━━━━\u001B[0m\u001B[37m\u001B[0m \u001B[1m9s\u001B[0m 59ms/step - accuracy: 0.6730 - loss: 0.6443 - precision: 0.0035 - recall: 0.6406 - val_accuracy: 0.9466 - val_loss: 0.5234 - val_precision: 0.0203 - val_recall: 0.7143\n",
      "Epoch 2/50\n",
      "\u001B[1m72/72\u001B[0m \u001B[32m━━━━━━━━━━━━━━━━━━━━\u001B[0m\u001B[37m\u001B[0m \u001B[1m6s\u001B[0m 70ms/step - accuracy: 0.9587 - loss: 0.4403 - precision: 0.0241 - recall: 0.6907 - val_accuracy: 0.9688 - val_loss: 0.2432 - val_precision: 0.0408 - val_recall: 0.8571\n",
      "Epoch 3/50\n",
      "\u001B[1m72/72\u001B[0m \u001B[32m━━━━━━━━━━━━━━━━━━━━\u001B[0m\u001B[37m\u001B[0m \u001B[1m3s\u001B[0m 47ms/step - accuracy: 0.9787 - loss: 0.2157 - precision: 0.0671 - recall: 0.9567 - val_accuracy: 0.9772 - val_loss: 0.1378 - val_precision: 0.0550 - val_recall: 0.8571\n",
      "Epoch 4/50\n",
      "\u001B[1m72/72\u001B[0m \u001B[32m━━━━━━━━━━━━━━━━━━━━\u001B[0m\u001B[37m\u001B[0m \u001B[1m3s\u001B[0m 48ms/step - accuracy: 0.9836 - loss: 0.0806 - precision: 0.0842 - recall: 0.9452 - val_accuracy: 0.9943 - val_loss: 0.0326 - val_precision: 0.1935 - val_recall: 0.8571\n",
      "Epoch 5/50\n",
      "\u001B[1m72/72\u001B[0m \u001B[32m━━━━━━━━━━━━━━━━━━━━\u001B[0m\u001B[37m\u001B[0m \u001B[1m5s\u001B[0m 68ms/step - accuracy: 0.9926 - loss: 0.0380 - precision: 0.1569 - recall: 0.9452 - val_accuracy: 0.9910 - val_loss: 0.0314 - val_precision: 0.1304 - val_recall: 0.8571\n",
      "Epoch 6/50\n",
      "\u001B[1m72/72\u001B[0m \u001B[32m━━━━━━━━━━━━━━━━━━━━\u001B[0m\u001B[37m\u001B[0m \u001B[1m4s\u001B[0m 49ms/step - accuracy: 0.9933 - loss: 0.0137 - precision: 0.1394 - recall: 0.9589 - val_accuracy: 0.9971 - val_loss: 0.0095 - val_precision: 0.3333 - val_recall: 0.8571\n",
      "Epoch 7/50\n",
      "\u001B[1m72/72\u001B[0m \u001B[32m━━━━━━━━━━━━━━━━━━━━\u001B[0m\u001B[37m\u001B[0m \u001B[1m5s\u001B[0m 48ms/step - accuracy: 0.9982 - loss: 0.0080 - precision: 0.4383 - recall: 1.0000 - val_accuracy: 0.9982 - val_loss: 0.0083 - val_precision: 0.4615 - val_recall: 0.8571\n",
      "Epoch 8/50\n",
      "\u001B[1m72/72\u001B[0m \u001B[32m━━━━━━━━━━━━━━━━━━━━\u001B[0m\u001B[37m\u001B[0m \u001B[1m5s\u001B[0m 69ms/step - accuracy: 0.9994 - loss: 0.0048 - precision: 0.7284 - recall: 0.9863 - val_accuracy: 0.9989 - val_loss: 0.0066 - val_precision: 0.6000 - val_recall: 0.8571\n",
      "Epoch 9/50\n",
      "\u001B[1m72/72\u001B[0m \u001B[32m━━━━━━━━━━━━━━━━━━━━\u001B[0m\u001B[37m\u001B[0m \u001B[1m3s\u001B[0m 47ms/step - accuracy: 0.9996 - loss: 0.0040 - precision: 0.7811 - recall: 1.0000 - val_accuracy: 0.9974 - val_loss: 0.0086 - val_precision: 0.3529 - val_recall: 0.8571\n",
      "Epoch 10/50\n",
      "\u001B[1m72/72\u001B[0m \u001B[32m━━━━━━━━━━━━━━━━━━━━\u001B[0m\u001B[37m\u001B[0m \u001B[1m3s\u001B[0m 48ms/step - accuracy: 0.9989 - loss: 0.0030 - precision: 0.6167 - recall: 1.0000 - val_accuracy: 0.9993 - val_loss: 0.0059 - val_precision: 0.7500 - val_recall: 0.8571\n",
      "Epoch 11/50\n",
      "\u001B[1m72/72\u001B[0m \u001B[32m━━━━━━━━━━━━━━━━━━━━\u001B[0m\u001B[37m\u001B[0m \u001B[1m4s\u001B[0m 51ms/step - accuracy: 0.9998 - loss: 0.0016 - precision: 0.8797 - recall: 0.9863 - val_accuracy: 0.9993 - val_loss: 0.0055 - val_precision: 0.7500 - val_recall: 0.8571\n",
      "Epoch 12/50\n",
      "\u001B[1m72/72\u001B[0m \u001B[32m━━━━━━━━━━━━━━━━━━━━\u001B[0m\u001B[37m\u001B[0m \u001B[1m5s\u001B[0m 47ms/step - accuracy: 0.9995 - loss: 0.0021 - precision: 0.7364 - recall: 0.9863 - val_accuracy: 0.9993 - val_loss: 0.0056 - val_precision: 0.7500 - val_recall: 0.8571\n",
      "Epoch 13/50\n",
      "\u001B[1m72/72\u001B[0m \u001B[32m━━━━━━━━━━━━━━━━━━━━\u001B[0m\u001B[37m\u001B[0m \u001B[1m3s\u001B[0m 47ms/step - accuracy: 0.9996 - loss: 0.0021 - precision: 0.7057 - recall: 0.8493 - val_accuracy: 0.9993 - val_loss: 0.0053 - val_precision: 0.7500 - val_recall: 0.8571\n",
      "Epoch 14/50\n",
      "\u001B[1m72/72\u001B[0m \u001B[32m━━━━━━━━━━━━━━━━━━━━\u001B[0m\u001B[37m\u001B[0m \u001B[1m4s\u001B[0m 53ms/step - accuracy: 0.9998 - loss: 0.0017 - precision: 0.8532 - recall: 1.0000 - val_accuracy: 0.9993 - val_loss: 0.0055 - val_precision: 0.7500 - val_recall: 0.8571\n",
      "Epoch 15/50\n",
      "\u001B[1m72/72\u001B[0m \u001B[32m━━━━━━━━━━━━━━━━━━━━\u001B[0m\u001B[37m\u001B[0m \u001B[1m5s\u001B[0m 49ms/step - accuracy: 0.9998 - loss: 0.0011 - precision: 0.8621 - recall: 1.0000 - val_accuracy: 0.9993 - val_loss: 0.0056 - val_precision: 0.7500 - val_recall: 0.8571\n",
      "Epoch 16/50\n",
      "\u001B[1m72/72\u001B[0m \u001B[32m━━━━━━━━━━━━━━━━━━━━\u001B[0m\u001B[37m\u001B[0m \u001B[1m3s\u001B[0m 47ms/step - accuracy: 0.9998 - loss: 0.0019 - precision: 0.8849 - recall: 1.0000 - val_accuracy: 0.9993 - val_loss: 0.0061 - val_precision: 0.7500 - val_recall: 0.8571\n",
      "Epoch 17/50\n",
      "\u001B[1m72/72\u001B[0m \u001B[32m━━━━━━━━━━━━━━━━━━━━\u001B[0m\u001B[37m\u001B[0m \u001B[1m7s\u001B[0m 69ms/step - accuracy: 0.9997 - loss: 0.0015 - precision: 0.6924 - recall: 0.9041 - val_accuracy: 0.9993 - val_loss: 0.0058 - val_precision: 0.7500 - val_recall: 0.8571\n",
      "Epoch 18/50\n",
      "\u001B[1m72/72\u001B[0m \u001B[32m━━━━━━━━━━━━━━━━━━━━\u001B[0m\u001B[37m\u001B[0m \u001B[1m4s\u001B[0m 48ms/step - accuracy: 0.9998 - loss: 9.9309e-04 - precision: 0.8064 - recall: 0.9315 - val_accuracy: 0.9993 - val_loss: 0.0058 - val_precision: 0.7500 - val_recall: 0.8571\n"
     ]
    },
    {
     "metadata": {
      "tags": null
     },
     "name": "stderr",
     "output_type": "stream",
     "text": [
      "WARNING:absl:You are saving your model as an HDF5 file via `model.save()` or `keras.saving.save_model(model)`. This file format is considered legacy. We recommend using instead the native Keras format, e.g. `model.save('my_model.keras')` or `keras.saving.save_model(model, 'my_model.keras')`. \n"
     ]
    },
    {
     "metadata": {
      "tags": null
     },
     "name": "stdout",
     "output_type": "stream",
     "text": [
      "Model saved as model_original_batch256.h5\n",
      "\n",
      "Training recurrent neural network with dataset: smote, batch size: 32\n",
      "Epoch 1/50\n",
      "\u001B[1m1136/1136\u001B[0m \u001B[32m━━━━━━━━━━━━━━━━━━━━\u001B[0m\u001B[37m\u001B[0m \u001B[1m23s\u001B[0m 16ms/step - accuracy: 0.9858 - loss: 0.0707 - precision: 0.9760 - recall: 0.9893 - val_accuracy: 1.0000 - val_loss: 3.1935e-05 - val_precision: 1.0000 - val_recall: 1.0000\n",
      "Epoch 2/50\n",
      "\u001B[1m1136/1136\u001B[0m \u001B[32m━━━━━━━━━━━━━━━━━━━━\u001B[0m\u001B[37m\u001B[0m \u001B[1m17s\u001B[0m 15ms/step - accuracy: 0.9991 - loss: 0.0028 - precision: 1.0000 - recall: 0.9975 - val_accuracy: 1.0000 - val_loss: 7.9421e-06 - val_precision: 1.0000 - val_recall: 1.0000\n",
      "Epoch 3/50\n",
      "\u001B[1m1136/1136\u001B[0m \u001B[32m━━━━━━━━━━━━━━━━━━━━\u001B[0m\u001B[37m\u001B[0m \u001B[1m17s\u001B[0m 15ms/step - accuracy: 0.9995 - loss: 0.0015 - precision: 1.0000 - recall: 0.9987 - val_accuracy: 1.0000 - val_loss: 1.6049e-06 - val_precision: 1.0000 - val_recall: 1.0000\n",
      "Epoch 4/50\n",
      "\u001B[1m1136/1136\u001B[0m \u001B[32m━━━━━━━━━━━━━━━━━━━━\u001B[0m\u001B[37m\u001B[0m \u001B[1m19s\u001B[0m 14ms/step - accuracy: 0.9997 - loss: 0.0012 - precision: 0.9997 - recall: 0.9995 - val_accuracy: 1.0000 - val_loss: 1.6408e-06 - val_precision: 1.0000 - val_recall: 1.0000\n",
      "Epoch 5/50\n",
      "\u001B[1m1136/1136\u001B[0m \u001B[32m━━━━━━━━━━━━━━━━━━━━\u001B[0m\u001B[37m\u001B[0m \u001B[1m22s\u001B[0m 15ms/step - accuracy: 0.9993 - loss: 0.0026 - precision: 0.9989 - recall: 0.9993 - val_accuracy: 1.0000 - val_loss: 5.5840e-06 - val_precision: 1.0000 - val_recall: 1.0000\n",
      "Epoch 6/50\n",
      "\u001B[1m1136/1136\u001B[0m \u001B[32m━━━━━━━━━━━━━━━━━━━━\u001B[0m\u001B[37m\u001B[0m \u001B[1m18s\u001B[0m 16ms/step - accuracy: 0.9998 - loss: 6.3997e-04 - precision: 0.9998 - recall: 0.9997 - val_accuracy: 1.0000 - val_loss: 1.7249e-06 - val_precision: 1.0000 - val_recall: 1.0000\n",
      "Epoch 7/50\n",
      "\u001B[1m1136/1136\u001B[0m \u001B[32m━━━━━━━━━━━━━━━━━━━━\u001B[0m\u001B[37m\u001B[0m \u001B[1m18s\u001B[0m 16ms/step - accuracy: 0.9999 - loss: 3.1410e-04 - precision: 0.9997 - recall: 1.0000 - val_accuracy: 1.0000 - val_loss: 1.8886e-06 - val_precision: 1.0000 - val_recall: 1.0000\n",
      "Epoch 8/50\n",
      "\u001B[1m1136/1136\u001B[0m \u001B[32m━━━━━━━━━━━━━━━━━━━━\u001B[0m\u001B[37m\u001B[0m \u001B[1m20s\u001B[0m 15ms/step - accuracy: 1.0000 - loss: 2.3375e-04 - precision: 0.9999 - recall: 1.0000 - val_accuracy: 1.0000 - val_loss: 4.2481e-07 - val_precision: 1.0000 - val_recall: 1.0000\n",
      "Epoch 9/50\n",
      "\u001B[1m1136/1136\u001B[0m \u001B[32m━━━━━━━━━━━━━━━━━━━━\u001B[0m\u001B[37m\u001B[0m \u001B[1m19s\u001B[0m 14ms/step - accuracy: 0.9997 - loss: 6.8936e-04 - precision: 0.9995 - recall: 0.9997 - val_accuracy: 1.0000 - val_loss: 4.3514e-05 - val_precision: 1.0000 - val_recall: 1.0000\n",
      "Epoch 10/50\n",
      "\u001B[1m1136/1136\u001B[0m \u001B[32m━━━━━━━━━━━━━━━━━━━━\u001B[0m\u001B[37m\u001B[0m \u001B[1m22s\u001B[0m 15ms/step - accuracy: 0.9999 - loss: 3.0609e-04 - precision: 0.9997 - recall: 1.0000 - val_accuracy: 1.0000 - val_loss: 2.2956e-06 - val_precision: 1.0000 - val_recall: 1.0000\n",
      "Epoch 11/50\n",
      "\u001B[1m1136/1136\u001B[0m \u001B[32m━━━━━━━━━━━━━━━━━━━━\u001B[0m\u001B[37m\u001B[0m \u001B[1m16s\u001B[0m 14ms/step - accuracy: 1.0000 - loss: 1.2819e-04 - precision: 0.9999 - recall: 1.0000 - val_accuracy: 0.9998 - val_loss: 0.0010 - val_precision: 1.0000 - val_recall: 0.9998\n",
      "Epoch 12/50\n",
      "\u001B[1m1136/1136\u001B[0m \u001B[32m━━━━━━━━━━━━━━━━━━━━\u001B[0m\u001B[37m\u001B[0m \u001B[1m22s\u001B[0m 16ms/step - accuracy: 0.9999 - loss: 2.7013e-04 - precision: 0.9999 - recall: 0.9999 - val_accuracy: 1.0000 - val_loss: 4.0092e-07 - val_precision: 1.0000 - val_recall: 1.0000\n",
      "Epoch 13/50\n",
      "\u001B[1m1136/1136\u001B[0m \u001B[32m━━━━━━━━━━━━━━━━━━━━\u001B[0m\u001B[37m\u001B[0m \u001B[1m17s\u001B[0m 15ms/step - accuracy: 1.0000 - loss: 8.5035e-05 - precision: 0.9999 - recall: 1.0000 - val_accuracy: 1.0000 - val_loss: 2.5593e-07 - val_precision: 1.0000 - val_recall: 1.0000\n",
      "Epoch 14/50\n",
      "\u001B[1m1136/1136\u001B[0m \u001B[32m━━━━━━━━━━━━━━━━━━━━\u001B[0m\u001B[37m\u001B[0m \u001B[1m18s\u001B[0m 16ms/step - accuracy: 1.0000 - loss: 3.4784e-05 - precision: 1.0000 - recall: 1.0000 - val_accuracy: 1.0000 - val_loss: 2.0065e-07 - val_precision: 1.0000 - val_recall: 1.0000\n",
      "Epoch 15/50\n",
      "\u001B[1m1136/1136\u001B[0m \u001B[32m━━━━━━━━━━━━━━━━━━━━\u001B[0m\u001B[37m\u001B[0m \u001B[1m19s\u001B[0m 14ms/step - accuracy: 1.0000 - loss: 1.4834e-05 - precision: 1.0000 - recall: 1.0000 - val_accuracy: 1.0000 - val_loss: 9.4678e-08 - val_precision: 1.0000 - val_recall: 1.0000\n",
      "Epoch 16/50\n",
      "\u001B[1m1136/1136\u001B[0m \u001B[32m━━━━━━━━━━━━━━━━━━━━\u001B[0m\u001B[37m\u001B[0m \u001B[1m16s\u001B[0m 14ms/step - accuracy: 1.0000 - loss: 1.4276e-06 - precision: 1.0000 - recall: 1.0000 - val_accuracy: 1.0000 - val_loss: 3.2959e-08 - val_precision: 1.0000 - val_recall: 1.0000\n",
      "Epoch 17/50\n",
      "\u001B[1m1136/1136\u001B[0m \u001B[32m━━━━━━━━━━━━━━━━━━━━\u001B[0m\u001B[37m\u001B[0m \u001B[1m18s\u001B[0m 16ms/step - accuracy: 1.0000 - loss: 1.0916e-06 - precision: 1.0000 - recall: 1.0000 - val_accuracy: 1.0000 - val_loss: 3.0041e-07 - val_precision: 1.0000 - val_recall: 1.0000\n",
      "Epoch 18/50\n",
      "\u001B[1m1136/1136\u001B[0m \u001B[32m━━━━━━━━━━━━━━━━━━━━\u001B[0m\u001B[37m\u001B[0m \u001B[1m20s\u001B[0m 15ms/step - accuracy: 1.0000 - loss: 2.8422e-06 - precision: 1.0000 - recall: 1.0000 - val_accuracy: 1.0000 - val_loss: 6.5420e-07 - val_precision: 1.0000 - val_recall: 1.0000\n",
      "Epoch 19/50\n",
      "\u001B[1m1136/1136\u001B[0m \u001B[32m━━━━━━━━━━━━━━━━━━━━\u001B[0m\u001B[37m\u001B[0m \u001B[1m19s\u001B[0m 14ms/step - accuracy: 1.0000 - loss: 7.6940e-05 - precision: 1.0000 - recall: 0.9999 - val_accuracy: 0.9999 - val_loss: 9.6435e-04 - val_precision: 1.0000 - val_recall: 0.9999\n",
      "Epoch 20/50\n",
      "\u001B[1m1136/1136\u001B[0m \u001B[32m━━━━━━━━━━━━━━━━━━━━\u001B[0m\u001B[37m\u001B[0m \u001B[1m20s\u001B[0m 14ms/step - accuracy: 0.9998 - loss: 8.2590e-04 - precision: 0.9995 - recall: 0.9999 - val_accuracy: 1.0000 - val_loss: 5.0027e-09 - val_precision: 1.0000 - val_recall: 1.0000\n",
      "Epoch 21/50\n",
      "\u001B[1m1136/1136\u001B[0m \u001B[32m━━━━━━━━━━━━━━━━━━━━\u001B[0m\u001B[37m\u001B[0m \u001B[1m18s\u001B[0m 16ms/step - accuracy: 0.9999 - loss: 6.2374e-04 - precision: 0.9999 - recall: 0.9999 - val_accuracy: 1.0000 - val_loss: 5.7888e-08 - val_precision: 1.0000 - val_recall: 1.0000\n",
      "Epoch 22/50\n",
      "\u001B[1m1136/1136\u001B[0m \u001B[32m━━━━━━━━━━━━━━━━━━━━\u001B[0m\u001B[37m\u001B[0m \u001B[1m20s\u001B[0m 15ms/step - accuracy: 1.0000 - loss: 2.0320e-06 - precision: 1.0000 - recall: 1.0000 - val_accuracy: 1.0000 - val_loss: 4.8934e-08 - val_precision: 1.0000 - val_recall: 1.0000\n",
      "Epoch 23/50\n",
      "\u001B[1m1136/1136\u001B[0m \u001B[32m━━━━━━━━━━━━━━━━━━━━\u001B[0m\u001B[37m\u001B[0m \u001B[1m19s\u001B[0m 14ms/step - accuracy: 1.0000 - loss: 5.3655e-06 - precision: 1.0000 - recall: 1.0000 - val_accuracy: 1.0000 - val_loss: 4.8191e-08 - val_precision: 1.0000 - val_recall: 1.0000\n",
      "Epoch 24/50\n",
      "\u001B[1m1136/1136\u001B[0m \u001B[32m━━━━━━━━━━━━━━━━━━━━\u001B[0m\u001B[37m\u001B[0m \u001B[1m16s\u001B[0m 14ms/step - accuracy: 1.0000 - loss: 3.4524e-06 - precision: 1.0000 - recall: 1.0000 - val_accuracy: 1.0000 - val_loss: 3.2168e-08 - val_precision: 1.0000 - val_recall: 1.0000\n",
      "Epoch 25/50\n",
      "\u001B[1m1136/1136\u001B[0m \u001B[32m━━━━━━━━━━━━━━━━━━━━\u001B[0m\u001B[37m\u001B[0m \u001B[1m22s\u001B[0m 16ms/step - accuracy: 1.0000 - loss: 4.8097e-07 - precision: 1.0000 - recall: 1.0000 - val_accuracy: 1.0000 - val_loss: 2.4749e-08 - val_precision: 1.0000 - val_recall: 1.0000\n"
     ]
    },
    {
     "metadata": {
      "tags": null
     },
     "name": "stderr",
     "output_type": "stream",
     "text": [
      "WARNING:absl:You are saving your model as an HDF5 file via `model.save()` or `keras.saving.save_model(model)`. This file format is considered legacy. We recommend using instead the native Keras format, e.g. `model.save('my_model.keras')` or `keras.saving.save_model(model, 'my_model.keras')`. \n"
     ]
    },
    {
     "metadata": {
      "tags": null
     },
     "name": "stdout",
     "output_type": "stream",
     "text": [
      "Model saved as model_smote_batch32.h5\n",
      "\n",
      "Training recurrent neural network with dataset: smote, batch size: 64\n",
      "Epoch 1/50\n",
      "\u001B[1m568/568\u001B[0m \u001B[32m━━━━━━━━━━━━━━━━━━━━\u001B[0m\u001B[37m\u001B[0m \u001B[1m15s\u001B[0m 20ms/step - accuracy: 0.9622 - loss: 0.1108 - precision: 0.9260 - recall: 0.9976 - val_accuracy: 1.0000 - val_loss: 7.6081e-05 - val_precision: 1.0000 - val_recall: 1.0000\n",
      "Epoch 2/50\n",
      "\u001B[1m568/568\u001B[0m \u001B[32m━━━━━━━━━━━━━━━━━━━━\u001B[0m\u001B[37m\u001B[0m \u001B[1m20s\u001B[0m 19ms/step - accuracy: 0.9991 - loss: 0.0039 - precision: 0.9999 - recall: 0.9976 - val_accuracy: 0.9998 - val_loss: 9.4486e-04 - val_precision: 1.0000 - val_recall: 0.9998\n",
      "Epoch 3/50\n",
      "\u001B[1m568/568\u001B[0m \u001B[32m━━━━━━━━━━━━━━━━━━━━\u001B[0m\u001B[37m\u001B[0m \u001B[1m9s\u001B[0m 17ms/step - accuracy: 0.9997 - loss: 0.0018 - precision: 0.9999 - recall: 0.9993 - val_accuracy: 1.0000 - val_loss: 5.7058e-06 - val_precision: 1.0000 - val_recall: 1.0000\n",
      "Epoch 4/50\n",
      "\u001B[1m568/568\u001B[0m \u001B[32m━━━━━━━━━━━━━━━━━━━━\u001B[0m\u001B[37m\u001B[0m \u001B[1m11s\u001B[0m 17ms/step - accuracy: 0.9997 - loss: 0.0011 - precision: 0.9997 - recall: 0.9994 - val_accuracy: 1.0000 - val_loss: 5.6265e-06 - val_precision: 1.0000 - val_recall: 1.0000\n",
      "Epoch 5/50\n",
      "\u001B[1m568/568\u001B[0m \u001B[32m━━━━━━━━━━━━━━━━━━━━\u001B[0m\u001B[37m\u001B[0m \u001B[1m11s\u001B[0m 19ms/step - accuracy: 0.9998 - loss: 9.3369e-04 - precision: 0.9998 - recall: 0.9996 - val_accuracy: 1.0000 - val_loss: 2.0345e-05 - val_precision: 1.0000 - val_recall: 1.0000\n",
      "Epoch 6/50\n",
      "\u001B[1m568/568\u001B[0m \u001B[32m━━━━━━━━━━━━━━━━━━━━\u001B[0m\u001B[37m\u001B[0m \u001B[1m20s\u001B[0m 19ms/step - accuracy: 0.9999 - loss: 7.4699e-04 - precision: 0.9999 - recall: 0.9997 - val_accuracy: 1.0000 - val_loss: 1.2882e-06 - val_precision: 1.0000 - val_recall: 1.0000\n",
      "Epoch 7/50\n",
      "\u001B[1m568/568\u001B[0m \u001B[32m━━━━━━━━━━━━━━━━━━━━\u001B[0m\u001B[37m\u001B[0m \u001B[1m19s\u001B[0m 16ms/step - accuracy: 0.9997 - loss: 0.0013 - precision: 0.9996 - recall: 0.9996 - val_accuracy: 1.0000 - val_loss: 1.1942e-06 - val_precision: 1.0000 - val_recall: 1.0000\n",
      "Epoch 8/50\n",
      "\u001B[1m568/568\u001B[0m \u001B[32m━━━━━━━━━━━━━━━━━━━━\u001B[0m\u001B[37m\u001B[0m \u001B[1m11s\u001B[0m 19ms/step - accuracy: 0.9997 - loss: 7.2445e-04 - precision: 0.9996 - recall: 0.9995 - val_accuracy: 1.0000 - val_loss: 3.5037e-07 - val_precision: 1.0000 - val_recall: 1.0000\n",
      "Epoch 9/50\n",
      "\u001B[1m568/568\u001B[0m \u001B[32m━━━━━━━━━━━━━━━━━━━━\u001B[0m\u001B[37m\u001B[0m \u001B[1m20s\u001B[0m 19ms/step - accuracy: 0.9999 - loss: 1.9981e-04 - precision: 0.9998 - recall: 0.9999 - val_accuracy: 1.0000 - val_loss: 2.3771e-07 - val_precision: 1.0000 - val_recall: 1.0000\n",
      "Epoch 10/50\n",
      "\u001B[1m568/568\u001B[0m \u001B[32m━━━━━━━━━━━━━━━━━━━━\u001B[0m\u001B[37m\u001B[0m \u001B[1m10s\u001B[0m 18ms/step - accuracy: 0.9998 - loss: 4.3495e-04 - precision: 0.9998 - recall: 0.9997 - val_accuracy: 1.0000 - val_loss: 1.3707e-06 - val_precision: 1.0000 - val_recall: 1.0000\n",
      "Epoch 11/50\n",
      "\u001B[1m568/568\u001B[0m \u001B[32m━━━━━━━━━━━━━━━━━━━━\u001B[0m\u001B[37m\u001B[0m \u001B[1m9s\u001B[0m 17ms/step - accuracy: 0.9999 - loss: 1.5758e-04 - precision: 1.0000 - recall: 0.9999 - val_accuracy: 1.0000 - val_loss: 2.4430e-06 - val_precision: 1.0000 - val_recall: 1.0000\n",
      "Epoch 12/50\n",
      "\u001B[1m568/568\u001B[0m \u001B[32m━━━━━━━━━━━━━━━━━━━━\u001B[0m\u001B[37m\u001B[0m \u001B[1m10s\u001B[0m 16ms/step - accuracy: 0.9999 - loss: 2.9156e-04 - precision: 0.9999 - recall: 0.9999 - val_accuracy: 0.9999 - val_loss: 1.9486e-04 - val_precision: 1.0000 - val_recall: 0.9999\n",
      "Epoch 13/50\n",
      "\u001B[1m568/568\u001B[0m \u001B[32m━━━━━━━━━━━━━━━━━━━━\u001B[0m\u001B[37m\u001B[0m \u001B[1m12s\u001B[0m 19ms/step - accuracy: 0.9999 - loss: 1.5334e-04 - precision: 0.9998 - recall: 1.0000 - val_accuracy: 1.0000 - val_loss: 4.6797e-07 - val_precision: 1.0000 - val_recall: 1.0000\n",
      "Epoch 14/50\n",
      "\u001B[1m568/568\u001B[0m \u001B[32m━━━━━━━━━━━━━━━━━━━━\u001B[0m\u001B[37m\u001B[0m \u001B[1m20s\u001B[0m 18ms/step - accuracy: 1.0000 - loss: 4.6761e-05 - precision: 1.0000 - recall: 1.0000 - val_accuracy: 0.9999 - val_loss: 6.8801e-04 - val_precision: 1.0000 - val_recall: 0.9999\n"
     ]
    },
    {
     "metadata": {
      "tags": null
     },
     "name": "stderr",
     "output_type": "stream",
     "text": [
      "WARNING:absl:You are saving your model as an HDF5 file via `model.save()` or `keras.saving.save_model(model)`. This file format is considered legacy. We recommend using instead the native Keras format, e.g. `model.save('my_model.keras')` or `keras.saving.save_model(model, 'my_model.keras')`. \n"
     ]
    },
    {
     "metadata": {
      "tags": null
     },
     "name": "stdout",
     "output_type": "stream",
     "text": [
      "Model saved as model_smote_batch64.h5\n",
      "\n",
      "Training recurrent neural network with dataset: smote, batch size: 128\n",
      "Epoch 1/50\n",
      "\u001B[1m284/284\u001B[0m \u001B[32m━━━━━━━━━━━━━━━━━━━━\u001B[0m\u001B[37m\u001B[0m \u001B[1m14s\u001B[0m 34ms/step - accuracy: 0.9828 - loss: 0.1439 - precision: 0.9672 - recall: 0.9908 - val_accuracy: 1.0000 - val_loss: 6.1427e-04 - val_precision: 1.0000 - val_recall: 1.0000\n",
      "Epoch 2/50\n",
      "\u001B[1m284/284\u001B[0m \u001B[32m━━━━━━━━━━━━━━━━━━━━\u001B[0m\u001B[37m\u001B[0m \u001B[1m9s\u001B[0m 29ms/step - accuracy: 0.9993 - loss: 0.0045 - precision: 1.0000 - recall: 0.9981 - val_accuracy: 0.9992 - val_loss: 0.0022 - val_precision: 1.0000 - val_recall: 0.9992\n",
      "Epoch 3/50\n",
      "\u001B[1m284/284\u001B[0m \u001B[32m━━━━━━━━━━━━━━━━━━━━\u001B[0m\u001B[37m\u001B[0m \u001B[1m10s\u001B[0m 26ms/step - accuracy: 0.9990 - loss: 0.0026 - precision: 1.0000 - recall: 0.9975 - val_accuracy: 1.0000 - val_loss: 5.1247e-05 - val_precision: 1.0000 - val_recall: 1.0000\n",
      "Epoch 4/50\n",
      "\u001B[1m284/284\u001B[0m \u001B[32m━━━━━━━━━━━━━━━━━━━━\u001B[0m\u001B[37m\u001B[0m \u001B[1m11s\u001B[0m 28ms/step - accuracy: 0.9995 - loss: 0.0021 - precision: 0.9995 - recall: 0.9991 - val_accuracy: 1.0000 - val_loss: 2.1473e-05 - val_precision: 1.0000 - val_recall: 1.0000\n",
      "Epoch 5/50\n",
      "\u001B[1m284/284\u001B[0m \u001B[32m━━━━━━━━━━━━━━━━━━━━\u001B[0m\u001B[37m\u001B[0m \u001B[1m12s\u001B[0m 33ms/step - accuracy: 0.9996 - loss: 0.0025 - precision: 0.9999 - recall: 0.9991 - val_accuracy: 1.0000 - val_loss: 1.2245e-05 - val_precision: 1.0000 - val_recall: 1.0000\n",
      "Epoch 6/50\n",
      "\u001B[1m284/284\u001B[0m \u001B[32m━━━━━━━━━━━━━━━━━━━━\u001B[0m\u001B[37m\u001B[0m \u001B[1m10s\u001B[0m 34ms/step - accuracy: 0.9998 - loss: 0.0010 - precision: 0.9998 - recall: 0.9997 - val_accuracy: 1.0000 - val_loss: 8.7235e-06 - val_precision: 1.0000 - val_recall: 1.0000\n",
      "Epoch 7/50\n",
      "\u001B[1m284/284\u001B[0m \u001B[32m━━━━━━━━━━━━━━━━━━━━\u001B[0m\u001B[37m\u001B[0m \u001B[1m9s\u001B[0m 30ms/step - accuracy: 0.9998 - loss: 6.8388e-04 - precision: 0.9998 - recall: 0.9996 - val_accuracy: 1.0000 - val_loss: 5.9800e-06 - val_precision: 1.0000 - val_recall: 1.0000\n",
      "Epoch 8/50\n",
      "\u001B[1m284/284\u001B[0m \u001B[32m━━━━━━━━━━━━━━━━━━━━\u001B[0m\u001B[37m\u001B[0m \u001B[1m9s\u001B[0m 26ms/step - accuracy: 0.9999 - loss: 6.2052e-04 - precision: 0.9998 - recall: 0.9999 - val_accuracy: 1.0000 - val_loss: 5.4197e-06 - val_precision: 1.0000 - val_recall: 1.0000\n",
      "Epoch 9/50\n",
      "\u001B[1m284/284\u001B[0m \u001B[32m━━━━━━━━━━━━━━━━━━━━\u001B[0m\u001B[37m\u001B[0m \u001B[1m10s\u001B[0m 34ms/step - accuracy: 0.9999 - loss: 3.5118e-04 - precision: 0.9999 - recall: 0.9999 - val_accuracy: 1.0000 - val_loss: 4.0349e-06 - val_precision: 1.0000 - val_recall: 1.0000\n",
      "Epoch 10/50\n",
      "\u001B[1m284/284\u001B[0m \u001B[32m━━━━━━━━━━━━━━━━━━━━\u001B[0m\u001B[37m\u001B[0m \u001B[1m10s\u001B[0m 33ms/step - accuracy: 1.0000 - loss: 2.3930e-04 - precision: 0.9999 - recall: 1.0000 - val_accuracy: 1.0000 - val_loss: 2.9457e-06 - val_precision: 1.0000 - val_recall: 1.0000\n",
      "Epoch 11/50\n",
      "\u001B[1m284/284\u001B[0m \u001B[32m━━━━━━━━━━━━━━━━━━━━\u001B[0m\u001B[37m\u001B[0m \u001B[1m9s\u001B[0m 29ms/step - accuracy: 1.0000 - loss: 2.0248e-04 - precision: 0.9999 - recall: 1.0000 - val_accuracy: 1.0000 - val_loss: 2.0452e-06 - val_precision: 1.0000 - val_recall: 1.0000\n",
      "Epoch 12/50\n",
      "\u001B[1m284/284\u001B[0m \u001B[32m━━━━━━━━━━━━━━━━━━━━\u001B[0m\u001B[37m\u001B[0m \u001B[1m10s\u001B[0m 29ms/step - accuracy: 0.9999 - loss: 2.9163e-04 - precision: 0.9997 - recall: 1.0000 - val_accuracy: 1.0000 - val_loss: 1.8734e-06 - val_precision: 1.0000 - val_recall: 1.0000\n",
      "Epoch 13/50\n",
      "\u001B[1m284/284\u001B[0m \u001B[32m━━━━━━━━━━━━━━━━━━━━\u001B[0m\u001B[37m\u001B[0m \u001B[1m10s\u001B[0m 27ms/step - accuracy: 1.0000 - loss: 1.7995e-04 - precision: 0.9999 - recall: 1.0000 - val_accuracy: 1.0000 - val_loss: 1.2329e-06 - val_precision: 1.0000 - val_recall: 1.0000\n",
      "Epoch 14/50\n",
      "\u001B[1m284/284\u001B[0m \u001B[32m━━━━━━━━━━━━━━━━━━━━\u001B[0m\u001B[37m\u001B[0m \u001B[1m10s\u001B[0m 34ms/step - accuracy: 1.0000 - loss: 1.0718e-04 - precision: 1.0000 - recall: 1.0000 - val_accuracy: 1.0000 - val_loss: 9.5369e-07 - val_precision: 1.0000 - val_recall: 1.0000\n",
      "Epoch 15/50\n",
      "\u001B[1m284/284\u001B[0m \u001B[32m━━━━━━━━━━━━━━━━━━━━\u001B[0m\u001B[37m\u001B[0m \u001B[1m9s\u001B[0m 31ms/step - accuracy: 0.9998 - loss: 5.3264e-04 - precision: 0.9996 - recall: 0.9999 - val_accuracy: 1.0000 - val_loss: 7.7413e-07 - val_precision: 1.0000 - val_recall: 1.0000\n",
      "Epoch 16/50\n",
      "\u001B[1m284/284\u001B[0m \u001B[32m━━━━━━━━━━━━━━━━━━━━\u001B[0m\u001B[37m\u001B[0m \u001B[1m9s\u001B[0m 28ms/step - accuracy: 0.9999 - loss: 2.5885e-04 - precision: 0.9998 - recall: 1.0000 - val_accuracy: 1.0000 - val_loss: 6.3052e-07 - val_precision: 1.0000 - val_recall: 1.0000\n",
      "Epoch 17/50\n",
      "\u001B[1m284/284\u001B[0m \u001B[32m━━━━━━━━━━━━━━━━━━━━\u001B[0m\u001B[37m\u001B[0m \u001B[1m10s\u001B[0m 29ms/step - accuracy: 0.9997 - loss: 4.4500e-04 - precision: 0.9996 - recall: 0.9998 - val_accuracy: 0.9999 - val_loss: 3.5057e-04 - val_precision: 1.0000 - val_recall: 0.9999\n",
      "Epoch 18/50\n",
      "\u001B[1m284/284\u001B[0m \u001B[32m━━━━━━━━━━━━━━━━━━━━\u001B[0m\u001B[37m\u001B[0m \u001B[1m9s\u001B[0m 33ms/step - accuracy: 0.9998 - loss: 3.0340e-04 - precision: 0.9998 - recall: 0.9996 - val_accuracy: 0.9999 - val_loss: 3.6894e-04 - val_precision: 1.0000 - val_recall: 0.9999\n",
      "Epoch 19/50\n",
      "\u001B[1m284/284\u001B[0m \u001B[32m━━━━━━━━━━━━━━━━━━━━\u001B[0m\u001B[37m\u001B[0m \u001B[1m10s\u001B[0m 33ms/step - accuracy: 1.0000 - loss: 5.0657e-05 - precision: 1.0000 - recall: 1.0000 - val_accuracy: 0.9999 - val_loss: 3.1023e-04 - val_precision: 1.0000 - val_recall: 0.9999\n",
      "Epoch 20/50\n",
      "\u001B[1m284/284\u001B[0m \u001B[32m━━━━━━━━━━━━━━━━━━━━\u001B[0m\u001B[37m\u001B[0m \u001B[1m7s\u001B[0m 26ms/step - accuracy: 1.0000 - loss: 1.3498e-04 - precision: 0.9999 - recall: 1.0000 - val_accuracy: 0.9999 - val_loss: 2.1597e-04 - val_precision: 1.0000 - val_recall: 0.9999\n",
      "Epoch 21/50\n",
      "\u001B[1m284/284\u001B[0m \u001B[32m━━━━━━━━━━━━━━━━━━━━\u001B[0m\u001B[37m\u001B[0m \u001B[1m11s\u001B[0m 28ms/step - accuracy: 0.9999 - loss: 2.5197e-04 - precision: 0.9998 - recall: 1.0000 - val_accuracy: 0.9999 - val_loss: 2.9202e-04 - val_precision: 1.0000 - val_recall: 0.9999\n"
     ]
    },
    {
     "metadata": {
      "tags": null
     },
     "name": "stderr",
     "output_type": "stream",
     "text": [
      "WARNING:absl:You are saving your model as an HDF5 file via `model.save()` or `keras.saving.save_model(model)`. This file format is considered legacy. We recommend using instead the native Keras format, e.g. `model.save('my_model.keras')` or `keras.saving.save_model(model, 'my_model.keras')`. \n"
     ]
    },
    {
     "metadata": {
      "tags": null
     },
     "name": "stdout",
     "output_type": "stream",
     "text": [
      "Model saved as model_smote_batch128.h5\n",
      "\n",
      "Training recurrent neural network with dataset: smote, batch size: 256\n",
      "Epoch 1/50\n",
      "\u001B[1m142/142\u001B[0m \u001B[32m━━━━━━━━━━━━━━━━━━━━\u001B[0m\u001B[37m\u001B[0m \u001B[1m12s\u001B[0m 50ms/step - accuracy: 0.9041 - loss: 0.2814 - precision: 0.8273 - recall: 0.9959 - val_accuracy: 1.0000 - val_loss: 5.8938e-04 - val_precision: 1.0000 - val_recall: 1.0000\n",
      "Epoch 2/50\n",
      "\u001B[1m142/142\u001B[0m \u001B[32m━━━━━━━━━━━━━━━━━━━━\u001B[0m\u001B[37m\u001B[0m \u001B[1m10s\u001B[0m 51ms/step - accuracy: 0.9993 - loss: 0.0063 - precision: 1.0000 - recall: 0.9981 - val_accuracy: 1.0000 - val_loss: 1.6264e-04 - val_precision: 1.0000 - val_recall: 1.0000\n",
      "Epoch 3/50\n",
      "\u001B[1m142/142\u001B[0m \u001B[32m━━━━━━━━━━━━━━━━━━━━\u001B[0m\u001B[37m\u001B[0m \u001B[1m11s\u001B[0m 55ms/step - accuracy: 0.9989 - loss: 0.0083 - precision: 1.0000 - recall: 0.9970 - val_accuracy: 1.0000 - val_loss: 9.2604e-05 - val_precision: 1.0000 - val_recall: 1.0000\n",
      "Epoch 4/50\n",
      "\u001B[1m142/142\u001B[0m \u001B[32m━━━━━━━━━━━━━━━━━━━━\u001B[0m\u001B[37m\u001B[0m \u001B[1m7s\u001B[0m 50ms/step - accuracy: 0.9992 - loss: 0.0056 - precision: 1.0000 - recall: 0.9979 - val_accuracy: 1.0000 - val_loss: 5.2266e-05 - val_precision: 1.0000 - val_recall: 1.0000\n",
      "Epoch 5/50\n",
      "\u001B[1m142/142\u001B[0m \u001B[32m━━━━━━━━━━━━━━━━━━━━\u001B[0m\u001B[37m\u001B[0m \u001B[1m9s\u001B[0m 45ms/step - accuracy: 0.9992 - loss: 0.0050 - precision: 1.0000 - recall: 0.9978 - val_accuracy: 1.0000 - val_loss: 3.7463e-05 - val_precision: 1.0000 - val_recall: 1.0000\n",
      "Epoch 6/50\n",
      "\u001B[1m142/142\u001B[0m \u001B[32m━━━━━━━━━━━━━━━━━━━━\u001B[0m\u001B[37m\u001B[0m \u001B[1m10s\u001B[0m 46ms/step - accuracy: 0.9989 - loss: 0.0050 - precision: 1.0000 - recall: 0.9970 - val_accuracy: 1.0000 - val_loss: 2.8037e-05 - val_precision: 1.0000 - val_recall: 1.0000\n",
      "Epoch 7/50\n",
      "\u001B[1m142/142\u001B[0m \u001B[32m━━━━━━━━━━━━━━━━━━━━\u001B[0m\u001B[37m\u001B[0m \u001B[1m11s\u001B[0m 49ms/step - accuracy: 0.9992 - loss: 0.0029 - precision: 1.0000 - recall: 0.9978 - val_accuracy: 1.0000 - val_loss: 1.7635e-05 - val_precision: 1.0000 - val_recall: 1.0000\n",
      "Epoch 8/50\n",
      "\u001B[1m142/142\u001B[0m \u001B[32m━━━━━━━━━━━━━━━━━━━━\u001B[0m\u001B[37m\u001B[0m \u001B[1m8s\u001B[0m 60ms/step - accuracy: 0.9996 - loss: 0.0013 - precision: 0.9998 - recall: 0.9990 - val_accuracy: 1.0000 - val_loss: 1.8911e-05 - val_precision: 1.0000 - val_recall: 1.0000\n",
      "Epoch 9/50\n",
      "\u001B[1m142/142\u001B[0m \u001B[32m━━━━━━━━━━━━━━━━━━━━\u001B[0m\u001B[37m\u001B[0m \u001B[1m8s\u001B[0m 47ms/step - accuracy: 0.9997 - loss: 0.0024 - precision: 0.9997 - recall: 0.9995 - val_accuracy: 1.0000 - val_loss: 8.2627e-06 - val_precision: 1.0000 - val_recall: 1.0000\n",
      "Epoch 10/50\n",
      "\u001B[1m142/142\u001B[0m \u001B[32m━━━━━━━━━━━━━━━━━━━━\u001B[0m\u001B[37m\u001B[0m \u001B[1m8s\u001B[0m 56ms/step - accuracy: 0.9998 - loss: 0.0016 - precision: 0.9998 - recall: 0.9997 - val_accuracy: 1.0000 - val_loss: 4.9923e-06 - val_precision: 1.0000 - val_recall: 1.0000\n",
      "Epoch 11/50\n",
      "\u001B[1m142/142\u001B[0m \u001B[32m━━━━━━━━━━━━━━━━━━━━\u001B[0m\u001B[37m\u001B[0m \u001B[1m10s\u001B[0m 55ms/step - accuracy: 0.9998 - loss: 8.5698e-04 - precision: 0.9997 - recall: 0.9997 - val_accuracy: 0.9999 - val_loss: 1.8965e-04 - val_precision: 1.0000 - val_recall: 0.9999\n",
      "Epoch 12/50\n",
      "\u001B[1m142/142\u001B[0m \u001B[32m━━━━━━━━━━━━━━━━━━━━\u001B[0m\u001B[37m\u001B[0m \u001B[1m7s\u001B[0m 46ms/step - accuracy: 0.9997 - loss: 8.2076e-04 - precision: 0.9994 - recall: 0.9997 - val_accuracy: 0.9999 - val_loss: 1.9800e-04 - val_precision: 1.0000 - val_recall: 0.9999\n",
      "Epoch 13/50\n",
      "\u001B[1m142/142\u001B[0m \u001B[32m━━━━━━━━━━━━━━━━━━━━\u001B[0m\u001B[37m\u001B[0m \u001B[1m10s\u001B[0m 46ms/step - accuracy: 0.9999 - loss: 6.0472e-04 - precision: 0.9999 - recall: 0.9999 - val_accuracy: 0.9999 - val_loss: 1.7091e-04 - val_precision: 1.0000 - val_recall: 0.9999\n",
      "Epoch 14/50\n",
      "\u001B[1m142/142\u001B[0m \u001B[32m━━━━━━━━━━━━━━━━━━━━\u001B[0m\u001B[37m\u001B[0m \u001B[1m12s\u001B[0m 55ms/step - accuracy: 0.9998 - loss: 7.3104e-04 - precision: 0.9996 - recall: 0.9999 - val_accuracy: 0.9999 - val_loss: 1.1033e-04 - val_precision: 1.0000 - val_recall: 0.9999\n",
      "Epoch 15/50\n",
      "\u001B[1m142/142\u001B[0m \u001B[32m━━━━━━━━━━━━━━━━━━━━\u001B[0m\u001B[37m\u001B[0m \u001B[1m10s\u001B[0m 55ms/step - accuracy: 0.9999 - loss: 7.0656e-04 - precision: 0.9998 - recall: 0.9999 - val_accuracy: 0.9999 - val_loss: 1.4329e-04 - val_precision: 1.0000 - val_recall: 0.9999\n"
     ]
    },
    {
     "metadata": {
      "tags": null
     },
     "name": "stderr",
     "output_type": "stream",
     "text": [
      "WARNING:absl:You are saving your model as an HDF5 file via `model.save()` or `keras.saving.save_model(model)`. This file format is considered legacy. We recommend using instead the native Keras format, e.g. `model.save('my_model.keras')` or `keras.saving.save_model(model, 'my_model.keras')`. \n"
     ]
    },
    {
     "metadata": {
      "tags": null
     },
     "name": "stdout",
     "output_type": "stream",
     "text": [
      "Model saved as model_smote_batch256.h5\n",
      "\n",
      "Training recurrent neural network with dataset: undersampled, batch size: 32\n",
      "Epoch 1/50\n",
      "\u001B[1m2/2\u001B[0m \u001B[32m━━━━━━━━━━━━━━━━━━━━\u001B[0m\u001B[37m\u001B[0m \u001B[1m9s\u001B[0m 991ms/step - accuracy: 0.2316 - loss: 0.8165 - precision: 0.0000e+00 - recall: 0.0000e+00 - val_accuracy: 0.0625 - val_loss: 0.7765 - val_precision: 1.0000 - val_recall: 0.0625\n",
      "Epoch 2/50\n",
      "\u001B[1m2/2\u001B[0m \u001B[32m━━━━━━━━━━━━━━━━━━━━\u001B[0m\u001B[37m\u001B[0m \u001B[1m0s\u001B[0m 112ms/step - accuracy: 0.3790 - loss: 0.7354 - precision: 0.1159 - recall: 0.1111 - val_accuracy: 0.6250 - val_loss: 0.6814 - val_precision: 1.0000 - val_recall: 0.6250\n",
      "Epoch 3/50\n",
      "\u001B[1m2/2\u001B[0m \u001B[32m━━━━━━━━━━━━━━━━━━━━\u001B[0m\u001B[37m\u001B[0m \u001B[1m0s\u001B[0m 112ms/step - accuracy: 0.6844 - loss: 0.6773 - precision: 0.5575 - recall: 0.6843 - val_accuracy: 1.0000 - val_loss: 0.5914 - val_precision: 1.0000 - val_recall: 1.0000\n",
      "Epoch 4/50\n",
      "\u001B[1m2/2\u001B[0m \u001B[32m━━━━━━━━━━━━━━━━━━━━\u001B[0m\u001B[37m\u001B[0m \u001B[1m0s\u001B[0m 138ms/step - accuracy: 0.8738 - loss: 0.6321 - precision: 0.7996 - recall: 0.8889 - val_accuracy: 1.0000 - val_loss: 0.4972 - val_precision: 1.0000 - val_recall: 1.0000\n",
      "Epoch 5/50\n",
      "\u001B[1m2/2\u001B[0m \u001B[32m━━━━━━━━━━━━━━━━━━━━\u001B[0m\u001B[37m\u001B[0m \u001B[1m0s\u001B[0m 153ms/step - accuracy: 0.9683 - loss: 0.5835 - precision: 0.9259 - recall: 1.0000 - val_accuracy: 1.0000 - val_loss: 0.4159 - val_precision: 1.0000 - val_recall: 1.0000\n",
      "Epoch 6/50\n",
      "\u001B[1m2/2\u001B[0m \u001B[32m━━━━━━━━━━━━━━━━━━━━\u001B[0m\u001B[37m\u001B[0m \u001B[1m0s\u001B[0m 132ms/step - accuracy: 0.9790 - loss: 0.5459 - precision: 0.9537 - recall: 1.0000 - val_accuracy: 1.0000 - val_loss: 0.3501 - val_precision: 1.0000 - val_recall: 1.0000\n",
      "Epoch 7/50\n",
      "\u001B[1m2/2\u001B[0m \u001B[32m━━━━━━━━━━━━━━━━━━━━\u001B[0m\u001B[37m\u001B[0m \u001B[1m0s\u001B[0m 95ms/step - accuracy: 0.9788 - loss: 0.5206 - precision: 0.9487 - recall: 1.0000 - val_accuracy: 1.0000 - val_loss: 0.2942 - val_precision: 1.0000 - val_recall: 1.0000\n",
      "Epoch 8/50\n",
      "\u001B[1m2/2\u001B[0m \u001B[32m━━━━━━━━━━━━━━━━━━━━\u001B[0m\u001B[37m\u001B[0m \u001B[1m0s\u001B[0m 98ms/step - accuracy: 1.0000 - loss: 0.4822 - precision: 1.0000 - recall: 1.0000 - val_accuracy: 1.0000 - val_loss: 0.2453 - val_precision: 1.0000 - val_recall: 1.0000\n",
      "Epoch 9/50\n",
      "\u001B[1m2/2\u001B[0m \u001B[32m━━━━━━━━━━━━━━━━━━━━\u001B[0m\u001B[37m\u001B[0m \u001B[1m0s\u001B[0m 96ms/step - accuracy: 1.0000 - loss: 0.4540 - precision: 1.0000 - recall: 1.0000 - val_accuracy: 1.0000 - val_loss: 0.1985 - val_precision: 1.0000 - val_recall: 1.0000\n",
      "Epoch 10/50\n",
      "\u001B[1m2/2\u001B[0m \u001B[32m━━━━━━━━━━━━━━━━━━━━\u001B[0m\u001B[37m\u001B[0m \u001B[1m0s\u001B[0m 95ms/step - accuracy: 1.0000 - loss: 0.4310 - precision: 1.0000 - recall: 1.0000 - val_accuracy: 1.0000 - val_loss: 0.1581 - val_precision: 1.0000 - val_recall: 1.0000\n",
      "Epoch 11/50\n",
      "\u001B[1m2/2\u001B[0m \u001B[32m━━━━━━━━━━━━━━━━━━━━\u001B[0m\u001B[37m\u001B[0m \u001B[1m0s\u001B[0m 93ms/step - accuracy: 1.0000 - loss: 0.3899 - precision: 1.0000 - recall: 1.0000 - val_accuracy: 1.0000 - val_loss: 0.1231 - val_precision: 1.0000 - val_recall: 1.0000\n",
      "Epoch 12/50\n",
      "\u001B[1m2/2\u001B[0m \u001B[32m━━━━━━━━━━━━━━━━━━━━\u001B[0m\u001B[37m\u001B[0m \u001B[1m0s\u001B[0m 117ms/step - accuracy: 1.0000 - loss: 0.3489 - precision: 1.0000 - recall: 1.0000 - val_accuracy: 1.0000 - val_loss: 0.0951 - val_precision: 1.0000 - val_recall: 1.0000\n",
      "Epoch 13/50\n",
      "\u001B[1m2/2\u001B[0m \u001B[32m━━━━━━━━━━━━━━━━━━━━\u001B[0m\u001B[37m\u001B[0m \u001B[1m0s\u001B[0m 114ms/step - accuracy: 1.0000 - loss: 0.3410 - precision: 1.0000 - recall: 1.0000 - val_accuracy: 1.0000 - val_loss: 0.0734 - val_precision: 1.0000 - val_recall: 1.0000\n",
      "Epoch 14/50\n",
      "\u001B[1m2/2\u001B[0m \u001B[32m━━━━━━━━━━━━━━━━━━━━\u001B[0m\u001B[37m\u001B[0m \u001B[1m0s\u001B[0m 140ms/step - accuracy: 1.0000 - loss: 0.3029 - precision: 1.0000 - recall: 1.0000 - val_accuracy: 1.0000 - val_loss: 0.0569 - val_precision: 1.0000 - val_recall: 1.0000\n",
      "Epoch 15/50\n",
      "\u001B[1m2/2\u001B[0m \u001B[32m━━━━━━━━━━━━━━━━━━━━\u001B[0m\u001B[37m\u001B[0m \u001B[1m0s\u001B[0m 121ms/step - accuracy: 1.0000 - loss: 0.2677 - precision: 1.0000 - recall: 1.0000 - val_accuracy: 1.0000 - val_loss: 0.0445 - val_precision: 1.0000 - val_recall: 1.0000\n",
      "Epoch 16/50\n",
      "\u001B[1m2/2\u001B[0m \u001B[32m━━━━━━━━━━━━━━━━━━━━\u001B[0m\u001B[37m\u001B[0m \u001B[1m0s\u001B[0m 92ms/step - accuracy: 1.0000 - loss: 0.2472 - precision: 1.0000 - recall: 1.0000 - val_accuracy: 1.0000 - val_loss: 0.0355 - val_precision: 1.0000 - val_recall: 1.0000\n",
      "Epoch 17/50\n",
      "\u001B[1m2/2\u001B[0m \u001B[32m━━━━━━━━━━━━━━━━━━━━\u001B[0m\u001B[37m\u001B[0m \u001B[1m0s\u001B[0m 127ms/step - accuracy: 1.0000 - loss: 0.2185 - precision: 1.0000 - recall: 1.0000 - val_accuracy: 1.0000 - val_loss: 0.0289 - val_precision: 1.0000 - val_recall: 1.0000\n",
      "Epoch 18/50\n",
      "\u001B[1m2/2\u001B[0m \u001B[32m━━━━━━━━━━━━━━━━━━━━\u001B[0m\u001B[37m\u001B[0m \u001B[1m0s\u001B[0m 130ms/step - accuracy: 1.0000 - loss: 0.1971 - precision: 1.0000 - recall: 1.0000 - val_accuracy: 1.0000 - val_loss: 0.0239 - val_precision: 1.0000 - val_recall: 1.0000\n",
      "Epoch 19/50\n",
      "\u001B[1m2/2\u001B[0m \u001B[32m━━━━━━━━━━━━━━━━━━━━\u001B[0m\u001B[37m\u001B[0m \u001B[1m0s\u001B[0m 95ms/step - accuracy: 1.0000 - loss: 0.1530 - precision: 1.0000 - recall: 1.0000 - val_accuracy: 1.0000 - val_loss: 0.0202 - val_precision: 1.0000 - val_recall: 1.0000\n",
      "Epoch 20/50\n",
      "\u001B[1m2/2\u001B[0m \u001B[32m━━━━━━━━━━━━━━━━━━━━\u001B[0m\u001B[37m\u001B[0m \u001B[1m0s\u001B[0m 128ms/step - accuracy: 1.0000 - loss: 0.1350 - precision: 1.0000 - recall: 1.0000 - val_accuracy: 1.0000 - val_loss: 0.0173 - val_precision: 1.0000 - val_recall: 1.0000\n",
      "Epoch 21/50\n",
      "\u001B[1m2/2\u001B[0m \u001B[32m━━━━━━━━━━━━━━━━━━━━\u001B[0m\u001B[37m\u001B[0m \u001B[1m0s\u001B[0m 99ms/step - accuracy: 1.0000 - loss: 0.1083 - precision: 1.0000 - recall: 1.0000 - val_accuracy: 1.0000 - val_loss: 0.0151 - val_precision: 1.0000 - val_recall: 1.0000\n",
      "Epoch 22/50\n",
      "\u001B[1m2/2\u001B[0m \u001B[32m━━━━━━━━━━━━━━━━━━━━\u001B[0m\u001B[37m\u001B[0m \u001B[1m0s\u001B[0m 97ms/step - accuracy: 1.0000 - loss: 0.0865 - precision: 1.0000 - recall: 1.0000 - val_accuracy: 1.0000 - val_loss: 0.0133 - val_precision: 1.0000 - val_recall: 1.0000\n",
      "Epoch 23/50\n",
      "\u001B[1m2/2\u001B[0m \u001B[32m━━━━━━━━━━━━━━━━━━━━\u001B[0m\u001B[37m\u001B[0m \u001B[1m0s\u001B[0m 131ms/step - accuracy: 1.0000 - loss: 0.0614 - precision: 1.0000 - recall: 1.0000 - val_accuracy: 1.0000 - val_loss: 0.0119 - val_precision: 1.0000 - val_recall: 1.0000\n",
      "Epoch 24/50\n",
      "\u001B[1m2/2\u001B[0m \u001B[32m━━━━━━━━━━━━━━━━━━━━\u001B[0m\u001B[37m\u001B[0m \u001B[1m0s\u001B[0m 96ms/step - accuracy: 1.0000 - loss: 0.0507 - precision: 1.0000 - recall: 1.0000 - val_accuracy: 1.0000 - val_loss: 0.0108 - val_precision: 1.0000 - val_recall: 1.0000\n",
      "Epoch 25/50\n",
      "\u001B[1m2/2\u001B[0m \u001B[32m━━━━━━━━━━━━━━━━━━━━\u001B[0m\u001B[37m\u001B[0m \u001B[1m0s\u001B[0m 99ms/step - accuracy: 1.0000 - loss: 0.0373 - precision: 1.0000 - recall: 1.0000 - val_accuracy: 1.0000 - val_loss: 0.0099 - val_precision: 1.0000 - val_recall: 1.0000\n",
      "Epoch 26/50\n",
      "\u001B[1m2/2\u001B[0m \u001B[32m━━━━━━━━━━━━━━━━━━━━\u001B[0m\u001B[37m\u001B[0m \u001B[1m0s\u001B[0m 108ms/step - accuracy: 1.0000 - loss: 0.0305 - precision: 1.0000 - recall: 1.0000 - val_accuracy: 1.0000 - val_loss: 0.0091 - val_precision: 1.0000 - val_recall: 1.0000\n",
      "Epoch 27/50\n",
      "\u001B[1m2/2\u001B[0m \u001B[32m━━━━━━━━━━━━━━━━━━━━\u001B[0m\u001B[37m\u001B[0m \u001B[1m0s\u001B[0m 113ms/step - accuracy: 1.0000 - loss: 0.0202 - precision: 1.0000 - recall: 1.0000 - val_accuracy: 1.0000 - val_loss: 0.0084 - val_precision: 1.0000 - val_recall: 1.0000\n",
      "Epoch 28/50\n",
      "\u001B[1m2/2\u001B[0m \u001B[32m━━━━━━━━━━━━━━━━━━━━\u001B[0m\u001B[37m\u001B[0m \u001B[1m0s\u001B[0m 106ms/step - accuracy: 1.0000 - loss: 0.0152 - precision: 1.0000 - recall: 1.0000 - val_accuracy: 1.0000 - val_loss: 0.0077 - val_precision: 1.0000 - val_recall: 1.0000\n",
      "Epoch 29/50\n",
      "\u001B[1m2/2\u001B[0m \u001B[32m━━━━━━━━━━━━━━━━━━━━\u001B[0m\u001B[37m\u001B[0m \u001B[1m0s\u001B[0m 106ms/step - accuracy: 1.0000 - loss: 0.0145 - precision: 1.0000 - recall: 1.0000 - val_accuracy: 1.0000 - val_loss: 0.0071 - val_precision: 1.0000 - val_recall: 1.0000\n",
      "Epoch 30/50\n",
      "\u001B[1m2/2\u001B[0m \u001B[32m━━━━━━━━━━━━━━━━━━━━\u001B[0m\u001B[37m\u001B[0m \u001B[1m0s\u001B[0m 114ms/step - accuracy: 1.0000 - loss: 0.0100 - precision: 1.0000 - recall: 1.0000 - val_accuracy: 1.0000 - val_loss: 0.0066 - val_precision: 1.0000 - val_recall: 1.0000\n",
      "Epoch 31/50\n",
      "\u001B[1m2/2\u001B[0m \u001B[32m━━━━━━━━━━━━━━━━━━━━\u001B[0m\u001B[37m\u001B[0m \u001B[1m0s\u001B[0m 143ms/step - accuracy: 1.0000 - loss: 0.0072 - precision: 1.0000 - recall: 1.0000 - val_accuracy: 1.0000 - val_loss: 0.0061 - val_precision: 1.0000 - val_recall: 1.0000\n",
      "Epoch 32/50\n",
      "\u001B[1m2/2\u001B[0m \u001B[32m━━━━━━━━━━━━━━━━━━━━\u001B[0m\u001B[37m\u001B[0m \u001B[1m0s\u001B[0m 91ms/step - accuracy: 1.0000 - loss: 0.0080 - precision: 1.0000 - recall: 1.0000 - val_accuracy: 1.0000 - val_loss: 0.0056 - val_precision: 1.0000 - val_recall: 1.0000\n",
      "Epoch 33/50\n",
      "\u001B[1m2/2\u001B[0m \u001B[32m━━━━━━━━━━━━━━━━━━━━\u001B[0m\u001B[37m\u001B[0m \u001B[1m0s\u001B[0m 95ms/step - accuracy: 1.0000 - loss: 0.0065 - precision: 1.0000 - recall: 1.0000 - val_accuracy: 1.0000 - val_loss: 0.0051 - val_precision: 1.0000 - val_recall: 1.0000\n",
      "Epoch 34/50\n",
      "\u001B[1m2/2\u001B[0m \u001B[32m━━━━━━━━━━━━━━━━━━━━\u001B[0m\u001B[37m\u001B[0m \u001B[1m0s\u001B[0m 94ms/step - accuracy: 1.0000 - loss: 0.0039 - precision: 1.0000 - recall: 1.0000 - val_accuracy: 1.0000 - val_loss: 0.0047 - val_precision: 1.0000 - val_recall: 1.0000\n",
      "Epoch 35/50\n",
      "\u001B[1m2/2\u001B[0m \u001B[32m━━━━━━━━━━━━━━━━━━━━\u001B[0m\u001B[37m\u001B[0m \u001B[1m0s\u001B[0m 129ms/step - accuracy: 1.0000 - loss: 0.0056 - precision: 1.0000 - recall: 1.0000 - val_accuracy: 1.0000 - val_loss: 0.0044 - val_precision: 1.0000 - val_recall: 1.0000\n",
      "Epoch 36/50\n",
      "\u001B[1m2/2\u001B[0m \u001B[32m━━━━━━━━━━━━━━━━━━━━\u001B[0m\u001B[37m\u001B[0m \u001B[1m0s\u001B[0m 93ms/step - accuracy: 1.0000 - loss: 0.0048 - precision: 1.0000 - recall: 1.0000 - val_accuracy: 1.0000 - val_loss: 0.0040 - val_precision: 1.0000 - val_recall: 1.0000\n",
      "Epoch 37/50\n",
      "\u001B[1m2/2\u001B[0m \u001B[32m━━━━━━━━━━━━━━━━━━━━\u001B[0m\u001B[37m\u001B[0m \u001B[1m0s\u001B[0m 106ms/step - accuracy: 1.0000 - loss: 0.0050 - precision: 1.0000 - recall: 1.0000 - val_accuracy: 1.0000 - val_loss: 0.0037 - val_precision: 1.0000 - val_recall: 1.0000\n",
      "Epoch 38/50\n",
      "\u001B[1m2/2\u001B[0m \u001B[32m━━━━━━━━━━━━━━━━━━━━\u001B[0m\u001B[37m\u001B[0m \u001B[1m0s\u001B[0m 148ms/step - accuracy: 1.0000 - loss: 0.0029 - precision: 1.0000 - recall: 1.0000 - val_accuracy: 1.0000 - val_loss: 0.0034 - val_precision: 1.0000 - val_recall: 1.0000\n",
      "Epoch 39/50\n",
      "\u001B[1m2/2\u001B[0m \u001B[32m━━━━━━━━━━━━━━━━━━━━\u001B[0m\u001B[37m\u001B[0m \u001B[1m0s\u001B[0m 98ms/step - accuracy: 1.0000 - loss: 0.0032 - precision: 1.0000 - recall: 1.0000 - val_accuracy: 1.0000 - val_loss: 0.0031 - val_precision: 1.0000 - val_recall: 1.0000\n",
      "Epoch 40/50\n",
      "\u001B[1m2/2\u001B[0m \u001B[32m━━━━━━━━━━━━━━━━━━━━\u001B[0m\u001B[37m\u001B[0m \u001B[1m0s\u001B[0m 97ms/step - accuracy: 1.0000 - loss: 0.0038 - precision: 1.0000 - recall: 1.0000 - val_accuracy: 1.0000 - val_loss: 0.0029 - val_precision: 1.0000 - val_recall: 1.0000\n",
      "Epoch 41/50\n",
      "\u001B[1m2/2\u001B[0m \u001B[32m━━━━━━━━━━━━━━━━━━━━\u001B[0m\u001B[37m\u001B[0m \u001B[1m0s\u001B[0m 94ms/step - accuracy: 1.0000 - loss: 0.0028 - precision: 1.0000 - recall: 1.0000 - val_accuracy: 1.0000 - val_loss: 0.0027 - val_precision: 1.0000 - val_recall: 1.0000\n",
      "Epoch 42/50\n",
      "\u001B[1m2/2\u001B[0m \u001B[32m━━━━━━━━━━━━━━━━━━━━\u001B[0m\u001B[37m\u001B[0m \u001B[1m0s\u001B[0m 95ms/step - accuracy: 1.0000 - loss: 0.0030 - precision: 1.0000 - recall: 1.0000 - val_accuracy: 1.0000 - val_loss: 0.0025 - val_precision: 1.0000 - val_recall: 1.0000\n",
      "Epoch 43/50\n",
      "\u001B[1m2/2\u001B[0m \u001B[32m━━━━━━━━━━━━━━━━━━━━\u001B[0m\u001B[37m\u001B[0m \u001B[1m0s\u001B[0m 95ms/step - accuracy: 1.0000 - loss: 0.0021 - precision: 1.0000 - recall: 1.0000 - val_accuracy: 1.0000 - val_loss: 0.0024 - val_precision: 1.0000 - val_recall: 1.0000\n",
      "Epoch 44/50\n",
      "\u001B[1m2/2\u001B[0m \u001B[32m━━━━━━━━━━━━━━━━━━━━\u001B[0m\u001B[37m\u001B[0m \u001B[1m0s\u001B[0m 103ms/step - accuracy: 1.0000 - loss: 0.0020 - precision: 1.0000 - recall: 1.0000 - val_accuracy: 1.0000 - val_loss: 0.0022 - val_precision: 1.0000 - val_recall: 1.0000\n",
      "Epoch 45/50\n",
      "\u001B[1m2/2\u001B[0m \u001B[32m━━━━━━━━━━━━━━━━━━━━\u001B[0m\u001B[37m\u001B[0m \u001B[1m0s\u001B[0m 110ms/step - accuracy: 1.0000 - loss: 0.0020 - precision: 1.0000 - recall: 1.0000 - val_accuracy: 1.0000 - val_loss: 0.0021 - val_precision: 1.0000 - val_recall: 1.0000\n",
      "Epoch 46/50\n",
      "\u001B[1m2/2\u001B[0m \u001B[32m━━━━━━━━━━━━━━━━━━━━\u001B[0m\u001B[37m\u001B[0m \u001B[1m0s\u001B[0m 111ms/step - accuracy: 1.0000 - loss: 0.0033 - precision: 1.0000 - recall: 1.0000 - val_accuracy: 1.0000 - val_loss: 0.0019 - val_precision: 1.0000 - val_recall: 1.0000\n",
      "Epoch 47/50\n",
      "\u001B[1m2/2\u001B[0m \u001B[32m━━━━━━━━━━━━━━━━━━━━\u001B[0m\u001B[37m\u001B[0m \u001B[1m0s\u001B[0m 112ms/step - accuracy: 1.0000 - loss: 0.0024 - precision: 1.0000 - recall: 1.0000 - val_accuracy: 1.0000 - val_loss: 0.0018 - val_precision: 1.0000 - val_recall: 1.0000\n",
      "Epoch 48/50\n",
      "\u001B[1m2/2\u001B[0m \u001B[32m━━━━━━━━━━━━━━━━━━━━\u001B[0m\u001B[37m\u001B[0m \u001B[1m0s\u001B[0m 110ms/step - accuracy: 1.0000 - loss: 0.0017 - precision: 1.0000 - recall: 1.0000 - val_accuracy: 1.0000 - val_loss: 0.0017 - val_precision: 1.0000 - val_recall: 1.0000\n",
      "Epoch 49/50\n",
      "\u001B[1m2/2\u001B[0m \u001B[32m━━━━━━━━━━━━━━━━━━━━\u001B[0m\u001B[37m\u001B[0m \u001B[1m0s\u001B[0m 121ms/step - accuracy: 1.0000 - loss: 0.0020 - precision: 1.0000 - recall: 1.0000 - val_accuracy: 1.0000 - val_loss: 0.0016 - val_precision: 1.0000 - val_recall: 1.0000\n",
      "Epoch 50/50\n",
      "\u001B[1m2/2\u001B[0m \u001B[32m━━━━━━━━━━━━━━━━━━━━\u001B[0m\u001B[37m\u001B[0m \u001B[1m0s\u001B[0m 195ms/step - accuracy: 1.0000 - loss: 0.0015 - precision: 1.0000 - recall: 1.0000 - val_accuracy: 1.0000 - val_loss: 0.0016 - val_precision: 1.0000 - val_recall: 1.0000\n"
     ]
    },
    {
     "metadata": {
      "tags": null
     },
     "name": "stderr",
     "output_type": "stream",
     "text": [
      "WARNING:absl:You are saving your model as an HDF5 file via `model.save()` or `keras.saving.save_model(model)`. This file format is considered legacy. We recommend using instead the native Keras format, e.g. `model.save('my_model.keras')` or `keras.saving.save_model(model, 'my_model.keras')`. \n"
     ]
    },
    {
     "output_type": "stream",
     "name": "stdout",
     "text": [
      "Model saved as model_undersampled_batch32.h5\n",
      "\n",
      "Training recurrent neural network with dataset: undersampled, batch size: 64\n",
      "Epoch 1/50\n",
      "\u001B[1m1/1\u001B[0m \u001B[32m━━━━━━━━━━━━━━━━━━━━\u001B[0m\u001B[37m\u001B[0m \u001B[1m7s\u001B[0m 7s/step - accuracy: 0.7460 - loss: 0.6728 - precision: 0.6667 - recall: 0.6667 - val_accuracy: 1.0000 - val_loss: 0.6053 - val_precision: 1.0000 - val_recall: 1.0000\n",
      "Epoch 2/50\n",
      "\u001B[1m1/1\u001B[0m \u001B[32m━━━━━━━━━━━━━━━━━━━━\u001B[0m\u001B[37m\u001B[0m \u001B[1m0s\u001B[0m 455ms/step - accuracy: 0.8889 - loss: 0.6535 - precision: 0.7931 - recall: 0.9583 - val_accuracy: 1.0000 - val_loss: 0.5619 - val_precision: 1.0000 - val_recall: 1.0000\n",
      "Epoch 3/50\n",
      "\u001B[1m1/1\u001B[0m \u001B[32m━━━━━━━━━━━━━━━━━━━━\u001B[0m\u001B[37m\u001B[0m \u001B[1m0s\u001B[0m 120ms/step - accuracy: 0.9365 - loss: 0.6319 - precision: 0.8571 - recall: 1.0000 - val_accuracy: 1.0000 - val_loss: 0.5199 - val_precision: 1.0000 - val_recall: 1.0000\n",
      "Epoch 4/50\n",
      "\u001B[1m1/1\u001B[0m \u001B[32m━━━━━━━━━━━━━━━━━━━━\u001B[0m\u001B[37m\u001B[0m \u001B[1m0s\u001B[0m 137ms/step - accuracy: 0.9206 - loss: 0.6143 - precision: 0.8276 - recall: 1.0000 - val_accuracy: 1.0000 - val_loss: 0.4791 - val_precision: 1.0000 - val_recall: 1.0000\n",
      "Epoch 5/50\n",
      "\u001B[1m1/1\u001B[0m \u001B[32m━━━━━━━━━━━━━━━━━━━━\u001B[0m\u001B[37m\u001B[0m \u001B[1m0s\u001B[0m 135ms/step - accuracy: 0.9206 - loss: 0.5930 - precision: 0.8276 - recall: 1.0000 - val_accuracy: 1.0000 - val_loss: 0.4383 - val_precision: 1.0000 - val_recall: 1.0000\n",
      "Epoch 6/50\n",
      "\u001B[1m1/1\u001B[0m \u001B[32m━━━━━━━━━━━━━━━━━━━━\u001B[0m\u001B[37m\u001B[0m \u001B[1m0s\u001B[0m 124ms/step - accuracy: 0.9365 - loss: 0.5647 - precision: 0.8571 - recall: 1.0000 - val_accuracy: 1.0000 - val_loss: 0.3954 - val_precision: 1.0000 - val_recall: 1.0000\n",
      "Epoch 7/50\n",
      "\u001B[1m1/1\u001B[0m \u001B[32m━━━━━━━━━━━━━━━━━━━━\u001B[0m\u001B[37m\u001B[0m \u001B[1m0s\u001B[0m 117ms/step - accuracy: 0.9683 - loss: 0.5495 - precision: 0.9231 - recall: 1.0000 - val_accuracy: 1.0000 - val_loss: 0.3516 - val_precision: 1.0000 - val_recall: 1.0000\n",
      "Epoch 8/50\n",
      "\u001B[1m1/1\u001B[0m \u001B[32m━━━━━━━━━━━━━━━━━━━━\u001B[0m\u001B[37m\u001B[0m \u001B[1m0s\u001B[0m 189ms/step - accuracy: 0.9683 - loss: 0.5299 - precision: 0.9231 - recall: 1.0000 - val_accuracy: 1.0000 - val_loss: 0.3111 - val_precision: 1.0000 - val_recall: 1.0000\n",
      "Epoch 9/50\n",
      "\u001B[1m1/1\u001B[0m \u001B[32m━━━━━━━━━━━━━━━━━━━━\u001B[0m\u001B[37m\u001B[0m \u001B[1m0s\u001B[0m 255ms/step - accuracy: 0.9841 - loss: 0.5061 - precision: 0.9600 - recall: 1.0000 - val_accuracy: 1.0000 - val_loss: 0.2739 - val_precision: 1.0000 - val_recall: 1.0000\n",
      "Epoch 10/50\n",
      "\u001B[1m1/1\u001B[0m \u001B[32m━━━━━━━━━━━━━━━━━━━━\u001B[0m\u001B[37m\u001B[0m \u001B[1m0s\u001B[0m 130ms/step - accuracy: 1.0000 - loss: 0.4887 - precision: 1.0000 - recall: 1.0000 - val_accuracy: 1.0000 - val_loss: 0.2406 - val_precision: 1.0000 - val_recall: 1.0000\n",
      "Epoch 11/50\n",
      "\u001B[1m1/1\u001B[0m \u001B[32m━━━━━━━━━━━━━━━━━━━━\u001B[0m\u001B[37m\u001B[0m \u001B[1m0s\u001B[0m 142ms/step - accuracy: 1.0000 - loss: 0.4691 - precision: 1.0000 - recall: 1.0000 - val_accuracy: 1.0000 - val_loss: 0.2115 - val_precision: 1.0000 - val_recall: 1.0000\n",
      "Epoch 12/50\n",
      "\u001B[1m1/1\u001B[0m \u001B[32m━━━━━━━━━━━━━━━━━━━━\u001B[0m\u001B[37m\u001B[0m \u001B[1m0s\u001B[0m 135ms/step - accuracy: 1.0000 - loss: 0.4522 - precision: 1.0000 - recall: 1.0000 - val_accuracy: 1.0000 - val_loss: 0.1860 - val_precision: 1.0000 - val_recall: 1.0000\n",
      "Epoch 13/50\n",
      "\u001B[1m1/1\u001B[0m \u001B[32m━━━━━━━━━━━━━━━━━━━━\u001B[0m\u001B[37m\u001B[0m \u001B[1m0s\u001B[0m 176ms/step - accuracy: 1.0000 - loss: 0.4317 - precision: 1.0000 - recall: 1.0000 - val_accuracy: 1.0000 - val_loss: 0.1640 - val_precision: 1.0000 - val_recall: 1.0000\n",
      "Epoch 14/50\n",
      "\u001B[1m1/1\u001B[0m \u001B[32m━━━━━━━━━━━━━━━━━━━━\u001B[0m\u001B[37m\u001B[0m \u001B[1m0s\u001B[0m 298ms/step - accuracy: 1.0000 - loss: 0.4158 - precision: 1.0000 - recall: 1.0000 - val_accuracy: 1.0000 - val_loss: 0.1451 - val_precision: 1.0000 - val_recall: 1.0000\n",
      "Epoch 15/50\n",
      "\u001B[1m1/1\u001B[0m \u001B[32m━━━━━━━━━━━━━━━━━━━━\u001B[0m\u001B[37m\u001B[0m \u001B[1m0s\u001B[0m 262ms/step - accuracy: 1.0000 - loss: 0.3968 - precision: 1.0000 - recall: 1.0000 - val_accuracy: 1.0000 - val_loss: 0.1289 - val_precision: 1.0000 - val_recall: 1.0000\n",
      "Epoch 16/50\n",
      "\u001B[1m1/1\u001B[0m \u001B[32m━━━━━━━━━━━━━━━━━━━━\u001B[0m\u001B[37m\u001B[0m \u001B[1m0s\u001B[0m 140ms/step - accuracy: 1.0000 - loss: 0.3714 - precision: 1.0000 - recall: 1.0000 - val_accuracy: 1.0000 - val_loss: 0.1148 - val_precision: 1.0000 - val_recall: 1.0000\n",
      "Epoch 17/50\n",
      "\u001B[1m1/1\u001B[0m \u001B[32m━━━━━━━━━━━━━━━━━━━━\u001B[0m\u001B[37m\u001B[0m \u001B[1m0s\u001B[0m 139ms/step - accuracy: 1.0000 - loss: 0.3558 - precision: 1.0000 - recall: 1.0000 - val_accuracy: 1.0000 - val_loss: 0.1023 - val_precision: 1.0000 - val_recall: 1.0000\n",
      "Epoch 18/50\n",
      "\u001B[1m1/1\u001B[0m \u001B[32m━━━━━━━━━━━━━━━━━━━━\u001B[0m\u001B[37m\u001B[0m \u001B[1m0s\u001B[0m 136ms/step - accuracy: 1.0000 - loss: 0.3493 - precision: 1.0000 - recall: 1.0000 - val_accuracy: 1.0000 - val_loss: 0.0910 - val_precision: 1.0000 - val_recall: 1.0000\n",
      "Epoch 19/50\n",
      "\u001B[1m1/1\u001B[0m \u001B[32m━━━━━━━━━━━━━━━━━━━━\u001B[0m\u001B[37m\u001B[0m \u001B[1m0s\u001B[0m 333ms/step - accuracy: 1.0000 - loss: 0.3173 - precision: 1.0000 - recall: 1.0000 - val_accuracy: 1.0000 - val_loss: 0.0810 - val_precision: 1.0000 - val_recall: 1.0000\n",
      "Epoch 20/50\n",
      "\u001B[1m1/1\u001B[0m \u001B[32m━━━━━━━━━━━━━━━━━━━━\u001B[0m\u001B[37m\u001B[0m \u001B[1m0s\u001B[0m 174ms/step - accuracy: 1.0000 - loss: 0.3003 - precision: 1.0000 - recall: 1.0000 - val_accuracy: 1.0000 - val_loss: 0.0723 - val_precision: 1.0000 - val_recall: 1.0000\n",
      "Epoch 21/50\n",
      "\u001B[1m1/1\u001B[0m \u001B[32m━━━━━━━━━━━━━━━━━━━━\u001B[0m\u001B[37m\u001B[0m \u001B[1m0s\u001B[0m 262ms/step - accuracy: 1.0000 - loss: 0.2805 - precision: 1.0000 - recall: 1.0000 - val_accuracy: 1.0000 - val_loss: 0.0647 - val_precision: 1.0000 - val_recall: 1.0000\n",
      "Epoch 22/50\n",
      "\u001B[1m1/1\u001B[0m \u001B[32m━━━━━━━━━━━━━━━━━━━━\u001B[0m\u001B[37m\u001B[0m \u001B[1m0s\u001B[0m 169ms/step - accuracy: 1.0000 - loss: 0.2557 - precision: 1.0000 - recall: 1.0000 - val_accuracy: 1.0000 - val_loss: 0.0580 - val_precision: 1.0000 - val_recall: 1.0000\n",
      "Epoch 23/50\n",
      "\u001B[1m1/1\u001B[0m \u001B[32m━━━━━━━━━━━━━━━━━━━━\u001B[0m\u001B[37m\u001B[0m \u001B[1m0s\u001B[0m 266ms/step - accuracy: 1.0000 - loss: 0.2454 - precision: 1.0000 - recall: 1.0000 - val_accuracy: 1.0000 - val_loss: 0.0523 - val_precision: 1.0000 - val_recall: 1.0000\n",
      "Epoch 24/50\n",
      "\u001B[1m1/1\u001B[0m \u001B[32m━━━━━━━━━━━━━━━━━━━━\u001B[0m\u001B[37m\u001B[0m \u001B[1m0s\u001B[0m 151ms/step - accuracy: 1.0000 - loss: 0.2215 - precision: 1.0000 - recall: 1.0000 - val_accuracy: 1.0000 - val_loss: 0.0472 - val_precision: 1.0000 - val_recall: 1.0000\n",
      "Epoch 25/50\n",
      "\u001B[1m1/1\u001B[0m \u001B[32m━━━━━━━━━━━━━━━━━━━━\u001B[0m\u001B[37m\u001B[0m \u001B[1m0s\u001B[0m 167ms/step - accuracy: 1.0000 - loss: 0.2048 - precision: 1.0000 - recall: 1.0000 - val_accuracy: 1.0000 - val_loss: 0.0428 - val_precision: 1.0000 - val_recall: 1.0000\n",
      "Epoch 26/50\n",
      "\u001B[1m1/1\u001B[0m \u001B[32m━━━━━━━━━━━━━━━━━━━━\u001B[0m\u001B[37m\u001B[0m \u001B[1m0s\u001B[0m 270ms/step - accuracy: 1.0000 - loss: 0.1791 - precision: 1.0000 - recall: 1.0000 - val_accuracy: 1.0000 - val_loss: 0.0389 - val_precision: 1.0000 - val_recall: 1.0000\n",
      "Epoch 27/50\n",
      "\u001B[1m1/1\u001B[0m \u001B[32m━━━━━━━━━━━━━━━━━━━━\u001B[0m\u001B[37m\u001B[0m \u001B[1m0s\u001B[0m 138ms/step - accuracy: 1.0000 - loss: 0.1643 - precision: 1.0000 - recall: 1.0000 - val_accuracy: 1.0000 - val_loss: 0.0355 - val_precision: 1.0000 - val_recall: 1.0000\n",
      "Epoch 28/50\n",
      "\u001B[1m1/1\u001B[0m \u001B[32m━━━━━━━━━━━━━━━━━━━━\u001B[0m\u001B[37m\u001B[0m \u001B[1m0s\u001B[0m 141ms/step - accuracy: 1.0000 - loss: 0.1440 - precision: 1.0000 - recall: 1.0000 - val_accuracy: 1.0000 - val_loss: 0.0325 - val_precision: 1.0000 - val_recall: 1.0000\n",
      "Epoch 29/50\n",
      "\u001B[1m1/1\u001B[0m \u001B[32m━━━━━━━━━━━━━━━━━━━━\u001B[0m\u001B[37m\u001B[0m \u001B[1m0s\u001B[0m 136ms/step - accuracy: 1.0000 - loss: 0.1275 - precision: 1.0000 - recall: 1.0000 - val_accuracy: 1.0000 - val_loss: 0.0300 - val_precision: 1.0000 - val_recall: 1.0000\n",
      "Epoch 30/50\n",
      "\u001B[1m1/1\u001B[0m \u001B[32m━━━━━━━━━━━━━━━━━━━━\u001B[0m\u001B[37m\u001B[0m \u001B[1m0s\u001B[0m 158ms/step - accuracy: 1.0000 - loss: 0.1098 - precision: 1.0000 - recall: 1.0000 - val_accuracy: 1.0000 - val_loss: 0.0277 - val_precision: 1.0000 - val_recall: 1.0000\n",
      "Epoch 31/50\n",
      "\u001B[1m1/1\u001B[0m \u001B[32m━━━━━━━━━━━━━━━━━━━━\u001B[0m\u001B[37m\u001B[0m \u001B[1m0s\u001B[0m 355ms/step - accuracy: 1.0000 - loss: 0.0963 - precision: 1.0000 - recall: 1.0000 - val_accuracy: 1.0000 - val_loss: 0.0257 - val_precision: 1.0000 - val_recall: 1.0000\n",
      "Epoch 32/50\n",
      "\u001B[1m1/1\u001B[0m \u001B[32m━━━━━━━━━━━━━━━━━━━━\u001B[0m\u001B[37m\u001B[0m \u001B[1m0s\u001B[0m 254ms/step - accuracy: 1.0000 - loss: 0.0887 - precision: 1.0000 - recall: 1.0000 - val_accuracy: 1.0000 - val_loss: 0.0240 - val_precision: 1.0000 - val_recall: 1.0000\n",
      "Epoch 33/50\n",
      "\u001B[1m1/1\u001B[0m \u001B[32m━━━━━━━━━━━━━━━━━━━━\u001B[0m\u001B[37m\u001B[0m \u001B[1m0s\u001B[0m 202ms/step - accuracy: 1.0000 - loss: 0.0794 - precision: 1.0000 - recall: 1.0000 - val_accuracy: 1.0000 - val_loss: 0.0224 - val_precision: 1.0000 - val_recall: 1.0000\n",
      "Epoch 34/50\n",
      "\u001B[1m1/1\u001B[0m \u001B[32m━━━━━━━━━━━━━━━━━━━━\u001B[0m\u001B[37m\u001B[0m \u001B[1m0s\u001B[0m 305ms/step - accuracy: 1.0000 - loss: 0.0677 - precision: 1.0000 - recall: 1.0000 - val_accuracy: 1.0000 - val_loss: 0.0211 - val_precision: 1.0000 - val_recall: 1.0000\n",
      "Epoch 35/50\n",
      "\u001B[1m1/1\u001B[0m \u001B[32m━━━━━━━━━━━━━━━━━━━━\u001B[0m\u001B[37m\u001B[0m \u001B[1m0s\u001B[0m 220ms/step - accuracy: 1.0000 - loss: 0.0597 - precision: 1.0000 - recall: 1.0000 - val_accuracy: 1.0000 - val_loss: 0.0199 - val_precision: 1.0000 - val_recall: 1.0000\n",
      "Epoch 36/50\n",
      "\u001B[1m1/1\u001B[0m \u001B[32m━━━━━━━━━━━━━━━━━━━━\u001B[0m\u001B[37m\u001B[0m \u001B[1m0s\u001B[0m 238ms/step - accuracy: 1.0000 - loss: 0.0505 - precision: 1.0000 - recall: 1.0000 - val_accuracy: 1.0000 - val_loss: 0.0188 - val_precision: 1.0000 - val_recall: 1.0000\n",
      "Epoch 37/50\n",
      "\u001B[1m1/1\u001B[0m \u001B[32m━━━━━━━━━━━━━━━━━━━━\u001B[0m\u001B[37m\u001B[0m \u001B[1m0s\u001B[0m 234ms/step - accuracy: 1.0000 - loss: 0.0429 - precision: 1.0000 - recall: 1.0000 - val_accuracy: 1.0000 - val_loss: 0.0177 - val_precision: 1.0000 - val_recall: 1.0000\n",
      "Epoch 38/50\n",
      "\u001B[1m1/1\u001B[0m \u001B[32m━━━━━━━━━━━━━━━━━━━━\u001B[0m\u001B[37m\u001B[0m \u001B[1m0s\u001B[0m 282ms/step - accuracy: 1.0000 - loss: 0.0343 - precision: 1.0000 - recall: 1.0000 - val_accuracy: 1.0000 - val_loss: 0.0168 - val_precision: 1.0000 - val_recall: 1.0000\n",
      "Epoch 39/50\n",
      "\u001B[1m1/1\u001B[0m \u001B[32m━━━━━━━━━━━━━━━━━━━━\u001B[0m\u001B[37m\u001B[0m \u001B[1m0s\u001B[0m 284ms/step - accuracy: 1.0000 - loss: 0.0338 - precision: 1.0000 - recall: 1.0000 - val_accuracy: 1.0000 - val_loss: 0.0160 - val_precision: 1.0000 - val_recall: 1.0000\n",
      "Epoch 40/50\n",
      "\u001B[1m1/1\u001B[0m \u001B[32m━━━━━━━━━━━━━━━━━━━━\u001B[0m\u001B[37m\u001B[0m \u001B[1m0s\u001B[0m 172ms/step - accuracy: 1.0000 - loss: 0.0319 - precision: 1.0000 - recall: 1.0000 - val_accuracy: 1.0000 - val_loss: 0.0152 - val_precision: 1.0000 - val_recall: 1.0000\n",
      "Epoch 41/50\n",
      "\u001B[1m1/1\u001B[0m \u001B[32m━━━━━━━━━━━━━━━━━━━━\u001B[0m\u001B[37m\u001B[0m \u001B[1m0s\u001B[0m 137ms/step - accuracy: 1.0000 - loss: 0.0284 - precision: 1.0000 - recall: 1.0000 - val_accuracy: 1.0000 - val_loss: 0.0145 - val_precision: 1.0000 - val_recall: 1.0000\n",
      "Epoch 42/50\n",
      "\u001B[1m1/1\u001B[0m \u001B[32m━━━━━━━━━━━━━━━━━━━━\u001B[0m\u001B[37m\u001B[0m \u001B[1m0s\u001B[0m 137ms/step - accuracy: 1.0000 - loss: 0.0267 - precision: 1.0000 - recall: 1.0000 - val_accuracy: 1.0000 - val_loss: 0.0138 - val_precision: 1.0000 - val_recall: 1.0000\n",
      "Epoch 43/50\n",
      "\u001B[1m1/1\u001B[0m \u001B[32m━━━━━━━━━━━━━━━━━━━━\u001B[0m\u001B[37m\u001B[0m \u001B[1m0s\u001B[0m 333ms/step - accuracy: 1.0000 - loss: 0.0219 - precision: 1.0000 - recall: 1.0000 - val_accuracy: 1.0000 - val_loss: 0.0132 - val_precision: 1.0000 - val_recall: 1.0000\n",
      "Epoch 44/50\n",
      "\u001B[1m1/1\u001B[0m \u001B[32m━━━━━━━━━━━━━━━━━━━━\u001B[0m\u001B[37m\u001B[0m \u001B[1m0s\u001B[0m 304ms/step - accuracy: 1.0000 - loss: 0.0183 - precision: 1.0000 - recall: 1.0000 - val_accuracy: 1.0000 - val_loss: 0.0126 - val_precision: 1.0000 - val_recall: 1.0000\n",
      "Epoch 45/50\n",
      "\u001B[1m1/1\u001B[0m \u001B[32m━━━━━━━━━━━━━━━━━━━━\u001B[0m\u001B[37m\u001B[0m \u001B[1m0s\u001B[0m 249ms/step - accuracy: 1.0000 - loss: 0.0171 - precision: 1.0000 - recall: 1.0000 - val_accuracy: 1.0000 - val_loss: 0.0120 - val_precision: 1.0000 - val_recall: 1.0000\n",
      "Epoch 46/50\n",
      "\u001B[1m1/1\u001B[0m \u001B[32m━━━━━━━━━━━━━━━━━━━━\u001B[0m\u001B[37m\u001B[0m \u001B[1m0s\u001B[0m 119ms/step - accuracy: 1.0000 - loss: 0.0164 - precision: 1.0000 - recall: 1.0000 - val_accuracy: 1.0000 - val_loss: 0.0115 - val_precision: 1.0000 - val_recall: 1.0000\n",
      "Epoch 47/50\n",
      "\u001B[1m1/1\u001B[0m \u001B[32m━━━━━━━━━━━━━━━━━━━━\u001B[0m\u001B[37m\u001B[0m \u001B[1m0s\u001B[0m 139ms/step - accuracy: 1.0000 - loss: 0.0170 - precision: 1.0000 - recall: 1.0000 - val_accuracy: 1.0000 - val_loss: 0.0110 - val_precision: 1.0000 - val_recall: 1.0000\n",
      "Epoch 48/50\n",
      "\u001B[1m1/1\u001B[0m \u001B[32m━━━━━━━━━━━━━━━━━━━━\u001B[0m\u001B[37m\u001B[0m \u001B[1m0s\u001B[0m 119ms/step - accuracy: 1.0000 - loss: 0.0143 - precision: 1.0000 - recall: 1.0000 - val_accuracy: 1.0000 - val_loss: 0.0105 - val_precision: 1.0000 - val_recall: 1.0000\n",
      "Epoch 49/50\n",
      "\u001B[1m1/1\u001B[0m \u001B[32m━━━━━━━━━━━━━━━━━━━━\u001B[0m\u001B[37m\u001B[0m \u001B[1m0s\u001B[0m 137ms/step - accuracy: 1.0000 - loss: 0.0140 - precision: 1.0000 - recall: 1.0000 - val_accuracy: 1.0000 - val_loss: 0.0100 - val_precision: 1.0000 - val_recall: 1.0000\n",
      "Epoch 50/50\n",
      "\u001B[1m1/1\u001B[0m \u001B[32m━━━━━━━━━━━━━━━━━━━━\u001B[0m\u001B[37m\u001B[0m \u001B[1m0s\u001B[0m 121ms/step - accuracy: 1.0000 - loss: 0.0137 - precision: 1.0000 - recall: 1.0000 - val_accuracy: 1.0000 - val_loss: 0.0096 - val_precision: 1.0000 - val_recall: 1.0000\n"
     ]
    },
    {
     "output_type": "stream",
     "name": "stderr",
     "text": [
      "WARNING:absl:You are saving your model as an HDF5 file via `model.save()` or `keras.saving.save_model(model)`. This file format is considered legacy. We recommend using instead the native Keras format, e.g. `model.save('my_model.keras')` or `keras.saving.save_model(model, 'my_model.keras')`. \n"
     ]
    },
    {
     "output_type": "stream",
     "name": "stdout",
     "text": [
      "Model saved as model_undersampled_batch64.h5\n",
      "\n",
      "Training recurrent neural network with dataset: undersampled, batch size: 128\n",
      "Epoch 1/50\n",
      "\u001B[1m1/1\u001B[0m \u001B[32m━━━━━━━━━━━━━━━━━━━━\u001B[0m\u001B[37m\u001B[0m \u001B[1m5s\u001B[0m 5s/step - accuracy: 0.8254 - loss: 0.6644 - precision: 0.7826 - recall: 0.7500 - val_accuracy: 1.0000 - val_loss: 0.6028 - val_precision: 1.0000 - val_recall: 1.0000\n",
      "Epoch 2/50\n",
      "\u001B[1m1/1\u001B[0m \u001B[32m━━━━━━━━━━━━━━━━━━━━\u001B[0m\u001B[37m\u001B[0m \u001B[1m1s\u001B[0m 549ms/step - accuracy: 0.9524 - loss: 0.6411 - precision: 0.8889 - recall: 1.0000 - val_accuracy: 1.0000 - val_loss: 0.5596 - val_precision: 1.0000 - val_recall: 1.0000\n",
      "Epoch 3/50\n",
      "\u001B[1m1/1\u001B[0m \u001B[32m━━━━━━━━━━━━━━━━━━━━\u001B[0m\u001B[37m\u001B[0m \u001B[1m0s\u001B[0m 117ms/step - accuracy: 0.9524 - loss: 0.6237 - precision: 0.8889 - recall: 1.0000 - val_accuracy: 1.0000 - val_loss: 0.5206 - val_precision: 1.0000 - val_recall: 1.0000\n",
      "Epoch 4/50\n",
      "\u001B[1m1/1\u001B[0m \u001B[32m━━━━━━━━━━━━━━━━━━━━\u001B[0m\u001B[37m\u001B[0m \u001B[1m0s\u001B[0m 119ms/step - accuracy: 0.9524 - loss: 0.6024 - precision: 0.8889 - recall: 1.0000 - val_accuracy: 1.0000 - val_loss: 0.4824 - val_precision: 1.0000 - val_recall: 1.0000\n",
      "Epoch 5/50\n",
      "\u001B[1m1/1\u001B[0m \u001B[32m━━━━━━━━━━━━━━━━━━━━\u001B[0m\u001B[37m\u001B[0m \u001B[1m0s\u001B[0m 115ms/step - accuracy: 0.9841 - loss: 0.5765 - precision: 0.9600 - recall: 1.0000 - val_accuracy: 1.0000 - val_loss: 0.4466 - val_precision: 1.0000 - val_recall: 1.0000\n",
      "Epoch 6/50\n",
      "\u001B[1m1/1\u001B[0m \u001B[32m━━━━━━━━━━━━━━━━━━━━\u001B[0m\u001B[37m\u001B[0m \u001B[1m0s\u001B[0m 139ms/step - accuracy: 0.9524 - loss: 0.5599 - precision: 0.8889 - recall: 1.0000 - val_accuracy: 1.0000 - val_loss: 0.4139 - val_precision: 1.0000 - val_recall: 1.0000\n",
      "Epoch 7/50\n",
      "\u001B[1m1/1\u001B[0m \u001B[32m━━━━━━━━━━━━━━━━━━━━\u001B[0m\u001B[37m\u001B[0m \u001B[1m0s\u001B[0m 137ms/step - accuracy: 1.0000 - loss: 0.5400 - precision: 1.0000 - recall: 1.0000 - val_accuracy: 1.0000 - val_loss: 0.3839 - val_precision: 1.0000 - val_recall: 1.0000\n",
      "Epoch 8/50\n",
      "\u001B[1m1/1\u001B[0m \u001B[32m━━━━━━━━━━━━━━━━━━━━\u001B[0m\u001B[37m\u001B[0m \u001B[1m0s\u001B[0m 140ms/step - accuracy: 1.0000 - loss: 0.5266 - precision: 1.0000 - recall: 1.0000 - val_accuracy: 1.0000 - val_loss: 0.3564 - val_precision: 1.0000 - val_recall: 1.0000\n",
      "Epoch 9/50\n",
      "\u001B[1m1/1\u001B[0m \u001B[32m━━━━━━━━━━━━━━━━━━━━\u001B[0m\u001B[37m\u001B[0m \u001B[1m0s\u001B[0m 115ms/step - accuracy: 1.0000 - loss: 0.5072 - precision: 1.0000 - recall: 1.0000 - val_accuracy: 1.0000 - val_loss: 0.3313 - val_precision: 1.0000 - val_recall: 1.0000\n",
      "Epoch 10/50\n",
      "\u001B[1m1/1\u001B[0m \u001B[32m━━━━━━━━━━━━━━━━━━━━\u001B[0m\u001B[37m\u001B[0m \u001B[1m0s\u001B[0m 140ms/step - accuracy: 1.0000 - loss: 0.4959 - precision: 1.0000 - recall: 1.0000 - val_accuracy: 1.0000 - val_loss: 0.3084 - val_precision: 1.0000 - val_recall: 1.0000\n",
      "Epoch 11/50\n",
      "\u001B[1m1/1\u001B[0m \u001B[32m━━━━━━━━━━━━━━━━━━━━\u001B[0m\u001B[37m\u001B[0m \u001B[1m0s\u001B[0m 115ms/step - accuracy: 1.0000 - loss: 0.4723 - precision: 1.0000 - recall: 1.0000 - val_accuracy: 1.0000 - val_loss: 0.2872 - val_precision: 1.0000 - val_recall: 1.0000\n",
      "Epoch 12/50\n",
      "\u001B[1m1/1\u001B[0m \u001B[32m━━━━━━━━━━━━━━━━━━━━\u001B[0m\u001B[37m\u001B[0m \u001B[1m0s\u001B[0m 150ms/step - accuracy: 1.0000 - loss: 0.4574 - precision: 1.0000 - recall: 1.0000 - val_accuracy: 1.0000 - val_loss: 0.2674 - val_precision: 1.0000 - val_recall: 1.0000\n",
      "Epoch 13/50\n",
      "\u001B[1m1/1\u001B[0m \u001B[32m━━━━━━━━━━━━━━━━━━━━\u001B[0m\u001B[37m\u001B[0m \u001B[1m0s\u001B[0m 170ms/step - accuracy: 1.0000 - loss: 0.4358 - precision: 1.0000 - recall: 1.0000 - val_accuracy: 1.0000 - val_loss: 0.2491 - val_precision: 1.0000 - val_recall: 1.0000\n",
      "Epoch 14/50\n",
      "\u001B[1m1/1\u001B[0m \u001B[32m━━━━━━━━━━━━━━━━━━━━\u001B[0m\u001B[37m\u001B[0m \u001B[1m0s\u001B[0m 280ms/step - accuracy: 1.0000 - loss: 0.4215 - precision: 1.0000 - recall: 1.0000 - val_accuracy: 1.0000 - val_loss: 0.2319 - val_precision: 1.0000 - val_recall: 1.0000\n",
      "Epoch 15/50\n",
      "\u001B[1m1/1\u001B[0m \u001B[32m━━━━━━━━━━━━━━━━━━━━\u001B[0m\u001B[37m\u001B[0m \u001B[1m0s\u001B[0m 205ms/step - accuracy: 1.0000 - loss: 0.4080 - precision: 1.0000 - recall: 1.0000 - val_accuracy: 1.0000 - val_loss: 0.2160 - val_precision: 1.0000 - val_recall: 1.0000\n",
      "Epoch 16/50\n",
      "\u001B[1m1/1\u001B[0m \u001B[32m━━━━━━━━━━━━━━━━━━━━\u001B[0m\u001B[37m\u001B[0m \u001B[1m0s\u001B[0m 221ms/step - accuracy: 1.0000 - loss: 0.3894 - precision: 1.0000 - recall: 1.0000 - val_accuracy: 1.0000 - val_loss: 0.2012 - val_precision: 1.0000 - val_recall: 1.0000\n",
      "Epoch 17/50\n",
      "\u001B[1m1/1\u001B[0m \u001B[32m━━━━━━━━━━━━━━━━━━━━\u001B[0m\u001B[37m\u001B[0m \u001B[1m0s\u001B[0m 212ms/step - accuracy: 1.0000 - loss: 0.3687 - precision: 1.0000 - recall: 1.0000 - val_accuracy: 1.0000 - val_loss: 0.1874 - val_precision: 1.0000 - val_recall: 1.0000\n",
      "Epoch 18/50\n",
      "\u001B[1m1/1\u001B[0m \u001B[32m━━━━━━━━━━━━━━━━━━━━\u001B[0m\u001B[37m\u001B[0m \u001B[1m0s\u001B[0m 205ms/step - accuracy: 1.0000 - loss: 0.3505 - precision: 1.0000 - recall: 1.0000 - val_accuracy: 1.0000 - val_loss: 0.1746 - val_precision: 1.0000 - val_recall: 1.0000\n",
      "Epoch 19/50\n",
      "\u001B[1m1/1\u001B[0m \u001B[32m━━━━━━━━━━━━━━━━━━━━\u001B[0m\u001B[37m\u001B[0m \u001B[1m0s\u001B[0m 306ms/step - accuracy: 1.0000 - loss: 0.3379 - precision: 1.0000 - recall: 1.0000 - val_accuracy: 1.0000 - val_loss: 0.1628 - val_precision: 1.0000 - val_recall: 1.0000\n",
      "Epoch 20/50\n",
      "\u001B[1m1/1\u001B[0m \u001B[32m━━━━━━━━━━━━━━━━━━━━\u001B[0m\u001B[37m\u001B[0m \u001B[1m0s\u001B[0m 190ms/step - accuracy: 1.0000 - loss: 0.3270 - precision: 1.0000 - recall: 1.0000 - val_accuracy: 1.0000 - val_loss: 0.1522 - val_precision: 1.0000 - val_recall: 1.0000\n",
      "Epoch 21/50\n",
      "\u001B[1m1/1\u001B[0m \u001B[32m━━━━━━━━━━━━━━━━━━━━\u001B[0m\u001B[37m\u001B[0m \u001B[1m0s\u001B[0m 203ms/step - accuracy: 1.0000 - loss: 0.2900 - precision: 1.0000 - recall: 1.0000 - val_accuracy: 1.0000 - val_loss: 0.1425 - val_precision: 1.0000 - val_recall: 1.0000\n",
      "Epoch 22/50\n",
      "\u001B[1m1/1\u001B[0m \u001B[32m━━━━━━━━━━━━━━━━━━━━\u001B[0m\u001B[37m\u001B[0m \u001B[1m0s\u001B[0m 212ms/step - accuracy: 1.0000 - loss: 0.2742 - precision: 1.0000 - recall: 1.0000 - val_accuracy: 1.0000 - val_loss: 0.1336 - val_precision: 1.0000 - val_recall: 1.0000\n",
      "Epoch 23/50\n",
      "\u001B[1m1/1\u001B[0m \u001B[32m━━━━━━━━━━━━━━━━━━━━\u001B[0m\u001B[37m\u001B[0m \u001B[1m0s\u001B[0m 237ms/step - accuracy: 1.0000 - loss: 0.2618 - precision: 1.0000 - recall: 1.0000 - val_accuracy: 1.0000 - val_loss: 0.1254 - val_precision: 1.0000 - val_recall: 1.0000\n",
      "Epoch 24/50\n",
      "\u001B[1m1/1\u001B[0m \u001B[32m━━━━━━━━━━━━━━━━━━━━\u001B[0m\u001B[37m\u001B[0m \u001B[1m0s\u001B[0m 234ms/step - accuracy: 1.0000 - loss: 0.2511 - precision: 1.0000 - recall: 1.0000 - val_accuracy: 1.0000 - val_loss: 0.1176 - val_precision: 1.0000 - val_recall: 1.0000\n",
      "Epoch 25/50\n",
      "\u001B[1m1/1\u001B[0m \u001B[32m━━━━━━━━━━━━━━━━━━━━\u001B[0m\u001B[37m\u001B[0m \u001B[1m0s\u001B[0m 253ms/step - accuracy: 1.0000 - loss: 0.2194 - precision: 1.0000 - recall: 1.0000 - val_accuracy: 1.0000 - val_loss: 0.1105 - val_precision: 1.0000 - val_recall: 1.0000\n",
      "Epoch 26/50\n",
      "\u001B[1m1/1\u001B[0m \u001B[32m━━━━━━━━━━━━━━━━━━━━\u001B[0m\u001B[37m\u001B[0m \u001B[1m0s\u001B[0m 302ms/step - accuracy: 1.0000 - loss: 0.2094 - precision: 1.0000 - recall: 1.0000 - val_accuracy: 1.0000 - val_loss: 0.1039 - val_precision: 1.0000 - val_recall: 1.0000\n",
      "Epoch 27/50\n",
      "\u001B[1m1/1\u001B[0m \u001B[32m━━━━━━━━━━━━━━━━━━━━\u001B[0m\u001B[37m\u001B[0m \u001B[1m0s\u001B[0m 146ms/step - accuracy: 1.0000 - loss: 0.1964 - precision: 1.0000 - recall: 1.0000 - val_accuracy: 1.0000 - val_loss: 0.0978 - val_precision: 1.0000 - val_recall: 1.0000\n",
      "Epoch 28/50\n",
      "\u001B[1m1/1\u001B[0m \u001B[32m━━━━━━━━━━━━━━━━━━━━\u001B[0m\u001B[37m\u001B[0m \u001B[1m0s\u001B[0m 131ms/step - accuracy: 1.0000 - loss: 0.1683 - precision: 1.0000 - recall: 1.0000 - val_accuracy: 1.0000 - val_loss: 0.0922 - val_precision: 1.0000 - val_recall: 1.0000\n",
      "Epoch 29/50\n",
      "\u001B[1m1/1\u001B[0m \u001B[32m━━━━━━━━━━━━━━━━━━━━\u001B[0m\u001B[37m\u001B[0m \u001B[1m0s\u001B[0m 140ms/step - accuracy: 1.0000 - loss: 0.1521 - precision: 1.0000 - recall: 1.0000 - val_accuracy: 1.0000 - val_loss: 0.0871 - val_precision: 1.0000 - val_recall: 1.0000\n",
      "Epoch 30/50\n",
      "\u001B[1m1/1\u001B[0m \u001B[32m━━━━━━━━━━━━━━━━━━━━\u001B[0m\u001B[37m\u001B[0m \u001B[1m0s\u001B[0m 166ms/step - accuracy: 1.0000 - loss: 0.1416 - precision: 1.0000 - recall: 1.0000 - val_accuracy: 1.0000 - val_loss: 0.0823 - val_precision: 1.0000 - val_recall: 1.0000\n",
      "Epoch 31/50\n",
      "\u001B[1m1/1\u001B[0m \u001B[32m━━━━━━━━━━━━━━━━━━━━\u001B[0m\u001B[37m\u001B[0m \u001B[1m0s\u001B[0m 250ms/step - accuracy: 1.0000 - loss: 0.1236 - precision: 1.0000 - recall: 1.0000 - val_accuracy: 1.0000 - val_loss: 0.0778 - val_precision: 1.0000 - val_recall: 1.0000\n",
      "Epoch 32/50\n",
      "\u001B[1m1/1\u001B[0m \u001B[32m━━━━━━━━━━━━━━━━━━━━\u001B[0m\u001B[37m\u001B[0m \u001B[1m0s\u001B[0m 135ms/step - accuracy: 1.0000 - loss: 0.1137 - precision: 1.0000 - recall: 1.0000 - val_accuracy: 1.0000 - val_loss: 0.0735 - val_precision: 1.0000 - val_recall: 1.0000\n",
      "Epoch 33/50\n",
      "\u001B[1m1/1\u001B[0m \u001B[32m━━━━━━━━━━━━━━━━━━━━\u001B[0m\u001B[37m\u001B[0m \u001B[1m0s\u001B[0m 147ms/step - accuracy: 1.0000 - loss: 0.0975 - precision: 1.0000 - recall: 1.0000 - val_accuracy: 1.0000 - val_loss: 0.0693 - val_precision: 1.0000 - val_recall: 1.0000\n",
      "Epoch 34/50\n",
      "\u001B[1m1/1\u001B[0m \u001B[32m━━━━━━━━━━━━━━━━━━━━\u001B[0m\u001B[37m\u001B[0m \u001B[1m0s\u001B[0m 120ms/step - accuracy: 1.0000 - loss: 0.0894 - precision: 1.0000 - recall: 1.0000 - val_accuracy: 1.0000 - val_loss: 0.0653 - val_precision: 1.0000 - val_recall: 1.0000\n",
      "Epoch 35/50\n",
      "\u001B[1m1/1\u001B[0m \u001B[32m━━━━━━━━━━━━━━━━━━━━\u001B[0m\u001B[37m\u001B[0m \u001B[1m0s\u001B[0m 148ms/step - accuracy: 1.0000 - loss: 0.0844 - precision: 1.0000 - recall: 1.0000 - val_accuracy: 1.0000 - val_loss: 0.0616 - val_precision: 1.0000 - val_recall: 1.0000\n",
      "Epoch 36/50\n",
      "\u001B[1m1/1\u001B[0m \u001B[32m━━━━━━━━━━━━━━━━━━━━\u001B[0m\u001B[37m\u001B[0m \u001B[1m0s\u001B[0m 116ms/step - accuracy: 1.0000 - loss: 0.0736 - precision: 1.0000 - recall: 1.0000 - val_accuracy: 1.0000 - val_loss: 0.0581 - val_precision: 1.0000 - val_recall: 1.0000\n",
      "Epoch 37/50\n",
      "\u001B[1m1/1\u001B[0m \u001B[32m━━━━━━━━━━━━━━━━━━━━\u001B[0m\u001B[37m\u001B[0m \u001B[1m0s\u001B[0m 137ms/step - accuracy: 1.0000 - loss: 0.0658 - precision: 1.0000 - recall: 1.0000 - val_accuracy: 1.0000 - val_loss: 0.0549 - val_precision: 1.0000 - val_recall: 1.0000\n",
      "Epoch 38/50\n",
      "\u001B[1m1/1\u001B[0m \u001B[32m━━━━━━━━━━━━━━━━━━━━\u001B[0m\u001B[37m\u001B[0m \u001B[1m0s\u001B[0m 115ms/step - accuracy: 1.0000 - loss: 0.0580 - precision: 1.0000 - recall: 1.0000 - val_accuracy: 1.0000 - val_loss: 0.0519 - val_precision: 1.0000 - val_recall: 1.0000\n",
      "Epoch 39/50\n",
      "\u001B[1m1/1\u001B[0m \u001B[32m━━━━━━━━━━━━━━━━━━━━\u001B[0m\u001B[37m\u001B[0m \u001B[1m0s\u001B[0m 117ms/step - accuracy: 1.0000 - loss: 0.0500 - precision: 1.0000 - recall: 1.0000 - val_accuracy: 1.0000 - val_loss: 0.0492 - val_precision: 1.0000 - val_recall: 1.0000\n",
      "Epoch 40/50\n",
      "\u001B[1m1/1\u001B[0m \u001B[32m━━━━━━━━━━━━━━━━━━━━\u001B[0m\u001B[37m\u001B[0m \u001B[1m0s\u001B[0m 158ms/step - accuracy: 1.0000 - loss: 0.0466 - precision: 1.0000 - recall: 1.0000 - val_accuracy: 1.0000 - val_loss: 0.0466 - val_precision: 1.0000 - val_recall: 1.0000\n",
      "Epoch 41/50\n",
      "\u001B[1m1/1\u001B[0m \u001B[32m━━━━━━━━━━━━━━━━━━━━\u001B[0m\u001B[37m\u001B[0m \u001B[1m0s\u001B[0m 260ms/step - accuracy: 1.0000 - loss: 0.0450 - precision: 1.0000 - recall: 1.0000 - val_accuracy: 1.0000 - val_loss: 0.0443 - val_precision: 1.0000 - val_recall: 1.0000\n",
      "Epoch 42/50\n",
      "\u001B[1m1/1\u001B[0m \u001B[32m━━━━━━━━━━━━━━━━━━━━\u001B[0m\u001B[37m\u001B[0m \u001B[1m0s\u001B[0m 115ms/step - accuracy: 1.0000 - loss: 0.0382 - precision: 1.0000 - recall: 1.0000 - val_accuracy: 1.0000 - val_loss: 0.0421 - val_precision: 1.0000 - val_recall: 1.0000\n",
      "Epoch 43/50\n",
      "\u001B[1m1/1\u001B[0m \u001B[32m━━━━━━━━━━━━━━━━━━━━\u001B[0m\u001B[37m\u001B[0m \u001B[1m0s\u001B[0m 139ms/step - accuracy: 1.0000 - loss: 0.0371 - precision: 1.0000 - recall: 1.0000 - val_accuracy: 1.0000 - val_loss: 0.0401 - val_precision: 1.0000 - val_recall: 1.0000\n",
      "Epoch 44/50\n",
      "\u001B[1m1/1\u001B[0m \u001B[32m━━━━━━━━━━━━━━━━━━━━\u001B[0m\u001B[37m\u001B[0m \u001B[1m0s\u001B[0m 116ms/step - accuracy: 1.0000 - loss: 0.0324 - precision: 1.0000 - recall: 1.0000 - val_accuracy: 1.0000 - val_loss: 0.0382 - val_precision: 1.0000 - val_recall: 1.0000\n",
      "Epoch 45/50\n",
      "\u001B[1m1/1\u001B[0m \u001B[32m━━━━━━━━━━━━━━━━━━━━\u001B[0m\u001B[37m\u001B[0m \u001B[1m0s\u001B[0m 161ms/step - accuracy: 1.0000 - loss: 0.0306 - precision: 1.0000 - recall: 1.0000 - val_accuracy: 1.0000 - val_loss: 0.0365 - val_precision: 1.0000 - val_recall: 1.0000\n",
      "Epoch 46/50\n",
      "\u001B[1m1/1\u001B[0m \u001B[32m━━━━━━━━━━━━━━━━━━━━\u001B[0m\u001B[37m\u001B[0m \u001B[1m0s\u001B[0m 270ms/step - accuracy: 1.0000 - loss: 0.0321 - precision: 1.0000 - recall: 1.0000 - val_accuracy: 1.0000 - val_loss: 0.0348 - val_precision: 1.0000 - val_recall: 1.0000\n",
      "Epoch 47/50\n",
      "\u001B[1m1/1\u001B[0m \u001B[32m━━━━━━━━━━━━━━━━━━━━\u001B[0m\u001B[37m\u001B[0m \u001B[1m0s\u001B[0m 120ms/step - accuracy: 1.0000 - loss: 0.0244 - precision: 1.0000 - recall: 1.0000 - val_accuracy: 1.0000 - val_loss: 0.0332 - val_precision: 1.0000 - val_recall: 1.0000\n",
      "Epoch 48/50\n",
      "\u001B[1m1/1\u001B[0m \u001B[32m━━━━━━━━━━━━━━━━━━━━\u001B[0m\u001B[37m\u001B[0m \u001B[1m0s\u001B[0m 121ms/step - accuracy: 1.0000 - loss: 0.0249 - precision: 1.0000 - recall: 1.0000 - val_accuracy: 1.0000 - val_loss: 0.0317 - val_precision: 1.0000 - val_recall: 1.0000\n",
      "Epoch 49/50\n",
      "\u001B[1m1/1\u001B[0m \u001B[32m━━━━━━━━━━━━━━━━━━━━\u001B[0m\u001B[37m\u001B[0m \u001B[1m0s\u001B[0m 118ms/step - accuracy: 1.0000 - loss: 0.0215 - precision: 1.0000 - recall: 1.0000 - val_accuracy: 1.0000 - val_loss: 0.0303 - val_precision: 1.0000 - val_recall: 1.0000\n",
      "Epoch 50/50\n",
      "\u001B[1m1/1\u001B[0m \u001B[32m━━━━━━━━━━━━━━━━━━━━\u001B[0m\u001B[37m\u001B[0m \u001B[1m0s\u001B[0m 122ms/step - accuracy: 1.0000 - loss: 0.0200 - precision: 1.0000 - recall: 1.0000 - val_accuracy: 1.0000 - val_loss: 0.0290 - val_precision: 1.0000 - val_recall: 1.0000\n"
     ]
    },
    {
     "output_type": "stream",
     "name": "stderr",
     "text": [
      "WARNING:absl:You are saving your model as an HDF5 file via `model.save()` or `keras.saving.save_model(model)`. This file format is considered legacy. We recommend using instead the native Keras format, e.g. `model.save('my_model.keras')` or `keras.saving.save_model(model, 'my_model.keras')`. \n"
     ]
    },
    {
     "output_type": "stream",
     "name": "stdout",
     "text": [
      "Model saved as model_undersampled_batch128.h5\n",
      "\n",
      "Training recurrent neural network with dataset: undersampled, batch size: 256\n",
      "Epoch 1/50\n",
      "\u001B[1m1/1\u001B[0m \u001B[32m━━━━━━━━━━━━━━━━━━━━\u001B[0m\u001B[37m\u001B[0m \u001B[1m5s\u001B[0m 5s/step - accuracy: 0.6508 - loss: 0.6841 - precision: 0.5385 - recall: 0.5833 - val_accuracy: 1.0000 - val_loss: 0.5831 - val_precision: 1.0000 - val_recall: 1.0000\n",
      "Epoch 2/50\n",
      "\u001B[1m1/1\u001B[0m \u001B[32m━━━━━━━━━━━━━━━━━━━━\u001B[0m\u001B[37m\u001B[0m \u001B[1m0s\u001B[0m 184ms/step - accuracy: 0.8730 - loss: 0.6384 - precision: 0.7667 - recall: 0.9583 - val_accuracy: 1.0000 - val_loss: 0.5428 - val_precision: 1.0000 - val_recall: 1.0000\n",
      "Epoch 3/50\n",
      "\u001B[1m1/1\u001B[0m \u001B[32m━━━━━━━━━━━━━━━━━━━━\u001B[0m\u001B[37m\u001B[0m \u001B[1m0s\u001B[0m 200ms/step - accuracy: 0.8730 - loss: 0.6300 - precision: 0.7500 - recall: 1.0000 - val_accuracy: 1.0000 - val_loss: 0.5105 - val_precision: 1.0000 - val_recall: 1.0000\n",
      "Epoch 4/50\n",
      "\u001B[1m1/1\u001B[0m \u001B[32m━━━━━━━━━━━━━━━━━━━━\u001B[0m\u001B[37m\u001B[0m \u001B[1m0s\u001B[0m 315ms/step - accuracy: 0.9206 - loss: 0.5994 - precision: 0.8276 - recall: 1.0000 - val_accuracy: 1.0000 - val_loss: 0.4810 - val_precision: 1.0000 - val_recall: 1.0000\n",
      "Epoch 5/50\n",
      "\u001B[1m1/1\u001B[0m \u001B[32m━━━━━━━━━━━━━━━━━━━━\u001B[0m\u001B[37m\u001B[0m \u001B[1m0s\u001B[0m 311ms/step - accuracy: 0.9683 - loss: 0.5770 - precision: 0.9231 - recall: 1.0000 - val_accuracy: 1.0000 - val_loss: 0.4532 - val_precision: 1.0000 - val_recall: 1.0000\n",
      "Epoch 6/50\n",
      "\u001B[1m1/1\u001B[0m \u001B[32m━━━━━━━━━━━━━━━━━━━━\u001B[0m\u001B[37m\u001B[0m \u001B[1m0s\u001B[0m 216ms/step - accuracy: 0.9683 - loss: 0.5638 - precision: 0.9231 - recall: 1.0000 - val_accuracy: 1.0000 - val_loss: 0.4263 - val_precision: 1.0000 - val_recall: 1.0000\n",
      "Epoch 7/50\n",
      "\u001B[1m1/1\u001B[0m \u001B[32m━━━━━━━━━━━━━━━━━━━━\u001B[0m\u001B[37m\u001B[0m \u001B[1m0s\u001B[0m 222ms/step - accuracy: 0.9841 - loss: 0.5341 - precision: 0.9600 - recall: 1.0000 - val_accuracy: 1.0000 - val_loss: 0.3996 - val_precision: 1.0000 - val_recall: 1.0000\n",
      "Epoch 8/50\n",
      "\u001B[1m1/1\u001B[0m \u001B[32m━━━━━━━━━━━━━━━━━━━━\u001B[0m\u001B[37m\u001B[0m \u001B[1m0s\u001B[0m 202ms/step - accuracy: 0.9841 - loss: 0.5218 - precision: 0.9600 - recall: 1.0000 - val_accuracy: 1.0000 - val_loss: 0.3726 - val_precision: 1.0000 - val_recall: 1.0000\n",
      "Epoch 9/50\n",
      "\u001B[1m1/1\u001B[0m \u001B[32m━━━━━━━━━━━━━━━━━━━━\u001B[0m\u001B[37m\u001B[0m \u001B[1m0s\u001B[0m 321ms/step - accuracy: 0.9841 - loss: 0.4989 - precision: 0.9600 - recall: 1.0000 - val_accuracy: 1.0000 - val_loss: 0.3446 - val_precision: 1.0000 - val_recall: 1.0000\n",
      "Epoch 10/50\n",
      "\u001B[1m1/1\u001B[0m \u001B[32m━━━━━━━━━━━━━━━━━━━━\u001B[0m\u001B[37m\u001B[0m \u001B[1m0s\u001B[0m 308ms/step - accuracy: 1.0000 - loss: 0.4851 - precision: 1.0000 - recall: 1.0000 - val_accuracy: 1.0000 - val_loss: 0.3172 - val_precision: 1.0000 - val_recall: 1.0000\n",
      "Epoch 11/50\n",
      "\u001B[1m1/1\u001B[0m \u001B[32m━━━━━━━━━━━━━━━━━━━━\u001B[0m\u001B[37m\u001B[0m \u001B[1m0s\u001B[0m 229ms/step - accuracy: 1.0000 - loss: 0.4554 - precision: 1.0000 - recall: 1.0000 - val_accuracy: 1.0000 - val_loss: 0.2905 - val_precision: 1.0000 - val_recall: 1.0000\n",
      "Epoch 12/50\n",
      "\u001B[1m1/1\u001B[0m \u001B[32m━━━━━━━━━━━━━━━━━━━━\u001B[0m\u001B[37m\u001B[0m \u001B[1m0s\u001B[0m 216ms/step - accuracy: 1.0000 - loss: 0.4361 - precision: 1.0000 - recall: 1.0000 - val_accuracy: 1.0000 - val_loss: 0.2651 - val_precision: 1.0000 - val_recall: 1.0000\n",
      "Epoch 13/50\n",
      "\u001B[1m1/1\u001B[0m \u001B[32m━━━━━━━━━━━━━━━━━━━━\u001B[0m\u001B[37m\u001B[0m \u001B[1m0s\u001B[0m 133ms/step - accuracy: 1.0000 - loss: 0.4123 - precision: 1.0000 - recall: 1.0000 - val_accuracy: 1.0000 - val_loss: 0.2412 - val_precision: 1.0000 - val_recall: 1.0000\n",
      "Epoch 14/50\n",
      "\u001B[1m1/1\u001B[0m \u001B[32m━━━━━━━━━━━━━━━━━━━━\u001B[0m\u001B[37m\u001B[0m \u001B[1m0s\u001B[0m 132ms/step - accuracy: 1.0000 - loss: 0.3924 - precision: 1.0000 - recall: 1.0000 - val_accuracy: 1.0000 - val_loss: 0.2187 - val_precision: 1.0000 - val_recall: 1.0000\n",
      "Epoch 15/50\n",
      "\u001B[1m1/1\u001B[0m \u001B[32m━━━━━━━━━━━━━━━━━━━━\u001B[0m\u001B[37m\u001B[0m \u001B[1m0s\u001B[0m 168ms/step - accuracy: 1.0000 - loss: 0.3591 - precision: 1.0000 - recall: 1.0000 - val_accuracy: 1.0000 - val_loss: 0.1979 - val_precision: 1.0000 - val_recall: 1.0000\n",
      "Epoch 16/50\n",
      "\u001B[1m1/1\u001B[0m \u001B[32m━━━━━━━━━━━━━━━━━━━━\u001B[0m\u001B[37m\u001B[0m \u001B[1m0s\u001B[0m 269ms/step - accuracy: 1.0000 - loss: 0.3322 - precision: 1.0000 - recall: 1.0000 - val_accuracy: 1.0000 - val_loss: 0.1792 - val_precision: 1.0000 - val_recall: 1.0000\n",
      "Epoch 17/50\n",
      "\u001B[1m1/1\u001B[0m \u001B[32m━━━━━━━━━━━━━━━━━━━━\u001B[0m\u001B[37m\u001B[0m \u001B[1m0s\u001B[0m 133ms/step - accuracy: 1.0000 - loss: 0.3057 - precision: 1.0000 - recall: 1.0000 - val_accuracy: 1.0000 - val_loss: 0.1624 - val_precision: 1.0000 - val_recall: 1.0000\n",
      "Epoch 18/50\n",
      "\u001B[1m1/1\u001B[0m \u001B[32m━━━━━━━━━━━━━━━━━━━━\u001B[0m\u001B[37m\u001B[0m \u001B[1m0s\u001B[0m 136ms/step - accuracy: 1.0000 - loss: 0.2828 - precision: 1.0000 - recall: 1.0000 - val_accuracy: 1.0000 - val_loss: 0.1474 - val_precision: 1.0000 - val_recall: 1.0000\n",
      "Epoch 19/50\n",
      "\u001B[1m1/1\u001B[0m \u001B[32m━━━━━━━━━━━━━━━━━━━━\u001B[0m\u001B[37m\u001B[0m \u001B[1m0s\u001B[0m 172ms/step - accuracy: 1.0000 - loss: 0.2666 - precision: 1.0000 - recall: 1.0000 - val_accuracy: 1.0000 - val_loss: 0.1342 - val_precision: 1.0000 - val_recall: 1.0000\n",
      "Epoch 20/50\n",
      "\u001B[1m1/1\u001B[0m \u001B[32m━━━━━━━━━━━━━━━━━━━━\u001B[0m\u001B[37m\u001B[0m \u001B[1m0s\u001B[0m 129ms/step - accuracy: 1.0000 - loss: 0.2434 - precision: 1.0000 - recall: 1.0000 - val_accuracy: 1.0000 - val_loss: 0.1224 - val_precision: 1.0000 - val_recall: 1.0000\n",
      "Epoch 21/50\n",
      "\u001B[1m1/1\u001B[0m \u001B[32m━━━━━━━━━━━━━━━━━━━━\u001B[0m\u001B[37m\u001B[0m \u001B[1m0s\u001B[0m 150ms/step - accuracy: 1.0000 - loss: 0.2240 - precision: 1.0000 - recall: 1.0000 - val_accuracy: 1.0000 - val_loss: 0.1119 - val_precision: 1.0000 - val_recall: 1.0000\n",
      "Epoch 22/50\n",
      "\u001B[1m1/1\u001B[0m \u001B[32m━━━━━━━━━━━━━━━━━━━━\u001B[0m\u001B[37m\u001B[0m \u001B[1m0s\u001B[0m 161ms/step - accuracy: 1.0000 - loss: 0.2024 - precision: 1.0000 - recall: 1.0000 - val_accuracy: 1.0000 - val_loss: 0.1025 - val_precision: 1.0000 - val_recall: 1.0000\n",
      "Epoch 23/50\n",
      "\u001B[1m1/1\u001B[0m \u001B[32m━━━━━━━━━━━━━━━━━━━━\u001B[0m\u001B[37m\u001B[0m \u001B[1m0s\u001B[0m 119ms/step - accuracy: 1.0000 - loss: 0.1727 - precision: 1.0000 - recall: 1.0000 - val_accuracy: 1.0000 - val_loss: 0.0943 - val_precision: 1.0000 - val_recall: 1.0000\n",
      "Epoch 24/50\n",
      "\u001B[1m1/1\u001B[0m \u001B[32m━━━━━━━━━━━━━━━━━━━━\u001B[0m\u001B[37m\u001B[0m \u001B[1m0s\u001B[0m 175ms/step - accuracy: 1.0000 - loss: 0.1604 - precision: 1.0000 - recall: 1.0000 - val_accuracy: 1.0000 - val_loss: 0.0869 - val_precision: 1.0000 - val_recall: 1.0000\n",
      "Epoch 25/50\n",
      "\u001B[1m1/1\u001B[0m \u001B[32m━━━━━━━━━━━━━━━━━━━━\u001B[0m\u001B[37m\u001B[0m \u001B[1m0s\u001B[0m 257ms/step - accuracy: 1.0000 - loss: 0.1408 - precision: 1.0000 - recall: 1.0000 - val_accuracy: 1.0000 - val_loss: 0.0802 - val_precision: 1.0000 - val_recall: 1.0000\n",
      "Epoch 26/50\n",
      "\u001B[1m1/1\u001B[0m \u001B[32m━━━━━━━━━━━━━━━━━━━━\u001B[0m\u001B[37m\u001B[0m \u001B[1m0s\u001B[0m 111ms/step - accuracy: 1.0000 - loss: 0.1124 - precision: 1.0000 - recall: 1.0000 - val_accuracy: 1.0000 - val_loss: 0.0743 - val_precision: 1.0000 - val_recall: 1.0000\n",
      "Epoch 27/50\n",
      "\u001B[1m1/1\u001B[0m \u001B[32m━━━━━━━━━━━━━━━━━━━━\u001B[0m\u001B[37m\u001B[0m \u001B[1m0s\u001B[0m 153ms/step - accuracy: 1.0000 - loss: 0.1054 - precision: 1.0000 - recall: 1.0000 - val_accuracy: 1.0000 - val_loss: 0.0690 - val_precision: 1.0000 - val_recall: 1.0000\n",
      "Epoch 28/50\n",
      "\u001B[1m1/1\u001B[0m \u001B[32m━━━━━━━━━━━━━━━━━━━━\u001B[0m\u001B[37m\u001B[0m \u001B[1m0s\u001B[0m 154ms/step - accuracy: 1.0000 - loss: 0.0818 - precision: 1.0000 - recall: 1.0000 - val_accuracy: 1.0000 - val_loss: 0.0642 - val_precision: 1.0000 - val_recall: 1.0000\n",
      "Epoch 29/50\n",
      "\u001B[1m1/1\u001B[0m \u001B[32m━━━━━━━━━━━━━━━━━━━━\u001B[0m\u001B[37m\u001B[0m \u001B[1m0s\u001B[0m 132ms/step - accuracy: 1.0000 - loss: 0.0880 - precision: 1.0000 - recall: 1.0000 - val_accuracy: 1.0000 - val_loss: 0.0599 - val_precision: 1.0000 - val_recall: 1.0000\n",
      "Epoch 30/50\n",
      "\u001B[1m1/1\u001B[0m \u001B[32m━━━━━━━━━━━━━━━━━━━━\u001B[0m\u001B[37m\u001B[0m \u001B[1m0s\u001B[0m 140ms/step - accuracy: 1.0000 - loss: 0.0669 - precision: 1.0000 - recall: 1.0000 - val_accuracy: 1.0000 - val_loss: 0.0560 - val_precision: 1.0000 - val_recall: 1.0000\n",
      "Epoch 31/50\n",
      "\u001B[1m1/1\u001B[0m \u001B[32m━━━━━━━━━━━━━━━━━━━━\u001B[0m\u001B[37m\u001B[0m \u001B[1m0s\u001B[0m 129ms/step - accuracy: 1.0000 - loss: 0.0615 - precision: 1.0000 - recall: 1.0000 - val_accuracy: 1.0000 - val_loss: 0.0524 - val_precision: 1.0000 - val_recall: 1.0000\n",
      "Epoch 32/50\n",
      "\u001B[1m1/1\u001B[0m \u001B[32m━━━━━━━━━━━━━━━━━━━━\u001B[0m\u001B[37m\u001B[0m \u001B[1m0s\u001B[0m 130ms/step - accuracy: 1.0000 - loss: 0.0529 - precision: 1.0000 - recall: 1.0000 - val_accuracy: 1.0000 - val_loss: 0.0491 - val_precision: 1.0000 - val_recall: 1.0000\n",
      "Epoch 33/50\n",
      "\u001B[1m1/1\u001B[0m \u001B[32m━━━━━━━━━━━━━━━━━━━━\u001B[0m\u001B[37m\u001B[0m \u001B[1m0s\u001B[0m 132ms/step - accuracy: 1.0000 - loss: 0.0447 - precision: 1.0000 - recall: 1.0000 - val_accuracy: 1.0000 - val_loss: 0.0461 - val_precision: 1.0000 - val_recall: 1.0000\n",
      "Epoch 34/50\n",
      "\u001B[1m1/1\u001B[0m \u001B[32m━━━━━━━━━━━━━━━━━━━━\u001B[0m\u001B[37m\u001B[0m \u001B[1m0s\u001B[0m 169ms/step - accuracy: 1.0000 - loss: 0.0381 - precision: 1.0000 - recall: 1.0000 - val_accuracy: 1.0000 - val_loss: 0.0433 - val_precision: 1.0000 - val_recall: 1.0000\n",
      "Epoch 35/50\n",
      "\u001B[1m1/1\u001B[0m \u001B[32m━━━━━━━━━━━━━━━━━━━━\u001B[0m\u001B[37m\u001B[0m \u001B[1m0s\u001B[0m 131ms/step - accuracy: 1.0000 - loss: 0.0372 - precision: 1.0000 - recall: 1.0000 - val_accuracy: 1.0000 - val_loss: 0.0408 - val_precision: 1.0000 - val_recall: 1.0000\n",
      "Epoch 36/50\n",
      "\u001B[1m1/1\u001B[0m \u001B[32m━━━━━━━━━━━━━━━━━━━━\u001B[0m\u001B[37m\u001B[0m \u001B[1m0s\u001B[0m 133ms/step - accuracy: 1.0000 - loss: 0.0334 - precision: 1.0000 - recall: 1.0000 - val_accuracy: 1.0000 - val_loss: 0.0385 - val_precision: 1.0000 - val_recall: 1.0000\n",
      "Epoch 37/50\n",
      "\u001B[1m1/1\u001B[0m \u001B[32m━━━━━━━━━━━━━━━━━━━━\u001B[0m\u001B[37m\u001B[0m \u001B[1m0s\u001B[0m 134ms/step - accuracy: 1.0000 - loss: 0.0311 - precision: 1.0000 - recall: 1.0000 - val_accuracy: 1.0000 - val_loss: 0.0363 - val_precision: 1.0000 - val_recall: 1.0000\n",
      "Epoch 38/50\n",
      "\u001B[1m1/1\u001B[0m \u001B[32m━━━━━━━━━━━━━━━━━━━━\u001B[0m\u001B[37m\u001B[0m \u001B[1m0s\u001B[0m 131ms/step - accuracy: 1.0000 - loss: 0.0253 - precision: 1.0000 - recall: 1.0000 - val_accuracy: 1.0000 - val_loss: 0.0343 - val_precision: 1.0000 - val_recall: 1.0000\n",
      "Epoch 39/50\n",
      "\u001B[1m1/1\u001B[0m \u001B[32m━━━━━━━━━━━━━━━━━━━━\u001B[0m\u001B[37m\u001B[0m \u001B[1m0s\u001B[0m 130ms/step - accuracy: 1.0000 - loss: 0.0252 - precision: 1.0000 - recall: 1.0000 - val_accuracy: 1.0000 - val_loss: 0.0325 - val_precision: 1.0000 - val_recall: 1.0000\n",
      "Epoch 40/50\n",
      "\u001B[1m1/1\u001B[0m \u001B[32m━━━━━━━━━━━━━━━━━━━━\u001B[0m\u001B[37m\u001B[0m \u001B[1m0s\u001B[0m 165ms/step - accuracy: 1.0000 - loss: 0.0226 - precision: 1.0000 - recall: 1.0000 - val_accuracy: 1.0000 - val_loss: 0.0308 - val_precision: 1.0000 - val_recall: 1.0000\n",
      "Epoch 41/50\n",
      "\u001B[1m1/1\u001B[0m \u001B[32m━━━━━━━━━━━━━━━━━━━━\u001B[0m\u001B[37m\u001B[0m \u001B[1m0s\u001B[0m 265ms/step - accuracy: 1.0000 - loss: 0.0219 - precision: 1.0000 - recall: 1.0000 - val_accuracy: 1.0000 - val_loss: 0.0292 - val_precision: 1.0000 - val_recall: 1.0000\n",
      "Epoch 42/50\n",
      "\u001B[1m1/1\u001B[0m \u001B[32m━━━━━━━━━━━━━━━━━━━━\u001B[0m\u001B[37m\u001B[0m \u001B[1m0s\u001B[0m 135ms/step - accuracy: 1.0000 - loss: 0.0178 - precision: 1.0000 - recall: 1.0000 - val_accuracy: 1.0000 - val_loss: 0.0278 - val_precision: 1.0000 - val_recall: 1.0000\n",
      "Epoch 43/50\n",
      "\u001B[1m1/1\u001B[0m \u001B[32m━━━━━━━━━━━━━━━━━━━━\u001B[0m\u001B[37m\u001B[0m \u001B[1m0s\u001B[0m 167ms/step - accuracy: 1.0000 - loss: 0.0156 - precision: 1.0000 - recall: 1.0000 - val_accuracy: 1.0000 - val_loss: 0.0264 - val_precision: 1.0000 - val_recall: 1.0000\n",
      "Epoch 44/50\n",
      "\u001B[1m1/1\u001B[0m \u001B[32m━━━━━━━━━━━━━━━━━━━━\u001B[0m\u001B[37m\u001B[0m \u001B[1m0s\u001B[0m 129ms/step - accuracy: 1.0000 - loss: 0.0174 - precision: 1.0000 - recall: 1.0000 - val_accuracy: 1.0000 - val_loss: 0.0251 - val_precision: 1.0000 - val_recall: 1.0000\n",
      "Epoch 45/50\n",
      "\u001B[1m1/1\u001B[0m \u001B[32m━━━━━━━━━━━━━━━━━━━━\u001B[0m\u001B[37m\u001B[0m \u001B[1m0s\u001B[0m 130ms/step - accuracy: 1.0000 - loss: 0.0152 - precision: 1.0000 - recall: 1.0000 - val_accuracy: 1.0000 - val_loss: 0.0240 - val_precision: 1.0000 - val_recall: 1.0000\n",
      "Epoch 46/50\n",
      "\u001B[1m1/1\u001B[0m \u001B[32m━━━━━━━━━━━━━━━━━━━━\u001B[0m\u001B[37m\u001B[0m \u001B[1m0s\u001B[0m 171ms/step - accuracy: 1.0000 - loss: 0.0154 - precision: 1.0000 - recall: 1.0000 - val_accuracy: 1.0000 - val_loss: 0.0229 - val_precision: 1.0000 - val_recall: 1.0000\n",
      "Epoch 47/50\n",
      "\u001B[1m1/1\u001B[0m \u001B[32m━━━━━━━━━━━━━━━━━━━━\u001B[0m\u001B[37m\u001B[0m \u001B[1m0s\u001B[0m 262ms/step - accuracy: 1.0000 - loss: 0.0151 - precision: 1.0000 - recall: 1.0000 - val_accuracy: 1.0000 - val_loss: 0.0218 - val_precision: 1.0000 - val_recall: 1.0000\n",
      "Epoch 48/50\n",
      "\u001B[1m1/1\u001B[0m \u001B[32m━━━━━━━━━━━━━━━━━━━━\u001B[0m\u001B[37m\u001B[0m \u001B[1m0s\u001B[0m 133ms/step - accuracy: 1.0000 - loss: 0.0153 - precision: 1.0000 - recall: 1.0000 - val_accuracy: 1.0000 - val_loss: 0.0208 - val_precision: 1.0000 - val_recall: 1.0000\n",
      "Epoch 49/50\n",
      "\u001B[1m1/1\u001B[0m \u001B[32m━━━━━━━━━━━━━━━━━━━━\u001B[0m\u001B[37m\u001B[0m \u001B[1m0s\u001B[0m 135ms/step - accuracy: 1.0000 - loss: 0.0121 - precision: 1.0000 - recall: 1.0000 - val_accuracy: 1.0000 - val_loss: 0.0199 - val_precision: 1.0000 - val_recall: 1.0000\n",
      "Epoch 50/50\n",
      "\u001B[1m1/1\u001B[0m \u001B[32m━━━━━━━━━━━━━━━━━━━━\u001B[0m\u001B[37m\u001B[0m \u001B[1m0s\u001B[0m 130ms/step - accuracy: 1.0000 - loss: 0.0123 - precision: 1.0000 - recall: 1.0000 - val_accuracy: 1.0000 - val_loss: 0.0191 - val_precision: 1.0000 - val_recall: 1.0000\n"
     ]
    },
    {
     "output_type": "stream",
     "name": "stderr",
     "text": [
      "WARNING:absl:You are saving your model as an HDF5 file via `model.save()` or `keras.saving.save_model(model)`. This file format is considered legacy. We recommend using instead the native Keras format, e.g. `model.save('my_model.keras')` or `keras.saving.save_model(model, 'my_model.keras')`. \n"
     ]
    },
    {
     "output_type": "stream",
     "name": "stdout",
     "text": [
      "Model saved as model_undersampled_batch256.h5\n"
     ]
    }
   ],
   "id": "d5ff584e30baec30"
  },
  {
   "cell_type": "markdown",
   "source": [
    "# Evaluation"
   ],
   "metadata": {
    "id": "dgaJuOR1oOrE"
   },
   "id": "e008649b74d3a0e3"
  },
  {
   "cell_type": "code",
   "source": [
    "results = []\n",
    "# Loop through datasets and batch sizes to load training and predict\n",
    "for dataset_name,_,_,_ in datasets:\n",
    "    for batch in batches:\n",
    "        # Load the saved model\n",
    "        model_name = f'model_{dataset_name}_batch{batch}.h5'\n",
    "        model = load_model(model_name)\n",
    "        # Predict on test set\n",
    "        thresholds = [0.3, 0.4, 0.5]\n",
    "        for threshold in thresholds:\n",
    "             y_pred = (model.predict(X_test_seq) > threshold).astype(int).flatten()\n",
    "             # Compute metrics for fraud class (Class 1)\n",
    "             precision = precision_score(y_test_seq, y_pred, pos_label=1)\n",
    "             f1 = f1_score(y_test_seq, y_pred, pos_label=1)\n",
    "             recall = recall_score(y_test_seq, y_pred, pos_label=1)\n",
    "             results.append({\n",
    "                'dataset': dataset_name,\n",
    "                'batch_size': batch,\n",
    "                'precision': precision,\n",
    "                'f1_score': f1,\n",
    "                'threshold': threshold,\n",
    "                'recall': recall\n",
    "            })\n",
    "             print(f\"\\nMetrics for dataset: {dataset_name}, batch size: {batch}, threshold: {threshold}\")\n",
    "             print(f\"Precision: {precision:.4f}\")\n",
    "             print(f\"Recall: {recall:.4f}\")\n",
    "             print(f\"F1-Score: {f1:.4f}\")\n"
   ],
   "metadata": {
    "colab": {
     "base_uri": "https://localhost:8080/"
    },
    "id": "kNb9qdpDoQIv",
    "outputId": "b04bc8c3-d28a-4461-9911-97e4af0ad467"
   },
   "execution_count": 153,
   "outputs": [
    {
     "output_type": "stream",
     "name": "stderr",
     "text": [
      "WARNING:absl:Compiled the loaded model, but the compiled metrics have yet to be built. `model.compile_metrics` will be empty until you train or evaluate the model.\n"
     ]
    },
    {
     "output_type": "stream",
     "name": "stdout",
     "text": [
      "\u001B[1m178/178\u001B[0m \u001B[32m━━━━━━━━━━━━━━━━━━━━\u001B[0m\u001B[37m\u001B[0m \u001B[1m1s\u001B[0m 6ms/step\n",
      "\n",
      "Metrics for dataset: original, batch size: 32, threshold: 0.3\n",
      "Precision: 1.0000\n",
      "Recall: 0.8182\n",
      "F1-Score: 0.9000\n",
      "\u001B[1m178/178\u001B[0m \u001B[32m━━━━━━━━━━━━━━━━━━━━\u001B[0m\u001B[37m\u001B[0m \u001B[1m1s\u001B[0m 4ms/step\n",
      "\n",
      "Metrics for dataset: original, batch size: 32, threshold: 0.4\n",
      "Precision: 1.0000\n",
      "Recall: 0.8182\n",
      "F1-Score: 0.9000\n",
      "\u001B[1m178/178\u001B[0m \u001B[32m━━━━━━━━━━━━━━━━━━━━\u001B[0m\u001B[37m\u001B[0m \u001B[1m1s\u001B[0m 4ms/step\n"
     ]
    },
    {
     "output_type": "stream",
     "name": "stderr",
     "text": [
      "WARNING:absl:Compiled the loaded model, but the compiled metrics have yet to be built. `model.compile_metrics` will be empty until you train or evaluate the model.\n"
     ]
    },
    {
     "output_type": "stream",
     "name": "stdout",
     "text": [
      "\n",
      "Metrics for dataset: original, batch size: 32, threshold: 0.5\n",
      "Precision: 1.0000\n",
      "Recall: 0.8182\n",
      "F1-Score: 0.9000\n",
      "\u001B[1m178/178\u001B[0m \u001B[32m━━━━━━━━━━━━━━━━━━━━\u001B[0m\u001B[37m\u001B[0m \u001B[1m1s\u001B[0m 6ms/step\n",
      "\n",
      "Metrics for dataset: original, batch size: 64, threshold: 0.3\n",
      "Precision: 0.8182\n",
      "Recall: 0.8182\n",
      "F1-Score: 0.8182\n",
      "\u001B[1m178/178\u001B[0m \u001B[32m━━━━━━━━━━━━━━━━━━━━\u001B[0m\u001B[37m\u001B[0m \u001B[1m1s\u001B[0m 4ms/step\n",
      "\n",
      "Metrics for dataset: original, batch size: 64, threshold: 0.4\n",
      "Precision: 0.9000\n",
      "Recall: 0.8182\n",
      "F1-Score: 0.8571\n",
      "\u001B[1m178/178\u001B[0m \u001B[32m━━━━━━━━━━━━━━━━━━━━\u001B[0m\u001B[37m\u001B[0m \u001B[1m1s\u001B[0m 5ms/step\n",
      "\n",
      "Metrics for dataset: original, batch size: 64, threshold: 0.5\n",
      "Precision: 0.9000\n",
      "Recall: 0.8182\n",
      "F1-Score: 0.8571\n"
     ]
    },
    {
     "output_type": "stream",
     "name": "stderr",
     "text": [
      "WARNING:absl:Compiled the loaded model, but the compiled metrics have yet to be built. `model.compile_metrics` will be empty until you train or evaluate the model.\n"
     ]
    },
    {
     "output_type": "stream",
     "name": "stdout",
     "text": [
      "\u001B[1m178/178\u001B[0m \u001B[32m━━━━━━━━━━━━━━━━━━━━\u001B[0m\u001B[37m\u001B[0m \u001B[1m2s\u001B[0m 9ms/step\n",
      "\n",
      "Metrics for dataset: original, batch size: 128, threshold: 0.3\n",
      "Precision: 1.0000\n",
      "Recall: 0.7273\n",
      "F1-Score: 0.8421\n",
      "\u001B[1m178/178\u001B[0m \u001B[32m━━━━━━━━━━━━━━━━━━━━\u001B[0m\u001B[37m\u001B[0m \u001B[1m1s\u001B[0m 4ms/step\n",
      "\n",
      "Metrics for dataset: original, batch size: 128, threshold: 0.4\n",
      "Precision: 1.0000\n",
      "Recall: 0.7273\n",
      "F1-Score: 0.8421\n",
      "\u001B[1m178/178\u001B[0m \u001B[32m━━━━━━━━━━━━━━━━━━━━\u001B[0m\u001B[37m\u001B[0m \u001B[1m1s\u001B[0m 4ms/step\n",
      "\n",
      "Metrics for dataset: original, batch size: 128, threshold: 0.5\n",
      "Precision: 1.0000\n",
      "Recall: 0.7273\n",
      "F1-Score: 0.8421\n"
     ]
    },
    {
     "output_type": "stream",
     "name": "stderr",
     "text": [
      "WARNING:absl:Compiled the loaded model, but the compiled metrics have yet to be built. `model.compile_metrics` will be empty until you train or evaluate the model.\n"
     ]
    },
    {
     "output_type": "stream",
     "name": "stdout",
     "text": [
      "\u001B[1m178/178\u001B[0m \u001B[32m━━━━━━━━━━━━━━━━━━━━\u001B[0m\u001B[37m\u001B[0m \u001B[1m1s\u001B[0m 6ms/step\n",
      "\n",
      "Metrics for dataset: original, batch size: 256, threshold: 0.3\n",
      "Precision: 0.8182\n",
      "Recall: 0.8182\n",
      "F1-Score: 0.8182\n",
      "\u001B[1m178/178\u001B[0m \u001B[32m━━━━━━━━━━━━━━━━━━━━\u001B[0m\u001B[37m\u001B[0m \u001B[1m1s\u001B[0m 4ms/step\n",
      "\n",
      "Metrics for dataset: original, batch size: 256, threshold: 0.4\n",
      "Precision: 0.9000\n",
      "Recall: 0.8182\n",
      "F1-Score: 0.8571\n",
      "\u001B[1m178/178\u001B[0m \u001B[32m━━━━━━━━━━━━━━━━━━━━\u001B[0m\u001B[37m\u001B[0m \u001B[1m1s\u001B[0m 4ms/step\n",
      "\n",
      "Metrics for dataset: original, batch size: 256, threshold: 0.5\n",
      "Precision: 1.0000\n",
      "Recall: 0.8182\n",
      "F1-Score: 0.9000\n"
     ]
    },
    {
     "output_type": "stream",
     "name": "stderr",
     "text": [
      "WARNING:absl:Compiled the loaded model, but the compiled metrics have yet to be built. `model.compile_metrics` will be empty until you train or evaluate the model.\n"
     ]
    },
    {
     "output_type": "stream",
     "name": "stdout",
     "text": [
      "\u001B[1m178/178\u001B[0m \u001B[32m━━━━━━━━━━━━━━━━━━━━\u001B[0m\u001B[37m\u001B[0m \u001B[1m1s\u001B[0m 6ms/step\n",
      "\n",
      "Metrics for dataset: smote, batch size: 32, threshold: 0.3\n",
      "Precision: 0.9000\n",
      "Recall: 0.8182\n",
      "F1-Score: 0.8571\n",
      "\u001B[1m178/178\u001B[0m \u001B[32m━━━━━━━━━━━━━━━━━━━━\u001B[0m\u001B[37m\u001B[0m \u001B[1m1s\u001B[0m 5ms/step\n",
      "\n",
      "Metrics for dataset: smote, batch size: 32, threshold: 0.4\n",
      "Precision: 0.9000\n",
      "Recall: 0.8182\n",
      "F1-Score: 0.8571\n",
      "\u001B[1m178/178\u001B[0m \u001B[32m━━━━━━━━━━━━━━━━━━━━\u001B[0m\u001B[37m\u001B[0m \u001B[1m1s\u001B[0m 5ms/step\n"
     ]
    },
    {
     "output_type": "stream",
     "name": "stderr",
     "text": [
      "WARNING:absl:Compiled the loaded model, but the compiled metrics have yet to be built. `model.compile_metrics` will be empty until you train or evaluate the model.\n"
     ]
    },
    {
     "output_type": "stream",
     "name": "stdout",
     "text": [
      "\n",
      "Metrics for dataset: smote, batch size: 32, threshold: 0.5\n",
      "Precision: 0.9000\n",
      "Recall: 0.8182\n",
      "F1-Score: 0.8571\n",
      "\u001B[1m178/178\u001B[0m \u001B[32m━━━━━━━━━━━━━━━━━━━━\u001B[0m\u001B[37m\u001B[0m \u001B[1m2s\u001B[0m 8ms/step\n",
      "\n",
      "Metrics for dataset: smote, batch size: 64, threshold: 0.3\n",
      "Precision: 1.0000\n",
      "Recall: 0.8182\n",
      "F1-Score: 0.9000\n",
      "\u001B[1m178/178\u001B[0m \u001B[32m━━━━━━━━━━━━━━━━━━━━\u001B[0m\u001B[37m\u001B[0m \u001B[1m1s\u001B[0m 6ms/step\n",
      "\n",
      "Metrics for dataset: smote, batch size: 64, threshold: 0.4\n",
      "Precision: 1.0000\n",
      "Recall: 0.8182\n",
      "F1-Score: 0.9000\n",
      "\u001B[1m178/178\u001B[0m \u001B[32m━━━━━━━━━━━━━━━━━━━━\u001B[0m\u001B[37m\u001B[0m \u001B[1m1s\u001B[0m 4ms/step\n"
     ]
    },
    {
     "output_type": "stream",
     "name": "stderr",
     "text": [
      "WARNING:absl:Compiled the loaded model, but the compiled metrics have yet to be built. `model.compile_metrics` will be empty until you train or evaluate the model.\n"
     ]
    },
    {
     "output_type": "stream",
     "name": "stdout",
     "text": [
      "\n",
      "Metrics for dataset: smote, batch size: 64, threshold: 0.5\n",
      "Precision: 1.0000\n",
      "Recall: 0.8182\n",
      "F1-Score: 0.9000\n",
      "\u001B[1m178/178\u001B[0m \u001B[32m━━━━━━━━━━━━━━━━━━━━\u001B[0m\u001B[37m\u001B[0m \u001B[1m1s\u001B[0m 6ms/step\n",
      "\n",
      "Metrics for dataset: smote, batch size: 128, threshold: 0.3\n",
      "Precision: 0.9000\n",
      "Recall: 0.8182\n",
      "F1-Score: 0.8571\n",
      "\u001B[1m178/178\u001B[0m \u001B[32m━━━━━━━━━━━━━━━━━━━━\u001B[0m\u001B[37m\u001B[0m \u001B[1m1s\u001B[0m 4ms/step\n",
      "\n",
      "Metrics for dataset: smote, batch size: 128, threshold: 0.4\n",
      "Precision: 0.9000\n",
      "Recall: 0.8182\n",
      "F1-Score: 0.8571\n",
      "\u001B[1m178/178\u001B[0m \u001B[32m━━━━━━━━━━━━━━━━━━━━\u001B[0m\u001B[37m\u001B[0m \u001B[1m1s\u001B[0m 4ms/step\n",
      "\n",
      "Metrics for dataset: smote, batch size: 128, threshold: 0.5\n",
      "Precision: 0.9000\n",
      "Recall: 0.8182\n",
      "F1-Score: 0.8571\n"
     ]
    },
    {
     "output_type": "stream",
     "name": "stderr",
     "text": [
      "WARNING:absl:Compiled the loaded model, but the compiled metrics have yet to be built. `model.compile_metrics` will be empty until you train or evaluate the model.\n"
     ]
    },
    {
     "output_type": "stream",
     "name": "stdout",
     "text": [
      "\u001B[1m178/178\u001B[0m \u001B[32m━━━━━━━━━━━━━━━━━━━━\u001B[0m\u001B[37m\u001B[0m \u001B[1m1s\u001B[0m 6ms/step\n",
      "\n",
      "Metrics for dataset: smote, batch size: 256, threshold: 0.3\n",
      "Precision: 0.9000\n",
      "Recall: 0.8182\n",
      "F1-Score: 0.8571\n",
      "\u001B[1m178/178\u001B[0m \u001B[32m━━━━━━━━━━━━━━━━━━━━\u001B[0m\u001B[37m\u001B[0m \u001B[1m1s\u001B[0m 4ms/step\n",
      "\n",
      "Metrics for dataset: smote, batch size: 256, threshold: 0.4\n",
      "Precision: 0.9000\n",
      "Recall: 0.8182\n",
      "F1-Score: 0.8571\n",
      "\u001B[1m178/178\u001B[0m \u001B[32m━━━━━━━━━━━━━━━━━━━━\u001B[0m\u001B[37m\u001B[0m \u001B[1m1s\u001B[0m 5ms/step\n"
     ]
    },
    {
     "output_type": "stream",
     "name": "stderr",
     "text": [
      "WARNING:absl:Compiled the loaded model, but the compiled metrics have yet to be built. `model.compile_metrics` will be empty until you train or evaluate the model.\n"
     ]
    },
    {
     "output_type": "stream",
     "name": "stdout",
     "text": [
      "\n",
      "Metrics for dataset: smote, batch size: 256, threshold: 0.5\n",
      "Precision: 0.9000\n",
      "Recall: 0.8182\n",
      "F1-Score: 0.8571\n",
      "\u001B[1m178/178\u001B[0m \u001B[32m━━━━━━━━━━━━━━━━━━━━\u001B[0m\u001B[37m\u001B[0m \u001B[1m2s\u001B[0m 9ms/step\n",
      "\n",
      "Metrics for dataset: undersampled, batch size: 32, threshold: 0.3\n",
      "Precision: 0.0000\n",
      "Recall: 0.0000\n",
      "F1-Score: 0.0000\n",
      "\u001B[1m178/178\u001B[0m \u001B[32m━━━━━━━━━━━━━━━━━━━━\u001B[0m\u001B[37m\u001B[0m \u001B[1m1s\u001B[0m 4ms/step\n",
      "\n",
      "Metrics for dataset: undersampled, batch size: 32, threshold: 0.4\n",
      "Precision: 0.0000\n",
      "Recall: 0.0000\n",
      "F1-Score: 0.0000\n",
      "\u001B[1m178/178\u001B[0m \u001B[32m━━━━━━━━━━━━━━━━━━━━\u001B[0m\u001B[37m\u001B[0m \u001B[1m1s\u001B[0m 5ms/step\n"
     ]
    },
    {
     "output_type": "stream",
     "name": "stderr",
     "text": [
      "WARNING:absl:Compiled the loaded model, but the compiled metrics have yet to be built. `model.compile_metrics` will be empty until you train or evaluate the model.\n"
     ]
    },
    {
     "output_type": "stream",
     "name": "stdout",
     "text": [
      "\n",
      "Metrics for dataset: undersampled, batch size: 32, threshold: 0.5\n",
      "Precision: 0.0000\n",
      "Recall: 0.0000\n",
      "F1-Score: 0.0000\n",
      "\u001B[1m178/178\u001B[0m \u001B[32m━━━━━━━━━━━━━━━━━━━━\u001B[0m\u001B[37m\u001B[0m \u001B[1m4s\u001B[0m 21ms/step\n",
      "\n",
      "Metrics for dataset: undersampled, batch size: 64, threshold: 0.3\n",
      "Precision: 0.0000\n",
      "Recall: 0.0000\n",
      "F1-Score: 0.0000\n",
      "\u001B[1m178/178\u001B[0m \u001B[32m━━━━━━━━━━━━━━━━━━━━\u001B[0m\u001B[37m\u001B[0m \u001B[1m1s\u001B[0m 4ms/step\n",
      "\n",
      "Metrics for dataset: undersampled, batch size: 64, threshold: 0.4\n",
      "Precision: 0.0000\n",
      "Recall: 0.0000\n",
      "F1-Score: 0.0000\n",
      "\u001B[1m178/178\u001B[0m \u001B[32m━━━━━━━━━━━━━━━━━━━━\u001B[0m\u001B[37m\u001B[0m \u001B[1m1s\u001B[0m 4ms/step\n",
      "\n",
      "Metrics for dataset: undersampled, batch size: 64, threshold: 0.5\n",
      "Precision: 0.0000\n",
      "Recall: 0.0000\n",
      "F1-Score: 0.0000\n"
     ]
    },
    {
     "output_type": "stream",
     "name": "stderr",
     "text": [
      "WARNING:absl:Compiled the loaded model, but the compiled metrics have yet to be built. `model.compile_metrics` will be empty until you train or evaluate the model.\n"
     ]
    },
    {
     "output_type": "stream",
     "name": "stdout",
     "text": [
      "\u001B[1m178/178\u001B[0m \u001B[32m━━━━━━━━━━━━━━━━━━━━\u001B[0m\u001B[37m\u001B[0m \u001B[1m2s\u001B[0m 7ms/step\n",
      "\n",
      "Metrics for dataset: undersampled, batch size: 128, threshold: 0.3\n",
      "Precision: 0.0250\n",
      "Recall: 0.0909\n",
      "F1-Score: 0.0392\n",
      "\u001B[1m178/178\u001B[0m \u001B[32m━━━━━━━━━━━━━━━━━━━━\u001B[0m\u001B[37m\u001B[0m \u001B[1m1s\u001B[0m 6ms/step\n",
      "\n",
      "Metrics for dataset: undersampled, batch size: 128, threshold: 0.4\n",
      "Precision: 0.0263\n",
      "Recall: 0.0909\n",
      "F1-Score: 0.0408\n",
      "\u001B[1m178/178\u001B[0m \u001B[32m━━━━━━━━━━━━━━━━━━━━\u001B[0m\u001B[37m\u001B[0m \u001B[1m1s\u001B[0m 4ms/step\n"
     ]
    },
    {
     "output_type": "stream",
     "name": "stderr",
     "text": [
      "WARNING:absl:Compiled the loaded model, but the compiled metrics have yet to be built. `model.compile_metrics` will be empty until you train or evaluate the model.\n"
     ]
    },
    {
     "output_type": "stream",
     "name": "stdout",
     "text": [
      "\n",
      "Metrics for dataset: undersampled, batch size: 128, threshold: 0.5\n",
      "Precision: 0.0000\n",
      "Recall: 0.0000\n",
      "F1-Score: 0.0000\n",
      "\u001B[1m178/178\u001B[0m \u001B[32m━━━━━━━━━━━━━━━━━━━━\u001B[0m\u001B[37m\u001B[0m \u001B[1m1s\u001B[0m 6ms/step\n",
      "\n",
      "Metrics for dataset: undersampled, batch size: 256, threshold: 0.3\n",
      "Precision: 0.0000\n",
      "Recall: 0.0000\n",
      "F1-Score: 0.0000\n",
      "\u001B[1m178/178\u001B[0m \u001B[32m━━━━━━━━━━━━━━━━━━━━\u001B[0m\u001B[37m\u001B[0m \u001B[1m1s\u001B[0m 5ms/step\n",
      "\n",
      "Metrics for dataset: undersampled, batch size: 256, threshold: 0.4\n",
      "Precision: 0.0000\n",
      "Recall: 0.0000\n",
      "F1-Score: 0.0000\n",
      "\u001B[1m178/178\u001B[0m \u001B[32m━━━━━━━━━━━━━━━━━━━━\u001B[0m\u001B[37m\u001B[0m \u001B[1m1s\u001B[0m 4ms/step\n",
      "\n",
      "Metrics for dataset: undersampled, batch size: 256, threshold: 0.5\n",
      "Precision: 0.0000\n",
      "Recall: 0.0000\n",
      "F1-Score: 0.0000\n"
     ]
    }
   ],
   "id": "33133f76f333820c"
  },
  {
   "cell_type": "code",
   "source": [
    "print(\"\\nResults Table:\")\n",
    "results_df = pd.DataFrame(results)\n",
    "print(results_df)\n",
    "\n",
    "plt.figure(figsize=(14, 6))\n",
    "\n",
    "line_styles = {0.3: '--', 0.4: '-', 0.5: ':'}\n",
    "colors = {'original': 'blue', 'smote': 'green', 'undersampled': 'red'}\n",
    "\n",
    "plt.subplot(1, 2, 1)\n",
    "for dataset_name in results_df['dataset'].unique():\n",
    "    for threshold in thresholds:\n",
    "        subset = results_df[(results_df['dataset'] == dataset_name) & (results_df['threshold'] == threshold)]\n",
    "        if not subset.empty:\n",
    "            plt.plot(\n",
    "                subset['batch_size'],\n",
    "                subset['f1_score'],\n",
    "                marker='o',\n",
    "                linestyle=line_styles[threshold],\n",
    "                color=colors[dataset_name],\n",
    "                label=f'{dataset_name} (thr={threshold})'\n",
    "            )\n",
    "plt.xlabel('Batch Size')\n",
    "plt.ylabel('F1-Score (Fraud Class)')\n",
    "plt.title('F1-Score vs Batch Size by Dataset and Threshold')\n",
    "plt.legend(bbox_to_anchor=(1.05, 1), loc='upper left')\n",
    "plt.grid(True)\n",
    "\n",
    "plt.subplot(1, 2, 2)\n",
    "for dataset_name in results_df['dataset'].unique():\n",
    "    for threshold in thresholds:\n",
    "        subset = results_df[(results_df['dataset'] == dataset_name) & (results_df['threshold'] == threshold)]\n",
    "        if not subset.empty:\n",
    "            plt.plot(\n",
    "                subset['batch_size'],\n",
    "                subset['precision'],\n",
    "                marker='o',\n",
    "                linestyle=line_styles[threshold],\n",
    "                color=colors[dataset_name],\n",
    "                label=f'{dataset_name} (thr={threshold})'\n",
    "            )\n",
    "plt.xlabel('Batch Size')\n",
    "plt.ylabel('Precision (Fraud Class)')\n",
    "plt.title('Precision vs Batch Size by Dataset and Threshold')\n",
    "plt.legend(bbox_to_anchor=(1.05, 1), loc='upper left')\n",
    "plt.grid(True)\n",
    "\n",
    "plt.tight_layout()\n",
    "plt.show()\n",
    "\n",
    "plt.savefig('model_comparison.png')\n",
    "plt.close()\n",
    "\n",
    "print(\"\\nPlot saved as 'model_comparison.png'\")"
   ],
   "metadata": {
    "colab": {
     "base_uri": "https://localhost:8080/",
     "height": 1000
    },
    "id": "aaT2i_7SoYl5",
    "outputId": "77c0715a-8ec9-4b9a-d93f-6e3bf01913fc"
   },
   "execution_count": 154,
   "outputs": [
    {
     "output_type": "stream",
     "name": "stdout",
     "text": [
      "\n",
      "Results Table:\n",
      "         dataset  batch_size  precision  f1_score  threshold    recall\n",
      "0       original          32   1.000000  0.900000        0.3  0.818182\n",
      "1       original          32   1.000000  0.900000        0.4  0.818182\n",
      "2       original          32   1.000000  0.900000        0.5  0.818182\n",
      "3       original          64   0.818182  0.818182        0.3  0.818182\n",
      "4       original          64   0.900000  0.857143        0.4  0.818182\n",
      "5       original          64   0.900000  0.857143        0.5  0.818182\n",
      "6       original         128   1.000000  0.842105        0.3  0.727273\n",
      "7       original         128   1.000000  0.842105        0.4  0.727273\n",
      "8       original         128   1.000000  0.842105        0.5  0.727273\n",
      "9       original         256   0.818182  0.818182        0.3  0.818182\n",
      "10      original         256   0.900000  0.857143        0.4  0.818182\n",
      "11      original         256   1.000000  0.900000        0.5  0.818182\n",
      "12         smote          32   0.900000  0.857143        0.3  0.818182\n",
      "13         smote          32   0.900000  0.857143        0.4  0.818182\n",
      "14         smote          32   0.900000  0.857143        0.5  0.818182\n",
      "15         smote          64   1.000000  0.900000        0.3  0.818182\n",
      "16         smote          64   1.000000  0.900000        0.4  0.818182\n",
      "17         smote          64   1.000000  0.900000        0.5  0.818182\n",
      "18         smote         128   0.900000  0.857143        0.3  0.818182\n",
      "19         smote         128   0.900000  0.857143        0.4  0.818182\n",
      "20         smote         128   0.900000  0.857143        0.5  0.818182\n",
      "21         smote         256   0.900000  0.857143        0.3  0.818182\n",
      "22         smote         256   0.900000  0.857143        0.4  0.818182\n",
      "23         smote         256   0.900000  0.857143        0.5  0.818182\n",
      "24  undersampled          32   0.000000  0.000000        0.3  0.000000\n",
      "25  undersampled          32   0.000000  0.000000        0.4  0.000000\n",
      "26  undersampled          32   0.000000  0.000000        0.5  0.000000\n",
      "27  undersampled          64   0.000000  0.000000        0.3  0.000000\n",
      "28  undersampled          64   0.000000  0.000000        0.4  0.000000\n",
      "29  undersampled          64   0.000000  0.000000        0.5  0.000000\n",
      "30  undersampled         128   0.025000  0.039216        0.3  0.090909\n",
      "31  undersampled         128   0.026316  0.040816        0.4  0.090909\n",
      "32  undersampled         128   0.000000  0.000000        0.5  0.000000\n",
      "33  undersampled         256   0.000000  0.000000        0.3  0.000000\n",
      "34  undersampled         256   0.000000  0.000000        0.4  0.000000\n",
      "35  undersampled         256   0.000000  0.000000        0.5  0.000000\n"
     ]
    },
    {
     "output_type": "display_data",
     "data": {
      "text/plain": [
       "<Figure size 1400x600 with 2 Axes>"
      ],
      "image/png": "[encoded data removed]"
     },
     "metadata": {}
    },
    {
     "output_type": "stream",
     "name": "stdout",
     "text": [
      "\n",
      "Plot saved as 'model_comparison_plot.png'\n"
     ]
    }
   ],
   "id": "6aaeb16696f6f494"
  }
 ]
}
