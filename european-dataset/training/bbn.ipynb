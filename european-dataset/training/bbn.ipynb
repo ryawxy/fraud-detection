{
 "cells": [
  {
   "metadata": {},
   "cell_type": "markdown",
   "source": "# Libraries",
   "id": "dab507294821aa15"
  },
  {
   "metadata": {
    "collapsed": true,
    "ExecuteTime": {
     "end_time": "2025-08-14T03:44:47.529403Z",
     "start_time": "2025-08-14T03:44:47.526817Z"
    }
   },
   "cell_type": "code",
   "outputs": [],
   "execution_count": 4,
   "source": [
    "import pandas as pd\n",
    "from sklearn.model_selection import train_test_split\n",
    "from sklearn.preprocessing import KBinsDiscretizer\n",
    "from pgmpy.models import DiscreteBayesianNetwork\n",
    "from pgmpy.estimators import TreeSearch, BayesianEstimator\n",
    "from pgmpy.inference import VariableElimination\n",
    "from sklearn.metrics import classification_report, confusion_matrix, roc_auc_score"
   ],
   "id": "initial_id"
  },
  {
   "metadata": {
    "ExecuteTime": {
     "end_time": "2025-08-14T03:52:39.166712Z",
     "start_time": "2025-08-14T03:52:24.088040Z"
    }
   },
   "cell_type": "code",
   "source": [
    "def load_and_preprocess():\n",
    "    df = pd.read_csv('/Users/raya/Desktop/fraud-detection/european-dataset/data/raw/european_data.csv')\n",
    "    features = ['V3', 'V4', 'V7', 'V10', 'V11', 'V12', 'V14', 'V16', 'V17', 'Amount', 'Class']\n",
    "    return df[features]\n",
    "\n",
    "def discretize_data(df, n_bins=5):\n",
    "    discretizer = KBinsDiscretizer(n_bins=n_bins, encode='ordinal', strategy='quantile')\n",
    "    cont_features = [col for col in df.columns if col not in ['Class']]\n",
    "    df_disc = df.copy()\n",
    "    df_disc[cont_features] = discretizer.fit_transform(df[cont_features])\n",
    "    return df_disc.astype(int)\n",
    "\n",
    "def main():\n",
    "    df = load_and_preprocess()\n",
    "    df_disc = discretize_data(df)\n",
    "\n",
    "    train_df, test_df = train_test_split(df_disc, test_size=0.2, random_state=42)\n",
    "\n",
    "    est = TreeSearch(train_df, root_node='V14')\n",
    "    tan_model = est.estimate(estimator_type='tan', class_node='Class')\n",
    "\n",
    "    model = DiscreteBayesianNetwork(tan_model.edges())\n",
    "    model.fit(train_df, estimator=BayesianEstimator, prior_type='dirichlet', pseudo_counts=1)\n",
    "\n",
    "    infer = VariableElimination(model)\n",
    "\n",
    "    def predict(row):\n",
    "        evidence = row.drop('Class').to_dict()\n",
    "        try:\n",
    "            query = infer.query(variables=['Class'], evidence=evidence)\n",
    "            return query.values[1]\n",
    "        except:\n",
    "            return 0.5\n",
    "\n",
    "    test_df['Predicted_Prob'] = test_df.apply(predict, axis=1)\n",
    "    test_df['Predicted_Class'] = (test_df['Predicted_Prob'] > 0.35).astype(int)\n",
    "\n",
    "    y_true = test_df['Class']\n",
    "    y_pred = test_df['Predicted_Class']\n",
    "\n",
    "    print(\"Classification Report:\")\n",
    "    print(classification_report(y_true, y_pred))\n",
    "\n",
    "    print(\"\\nConfusion Matrix:\")\n",
    "    print(confusion_matrix(y_true, y_pred))\n",
    "\n",
    "    print(\"\\nAUC-ROC:\", roc_auc_score(y_true, test_df['Predicted_Prob']))\n",
    "\n",
    "main()"
   ],
   "id": "2d2f8bef2684dced",
   "outputs": [
    {
     "name": "stderr",
     "output_type": "stream",
     "text": [
      "INFO:pgmpy: Datatype (N=numerical, C=Categorical Unordered, O=Categorical Ordered) inferred from data: \n",
      " {'V3': 'N', 'V4': 'N', 'V7': 'N', 'V10': 'N', 'V11': 'N', 'V12': 'N', 'V14': 'N', 'V16': 'N', 'V17': 'N', 'Amount': 'N', 'Class': 'N'}\n",
      "Building tree: 100%|██████████| 55/55.0 [00:00<00:00, 342.33it/s]\n",
      "INFO:pgmpy: Datatype (N=numerical, C=Categorical Unordered, O=Categorical Ordered) inferred from data: \n",
      " {'V3': 'N', 'V4': 'N', 'V7': 'N', 'V10': 'N', 'V11': 'N', 'V12': 'N', 'V14': 'N', 'V16': 'N', 'V17': 'N', 'Amount': 'N', 'Class': 'N'}\n"
     ]
    },
    {
     "name": "stdout",
     "output_type": "stream",
     "text": [
      "Classification Report:\n",
      "              precision    recall  f1-score   support\n",
      "\n",
      "           0       1.00      1.00      1.00     56864\n",
      "           1       0.54      0.82      0.65        98\n",
      "\n",
      "    accuracy                           1.00     56962\n",
      "   macro avg       0.77      0.91      0.82     56962\n",
      "weighted avg       1.00      1.00      1.00     56962\n",
      "\n",
      "\n",
      "Confusion Matrix:\n",
      "[[56796    68]\n",
      " [   18    80]]\n",
      "\n",
      "AUC-ROC: 0.9608769365934331\n"
     ]
    }
   ],
   "execution_count": 13
  }
 ],
 "metadata": {
  "kernelspec": {
   "display_name": "Python 3",
   "language": "python",
   "name": "python3"
  },
  "language_info": {
   "codemirror_mode": {
    "name": "ipython",
    "version": 2
   },
   "file_extension": ".py",
   "mimetype": "text/x-python",
   "name": "python",
   "nbconvert_exporter": "python",
   "pygments_lexer": "ipython2",
   "version": "2.7.6"
  }
 },
 "nbformat": 4,
 "nbformat_minor": 5
}
