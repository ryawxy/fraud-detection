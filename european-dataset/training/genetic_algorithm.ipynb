{
 "cells": [
  {
   "metadata": {
    "ExecuteTime": {
     "end_time": "2025-06-22T15:28:46.288747Z",
     "start_time": "2025-06-22T15:28:46.287114Z"
    }
   },
   "cell_type": "code",
   "source": [
    "import numpy as np\n",
    "import pandas as pd\n",
    "from sklearn.preprocessing import StandardScaler"
   ],
   "id": "f201bc9545c48c03",
   "outputs": [],
   "execution_count": 43
  },
  {
   "metadata": {
    "ExecuteTime": {
     "end_time": "2025-06-22T15:28:47.138923Z",
     "start_time": "2025-06-22T15:28:46.291516Z"
    }
   },
   "cell_type": "code",
   "source": [
    "# Loading the processed Data\n",
    "X_train = pd.read_csv('/Users/raya/Desktop/fraud-detection/european-dataset/data/processed/X_train.csv')\n",
    "X_test = pd.read_csv('/Users/raya/Desktop/fraud-detection/european-dataset/data/processed/X_test.csv')\n",
    "y_train = pd.read_csv('/Users/raya/Desktop/fraud-detection/european-dataset/data/processed/y_train.csv')['Class']\n",
    "y_test = pd.read_csv('/Users/raya/Desktop/fraud-detection/european-dataset/data/processed/y_test.csv')['Class']"
   ],
   "id": "7a1a90d8727656ec",
   "outputs": [],
   "execution_count": 44
  },
  {
   "metadata": {
    "ExecuteTime": {
     "end_time": "2025-06-22T15:28:47.835491Z",
     "start_time": "2025-06-22T15:28:47.157730Z"
    }
   },
   "cell_type": "code",
   "source": "df = pd.read_csv('/Users/raya/Desktop/fraud-detection/european-dataset/data/raw/european_data.csv')",
   "id": "f3efabff753d5ee",
   "outputs": [],
   "execution_count": 45
  },
  {
   "metadata": {
    "ExecuteTime": {
     "end_time": "2025-06-22T15:28:47.888734Z",
     "start_time": "2025-06-22T15:28:47.854678Z"
    }
   },
   "cell_type": "code",
   "source": [
    "# Separate fraud and legitimate transactions\n",
    "fraud = df[df['Class'] == 1]  # 492 fraud transactions\n",
    "legit = df[df['Class'] == 0]  # 284,315 legitimate transactions\n",
    "\n",
    "# Create training set: all frauds + 2312 legit\n",
    "np.random.seed(42)  # For reproducibility\n",
    "legit_train_indices = np.random.choice(legit.index, size=2312, replace=False)\n",
    "legit_train = legit.loc[legit_train_indices]\n",
    "train_set = pd.concat([fraud, legit_train])  # Total: 2804 transactions\n",
    "\n",
    "# Define features (V1-V28 and Amount)\n",
    "features = ['V' + str(i) for i in range(1, 29)] + ['Amount']\n",
    "\n",
    "# Extract features and labels for training set\n",
    "X_train = train_set[features]\n",
    "y_train = train_set['Class']\n",
    "amounts_train = train_set['Amount'].values\n",
    "\n",
    "# Full dataset for final evaluation\n",
    "X_full = df[features]\n",
    "y_full = df['Class']\n",
    "amounts_full = df['Amount'].values"
   ],
   "id": "9b7b46606c8e47c6",
   "outputs": [],
   "execution_count": 46
  },
  {
   "metadata": {
    "ExecuteTime": {
     "end_time": "2025-06-22T15:28:47.921057Z",
     "start_time": "2025-06-22T15:28:47.908025Z"
    }
   },
   "cell_type": "code",
   "source": [
    "# Standardize features using training set statistics\n",
    "scaler = StandardScaler()\n",
    "X_train_scaled = scaler.fit_transform(X_train)\n",
    "X_full_scaled = scaler.transform(X_full)  # Apply same transformation to full dataset"
   ],
   "id": "ad92856f9962fb08",
   "outputs": [],
   "execution_count": 47
  },
  {
   "metadata": {
    "collapsed": true,
    "ExecuteTime": {
     "end_time": "2025-06-22T15:28:47.940569Z",
     "start_time": "2025-06-22T15:28:47.938831Z"
    }
   },
   "cell_type": "code",
   "source": [
    "# Fitness function\n",
    "def fitness(solution, X_scaled, y, amounts, r=1):\n",
    "    weights = solution[:-1]  # First 29 values are weights\n",
    "    threshold = solution[-1]  # Last value is threshold\n",
    "    scores = np.dot(X_scaled, weights)  # Compute suspiciousness scores\n",
    "    predictions = scores >= threshold  # Predict fraud if score >= threshold\n",
    "    TP = np.logical_and(predictions, y == 1)  # True positives\n",
    "    FP = np.logical_and(predictions, y == 0)  # False positives\n",
    "    saving = np.sum(amounts[TP])  # Sum of amounts for TPs\n",
    "    alerts = np.sum(predictions)  # Total alerts (TP + FP)\n",
    "    S = saving - r * alerts  # Savings\n",
    "    return S"
   ],
   "id": "initial_id",
   "outputs": [],
   "execution_count": 48
  },
  {
   "metadata": {
    "ExecuteTime": {
     "end_time": "2025-06-22T15:28:47.961123Z",
     "start_time": "2025-06-22T15:28:47.958946Z"
    }
   },
   "cell_type": "code",
   "source": [
    "# Function to generate a random solution\n",
    "def generate_solution():\n",
    "    weights = np.random.rand(29)  # Weights in [0, 1]\n",
    "    threshold = np.random.uniform(-20, 20)  # Threshold in [-20, 20]\n",
    "    return np.append(weights, threshold)\n",
    "\n",
    "# Initialize special solutions\n",
    "MAX_solution = np.append(np.ones(29), -20)  # High weights, low threshold -> max alerts\n",
    "MIN_solution = np.append(np.zeros(29), 20)  # Low weights, high threshold -> min alerts\n",
    "\n",
    "# Initialize population (50 solutions)\n",
    "population = np.array([MAX_solution, MIN_solution] + [generate_solution() for _ in range(48)])"
   ],
   "id": "22e6e8925b070cc1",
   "outputs": [],
   "execution_count": 49
  },
  {
   "metadata": {
    "ExecuteTime": {
     "end_time": "2025-06-22T15:28:49.886275Z",
     "start_time": "2025-06-22T15:28:47.980041Z"
    }
   },
   "cell_type": "code",
   "source": [
    "# GA parameters\n",
    "max_generations = 300\n",
    "no_improvement_threshold = 20\n",
    "best_fitness = -np.inf\n",
    "counter = 0\n",
    "\n",
    "for generation in range(max_generations):\n",
    "    # Generate random weight for recombination\n",
    "    w = np.random.rand()\n",
    "\n",
    "    # Generate children via recombination\n",
    "    children = []\n",
    "    for i in range(len(population)):\n",
    "        for j in range(i + 1, len(population)):\n",
    "            P1 = population[i]\n",
    "            P2 = population[j]\n",
    "            child = w * P1 + (1 - w) * P2\n",
    "            children.append(child)\n",
    "    children = np.array(children)\n",
    "\n",
    "    # Mutate one child\n",
    "    k = np.random.randint(len(children))  # Random child index\n",
    "    p = np.random.randint(30)  # Random parameter index\n",
    "    if p < 29:  # Weight mutation\n",
    "        children[k, p] = np.random.rand()\n",
    "    else:  # Threshold mutation\n",
    "        children[k, p] = np.random.uniform(-20, 20)\n",
    "\n",
    "    # Evaluate fitness for all solutions\n",
    "    all_solutions = np.vstack([population, children])\n",
    "    fitness_values = [fitness(sol, X_train_scaled, y_train, amounts_train) for sol in all_solutions]\n",
    "\n",
    "    # Selection: Keep MAX and MIN, select 48 via roulette wheel\n",
    "    fitness_values = np.array(fitness_values)\n",
    "    min_fitness = fitness_values.min()\n",
    "    adjusted_fitness = fitness_values - min_fitness + 1  # Ensure positive values\n",
    "    probabilities = adjusted_fitness / adjusted_fitness.sum()\n",
    "    selected_indices = np.random.choice(len(all_solutions), size=48, p=probabilities, replace=True)\n",
    "    new_population = np.vstack([all_solutions[0], all_solutions[1], all_solutions[selected_indices]])\n",
    "    population = new_population\n",
    "\n",
    "    # Check for improvement\n",
    "    current_best = max(fitness_values)\n",
    "    if current_best > best_fitness:\n",
    "        best_fitness = current_best\n",
    "        counter = 0\n",
    "    else:\n",
    "        counter += 1\n",
    "    if counter >= no_improvement_threshold:\n",
    "        print(f\"Terminated at generation {generation} due to no improvement\")\n",
    "        break\n",
    "\n",
    "    # Progress monitoring\n",
    "    if generation % 10 == 0:\n",
    "        print(f\"Generation {generation}, Best fitness: {current_best}\")"
   ],
   "id": "3298120529b3f7f4",
   "outputs": [
    {
     "name": "stdout",
     "output_type": "stream",
     "text": [
      "Generation 0, Best fitness: 56104.96\n",
      "Generation 10, Best fitness: 51770.02\n",
      "Terminated at generation 20 due to no improvement\n"
     ]
    }
   ],
   "execution_count": 50
  },
  {
   "metadata": {
    "ExecuteTime": {
     "end_time": "2025-06-22T15:28:49.910615Z",
     "start_time": "2025-06-22T15:28:49.904535Z"
    }
   },
   "cell_type": "code",
   "source": [
    "# Select best solution\n",
    "final_fitness_values = [fitness(sol, X_train_scaled, y_train, amounts_train) for sol in population]\n",
    "best_index = np.argmax(final_fitness_values)\n",
    "best_solution = population[best_index]"
   ],
   "id": "aa4805620bccf7a7",
   "outputs": [],
   "execution_count": 51
  },
  {
   "metadata": {
    "ExecuteTime": {
     "end_time": "2025-06-22T15:34:24.137433Z",
     "start_time": "2025-06-22T15:34:24.121462Z"
    }
   },
   "cell_type": "code",
   "source": [
    "# Function to compute detailed metrics\n",
    "def compute_metrics(solution, X_scaled, y, amounts, r=1):\n",
    "    weights = solution[:-1]\n",
    "    threshold = solution[-1]\n",
    "    scores = np.dot(X_scaled, weights)\n",
    "    predictions = scores >= threshold\n",
    "    TP = np.sum(np.logical_and(predictions, y == 1))\n",
    "    FP = np.sum(np.logical_and(predictions, y == 0))\n",
    "    FN = np.sum(np.logical_and(~predictions, y == 1))\n",
    "    TN = np.sum(np.logical_and(~predictions, y == 0))\n",
    "    precision = TP / (TP + FP) if TP + FP > 0 else 0\n",
    "    recall = TP / (TP + FN) if TP + FN > 0 else 0\n",
    "    F1 = 2 * precision * recall / (precision + recall) if precision + recall > 0 else 0\n",
    "    saving = np.sum(amounts[np.logical_and(predictions, y == 1)])\n",
    "    alerts = TP + FP\n",
    "    S = saving - r * alerts\n",
    "    return {\n",
    "        'TP': TP,\n",
    "        'FP': FP,\n",
    "        'FN': FN,\n",
    "        'TN': TN,\n",
    "        'Precision': precision,\n",
    "        'Recall': recall,\n",
    "        'F1 Score': F1,\n",
    "        'Saving': saving,\n",
    "        'Alerts': alerts,\n",
    "        'Total Savings (S)': S\n",
    "    }\n",
    "\n",
    "# Evaluate on full dataset\n",
    "metrics = compute_metrics(best_solution, X_full_scaled, y_full, amounts_full)\n",
    "print(\"Performance on full dataset:\")\n",
    "for key, value in metrics.items():\n",
    "    print(f\"{key}: {value}\")"
   ],
   "id": "523a2cd41d3cf065",
   "outputs": [
    {
     "name": "stdout",
     "output_type": "stream",
     "text": [
      "Performance on full dataset:\n",
      "TP: 417\n",
      "FP: 284178\n",
      "FN: 75\n",
      "TN: 137\n",
      "Precision: 0.0014652400780055868\n",
      "Recall: 0.8475609756097561\n",
      "F1 Score: 0.0029254227656820547\n",
      "Saving: 54499.02\n",
      "Alerts: 284595\n",
      "Total Savings (S): -1368475.98\n"
     ]
    }
   ],
   "execution_count": 55
  },
  {
   "metadata": {
    "ExecuteTime": {
     "end_time": "2025-06-22T16:12:12.405961Z",
     "start_time": "2025-06-22T16:00:51.951083Z"
    }
   },
   "cell_type": "code",
   "source": [
    "import numpy as np\n",
    "import pandas as pd\n",
    "from sklearn.preprocessing import StandardScaler\n",
    "from sklearn.model_selection import train_test_split\n",
    "from sklearn.metrics import f1_score\n",
    "\n",
    "# Load the full dataset\n",
    "df = pd.read_csv('/Users/raya/Desktop/fraud-detection/european-dataset/data/raw/european_data.csv')\n",
    "\n",
    "# Define features and labels\n",
    "features = ['V' + str(i) for i in range(1, 29)] + ['Amount']\n",
    "X = df[features]\n",
    "y = df['Class']\n",
    "amounts = df['Amount'].values\n",
    "\n",
    "# Split into training and test sets (80-20) with stratification\n",
    "X_train_full, X_test, y_train_full, y_test, amounts_train_full, amounts_test = train_test_split(\n",
    "    X, y, amounts, test_size=0.2, stratify=y, random_state=42\n",
    ")\n",
    "\n",
    "# Split training set into sub-training and validation (80-20) with stratification\n",
    "X_subtrain, X_val, y_subtrain, y_val, amounts_subtrain, amounts_val = train_test_split(\n",
    "    X_train_full, y_train_full, amounts_train_full, test_size=0.2, stratify=y_train_full, random_state=42\n",
    ")\n",
    "\n",
    "# Standardize features using sub-training set statistics\n",
    "scaler = StandardScaler()\n",
    "X_subtrain_scaled = scaler.fit_transform(X_subtrain)\n",
    "X_val_scaled = scaler.transform(X_val)\n",
    "X_test_scaled = scaler.transform(X_test)\n",
    "\n",
    "# Fitness function: maximize F1 score by finding optimal threshold\n",
    "def fitness(weights, X_scaled, y):\n",
    "    scores = np.dot(X_scaled, weights)\n",
    "    thresholds = np.linspace(min(scores), max(scores), 100)\n",
    "    best_f1 = 0\n",
    "    for thresh in thresholds:\n",
    "        predictions = scores >= thresh\n",
    "        current_f1 = f1_score(y, predictions)\n",
    "        if current_f1 > best_f1:\n",
    "            best_f1 = current_f1\n",
    "    return best_f1\n",
    "\n",
    "# Generate a random solution (weights only)\n",
    "def generate_solution():\n",
    "    return np.random.rand(29)\n",
    "\n",
    "# Initialize population (50 solutions)\n",
    "population = np.array([generate_solution() for _ in range(50)])\n",
    "\n",
    "# GA parameters\n",
    "max_generations = 100\n",
    "no_improvement_threshold = 10\n",
    "best_fitness = -np.inf\n",
    "counter = 0\n",
    "\n",
    "# Genetic Algorithm\n",
    "for generation in range(max_generations):\n",
    "    # Evaluate fitness on validation set\n",
    "    fitness_values = [fitness(weights, X_val_scaled, y_val) for weights in population]\n",
    "\n",
    "    # Selection: roulette wheel\n",
    "    fitness_values = np.array(fitness_values)\n",
    "    probabilities = fitness_values / fitness_values.sum()\n",
    "    selected_indices = np.random.choice(len(population), size=len(population), p=probabilities, replace=True)\n",
    "    selected_population = population[selected_indices]\n",
    "\n",
    "    # Crossover: uniform crossover for pairs\n",
    "    children = []\n",
    "    for i in range(0, len(selected_population), 2):\n",
    "        if i + 1 < len(selected_population):\n",
    "            P1 = selected_population[i]\n",
    "            P2 = selected_population[i + 1]\n",
    "            mask = np.random.rand(29) < 0.5\n",
    "            child1 = np.where(mask, P1, P2)\n",
    "            child2 = np.where(mask, P2, P1)\n",
    "            children.extend([child1, child2])\n",
    "        else:\n",
    "            children.append(selected_population[i])\n",
    "\n",
    "    # Mutation: 10% chance per child\n",
    "    mutation_rate = 0.1\n",
    "    for child in children:\n",
    "        if np.random.rand() < mutation_rate:\n",
    "            mutation_index = np.random.randint(29)\n",
    "            child[mutation_index] = np.random.rand()\n",
    "\n",
    "    # Replace population\n",
    "    population = np.array(children)\n",
    "\n",
    "    # Check for improvement\n",
    "    current_best = max(fitness_values)\n",
    "    if current_best > best_fitness:\n",
    "        best_fitness = current_best\n",
    "        counter = 0\n",
    "    else:\n",
    "        counter += 1\n",
    "    if counter >= no_improvement_threshold:\n",
    "        print(f\"Terminated at generation {generation} due to no improvement\")\n",
    "        break\n",
    "\n",
    "    if generation % 10 == 0:\n",
    "        print(f\"Generation {generation}, Best F1 Score: {current_best}\")\n",
    "\n",
    "# Select best weights\n",
    "final_fitness_values = [fitness(weights, X_val_scaled, y_val) for weights in population]\n",
    "best_index = np.argmax(final_fitness_values)\n",
    "best_weights = population[best_index]\n",
    "\n",
    "# Find optimal threshold on validation set\n",
    "scores_val = np.dot(X_val_scaled, best_weights)\n",
    "thresholds = np.linspace(min(scores_val), max(scores_val), 100)\n",
    "best_f1 = 0\n",
    "best_threshold = 0\n",
    "for thresh in thresholds:\n",
    "    predictions = scores_val >= thresh\n",
    "    current_f1 = f1_score(y_val, predictions)\n",
    "    if current_f1 > best_f1:\n",
    "        best_f1 = current_f1\n",
    "        best_threshold = thresh\n",
    "\n",
    "# Apply to test set\n",
    "scores_test = np.dot(X_test_scaled, best_weights)\n",
    "predictions_test = scores_test >= best_threshold\n",
    "\n",
    "# Compute detailed metrics\n",
    "def compute_metrics(y_true, y_pred, amounts):\n",
    "    TP = np.sum(np.logical_and(y_pred, y_true == 1))\n",
    "    FP = np.sum(np.logical_and(y_pred, y_true == 0))\n",
    "    FN = np.sum(np.logical_and(~y_pred, y_true == 1))\n",
    "    TN = np.sum(np.logical_and(~y_pred, y_true == 0))\n",
    "    precision = TP / (TP + FP) if TP + FP > 0 else 0\n",
    "    recall = TP / (TP + FN) if TP + FN > 0 else 0\n",
    "    f1 = 2 * precision * recall / (precision + recall) if precision + recall > 0 else 0\n",
    "    return {'TP': TP, 'FP': FP, 'FN': FN, 'TN': TN, 'Precision': precision, 'Recall': recall, 'F1 Score': f1}\n",
    "\n",
    "metrics = compute_metrics(y_test, predictions_test, amounts_test)\n",
    "print(\"Test set performance:\")\n",
    "for key, value in metrics.items():\n",
    "    print(f\"{key}: {value}\")"
   ],
   "id": "774b6abb61fa658c",
   "outputs": [
    {
     "name": "stdout",
     "output_type": "stream",
     "text": [
      "Generation 0, Best F1 Score: 0.018779342723004695\n",
      "Generation 10, Best F1 Score: 0.08695652173913043\n",
      "Generation 20, Best F1 Score: 0.14\n",
      "Generation 30, Best F1 Score: 0.16216216216216217\n",
      "Generation 40, Best F1 Score: 0.17094017094017094\n",
      "Generation 50, Best F1 Score: 0.20202020202020202\n",
      "Terminated at generation 60 due to no improvement\n",
      "Test set performance:\n",
      "TP: 5\n",
      "FP: 27\n",
      "FN: 93\n",
      "TN: 56837\n",
      "Precision: 0.15625\n",
      "Recall: 0.05102040816326531\n",
      "F1 Score: 0.07692307692307693\n"
     ]
    }
   ],
   "execution_count": 61
  }
 ],
 "metadata": {
  "kernelspec": {
   "display_name": "Python 3",
   "language": "python",
   "name": "python3"
  },
  "language_info": {
   "codemirror_mode": {
    "name": "ipython",
    "version": 2
   },
   "file_extension": ".py",
   "mimetype": "text/x-python",
   "name": "python",
   "nbconvert_exporter": "python",
   "pygments_lexer": "ipython2",
   "version": "2.7.6"
  }
 },
 "nbformat": 4,
 "nbformat_minor": 5
}
