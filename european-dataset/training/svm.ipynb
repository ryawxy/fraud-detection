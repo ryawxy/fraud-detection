{
 "cells": [
  {
   "metadata": {},
   "cell_type": "markdown",
   "source": [
    "# Libraries\n",
    "first, we will import all the libraries we will need later on.\n"
   ],
   "id": "679b32eda79ca7b3"
  },
  {
   "metadata": {
    "ExecuteTime": {
     "end_time": "2025-07-22T10:25:51.010417Z",
     "start_time": "2025-07-22T10:25:50.414030Z"
    }
   },
   "cell_type": "code",
   "source": [
    "import pandas as pd\n",
    "import warnings\n",
    "warnings.filterwarnings('ignore')\n",
    "from sklearn.model_selection import RandomizedSearchCV\n",
    "from sklearn.metrics import accuracy_score, precision_score, recall_score, f1_score, confusion_matrix\n",
    "import json\n",
    "from matplotlib import pyplot as plt\n",
    "from sklearn.metrics import ConfusionMatrixDisplay\n",
    "from sklearn.svm import SVC\n",
    "from imblearn.over_sampling import SMOTE\n",
    "from sklearn.model_selection import train_test_split\n",
    "from scipy.stats import loguniform\n",
    "from imblearn.under_sampling import RandomUnderSampler\n",
    "import joblib"
   ],
   "id": "e7051ce527a6a76d",
   "outputs": [],
   "execution_count": 1
  },
  {
   "metadata": {},
   "cell_type": "markdown",
   "source": [
    "# Loading the processed Data\n",
    "\n",
    "Next, we load the dataset we have worked on in preprocessing notebook.\n"
   ],
   "id": "cbdc0ee05b31c726"
  },
  {
   "metadata": {
    "ExecuteTime": {
     "end_time": "2025-07-22T10:25:54.260715Z",
     "start_time": "2025-07-22T10:25:52.668210Z"
    }
   },
   "cell_type": "code",
   "source": [
    "X_train = pd.read_csv('/Users/raya/Desktop/fraud-detection/european-dataset/data/processed/X_train.csv')\n",
    "X_test = pd.read_csv('/Users/raya/Desktop/fraud-detection/european-dataset/data/processed/X_test.csv')\n",
    "y_train = pd.read_csv('/Users/raya/Desktop/fraud-detection/european-dataset/data/processed/y_train.csv')['Class']\n",
    "y_test = pd.read_csv('/Users/raya/Desktop/fraud-detection/european-dataset/data/processed/y_test.csv')['Class']"
   ],
   "id": "72f0d07101b4dbfb",
   "outputs": [],
   "execution_count": 2
  },
  {
   "metadata": {},
   "cell_type": "markdown",
   "source": [
    "# OverSampling/UnderSampling\n",
    "\n",
    "We are going to explore three sets of training data:\n",
    "- The original imbalanced training data\n",
    "- Oversampled training data\n",
    "- Undersampled training data\n",
    "\n",
    "We use *SMOTE* (Synthetic Minority Oversampling Technique) Algorithm for oversampling which is an oversampling method for imbalanced datasets. It creates synthetic minority class samples by interpolating between existing ones and their nearest neighbors, balancing the dataset to improve model performance without simply duplicating data.\n",
    "\n",
    "![credit : https://www.google.com/url?sa=i&url=https%3A%2F%2Fpub.aimind.so%2Fsynthetic-minority-over-sampling-technique-smote-empowering-ai-through-imbalanced-data-handling-d86f4de32ea3&psig=AOvVaw3VxNyFvCIVrxpdphD8Yz9O&ust=1753288171479000&source=images&cd=vfe&opi=89978449&ved=0CBgQjhxqFwoTCKCMqsjx0I4DFQAAAAAdAAAAABAM](https://miro.medium.com/v2/resize:fit:850/1*QaNfJwU6P-VnG1zp3U4cVg.png)"
   ],
   "id": "b80e5d670d102440"
  },
  {
   "metadata": {
    "ExecuteTime": {
     "end_time": "2025-07-21T13:11:05.466621Z",
     "start_time": "2025-07-21T13:11:05.285005Z"
    }
   },
   "cell_type": "code",
   "source": [
    "smote = SMOTE(random_state=42)\n",
    "X_train_smote, y_train_smote = smote.fit_resample(X_train, y_train)"
   ],
   "id": "1bbb5ac4f1038844",
   "outputs": [],
   "execution_count": 4
  },
  {
   "metadata": {
    "ExecuteTime": {
     "end_time": "2025-07-21T13:11:05.505220Z",
     "start_time": "2025-07-21T13:11:05.487043Z"
    }
   },
   "cell_type": "code",
   "source": [
    "undersampler = RandomUnderSampler(random_state=42)\n",
    "X_train_under, y_train_under = undersampler.fit_resample(X_train, y_train)"
   ],
   "id": "b85a1f00f49b7d86",
   "outputs": [],
   "execution_count": 5
  },
  {
   "metadata": {},
   "cell_type": "markdown",
   "source": [
    "\n",
    "# Training\n",
    "Now, we define the parameter distribution for the random search to find the best combination of hyperparameters. We use three sets of training data to compare the results later.\n"
   ],
   "id": "d2112ef26bf7497b"
  },
  {
   "metadata": {
    "ExecuteTime": {
     "end_time": "2025-07-21T13:11:05.530390Z",
     "start_time": "2025-07-21T13:11:05.525330Z"
    }
   },
   "cell_type": "code",
   "source": [
    "datasets = [\n",
    "    ('original', X_train, y_train),\n",
    "    ('smote', X_train_smote, y_train_smote),\n",
    "    ('undersampled', X_train_under, y_train_under)\n",
    "]\n",
    "svm = SVC(kernel='rbf', probability=True, random_state=42)\n",
    "param_dist = {\n",
    "    'C': loguniform(1e-3, 1e3),  # Regularization parameter\n",
    "    'gamma': loguniform(1e-4, 1e0),  # Kernel coefficient\n",
    "    'class_weight': [{0: 1, 1: w} for w in [1, 10, 50, 100, 200]]  # Weight for fraud class\n",
    "}"
   ],
   "id": "d8b0d977fcf48163",
   "outputs": [],
   "execution_count": 6
  },
  {
   "metadata": {},
   "cell_type": "markdown",
   "source": "Now, we train the model on these three sets and save them for future use.",
   "id": "2faf791b98c6c2d0"
  },
  {
   "metadata": {
    "jupyter": {
     "is_executing": true
    },
    "ExecuteTime": {
     "start_time": "2025-07-21T13:11:05.555387Z"
    }
   },
   "cell_type": "code",
   "source": [
    "random_search = RandomizedSearchCV(\n",
    "    estimator=svm,\n",
    "    param_distributions=param_dist,\n",
    "    n_iter=20,  # Number of parameter settings to sample\n",
    "    scoring='f1',  # Optimize for F1-score\n",
    "    cv=3,  # 3-fold cross-validation\n",
    "    n_jobs=-1,  # Use all available cores\n",
    "    verbose=2,\n",
    "    random_state=42,\n",
    ")\n",
    "\n",
    "for dataset_name,feature_set,target_set in datasets:\n",
    "    print('training model with',dataset_name,'dataset...')\n",
    "    random_search.fit(feature_set, target_set)\n",
    "    best_model = random_search.best_estimator_\n",
    "    print(random_search.best_params_)\n",
    "    model_name = 'svm_'+dataset_name+'.joblib'\n",
    "    joblib.dump(best_model, model_name)\n",
    "    print('model',model_name,'saved.')"
   ],
   "id": "2c028428a2f3f2cd",
   "outputs": [
    {
     "name": "stdout",
     "output_type": "stream",
     "text": [
      "training model with original dataset...\n",
      "Fitting 3 folds for each of 20 candidates, totalling 60 fits\n"
     ]
    }
   ],
   "execution_count": null
  },
  {
   "metadata": {},
   "cell_type": "markdown",
   "source": [
    "# Evaluation\n",
    "Now that we have trained the models, it’s time to compare and record their performance. Since the data is highly imbalanced, we need to use an appropriate metric to accurately capture the models’ performance. For this purpose, we use the F1 score."
   ],
   "id": "3849071f2bc25cb8"
  },
  {
   "metadata": {},
   "cell_type": "code",
   "outputs": [],
   "execution_count": null,
   "source": [
    "results = []\n",
    "for dataset_name, _, _ in datasets:\n",
    "    model_name = 'svm_' + dataset_name + '.joblib'\n",
    "    model = joblib.load(model_name)\n",
    "    y_pred = model.predict(X_test)\n",
    "    precision = precision_score(y_test, y_pred, pos_label=1)\n",
    "    f1 = f1_score(y_test, y_pred, pos_label=1)\n",
    "    results.append({\n",
    "        'dataset': dataset_name,\n",
    "        'precision': precision,\n",
    "        'f1_score': f1\n",
    "    })\n",
    "    print(f\"\\nMetrics for dataset: {dataset_name}\")\n",
    "    print(f\"Precision: {precision:.4f}\")\n",
    "    print(f\"F1-Score: {f1:.4f}\")"
   ],
   "id": "b252a6ad15011118"
  },
  {
   "metadata": {
    "ExecuteTime": {
     "end_time": "2025-07-22T10:29:25.102770Z",
     "start_time": "2025-07-22T10:29:23.153553Z"
    }
   },
   "cell_type": "code",
   "source": [
    "model_name = '/Users/raya/Desktop/fraud-detection/european-dataset/models/svm_original.joblib'\n",
    "model = joblib.load(model_name)\n",
    "y_pred = model.predict(X_test)"
   ],
   "id": "c1e0cfddeefc19e4",
   "outputs": [],
   "execution_count": 10
  },
  {
   "metadata": {
    "ExecuteTime": {
     "end_time": "2025-07-22T10:30:47.444450Z",
     "start_time": "2025-07-22T10:30:47.429215Z"
    }
   },
   "cell_type": "code",
   "source": [
    "accuracy = accuracy_score(y_test, y_pred)\n",
    "precision = precision_score(y_test, y_pred)\n",
    "recall = recall_score(y_test, y_pred)\n",
    "f1 = f1_score(y_test, y_pred)\n",
    "tn, fp, fn, tp = confusion_matrix(y_test, y_pred).ravel()"
   ],
   "id": "c51f5c7e00584197",
   "outputs": [],
   "execution_count": 13
  },
  {
   "metadata": {
    "ExecuteTime": {
     "end_time": "2025-07-22T10:30:48.493072Z",
     "start_time": "2025-07-22T10:30:48.488888Z"
    }
   },
   "cell_type": "code",
   "source": [
    "metrics = {\n",
    "    'Accuracy': float(accuracy),\n",
    "    'Precision': float(precision),\n",
    "    'Recall': float(recall),\n",
    "    'F1-score': float(f1),\n",
    "    'True Positives': float(tp),\n",
    "    'False Positives': float(fp),\n",
    "    'True Negatives': float(tn),\n",
    "    'False Negatives': float(fn),\n",
    "}\n",
    "with open('/Users/raya/Desktop/fraud-detection/european-dataset/reports/svm/metrics.json', 'w') as f:\n",
    "    json.dump(metrics, f,indent=4)"
   ],
   "id": "61a3239d7a171cf6",
   "outputs": [],
   "execution_count": 14
  },
  {
   "metadata": {},
   "cell_type": "markdown",
   "source": "We can also plot the confusion matrix to gain a better understanding of the model’s performance.\n",
   "id": "c44811915a2724bf"
  },
  {
   "metadata": {
    "ExecuteTime": {
     "end_time": "2025-07-22T10:31:15.146017Z",
     "start_time": "2025-07-22T10:31:15.068247Z"
    }
   },
   "cell_type": "code",
   "source": [
    "cm = confusion_matrix(y_test, y_pred)\n",
    "disp = ConfusionMatrixDisplay(confusion_matrix=cm)\n",
    "disp.plot()\n",
    "plt.show()"
   ],
   "id": "cb44bac085876b96",
   "outputs": [
    {
     "data": {
      "text/plain": [
       "<Figure size 640x480 with 2 Axes>"
      ],
      "image/png": "[encoded data removed]"
     },
     "metadata": {},
     "output_type": "display_data"
    }
   ],
   "execution_count": 15
  }
 ],
 "metadata": {
  "kernelspec": {
   "display_name": "Python 3",
   "language": "python",
   "name": "python3"
  },
  "language_info": {
   "codemirror_mode": {
    "name": "ipython",
    "version": 2
   },
   "file_extension": ".py",
   "mimetype": "text/x-python",
   "name": "python",
   "nbconvert_exporter": "python",
   "pygments_lexer": "ipython2",
   "version": "2.7.6"
  }
 },
 "nbformat": 4,
 "nbformat_minor": 5
}
