{
 "cells": [
  {
   "metadata": {},
   "cell_type": "markdown",
   "source": "# Libraries",
   "id": "679b32eda79ca7b3"
  },
  {
   "metadata": {
    "ExecuteTime": {
     "end_time": "2025-07-21T13:11:03.358418Z",
     "start_time": "2025-07-21T13:11:01.612343Z"
    }
   },
   "cell_type": "code",
   "source": [
    "import pandas as pd\n",
    "import numpy as np\n",
    "import warnings\n",
    "warnings.filterwarnings('ignore')\n",
    "from sklearn.model_selection import GridSearchCV, RandomizedSearchCV\n",
    "from sklearn.metrics import accuracy_score, precision_score, recall_score, f1_score, confusion_matrix\n",
    "import json\n",
    "from matplotlib import pyplot as plt\n",
    "from sklearn.metrics import ConfusionMatrixDisplay\n",
    "from sklearn.svm import SVC\n",
    "from imblearn.over_sampling import SMOTE\n",
    "from sklearn.model_selection import train_test_split\n",
    "from scipy.stats import loguniform\n",
    "from imblearn.under_sampling import RandomUnderSampler\n",
    "import joblib"
   ],
   "id": "e7051ce527a6a76d",
   "outputs": [],
   "execution_count": 1
  },
  {
   "metadata": {},
   "cell_type": "markdown",
   "source": "# Loading the processed Data",
   "id": "cbdc0ee05b31c726"
  },
  {
   "metadata": {
    "ExecuteTime": {
     "end_time": "2025-07-21T13:11:05.117168Z",
     "start_time": "2025-07-21T13:11:03.366739Z"
    }
   },
   "cell_type": "code",
   "source": [
    "X_temp = pd.read_csv('/Users/raya/Desktop/fraud-detection/european-dataset/data/processed/X_train.csv')\n",
    "X_test = pd.read_csv('/Users/raya/Desktop/fraud-detection/european-dataset/data/processed/X_test.csv')\n",
    "y_temp = pd.read_csv('/Users/raya/Desktop/fraud-detection/european-dataset/data/processed/y_train.csv')['Class']\n",
    "y_test = pd.read_csv('/Users/raya/Desktop/fraud-detection/european-dataset/data/processed/y_test.csv')['Class']"
   ],
   "id": "72f0d07101b4dbfb",
   "outputs": [],
   "execution_count": 2
  },
  {
   "metadata": {
    "ExecuteTime": {
     "end_time": "2025-07-21T13:11:05.270132Z",
     "start_time": "2025-07-21T13:11:05.202949Z"
    }
   },
   "cell_type": "code",
   "source": "X_train, X_val, y_train, y_val = train_test_split(X_temp, y_temp, test_size=0.2, random_state=42, stratify=y_temp)",
   "id": "bed38f9768f11699",
   "outputs": [],
   "execution_count": 3
  },
  {
   "metadata": {},
   "cell_type": "markdown",
   "source": "# OverSampling/UnderSampling",
   "id": "b80e5d670d102440"
  },
  {
   "metadata": {
    "ExecuteTime": {
     "end_time": "2025-07-21T13:11:05.466621Z",
     "start_time": "2025-07-21T13:11:05.285005Z"
    }
   },
   "cell_type": "code",
   "source": [
    "smote = SMOTE(random_state=42)\n",
    "X_train_smote, y_train_smote = smote.fit_resample(X_train, y_train)"
   ],
   "id": "1bbb5ac4f1038844",
   "outputs": [],
   "execution_count": 4
  },
  {
   "metadata": {
    "ExecuteTime": {
     "end_time": "2025-07-21T13:11:05.505220Z",
     "start_time": "2025-07-21T13:11:05.487043Z"
    }
   },
   "cell_type": "code",
   "source": [
    "undersampler = RandomUnderSampler(random_state=42)\n",
    "X_train_under, y_train_under = undersampler.fit_resample(X_train, y_train)"
   ],
   "id": "b85a1f00f49b7d86",
   "outputs": [],
   "execution_count": 5
  },
  {
   "metadata": {},
   "cell_type": "markdown",
   "source": [
    "\n",
    "# Training"
   ],
   "id": "d2112ef26bf7497b"
  },
  {
   "metadata": {
    "ExecuteTime": {
     "end_time": "2025-07-21T13:11:05.530390Z",
     "start_time": "2025-07-21T13:11:05.525330Z"
    }
   },
   "cell_type": "code",
   "source": [
    "datasets = [\n",
    "    ('original', X_train, y_train),\n",
    "    ('smote', X_train_smote, y_train_smote),\n",
    "    ('undersampled', X_train_under, y_train_under)\n",
    "]\n",
    "svm = SVC(kernel='rbf', probability=True, random_state=42)\n",
    "param_dist = {\n",
    "    'C': loguniform(1e-3, 1e3),  # Regularization parameter\n",
    "    'gamma': loguniform(1e-4, 1e0),  # Kernel coefficient\n",
    "    'class_weight': [{0: 1, 1: w} for w in [1, 10, 50, 100, 200]]  # Weight for fraud class\n",
    "}"
   ],
   "id": "d8b0d977fcf48163",
   "outputs": [],
   "execution_count": 6
  },
  {
   "metadata": {
    "jupyter": {
     "is_executing": true
    },
    "ExecuteTime": {
     "start_time": "2025-07-21T13:11:05.555387Z"
    }
   },
   "cell_type": "code",
   "source": [
    "random_search = RandomizedSearchCV(\n",
    "    estimator=svm,\n",
    "    param_distributions=param_dist,\n",
    "    n_iter=20,  # Number of parameter settings to sample\n",
    "    scoring='f1',  # Optimize for F1-score\n",
    "    cv=3,  # 3-fold cross-validation\n",
    "    n_jobs=-1,  # Use all available cores\n",
    "    verbose=2,\n",
    "    random_state=42,\n",
    ")\n",
    "\n",
    "for dataset_name,feature_set,target_set in datasets:\n",
    "    print('training model with',dataset_name,'dataset...')\n",
    "    random_search.fit(feature_set, target_set)\n",
    "    best_model = random_search.best_estimator_\n",
    "    print(random_search.best_params_)\n",
    "    model_name = 'svm_'+dataset_name+'.joblib'\n",
    "    joblib.dump(best_model, model_name)\n",
    "    print('model',model_name,'saved.')"
   ],
   "id": "2c028428a2f3f2cd",
   "outputs": [
    {
     "name": "stdout",
     "output_type": "stream",
     "text": [
      "training model with original dataset...\n",
      "Fitting 3 folds for each of 20 candidates, totalling 60 fits\n"
     ]
    }
   ],
   "execution_count": null
  },
  {
   "metadata": {},
   "cell_type": "code",
   "outputs": [],
   "execution_count": null,
   "source": [
    "results = []\n",
    "# Loop through datasets and batch sizes to load training and predict\n",
    "for dataset_name, _, _ in datasets:\n",
    "    # Load the saved model\n",
    "    model_name = 'svm_' + dataset_name + '.joblib'\n",
    "    model = joblib.load(model_name)\n",
    "    # Predict on test set\n",
    "    y_pred = model.predict(X_test)\n",
    "    # Compute metrics for fraud class (Class 1)\n",
    "    precision = precision_score(y_test, y_pred, pos_label=1)\n",
    "    f1 = f1_score(y_test, y_pred, pos_label=1)\n",
    "    results.append({\n",
    "        'dataset': dataset_name,\n",
    "        'precision': precision,\n",
    "        'f1_score': f1\n",
    "    })\n",
    "    print(f\"\\nMetrics for dataset: {dataset_name}\")\n",
    "    print(f\"Precision: {precision:.4f}\")\n",
    "    print(f\"F1-Score: {f1:.4f}\")"
   ],
   "id": "b252a6ad15011118"
  }
 ],
 "metadata": {
  "kernelspec": {
   "display_name": "Python 3",
   "language": "python",
   "name": "python3"
  },
  "language_info": {
   "codemirror_mode": {
    "name": "ipython",
    "version": 2
   },
   "file_extension": ".py",
   "mimetype": "text/x-python",
   "name": "python",
   "nbconvert_exporter": "python",
   "pygments_lexer": "ipython2",
   "version": "2.7.6"
  }
 },
 "nbformat": 4,
 "nbformat_minor": 5
}
