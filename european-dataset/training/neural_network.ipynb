{
 "cells": [
  {
   "metadata": {
    "id": "b6d6a59b19e49d15"
   },
   "cell_type": "markdown",
   "source": [
    "# Libraries\n",
    "\n",
    "first, we will import all the libraries we will need later on."
   ],
   "id": "b6d6a59b19e49d15"
  },
  {
   "metadata": {
    "collapsed": true,
    "id": "initial_id",
    "ExecuteTime": {
     "end_time": "2025-08-10T14:10:29.879651Z",
     "start_time": "2025-08-10T14:10:29.878004Z"
    }
   },
   "cell_type": "code",
   "source": [
    "import pandas as pd\n",
    "import warnings\n",
    "warnings.filterwarnings('ignore')\n",
    "from sklearn.metrics import precision_score, f1_score, confusion_matrix, classification_report\n",
    "from matplotlib import pyplot as plt\n",
    "import numpy as np\n",
    "from sklearn.utils import compute_class_weight\n",
    "from keras.src.layers import Dense,Dropout\n",
    "from keras import Sequential\n",
    "from keras.src.callbacks import EarlyStopping\n",
    "from imblearn.under_sampling import RandomUnderSampler\n",
    "from keras.models import load_model"
   ],
   "id": "initial_id",
   "outputs": [],
   "execution_count": null
  },
  {
   "metadata": {
    "id": "d01fbac810e36f70"
   },
   "cell_type": "markdown",
   "source": [
    "# Loading the processed Data\n",
    "\n",
    "Next, we load the dataset we have worked on in preprocessing notebook."
   ],
   "id": "d01fbac810e36f70"
  },
  {
   "metadata": {
    "ExecuteTime": {
     "end_time": "2025-07-21T13:03:13.938479Z",
     "start_time": "2025-07-19T15:19:46.233015Z"
    },
    "id": "4d4bc255e352781e"
   },
   "cell_type": "code",
   "source": [
    "X_train = pd.read_csv('X_train.csv')\n",
    "X_test = pd.read_csv('X_test.csv')\n",
    "y_train = pd.read_csv('y_train.csv')['Class']\n",
    "y_test = pd.read_csv('y_test.csv')['Class']"
   ],
   "id": "4d4bc255e352781e",
   "outputs": [],
   "execution_count": 59
  },
  {
   "metadata": {},
   "cell_type": "markdown",
   "source": [
    "\n",
    "One of the major challenges in credit card fraud detection is the highly imbalanced class distribution. Therefore, it is important to prevent the model from becoming biased toward the majority class and ensure that it can effectively learn patterns associated with the minority class. In this notebook, we explore several solutions to find the best combination of hyperparameters and algorithms."
   ],
   "id": "cd41dd63eb0805c7"
  },
  {
   "cell_type": "markdown",
   "source": [
    "# Oversampling/Undersampling\n",
    "We are going to explore three sets of training data:\n",
    "- The original imbalanced training data\n",
    "- Oversampled training data\n",
    "- Undersampled training data\n",
    "\n",
    "We use *SMOTE* (Synthetic Minority Oversampling Technique) Algorithm for oversampling which is an oversampling method for imbalanced datasets. It creates synthetic minority class samples by interpolating between existing ones and their nearest neighbors, balancing the dataset to improve model performance without simply duplicating data.\n",
    "\n",
    "![credit : https://www.google.com/url?sa=i&url=https%3A%2F%2Fpub.aimind.so%2Fsynthetic-minority-over-sampling-technique-smote-empowering-ai-through-imbalanced-data-handling-d86f4de32ea3&psig=AOvVaw3VxNyFvCIVrxpdphD8Yz9O&ust=1753288171479000&source=images&cd=vfe&opi=89978449&ved=0CBgQjhxqFwoTCKCMqsjx0I4DFQAAAAAdAAAAABAM](https://miro.medium.com/v2/resize:fit:850/1*QaNfJwU6P-VnG1zp3U4cVg.png)\n"
   ],
   "metadata": {
    "id": "7RGPpf0JeM1b"
   },
   "id": "7RGPpf0JeM1b"
  },
  {
   "cell_type": "code",
   "source": [
    "from imblearn.over_sampling import SMOTE\n",
    "smote = SMOTE(random_state=42)\n",
    "X_train_smote, y_train_smote = smote.fit_resample(X_train, y_train)"
   ],
   "metadata": {
    "id": "3fHKQ_zxUjdw"
   },
   "id": "3fHKQ_zxUjdw",
   "execution_count": null,
   "outputs": []
  },
  {
   "metadata": {},
   "cell_type": "markdown",
   "source": "Undersampling reduces majority class samples to balance the dataset, typically by randomly removing samples. It’s simpler but risks losing important data.",
   "id": "1da294d71980c1ce"
  },
  {
   "cell_type": "code",
   "source": [
    "undersampler = RandomUnderSampler(random_state=42)\n",
    "X_train_under, y_train_under = undersampler.fit_resample(X_train, y_train)"
   ],
   "metadata": {
    "id": "O8Z6TnkZeRIr"
   },
   "id": "O8Z6TnkZeRIr",
   "execution_count": 77,
   "outputs": []
  },
  {
   "metadata": {
    "id": "bb99a5390ab9055c"
   },
   "cell_type": "markdown",
   "source": [
    "# Class Weights\n",
    "Class weights address imbalanced data by assigning higher weights to the minority class in the loss function, making misclassifications of the minority class more costly. This is especially important in fraud detection tasks, where misclassifying fraudulent transactions can be extremely costly. Therefore, using class weights is crucial here."
   ],
   "id": "bb99a5390ab9055c"
  },
  {
   "metadata": {
    "ExecuteTime": {
     "end_time": "2025-07-21T13:03:13.974791Z",
     "start_time": "2025-07-19T15:20:51.837053Z"
    },
    "id": "aa146ff33676006e"
   },
   "cell_type": "code",
   "source": [
    "class_weights = compute_class_weight('balanced', classes=np.unique(y_train), y=y_train)\n",
    "class_weight_dict = dict(zip(np.unique(y_train), class_weights))"
   ],
   "id": "aa146ff33676006e",
   "outputs": [],
   "execution_count": 78
  },
  {
   "metadata": {
    "id": "243a68c65ebe54de"
   },
   "cell_type": "markdown",
   "source": [
    "# Training\n",
    "\n",
    "Now, it's time to define the neural network architecture. We will start with a simple and stable feedforward structure, adding dropout to each layer to prevent overfitting and increase the model's robustness."
   ],
   "id": "243a68c65ebe54de"
  },
  {
   "metadata": {},
   "cell_type": "markdown",
   "source": "We use early stopping to prevent the model from overfitting and to save training time.\n",
   "id": "9326ca45c64bace2"
  },
  {
   "metadata": {
    "id": "94a60aad17cf5120"
   },
   "cell_type": "code",
   "outputs": [],
   "execution_count": 56,
   "source": [
    "early_stopping = EarlyStopping(monitor='val_loss', patience=5, restore_best_weights=True)"
   ],
   "id": "94a60aad17cf5120"
  },
  {
   "cell_type": "code",
   "source": [
    "print(X_train.shape)\n",
    "print(y_train.shape)\n",
    "print(X_test.shape)\n",
    "print(y_test.shape)"
   ],
   "metadata": {
    "colab": {
     "base_uri": "https://localhost:8080/"
    },
    "id": "gHl2TVfmTu9C",
    "outputId": "0ff8363a-2f05-4438-deba-f8aff6fce9fd"
   },
   "id": "gHl2TVfmTu9C",
   "execution_count": 57,
   "outputs": [
    {
     "output_type": "stream",
     "name": "stdout",
     "text": [
      "(227604, 30)\n",
      "(227604,)\n",
      "(56902, 30)\n",
      "(56902,)\n"
     ]
    }
   ]
  },
  {
   "metadata": {},
   "cell_type": "markdown",
   "source": "Now it's time to train our model on the three training sets to see which one performs best.",
   "id": "96d0f7c01716711d"
  },
  {
   "cell_type": "code",
   "source": [
    "datasets = [\n",
    "    ('original', X_train, y_train, class_weight_dict),\n",
    "    ('smote', X_train_smote, y_train_smote, None),  # No class weights for SMOTE as it's balanced\n",
    "    ('undersampled', X_train_under, y_train_under, None)  # No class weights for undersampled as it's balanced\n",
    "]\n",
    "batches = [32, 64, 128, 256]"
   ],
   "metadata": {
    "id": "GdRBhMkJemlt"
   },
   "id": "GdRBhMkJemlt",
   "execution_count": 79,
   "outputs": []
  },
  {
   "metadata": {},
   "cell_type": "markdown",
   "source": "We define a simple wrapper function to create the model based on the shape of the training data.",
   "id": "74fc681bcbe88f41"
  },
  {
   "metadata": {},
   "cell_type": "code",
   "outputs": [],
   "execution_count": null,
   "source": [
    "def create_model(input_shape):\n",
    "    model = Sequential([\n",
    "        Dense(64, activation='relu', input_shape=(input_shape,)),\n",
    "        Dropout(0.3),\n",
    "        Dense(32, activation='relu'),\n",
    "        Dropout(0.3),\n",
    "        Dense(16, activation='relu'),\n",
    "        Dropout(0.3),\n",
    "        Dense(1, activation='sigmoid')\n",
    "    ])\n",
    "    model.compile(optimizer='adam', loss='binary_crossentropy', metrics=['f1_score','precision'])\n",
    "    return model"
   ],
   "id": "2fc42a0f849e32b2"
  },
  {
   "metadata": {},
   "cell_type": "markdown",
   "source": "Now, we use the function defined above to train our models and save them for future use.",
   "id": "7b797201a2dd5b2e"
  },
  {
   "cell_type": "code",
   "source": [
    "for dataset_name, X_data, y_data, class_weights in datasets:\n",
    "    for batch in batches:\n",
    "        print(f'\\nTraining neural network with dataset: {dataset_name}, batch size: {batch}')\n",
    "\n",
    "        model = create_model(X_data.shape[1])\n",
    "\n",
    "        history = model.fit(\n",
    "            X_data, y_data,\n",
    "            epochs=50,\n",
    "            batch_size=batch,\n",
    "            validation_split=0.2,\n",
    "            class_weight=class_weights,\n",
    "            callbacks=[early_stopping],\n",
    "            verbose=1\n",
    "        )\n",
    "\n",
    "        y_pred = (model.predict(X_test) > 0.5).astype(int)\n",
    "        print(f\"\\nClassification Report (dataset: {dataset_name}, batch size: {batch}):\")\n",
    "        print(classification_report(y_test, y_pred))\n",
    "        print(f\"\\nConfusion Matrix (dataset: {dataset_name}, batch size: {batch}):\")\n",
    "        print(confusion_matrix(y_test, y_pred))\n",
    "\n",
    "        model_name = f'model_{dataset_name}_batch{batch}.h5'\n",
    "        model.save(model_name)\n",
    "        print(f\"Model saved as {model_name}\")"
   ],
   "metadata": {
    "colab": {
     "base_uri": "https://localhost:8080/"
    },
    "collapsed": true,
    "id": "ngLJlkmfc9Eu",
    "outputId": "e1507f46-9937-4555-93fb-761778d089f6"
   },
   "id": "ngLJlkmfc9Eu",
   "execution_count": 82,
   "outputs": [
    {
     "output_type": "stream",
     "name": "stdout",
     "text": [
      "\n",
      "Training neural network with dataset: original, batch size: 32\n",
      "Epoch 1/50\n",
      "\u001B[1m5691/5691\u001B[0m \u001B[32m━━━━━━━━━━━━━━━━━━━━\u001B[0m\u001B[37m\u001B[0m \u001B[1m87s\u001B[0m 4ms/step - f1_score: 0.0034 - loss: 0.9081 - precision: 0.0445 - val_f1_score: 0.0033 - val_loss: 0.1285 - val_precision: 0.0453\n",
      "Epoch 2/50\n",
      "\u001B[1m5691/5691\u001B[0m \u001B[32m━━━━━━━━━━━━━━━━━━━━\u001B[0m\u001B[37m\u001B[0m \u001B[1m19s\u001B[0m 3ms/step - f1_score: 0.0041 - loss: 0.2318 - precision: 0.0285 - val_f1_score: 0.0033 - val_loss: 0.1011 - val_precision: 0.0451\n",
      "Epoch 3/50\n",
      "\u001B[1m5691/5691\u001B[0m \u001B[32m━━━━━━━━━━━━━━━━━━━━\u001B[0m\u001B[37m\u001B[0m \u001B[1m21s\u001B[0m 3ms/step - f1_score: 0.0034 - loss: 0.1726 - precision: 0.0447 - val_f1_score: 0.0033 - val_loss: 0.1839 - val_precision: 0.0267\n",
      "Epoch 4/50\n",
      "\u001B[1m5691/5691\u001B[0m \u001B[32m━━━━━━━━━━━━━━━━━━━━\u001B[0m\u001B[37m\u001B[0m \u001B[1m21s\u001B[0m 3ms/step - f1_score: 0.0036 - loss: 0.1615 - precision: 0.0356 - val_f1_score: 0.0033 - val_loss: 0.0856 - val_precision: 0.1106\n",
      "Epoch 5/50\n",
      "\u001B[1m5691/5691\u001B[0m \u001B[32m━━━━━━━━━━━━━━━━━━━━\u001B[0m\u001B[37m\u001B[0m \u001B[1m20s\u001B[0m 3ms/step - f1_score: 0.0036 - loss: 0.1841 - precision: 0.0412 - val_f1_score: 0.0033 - val_loss: 0.1310 - val_precision: 0.0413\n",
      "Epoch 6/50\n",
      "\u001B[1m5691/5691\u001B[0m \u001B[32m━━━━━━━━━━━━━━━━━━━━\u001B[0m\u001B[37m\u001B[0m \u001B[1m22s\u001B[0m 3ms/step - f1_score: 0.0036 - loss: 0.1606 - precision: 0.0369 - val_f1_score: 0.0033 - val_loss: 0.0385 - val_precision: 0.0976\n",
      "Epoch 7/50\n",
      "\u001B[1m5691/5691\u001B[0m \u001B[32m━━━━━━━━━━━━━━━━━━━━\u001B[0m\u001B[37m\u001B[0m \u001B[1m19s\u001B[0m 3ms/step - f1_score: 0.0037 - loss: 0.1812 - precision: 0.0417 - val_f1_score: 0.0033 - val_loss: 0.0870 - val_precision: 0.0572\n",
      "Epoch 8/50\n",
      "\u001B[1m5691/5691\u001B[0m \u001B[32m━━━━━━━━━━━━━━━━━━━━\u001B[0m\u001B[37m\u001B[0m \u001B[1m20s\u001B[0m 3ms/step - f1_score: 0.0038 - loss: 0.1483 - precision: 0.0401 - val_f1_score: 0.0035 - val_loss: 0.0345 - val_precision: 0.0890\n",
      "Epoch 9/50\n",
      "\u001B[1m5691/5691\u001B[0m \u001B[32m━━━━━━━━━━━━━━━━━━━━\u001B[0m\u001B[37m\u001B[0m \u001B[1m19s\u001B[0m 3ms/step - f1_score: 0.0040 - loss: 0.1204 - precision: 0.0467 - val_f1_score: 0.0038 - val_loss: 0.0345 - val_precision: 0.0904\n",
      "Epoch 10/50\n",
      "\u001B[1m5691/5691\u001B[0m \u001B[32m━━━━━━━━━━━━━━━━━━━━\u001B[0m\u001B[37m\u001B[0m \u001B[1m19s\u001B[0m 3ms/step - f1_score: 0.0051 - loss: 0.1286 - precision: 0.0428 - val_f1_score: 0.0037 - val_loss: 0.0534 - val_precision: 0.0552\n",
      "Epoch 11/50\n",
      "\u001B[1m5691/5691\u001B[0m \u001B[32m━━━━━━━━━━━━━━━━━━━━\u001B[0m\u001B[37m\u001B[0m \u001B[1m18s\u001B[0m 3ms/step - f1_score: 0.0042 - loss: 0.1372 - precision: 0.0386 - val_f1_score: 0.0047 - val_loss: 0.0377 - val_precision: 0.0856\n",
      "Epoch 12/50\n",
      "\u001B[1m5691/5691\u001B[0m \u001B[32m━━━━━━━━━━━━━━━━━━━━\u001B[0m\u001B[37m\u001B[0m \u001B[1m20s\u001B[0m 3ms/step - f1_score: 0.0048 - loss: 0.1098 - precision: 0.0510 - val_f1_score: 0.0040 - val_loss: 0.0496 - val_precision: 0.0583\n",
      "Epoch 13/50\n",
      "\u001B[1m5691/5691\u001B[0m \u001B[32m━━━━━━━━━━━━━━━━━━━━\u001B[0m\u001B[37m\u001B[0m \u001B[1m18s\u001B[0m 3ms/step - f1_score: 0.0057 - loss: 0.1790 - precision: 0.0461 - val_f1_score: 0.0049 - val_loss: 0.0456 - val_precision: 0.0674\n",
      "\u001B[1m1779/1779\u001B[0m \u001B[32m━━━━━━━━━━━━━━━━━━━━\u001B[0m\u001B[37m\u001B[0m \u001B[1m3s\u001B[0m 1ms/step\n"
     ]
    },
    {
     "output_type": "stream",
     "name": "stderr",
     "text": [
      "WARNING:absl:You are saving your model as an HDF5 file via `model.save()` or `keras.saving.save_model(model)`. This file format is considered legacy. We recommend using instead the native Keras format, e.g. `model.save('my_model.keras')` or `keras.saving.save_model(model, 'my_model.keras')`. \n"
     ]
    },
    {
     "output_type": "stream",
     "name": "stdout",
     "text": [
      "\n",
      "Classification Report (dataset: original, batch size: 32):\n",
      "              precision    recall  f1-score   support\n",
      "\n",
      "           0       1.00      0.99      0.99     56825\n",
      "           1       0.07      0.87      0.14        77\n",
      "\n",
      "    accuracy                           0.99     56902\n",
      "   macro avg       0.54      0.93      0.56     56902\n",
      "weighted avg       1.00      0.99      0.99     56902\n",
      "\n",
      "\n",
      "Confusion Matrix (dataset: original, batch size: 32):\n",
      "[[55990   835]\n",
      " [   10    67]]\n",
      "Model saved as model_original_batch32.h5\n",
      "\n",
      "Training neural network with dataset: original, batch size: 64\n",
      "Epoch 1/50\n",
      "\u001B[1m2846/2846\u001B[0m \u001B[32m━━━━━━━━━━━━━━━━━━━━\u001B[0m\u001B[37m\u001B[0m \u001B[1m13s\u001B[0m 4ms/step - f1_score: 0.0039 - loss: 1.0646 - precision: 0.0226 - val_f1_score: 0.0033 - val_loss: 0.0674 - val_precision: 0.0932\n",
      "Epoch 2/50\n",
      "\u001B[1m2846/2846\u001B[0m \u001B[32m━━━━━━━━━━━━━━━━━━━━\u001B[0m\u001B[37m\u001B[0m \u001B[1m9s\u001B[0m 3ms/step - f1_score: 0.0033 - loss: 0.2581 - precision: 0.0248 - val_f1_score: 0.0033 - val_loss: 0.1039 - val_precision: 0.0600\n",
      "Epoch 3/50\n",
      "\u001B[1m2846/2846\u001B[0m \u001B[32m━━━━━━━━━━━━━━━━━━━━\u001B[0m\u001B[37m\u001B[0m \u001B[1m11s\u001B[0m 3ms/step - f1_score: 0.0038 - loss: 0.1947 - precision: 0.0509 - val_f1_score: 0.0033 - val_loss: 0.0832 - val_precision: 0.0827\n",
      "Epoch 4/50\n",
      "\u001B[1m2846/2846\u001B[0m \u001B[32m━━━━━━━━━━━━━━━━━━━━\u001B[0m\u001B[37m\u001B[0m \u001B[1m11s\u001B[0m 4ms/step - f1_score: 0.0036 - loss: 0.1701 - precision: 0.0613 - val_f1_score: 0.0033 - val_loss: 0.1032 - val_precision: 0.0792\n",
      "Epoch 5/50\n",
      "\u001B[1m2846/2846\u001B[0m \u001B[32m━━━━━━━━━━━━━━━━━━━━\u001B[0m\u001B[37m\u001B[0m \u001B[1m10s\u001B[0m 4ms/step - f1_score: 0.0039 - loss: 0.1843 - precision: 0.0574 - val_f1_score: 0.0033 - val_loss: 0.0819 - val_precision: 0.0755\n",
      "Epoch 6/50\n",
      "\u001B[1m2846/2846\u001B[0m \u001B[32m━━━━━━━━━━━━━━━━━━━━\u001B[0m\u001B[37m\u001B[0m \u001B[1m11s\u001B[0m 4ms/step - f1_score: 0.0036 - loss: 0.1219 - precision: 0.0729 - val_f1_score: 0.0033 - val_loss: 0.0858 - val_precision: 0.0639\n",
      "\u001B[1m1779/1779\u001B[0m \u001B[32m━━━━━━━━━━━━━━━━━━━━\u001B[0m\u001B[37m\u001B[0m \u001B[1m3s\u001B[0m 1ms/step\n"
     ]
    },
    {
     "output_type": "stream",
     "name": "stderr",
     "text": [
      "WARNING:absl:You are saving your model as an HDF5 file via `model.save()` or `keras.saving.save_model(model)`. This file format is considered legacy. We recommend using instead the native Keras format, e.g. `model.save('my_model.keras')` or `keras.saving.save_model(model, 'my_model.keras')`. \n"
     ]
    },
    {
     "output_type": "stream",
     "name": "stdout",
     "text": [
      "\n",
      "Classification Report (dataset: original, batch size: 64):\n",
      "              precision    recall  f1-score   support\n",
      "\n",
      "           0       1.00      0.99      0.99     56825\n",
      "           1       0.07      0.86      0.13        77\n",
      "\n",
      "    accuracy                           0.98     56902\n",
      "   macro avg       0.54      0.92      0.56     56902\n",
      "weighted avg       1.00      0.98      0.99     56902\n",
      "\n",
      "\n",
      "Confusion Matrix (dataset: original, batch size: 64):\n",
      "[[55973   852]\n",
      " [   11    66]]\n",
      "Model saved as model_original_batch64.h5\n",
      "\n",
      "Training neural network with dataset: original, batch size: 128\n",
      "Epoch 1/50\n",
      "\u001B[1m1423/1423\u001B[0m \u001B[32m━━━━━━━━━━━━━━━━━━━━\u001B[0m\u001B[37m\u001B[0m \u001B[1m7s\u001B[0m 4ms/step - f1_score: 0.0038 - loss: 1.2722 - precision: 0.0196 - val_f1_score: 0.0033 - val_loss: 0.1092 - val_precision: 0.0685\n",
      "Epoch 2/50\n",
      "\u001B[1m1423/1423\u001B[0m \u001B[32m━━━━━━━━━━━━━━━━━━━━\u001B[0m\u001B[37m\u001B[0m \u001B[1m6s\u001B[0m 4ms/step - f1_score: 0.0036 - loss: 0.2523 - precision: 0.0267 - val_f1_score: 0.0033 - val_loss: 0.0920 - val_precision: 0.0847\n",
      "Epoch 3/50\n",
      "\u001B[1m1423/1423\u001B[0m \u001B[32m━━━━━━━━━━━━━━━━━━━━\u001B[0m\u001B[37m\u001B[0m \u001B[1m10s\u001B[0m 4ms/step - f1_score: 0.0036 - loss: 0.1593 - precision: 0.0491 - val_f1_score: 0.0033 - val_loss: 0.1115 - val_precision: 0.0812\n",
      "Epoch 4/50\n",
      "\u001B[1m1423/1423\u001B[0m \u001B[32m━━━━━━━━━━━━━━━━━━━━\u001B[0m\u001B[37m\u001B[0m \u001B[1m9s\u001B[0m 3ms/step - f1_score: 0.0036 - loss: 0.1677 - precision: 0.0530 - val_f1_score: 0.0033 - val_loss: 0.0953 - val_precision: 0.0608\n",
      "Epoch 5/50\n",
      "\u001B[1m1423/1423\u001B[0m \u001B[32m━━━━━━━━━━━━━━━━━━━━\u001B[0m\u001B[37m\u001B[0m \u001B[1m6s\u001B[0m 4ms/step - f1_score: 0.0038 - loss: 0.1491 - precision: 0.0548 - val_f1_score: 0.0033 - val_loss: 0.0897 - val_precision: 0.0534\n",
      "Epoch 6/50\n",
      "\u001B[1m1423/1423\u001B[0m \u001B[32m━━━━━━━━━━━━━━━━━━━━\u001B[0m\u001B[37m\u001B[0m \u001B[1m5s\u001B[0m 3ms/step - f1_score: 0.0037 - loss: 0.1380 - precision: 0.0481 - val_f1_score: 0.0033 - val_loss: 0.0893 - val_precision: 0.0509\n",
      "Epoch 7/50\n",
      "\u001B[1m1423/1423\u001B[0m \u001B[32m━━━━━━━━━━━━━━━━━━━━\u001B[0m\u001B[37m\u001B[0m \u001B[1m6s\u001B[0m 4ms/step - f1_score: 0.0039 - loss: 0.1230 - precision: 0.0479 - val_f1_score: 0.0033 - val_loss: 0.0580 - val_precision: 0.0852\n",
      "Epoch 8/50\n",
      "\u001B[1m1423/1423\u001B[0m \u001B[32m━━━━━━━━━━━━━━━━━━━━\u001B[0m\u001B[37m\u001B[0m \u001B[1m9s\u001B[0m 3ms/step - f1_score: 0.0036 - loss: 0.1060 - precision: 0.0617 - val_f1_score: 0.0034 - val_loss: 0.0803 - val_precision: 0.0534\n",
      "Epoch 9/50\n",
      "\u001B[1m1423/1423\u001B[0m \u001B[32m━━━━━━━━━━━━━━━━━━━━\u001B[0m\u001B[37m\u001B[0m \u001B[1m6s\u001B[0m 4ms/step - f1_score: 0.0041 - loss: 0.1085 - precision: 0.0634 - val_f1_score: 0.0033 - val_loss: 0.0657 - val_precision: 0.0732\n",
      "Epoch 10/50\n",
      "\u001B[1m1423/1423\u001B[0m \u001B[32m━━━━━━━━━━━━━━━━━━━━\u001B[0m\u001B[37m\u001B[0m \u001B[1m5s\u001B[0m 3ms/step - f1_score: 0.0038 - loss: 0.0729 - precision: 0.0703 - val_f1_score: 0.0034 - val_loss: 0.0521 - val_precision: 0.0835\n",
      "Epoch 11/50\n",
      "\u001B[1m1423/1423\u001B[0m \u001B[32m━━━━━━━━━━━━━━━━━━━━\u001B[0m\u001B[37m\u001B[0m \u001B[1m6s\u001B[0m 4ms/step - f1_score: 0.0040 - loss: 0.0924 - precision: 0.0590 - val_f1_score: 0.0039 - val_loss: 0.0387 - val_precision: 0.0929\n",
      "Epoch 12/50\n",
      "\u001B[1m1423/1423\u001B[0m \u001B[32m━━━━━━━━━━━━━━━━━━━━\u001B[0m\u001B[37m\u001B[0m \u001B[1m5s\u001B[0m 3ms/step - f1_score: 0.0046 - loss: 0.1480 - precision: 0.0633 - val_f1_score: 0.0034 - val_loss: 0.0706 - val_precision: 0.0646\n",
      "Epoch 13/50\n",
      "\u001B[1m1423/1423\u001B[0m \u001B[32m━━━━━━━━━━━━━━━━━━━━\u001B[0m\u001B[37m\u001B[0m \u001B[1m5s\u001B[0m 3ms/step - f1_score: 0.0036 - loss: 0.0727 - precision: 0.0545 - val_f1_score: 0.0035 - val_loss: 0.0538 - val_precision: 0.0804\n",
      "Epoch 14/50\n",
      "\u001B[1m1423/1423\u001B[0m \u001B[32m━━━━━━━━━━━━━━━━━━━━\u001B[0m\u001B[37m\u001B[0m \u001B[1m6s\u001B[0m 4ms/step - f1_score: 0.0043 - loss: 0.0691 - precision: 0.0684 - val_f1_score: 0.0040 - val_loss: 0.0493 - val_precision: 0.0733\n",
      "Epoch 15/50\n",
      "\u001B[1m1423/1423\u001B[0m \u001B[32m━━━━━━━━━━━━━━━━━━━━\u001B[0m\u001B[37m\u001B[0m \u001B[1m11s\u001B[0m 4ms/step - f1_score: 0.0045 - loss: 0.0529 - precision: 0.0684 - val_f1_score: 0.0036 - val_loss: 0.0623 - val_precision: 0.0558\n",
      "Epoch 16/50\n",
      "\u001B[1m1423/1423\u001B[0m \u001B[32m━━━━━━━━━━━━━━━━━━━━\u001B[0m\u001B[37m\u001B[0m \u001B[1m9s\u001B[0m 3ms/step - f1_score: 0.0044 - loss: 0.0748 - precision: 0.0562 - val_f1_score: 0.0058 - val_loss: 0.0302 - val_precision: 0.1146\n",
      "Epoch 17/50\n",
      "\u001B[1m1423/1423\u001B[0m \u001B[32m━━━━━━━━━━━━━━━━━━━━\u001B[0m\u001B[37m\u001B[0m \u001B[1m6s\u001B[0m 4ms/step - f1_score: 0.0056 - loss: 0.0839 - precision: 0.0723 - val_f1_score: 0.0035 - val_loss: 0.0543 - val_precision: 0.0727\n",
      "Epoch 18/50\n",
      "\u001B[1m1423/1423\u001B[0m \u001B[32m━━━━━━━━━━━━━━━━━━━━\u001B[0m\u001B[37m\u001B[0m \u001B[1m5s\u001B[0m 3ms/step - f1_score: 0.0045 - loss: 0.0724 - precision: 0.0644 - val_f1_score: 0.0038 - val_loss: 0.0413 - val_precision: 0.0937\n",
      "Epoch 19/50\n",
      "\u001B[1m1423/1423\u001B[0m \u001B[32m━━━━━━━━━━━━━━━━━━━━\u001B[0m\u001B[37m\u001B[0m \u001B[1m6s\u001B[0m 4ms/step - f1_score: 0.0046 - loss: 0.0684 - precision: 0.0705 - val_f1_score: 0.0050 - val_loss: 0.0416 - val_precision: 0.0951\n",
      "Epoch 20/50\n",
      "\u001B[1m1423/1423\u001B[0m \u001B[32m━━━━━━━━━━━━━━━━━━━━\u001B[0m\u001B[37m\u001B[0m \u001B[1m5s\u001B[0m 3ms/step - f1_score: 0.0058 - loss: 0.0569 - precision: 0.0846 - val_f1_score: 0.0054 - val_loss: 0.0391 - val_precision: 0.0996\n",
      "Epoch 21/50\n",
      "\u001B[1m1423/1423\u001B[0m \u001B[32m━━━━━━━━━━━━━━━━━━━━\u001B[0m\u001B[37m\u001B[0m \u001B[1m5s\u001B[0m 4ms/step - f1_score: 0.0056 - loss: 0.0509 - precision: 0.0848 - val_f1_score: 0.0039 - val_loss: 0.0483 - val_precision: 0.0797\n",
      "\u001B[1m1779/1779\u001B[0m \u001B[32m━━━━━━━━━━━━━━━━━━━━\u001B[0m\u001B[37m\u001B[0m \u001B[1m2s\u001B[0m 1ms/step\n"
     ]
    },
    {
     "output_type": "stream",
     "name": "stderr",
     "text": [
      "WARNING:absl:You are saving your model as an HDF5 file via `model.save()` or `keras.saving.save_model(model)`. This file format is considered legacy. We recommend using instead the native Keras format, e.g. `model.save('my_model.keras')` or `keras.saving.save_model(model, 'my_model.keras')`. \n"
     ]
    },
    {
     "output_type": "stream",
     "name": "stdout",
     "text": [
      "\n",
      "Classification Report (dataset: original, batch size: 128):\n",
      "              precision    recall  f1-score   support\n",
      "\n",
      "           0       1.00      0.99      0.99     56825\n",
      "           1       0.09      0.87      0.17        77\n",
      "\n",
      "    accuracy                           0.99     56902\n",
      "   macro avg       0.55      0.93      0.58     56902\n",
      "weighted avg       1.00      0.99      0.99     56902\n",
      "\n",
      "\n",
      "Confusion Matrix (dataset: original, batch size: 128):\n",
      "[[56160   665]\n",
      " [   10    67]]\n",
      "Model saved as model_original_batch128.h5\n",
      "\n",
      "Training neural network with dataset: original, batch size: 256\n",
      "Epoch 1/50\n",
      "\u001B[1m712/712\u001B[0m \u001B[32m━━━━━━━━━━━━━━━━━━━━\u001B[0m\u001B[37m\u001B[0m \u001B[1m6s\u001B[0m 6ms/step - f1_score: 0.0042 - loss: 0.7244 - precision: 0.0107 - val_f1_score: 0.0033 - val_loss: 0.1724 - val_precision: 0.0783\n",
      "Epoch 2/50\n",
      "\u001B[1m712/712\u001B[0m \u001B[32m━━━━━━━━━━━━━━━━━━━━\u001B[0m\u001B[37m\u001B[0m \u001B[1m3s\u001B[0m 4ms/step - f1_score: 0.0035 - loss: 0.2299 - precision: 0.0397 - val_f1_score: 0.0033 - val_loss: 0.1074 - val_precision: 0.0912\n",
      "Epoch 3/50\n",
      "\u001B[1m712/712\u001B[0m \u001B[32m━━━━━━━━━━━━━━━━━━━━\u001B[0m\u001B[37m\u001B[0m \u001B[1m5s\u001B[0m 4ms/step - f1_score: 0.0037 - loss: 0.1778 - precision: 0.0546 - val_f1_score: 0.0033 - val_loss: 0.0839 - val_precision: 0.0894\n",
      "Epoch 4/50\n",
      "\u001B[1m712/712\u001B[0m \u001B[32m━━━━━━━━━━━━━━━━━━━━\u001B[0m\u001B[37m\u001B[0m \u001B[1m5s\u001B[0m 5ms/step - f1_score: 0.0039 - loss: 0.1890 - precision: 0.0640 - val_f1_score: 0.0033 - val_loss: 0.0851 - val_precision: 0.1003\n",
      "Epoch 5/50\n",
      "\u001B[1m712/712\u001B[0m \u001B[32m━━━━━━━━━━━━━━━━━━━━\u001B[0m\u001B[37m\u001B[0m \u001B[1m5s\u001B[0m 4ms/step - f1_score: 0.0034 - loss: 0.1513 - precision: 0.0576 - val_f1_score: 0.0033 - val_loss: 0.0660 - val_precision: 0.0967\n",
      "Epoch 6/50\n",
      "\u001B[1m712/712\u001B[0m \u001B[32m━━━━━━━━━━━━━━━━━━━━\u001B[0m\u001B[37m\u001B[0m \u001B[1m6s\u001B[0m 5ms/step - f1_score: 0.0039 - loss: 0.1386 - precision: 0.0650 - val_f1_score: 0.0033 - val_loss: 0.0539 - val_precision: 0.1167\n",
      "Epoch 7/50\n",
      "\u001B[1m712/712\u001B[0m \u001B[32m━━━━━━━━━━━━━━━━━━━━\u001B[0m\u001B[37m\u001B[0m \u001B[1m3s\u001B[0m 5ms/step - f1_score: 0.0038 - loss: 0.1114 - precision: 0.0763 - val_f1_score: 0.0033 - val_loss: 0.0982 - val_precision: 0.0629\n",
      "Epoch 8/50\n",
      "\u001B[1m712/712\u001B[0m \u001B[32m━━━━━━━━━━━━━━━━━━━━\u001B[0m\u001B[37m\u001B[0m \u001B[1m5s\u001B[0m 4ms/step - f1_score: 0.0036 - loss: 0.1219 - precision: 0.0542 - val_f1_score: 0.0033 - val_loss: 0.0760 - val_precision: 0.0651\n",
      "Epoch 9/50\n",
      "\u001B[1m712/712\u001B[0m \u001B[32m━━━━━━━━━━━━━━━━━━━━\u001B[0m\u001B[37m\u001B[0m \u001B[1m6s\u001B[0m 6ms/step - f1_score: 0.0037 - loss: 0.1157 - precision: 0.0546 - val_f1_score: 0.0033 - val_loss: 0.0489 - val_precision: 0.0903\n",
      "Epoch 10/50\n",
      "\u001B[1m712/712\u001B[0m \u001B[32m━━━━━━━━━━━━━━━━━━━━\u001B[0m\u001B[37m\u001B[0m \u001B[1m3s\u001B[0m 4ms/step - f1_score: 0.0039 - loss: 0.1189 - precision: 0.0537 - val_f1_score: 0.0033 - val_loss: 0.0589 - val_precision: 0.0688\n",
      "Epoch 11/50\n",
      "\u001B[1m712/712\u001B[0m \u001B[32m━━━━━━━━━━━━━━━━━━━━\u001B[0m\u001B[37m\u001B[0m \u001B[1m3s\u001B[0m 4ms/step - f1_score: 0.0043 - loss: 0.1045 - precision: 0.0635 - val_f1_score: 0.0033 - val_loss: 0.0586 - val_precision: 0.0803\n",
      "Epoch 12/50\n",
      "\u001B[1m712/712\u001B[0m \u001B[32m━━━━━━━━━━━━━━━━━━━━\u001B[0m\u001B[37m\u001B[0m \u001B[1m6s\u001B[0m 5ms/step - f1_score: 0.0037 - loss: 0.0927 - precision: 0.0579 - val_f1_score: 0.0034 - val_loss: 0.0428 - val_precision: 0.1004\n",
      "Epoch 13/50\n",
      "\u001B[1m712/712\u001B[0m \u001B[32m━━━━━━━━━━━━━━━━━━━━\u001B[0m\u001B[37m\u001B[0m \u001B[1m3s\u001B[0m 4ms/step - f1_score: 0.0041 - loss: 0.0668 - precision: 0.0811 - val_f1_score: 0.0035 - val_loss: 0.0544 - val_precision: 0.0672\n",
      "Epoch 14/50\n",
      "\u001B[1m712/712\u001B[0m \u001B[32m━━━━━━━━━━━━━━━━━━━━\u001B[0m\u001B[37m\u001B[0m \u001B[1m5s\u001B[0m 4ms/step - f1_score: 0.0040 - loss: 0.0736 - precision: 0.0642 - val_f1_score: 0.0035 - val_loss: 0.0357 - val_precision: 0.1245\n",
      "Epoch 15/50\n",
      "\u001B[1m712/712\u001B[0m \u001B[32m━━━━━━━━━━━━━━━━━━━━\u001B[0m\u001B[37m\u001B[0m \u001B[1m3s\u001B[0m 5ms/step - f1_score: 0.0040 - loss: 0.0636 - precision: 0.0775 - val_f1_score: 0.0035 - val_loss: 0.0665 - val_precision: 0.0583\n",
      "Epoch 16/50\n",
      "\u001B[1m712/712\u001B[0m \u001B[32m━━━━━━━━━━━━━━━━━━━━\u001B[0m\u001B[37m\u001B[0m \u001B[1m5s\u001B[0m 4ms/step - f1_score: 0.0039 - loss: 0.0687 - precision: 0.0567 - val_f1_score: 0.0036 - val_loss: 0.0452 - val_precision: 0.0908\n",
      "Epoch 17/50\n",
      "\u001B[1m712/712\u001B[0m \u001B[32m━━━━━━━━━━━━━━━━━━━━\u001B[0m\u001B[37m\u001B[0m \u001B[1m3s\u001B[0m 4ms/step - f1_score: 0.0041 - loss: 0.0649 - precision: 0.0766 - val_f1_score: 0.0035 - val_loss: 0.0560 - val_precision: 0.0615\n",
      "Epoch 18/50\n",
      "\u001B[1m712/712\u001B[0m \u001B[32m━━━━━━━━━━━━━━━━━━━━\u001B[0m\u001B[37m\u001B[0m \u001B[1m6s\u001B[0m 6ms/step - f1_score: 0.0039 - loss: 0.0684 - precision: 0.0581 - val_f1_score: 0.0036 - val_loss: 0.0616 - val_precision: 0.0610\n",
      "Epoch 19/50\n",
      "\u001B[1m712/712\u001B[0m \u001B[32m━━━━━━━━━━━━━━━━━━━━\u001B[0m\u001B[37m\u001B[0m \u001B[1m3s\u001B[0m 4ms/step - f1_score: 0.0042 - loss: 0.0610 - precision: 0.0623 - val_f1_score: 0.0039 - val_loss: 0.0447 - val_precision: 0.0778\n",
      "\u001B[1m1779/1779\u001B[0m \u001B[32m━━━━━━━━━━━━━━━━━━━━\u001B[0m\u001B[37m\u001B[0m \u001B[1m2s\u001B[0m 1ms/step\n"
     ]
    },
    {
     "output_type": "stream",
     "name": "stderr",
     "text": [
      "WARNING:absl:You are saving your model as an HDF5 file via `model.save()` or `keras.saving.save_model(model)`. This file format is considered legacy. We recommend using instead the native Keras format, e.g. `model.save('my_model.keras')` or `keras.saving.save_model(model, 'my_model.keras')`. \n"
     ]
    },
    {
     "output_type": "stream",
     "name": "stdout",
     "text": [
      "\n",
      "Classification Report (dataset: original, batch size: 256):\n",
      "              precision    recall  f1-score   support\n",
      "\n",
      "           0       1.00      0.99      1.00     56825\n",
      "           1       0.11      0.86      0.20        77\n",
      "\n",
      "    accuracy                           0.99     56902\n",
      "   macro avg       0.56      0.92      0.60     56902\n",
      "weighted avg       1.00      0.99      0.99     56902\n",
      "\n",
      "\n",
      "Confusion Matrix (dataset: original, batch size: 256):\n",
      "[[56293   532]\n",
      " [   11    66]]\n",
      "Model saved as model_original_batch256.h5\n",
      "\n",
      "Training neural network with dataset: smote, batch size: 32\n",
      "Epoch 1/50\n",
      "\u001B[1m11360/11360\u001B[0m \u001B[32m━━━━━━━━━━━━━━━━━━━━\u001B[0m\u001B[37m\u001B[0m \u001B[1m38s\u001B[0m 3ms/step - f1_score: 0.6221 - loss: 0.0888 - precision: 0.9569 - val_f1_score: 1.0000 - val_loss: 0.0076 - val_precision: 1.0000\n",
      "Epoch 2/50\n",
      "\u001B[1m11360/11360\u001B[0m \u001B[32m━━━━━━━━━━━━━━━━━━━━\u001B[0m\u001B[37m\u001B[0m \u001B[1m36s\u001B[0m 3ms/step - f1_score: 0.8824 - loss: 0.0145 - precision: 0.9928 - val_f1_score: 1.0000 - val_loss: 0.0021 - val_precision: 1.0000\n",
      "Epoch 3/50\n",
      "\u001B[1m11360/11360\u001B[0m \u001B[32m━━━━━━━━━━━━━━━━━━━━\u001B[0m\u001B[37m\u001B[0m \u001B[1m41s\u001B[0m 3ms/step - f1_score: 0.9259 - loss: 0.0102 - precision: 0.9951 - val_f1_score: 1.0000 - val_loss: 0.0025 - val_precision: 1.0000\n",
      "Epoch 4/50\n",
      "\u001B[1m11360/11360\u001B[0m \u001B[32m━━━━━━━━━━━━━━━━━━━━\u001B[0m\u001B[37m\u001B[0m \u001B[1m41s\u001B[0m 3ms/step - f1_score: 0.9452 - loss: 0.0085 - precision: 0.9960 - val_f1_score: 1.0000 - val_loss: 0.0031 - val_precision: 1.0000\n",
      "Epoch 5/50\n",
      "\u001B[1m11360/11360\u001B[0m \u001B[32m━━━━━━━━━━━━━━━━━━━━\u001B[0m\u001B[37m\u001B[0m \u001B[1m46s\u001B[0m 4ms/step - f1_score: 0.9505 - loss: 0.0078 - precision: 0.9962 - val_f1_score: 1.0000 - val_loss: 0.0014 - val_precision: 1.0000\n",
      "Epoch 6/50\n",
      "\u001B[1m11360/11360\u001B[0m \u001B[32m━━━━━━━━━━━━━━━━━━━━\u001B[0m\u001B[37m\u001B[0m \u001B[1m76s\u001B[0m 3ms/step - f1_score: 0.9576 - loss: 0.0075 - precision: 0.9964 - val_f1_score: 1.0000 - val_loss: 0.0024 - val_precision: 1.0000\n",
      "Epoch 7/50\n",
      "\u001B[1m11360/11360\u001B[0m \u001B[32m━━━━━━━━━━━━━━━━━━━━\u001B[0m\u001B[37m\u001B[0m \u001B[1m46s\u001B[0m 4ms/step - f1_score: 0.9633 - loss: 0.0067 - precision: 0.9968 - val_f1_score: 1.0000 - val_loss: 9.4636e-04 - val_precision: 1.0000\n",
      "Epoch 8/50\n",
      "\u001B[1m11360/11360\u001B[0m \u001B[32m━━━━━━━━━━━━━━━━━━━━\u001B[0m\u001B[37m\u001B[0m \u001B[1m41s\u001B[0m 4ms/step - f1_score: 0.9639 - loss: 0.0059 - precision: 0.9970 - val_f1_score: 1.0000 - val_loss: 0.0030 - val_precision: 1.0000\n",
      "Epoch 9/50\n",
      "\u001B[1m11360/11360\u001B[0m \u001B[32m━━━━━━━━━━━━━━━━━━━━\u001B[0m\u001B[37m\u001B[0m \u001B[1m36s\u001B[0m 3ms/step - f1_score: 0.9690 - loss: 0.0053 - precision: 0.9975 - val_f1_score: 1.0000 - val_loss: 0.0037 - val_precision: 1.0000\n",
      "Epoch 10/50\n",
      "\u001B[1m11360/11360\u001B[0m \u001B[32m━━━━━━━━━━━━━━━━━━━━\u001B[0m\u001B[37m\u001B[0m \u001B[1m41s\u001B[0m 3ms/step - f1_score: 0.9679 - loss: 0.0056 - precision: 0.9972 - val_f1_score: 1.0000 - val_loss: 6.1773e-04 - val_precision: 1.0000\n",
      "Epoch 11/50\n",
      "\u001B[1m11360/11360\u001B[0m \u001B[32m━━━━━━━━━━━━━━━━━━━━\u001B[0m\u001B[37m\u001B[0m \u001B[1m41s\u001B[0m 3ms/step - f1_score: 0.9728 - loss: 0.0053 - precision: 0.9976 - val_f1_score: 1.0000 - val_loss: 8.1619e-04 - val_precision: 1.0000\n",
      "Epoch 12/50\n",
      "\u001B[1m11360/11360\u001B[0m \u001B[32m━━━━━━━━━━━━━━━━━━━━\u001B[0m\u001B[37m\u001B[0m \u001B[1m37s\u001B[0m 3ms/step - f1_score: 0.9644 - loss: 0.0057 - precision: 0.9972 - val_f1_score: 1.0000 - val_loss: 0.0010 - val_precision: 1.0000\n",
      "Epoch 13/50\n",
      "\u001B[1m11360/11360\u001B[0m \u001B[32m━━━━━━━━━━━━━━━━━━━━\u001B[0m\u001B[37m\u001B[0m \u001B[1m39s\u001B[0m 3ms/step - f1_score: 0.9678 - loss: 0.0054 - precision: 0.9975 - val_f1_score: 1.0000 - val_loss: 0.0012 - val_precision: 1.0000\n",
      "Epoch 14/50\n",
      "\u001B[1m11360/11360\u001B[0m \u001B[32m━━━━━━━━━━━━━━━━━━━━\u001B[0m\u001B[37m\u001B[0m \u001B[1m43s\u001B[0m 3ms/step - f1_score: 0.9731 - loss: 0.0046 - precision: 0.9978 - val_f1_score: 1.0000 - val_loss: 0.0013 - val_precision: 1.0000\n",
      "Epoch 15/50\n",
      "\u001B[1m11360/11360\u001B[0m \u001B[32m━━━━━━━━━━━━━━━━━━━━\u001B[0m\u001B[37m\u001B[0m \u001B[1m45s\u001B[0m 4ms/step - f1_score: 0.9760 - loss: 0.0042 - precision: 0.9980 - val_f1_score: 1.0000 - val_loss: 0.0060 - val_precision: 1.0000\n",
      "\u001B[1m1779/1779\u001B[0m \u001B[32m━━━━━━━━━━━━━━━━━━━━\u001B[0m\u001B[37m\u001B[0m \u001B[1m2s\u001B[0m 1ms/step\n"
     ]
    },
    {
     "output_type": "stream",
     "name": "stderr",
     "text": [
      "WARNING:absl:You are saving your model as an HDF5 file via `model.save()` or `keras.saving.save_model(model)`. This file format is considered legacy. We recommend using instead the native Keras format, e.g. `model.save('my_model.keras')` or `keras.saving.save_model(model, 'my_model.keras')`. \n"
     ]
    },
    {
     "output_type": "stream",
     "name": "stdout",
     "text": [
      "\n",
      "Classification Report (dataset: smote, batch size: 32):\n",
      "              precision    recall  f1-score   support\n",
      "\n",
      "           0       1.00      1.00      1.00     56825\n",
      "           1       0.59      0.81      0.68        77\n",
      "\n",
      "    accuracy                           1.00     56902\n",
      "   macro avg       0.80      0.90      0.84     56902\n",
      "weighted avg       1.00      1.00      1.00     56902\n",
      "\n",
      "\n",
      "Confusion Matrix (dataset: smote, batch size: 32):\n",
      "[[56782    43]\n",
      " [   15    62]]\n",
      "Model saved as model_smote_batch32.h5\n",
      "\n",
      "Training neural network with dataset: smote, batch size: 64\n",
      "Epoch 1/50\n",
      "\u001B[1m5680/5680\u001B[0m \u001B[32m━━━━━━━━━━━━━━━━━━━━\u001B[0m\u001B[37m\u001B[0m \u001B[1m22s\u001B[0m 4ms/step - f1_score: 0.5892 - loss: 0.1098 - precision: 0.9469 - val_f1_score: 1.0000 - val_loss: 0.0062 - val_precision: 1.0000\n",
      "Epoch 2/50\n",
      "\u001B[1m5680/5680\u001B[0m \u001B[32m━━━━━━━━━━━━━━━━━━━━\u001B[0m\u001B[37m\u001B[0m \u001B[1m19s\u001B[0m 3ms/step - f1_score: 0.8452 - loss: 0.0156 - precision: 0.9920 - val_f1_score: 1.0000 - val_loss: 0.0026 - val_precision: 1.0000\n",
      "Epoch 3/50\n",
      "\u001B[1m5680/5680\u001B[0m \u001B[32m━━━━━━━━━━━━━━━━━━━━\u001B[0m\u001B[37m\u001B[0m \u001B[1m20s\u001B[0m 4ms/step - f1_score: 0.9057 - loss: 0.0111 - precision: 0.9945 - val_f1_score: 1.0000 - val_loss: 0.0032 - val_precision: 1.0000\n",
      "Epoch 4/50\n",
      "\u001B[1m5680/5680\u001B[0m \u001B[32m━━━━━━━━━━━━━━━━━━━━\u001B[0m\u001B[37m\u001B[0m \u001B[1m19s\u001B[0m 3ms/step - f1_score: 0.9237 - loss: 0.0091 - precision: 0.9954 - val_f1_score: 1.0000 - val_loss: 0.0034 - val_precision: 1.0000\n",
      "Epoch 5/50\n",
      "\u001B[1m5680/5680\u001B[0m \u001B[32m━━━━━━━━━━━━━━━━━━━━\u001B[0m\u001B[37m\u001B[0m \u001B[1m20s\u001B[0m 3ms/step - f1_score: 0.9409 - loss: 0.0078 - precision: 0.9961 - val_f1_score: 1.0000 - val_loss: 0.0011 - val_precision: 1.0000\n",
      "Epoch 6/50\n",
      "\u001B[1m5680/5680\u001B[0m \u001B[32m━━━━━━━━━━━━━━━━━━━━\u001B[0m\u001B[37m\u001B[0m \u001B[1m19s\u001B[0m 3ms/step - f1_score: 0.9460 - loss: 0.0073 - precision: 0.9966 - val_f1_score: 1.0000 - val_loss: 6.3900e-04 - val_precision: 1.0000\n",
      "Epoch 7/50\n",
      "\u001B[1m5680/5680\u001B[0m \u001B[32m━━━━━━━━━━━━━━━━━━━━\u001B[0m\u001B[37m\u001B[0m \u001B[1m20s\u001B[0m 3ms/step - f1_score: 0.9594 - loss: 0.0068 - precision: 0.9970 - val_f1_score: 1.0000 - val_loss: 6.3633e-04 - val_precision: 1.0000\n",
      "Epoch 8/50\n",
      "\u001B[1m5680/5680\u001B[0m \u001B[32m━━━━━━━━━━━━━━━━━━━━\u001B[0m\u001B[37m\u001B[0m \u001B[1m19s\u001B[0m 3ms/step - f1_score: 0.9633 - loss: 0.0062 - precision: 0.9970 - val_f1_score: 1.0000 - val_loss: 8.8906e-04 - val_precision: 1.0000\n",
      "Epoch 9/50\n",
      "\u001B[1m5680/5680\u001B[0m \u001B[32m━━━━━━━━━━━━━━━━━━━━\u001B[0m\u001B[37m\u001B[0m \u001B[1m20s\u001B[0m 3ms/step - f1_score: 0.9621 - loss: 0.0050 - precision: 0.9976 - val_f1_score: 1.0000 - val_loss: 5.1976e-04 - val_precision: 1.0000\n",
      "Epoch 10/50\n",
      "\u001B[1m5680/5680\u001B[0m \u001B[32m━━━━━━━━━━━━━━━━━━━━\u001B[0m\u001B[37m\u001B[0m \u001B[1m19s\u001B[0m 3ms/step - f1_score: 0.9697 - loss: 0.0054 - precision: 0.9973 - val_f1_score: 1.0000 - val_loss: 5.4022e-04 - val_precision: 1.0000\n",
      "Epoch 11/50\n",
      "\u001B[1m5680/5680\u001B[0m \u001B[32m━━━━━━━━━━━━━━━━━━━━\u001B[0m\u001B[37m\u001B[0m \u001B[1m20s\u001B[0m 3ms/step - f1_score: 0.9703 - loss: 0.0053 - precision: 0.9972 - val_f1_score: 1.0000 - val_loss: 9.4309e-04 - val_precision: 1.0000\n",
      "Epoch 12/50\n",
      "\u001B[1m5680/5680\u001B[0m \u001B[32m━━━━━━━━━━━━━━━━━━━━\u001B[0m\u001B[37m\u001B[0m \u001B[1m20s\u001B[0m 3ms/step - f1_score: 0.9730 - loss: 0.0052 - precision: 0.9974 - val_f1_score: 1.0000 - val_loss: 0.0013 - val_precision: 1.0000\n",
      "Epoch 13/50\n",
      "\u001B[1m5680/5680\u001B[0m \u001B[32m━━━━━━━━━━━━━━━━━━━━\u001B[0m\u001B[37m\u001B[0m \u001B[1m21s\u001B[0m 3ms/step - f1_score: 0.9770 - loss: 0.0049 - precision: 0.9976 - val_f1_score: 1.0000 - val_loss: 6.8374e-04 - val_precision: 1.0000\n",
      "Epoch 14/50\n",
      "\u001B[1m5680/5680\u001B[0m \u001B[32m━━━━━━━━━━━━━━━━━━━━\u001B[0m\u001B[37m\u001B[0m \u001B[1m22s\u001B[0m 4ms/step - f1_score: 0.9828 - loss: 0.0044 - precision: 0.9978 - val_f1_score: 1.0000 - val_loss: 5.7901e-04 - val_precision: 1.0000\n",
      "\u001B[1m1779/1779\u001B[0m \u001B[32m━━━━━━━━━━━━━━━━━━━━\u001B[0m\u001B[37m\u001B[0m \u001B[1m2s\u001B[0m 1ms/step\n"
     ]
    },
    {
     "output_type": "stream",
     "name": "stderr",
     "text": [
      "WARNING:absl:You are saving your model as an HDF5 file via `model.save()` or `keras.saving.save_model(model)`. This file format is considered legacy. We recommend using instead the native Keras format, e.g. `model.save('my_model.keras')` or `keras.saving.save_model(model, 'my_model.keras')`. \n"
     ]
    },
    {
     "output_type": "stream",
     "name": "stdout",
     "text": [
      "\n",
      "Classification Report (dataset: smote, batch size: 64):\n",
      "              precision    recall  f1-score   support\n",
      "\n",
      "           0       1.00      1.00      1.00     56825\n",
      "           1       0.59      0.79      0.68        77\n",
      "\n",
      "    accuracy                           1.00     56902\n",
      "   macro avg       0.80      0.90      0.84     56902\n",
      "weighted avg       1.00      1.00      1.00     56902\n",
      "\n",
      "\n",
      "Confusion Matrix (dataset: smote, batch size: 64):\n",
      "[[56783    42]\n",
      " [   16    61]]\n",
      "Model saved as model_smote_batch64.h5\n",
      "\n",
      "Training neural network with dataset: smote, batch size: 128\n",
      "Epoch 1/50\n",
      "\u001B[1m2840/2840\u001B[0m \u001B[32m━━━━━━━━━━━━━━━━━━━━\u001B[0m\u001B[37m\u001B[0m \u001B[1m13s\u001B[0m 4ms/step - f1_score: 0.5644 - loss: 0.1594 - precision: 0.9268 - val_f1_score: 1.0000 - val_loss: 0.0152 - val_precision: 1.0000\n",
      "Epoch 2/50\n",
      "\u001B[1m2840/2840\u001B[0m \u001B[32m━━━━━━━━━━━━━━━━━━━━\u001B[0m\u001B[37m\u001B[0m \u001B[1m20s\u001B[0m 4ms/step - f1_score: 0.7738 - loss: 0.0212 - precision: 0.9884 - val_f1_score: 1.0000 - val_loss: 0.0038 - val_precision: 1.0000\n",
      "Epoch 3/50\n",
      "\u001B[1m2840/2840\u001B[0m \u001B[32m━━━━━━━━━━━━━━━━━━━━\u001B[0m\u001B[37m\u001B[0m \u001B[1m21s\u001B[0m 4ms/step - f1_score: 0.8816 - loss: 0.0113 - precision: 0.9940 - val_f1_score: 1.0000 - val_loss: 0.0029 - val_precision: 1.0000\n",
      "Epoch 4/50\n",
      "\u001B[1m2840/2840\u001B[0m \u001B[32m━━━━━━━━━━━━━━━━━━━━\u001B[0m\u001B[37m\u001B[0m \u001B[1m11s\u001B[0m 4ms/step - f1_score: 0.9193 - loss: 0.0100 - precision: 0.9947 - val_f1_score: 1.0000 - val_loss: 0.0014 - val_precision: 1.0000\n",
      "Epoch 5/50\n",
      "\u001B[1m2840/2840\u001B[0m \u001B[32m━━━━━━━━━━━━━━━━━━━━\u001B[0m\u001B[37m\u001B[0m \u001B[1m21s\u001B[0m 4ms/step - f1_score: 0.9307 - loss: 0.0081 - precision: 0.9960 - val_f1_score: 1.0000 - val_loss: 0.0026 - val_precision: 1.0000\n",
      "Epoch 6/50\n",
      "\u001B[1m2840/2840\u001B[0m \u001B[32m━━━━━━━━━━━━━━━━━━━━\u001B[0m\u001B[37m\u001B[0m \u001B[1m20s\u001B[0m 4ms/step - f1_score: 0.9421 - loss: 0.0075 - precision: 0.9961 - val_f1_score: 1.0000 - val_loss: 9.5929e-04 - val_precision: 1.0000\n",
      "Epoch 7/50\n",
      "\u001B[1m2840/2840\u001B[0m \u001B[32m━━━━━━━━━━━━━━━━━━━━\u001B[0m\u001B[37m\u001B[0m \u001B[1m11s\u001B[0m 4ms/step - f1_score: 0.9434 - loss: 0.0063 - precision: 0.9967 - val_f1_score: 1.0000 - val_loss: 0.0010 - val_precision: 1.0000\n",
      "Epoch 8/50\n",
      "\u001B[1m2840/2840\u001B[0m \u001B[32m━━━━━━━━━━━━━━━━━━━━\u001B[0m\u001B[37m\u001B[0m \u001B[1m20s\u001B[0m 4ms/step - f1_score: 0.9595 - loss: 0.0061 - precision: 0.9969 - val_f1_score: 1.0000 - val_loss: 6.5778e-04 - val_precision: 1.0000\n",
      "Epoch 9/50\n",
      "\u001B[1m2840/2840\u001B[0m \u001B[32m━━━━━━━━━━━━━━━━━━━━\u001B[0m\u001B[37m\u001B[0m \u001B[1m19s\u001B[0m 3ms/step - f1_score: 0.9652 - loss: 0.0059 - precision: 0.9972 - val_f1_score: 1.0000 - val_loss: 4.7295e-04 - val_precision: 1.0000\n",
      "Epoch 10/50\n",
      "\u001B[1m2840/2840\u001B[0m \u001B[32m━━━━━━━━━━━━━━━━━━━━\u001B[0m\u001B[37m\u001B[0m \u001B[1m10s\u001B[0m 4ms/step - f1_score: 0.9679 - loss: 0.0046 - precision: 0.9977 - val_f1_score: 1.0000 - val_loss: 0.0013 - val_precision: 1.0000\n",
      "Epoch 11/50\n",
      "\u001B[1m2840/2840\u001B[0m \u001B[32m━━━━━━━━━━━━━━━━━━━━\u001B[0m\u001B[37m\u001B[0m \u001B[1m20s\u001B[0m 4ms/step - f1_score: 0.9664 - loss: 0.0050 - precision: 0.9974 - val_f1_score: 1.0000 - val_loss: 5.8916e-04 - val_precision: 1.0000\n",
      "Epoch 12/50\n",
      "\u001B[1m2840/2840\u001B[0m \u001B[32m━━━━━━━━━━━━━━━━━━━━\u001B[0m\u001B[37m\u001B[0m \u001B[1m11s\u001B[0m 4ms/step - f1_score: 0.9693 - loss: 0.0049 - precision: 0.9975 - val_f1_score: 1.0000 - val_loss: 6.3031e-04 - val_precision: 1.0000\n",
      "Epoch 13/50\n",
      "\u001B[1m2840/2840\u001B[0m \u001B[32m━━━━━━━━━━━━━━━━━━━━\u001B[0m\u001B[37m\u001B[0m \u001B[1m11s\u001B[0m 4ms/step - f1_score: 0.9695 - loss: 0.0050 - precision: 0.9974 - val_f1_score: 1.0000 - val_loss: 0.0013 - val_precision: 1.0000\n",
      "Epoch 14/50\n",
      "\u001B[1m2840/2840\u001B[0m \u001B[32m━━━━━━━━━━━━━━━━━━━━\u001B[0m\u001B[37m\u001B[0m \u001B[1m9s\u001B[0m 3ms/step - f1_score: 0.9738 - loss: 0.0047 - precision: 0.9975 - val_f1_score: 1.0000 - val_loss: 9.2352e-04 - val_precision: 1.0000\n",
      "\u001B[1m1779/1779\u001B[0m \u001B[32m━━━━━━━━━━━━━━━━━━━━\u001B[0m\u001B[37m\u001B[0m \u001B[1m3s\u001B[0m 2ms/step\n"
     ]
    },
    {
     "output_type": "stream",
     "name": "stderr",
     "text": [
      "WARNING:absl:You are saving your model as an HDF5 file via `model.save()` or `keras.saving.save_model(model)`. This file format is considered legacy. We recommend using instead the native Keras format, e.g. `model.save('my_model.keras')` or `keras.saving.save_model(model, 'my_model.keras')`. \n"
     ]
    },
    {
     "output_type": "stream",
     "name": "stdout",
     "text": [
      "\n",
      "Classification Report (dataset: smote, batch size: 128):\n",
      "              precision    recall  f1-score   support\n",
      "\n",
      "           0       1.00      1.00      1.00     56825\n",
      "           1       0.57      0.79      0.66        77\n",
      "\n",
      "    accuracy                           1.00     56902\n",
      "   macro avg       0.78      0.90      0.83     56902\n",
      "weighted avg       1.00      1.00      1.00     56902\n",
      "\n",
      "\n",
      "Confusion Matrix (dataset: smote, batch size: 128):\n",
      "[[56779    46]\n",
      " [   16    61]]\n",
      "Model saved as model_smote_batch128.h5\n",
      "\n",
      "Training neural network with dataset: smote, batch size: 256\n",
      "Epoch 1/50\n",
      "\u001B[1m1420/1420\u001B[0m \u001B[32m━━━━━━━━━━━━━━━━━━━━\u001B[0m\u001B[37m\u001B[0m \u001B[1m9s\u001B[0m 5ms/step - f1_score: 0.5527 - loss: 0.2018 - precision: 0.8828 - val_f1_score: 1.0000 - val_loss: 0.0196 - val_precision: 1.0000\n",
      "Epoch 2/50\n",
      "\u001B[1m1420/1420\u001B[0m \u001B[32m━━━━━━━━━━━━━━━━━━━━\u001B[0m\u001B[37m\u001B[0m \u001B[1m7s\u001B[0m 5ms/step - f1_score: 0.7030 - loss: 0.0268 - precision: 0.9869 - val_f1_score: 1.0000 - val_loss: 0.0066 - val_precision: 1.0000\n",
      "Epoch 3/50\n",
      "\u001B[1m1420/1420\u001B[0m \u001B[32m━━━━━━━━━━━━━━━━━━━━\u001B[0m\u001B[37m\u001B[0m \u001B[1m6s\u001B[0m 4ms/step - f1_score: 0.8284 - loss: 0.0139 - precision: 0.9919 - val_f1_score: 1.0000 - val_loss: 0.0019 - val_precision: 1.0000\n",
      "Epoch 4/50\n",
      "\u001B[1m1420/1420\u001B[0m \u001B[32m━━━━━━━━━━━━━━━━━━━━\u001B[0m\u001B[37m\u001B[0m \u001B[1m7s\u001B[0m 5ms/step - f1_score: 0.8860 - loss: 0.0103 - precision: 0.9939 - val_f1_score: 1.0000 - val_loss: 0.0011 - val_precision: 1.0000\n",
      "Epoch 5/50\n",
      "\u001B[1m1420/1420\u001B[0m \u001B[32m━━━━━━━━━━━━━━━━━━━━\u001B[0m\u001B[37m\u001B[0m \u001B[1m6s\u001B[0m 4ms/step - f1_score: 0.9202 - loss: 0.0082 - precision: 0.9948 - val_f1_score: 1.0000 - val_loss: 0.0013 - val_precision: 1.0000\n",
      "Epoch 6/50\n",
      "\u001B[1m1420/1420\u001B[0m \u001B[32m━━━━━━━━━━━━━━━━━━━━\u001B[0m\u001B[37m\u001B[0m \u001B[1m7s\u001B[0m 5ms/step - f1_score: 0.9378 - loss: 0.0079 - precision: 0.9956 - val_f1_score: 1.0000 - val_loss: 0.0011 - val_precision: 1.0000\n",
      "Epoch 7/50\n",
      "\u001B[1m1420/1420\u001B[0m \u001B[32m━━━━━━━━━━━━━━━━━━━━\u001B[0m\u001B[37m\u001B[0m \u001B[1m10s\u001B[0m 5ms/step - f1_score: 0.9450 - loss: 0.0070 - precision: 0.9961 - val_f1_score: 1.0000 - val_loss: 0.0018 - val_precision: 1.0000\n",
      "Epoch 8/50\n",
      "\u001B[1m1420/1420\u001B[0m \u001B[32m━━━━━━━━━━━━━━━━━━━━\u001B[0m\u001B[37m\u001B[0m \u001B[1m5s\u001B[0m 4ms/step - f1_score: 0.9529 - loss: 0.0062 - precision: 0.9963 - val_f1_score: 1.0000 - val_loss: 5.2476e-04 - val_precision: 1.0000\n",
      "Epoch 9/50\n",
      "\u001B[1m1420/1420\u001B[0m \u001B[32m━━━━━━━━━━━━━━━━━━━━\u001B[0m\u001B[37m\u001B[0m \u001B[1m11s\u001B[0m 4ms/step - f1_score: 0.9538 - loss: 0.0061 - precision: 0.9965 - val_f1_score: 1.0000 - val_loss: 7.4320e-04 - val_precision: 1.0000\n",
      "Epoch 10/50\n",
      "\u001B[1m1420/1420\u001B[0m \u001B[32m━━━━━━━━━━━━━━━━━━━━\u001B[0m\u001B[37m\u001B[0m \u001B[1m11s\u001B[0m 5ms/step - f1_score: 0.9555 - loss: 0.0065 - precision: 0.9964 - val_f1_score: 1.0000 - val_loss: 7.2892e-04 - val_precision: 1.0000\n",
      "Epoch 11/50\n",
      "\u001B[1m1420/1420\u001B[0m \u001B[32m━━━━━━━━━━━━━━━━━━━━\u001B[0m\u001B[37m\u001B[0m \u001B[1m6s\u001B[0m 4ms/step - f1_score: 0.9618 - loss: 0.0050 - precision: 0.9969 - val_f1_score: 1.0000 - val_loss: 6.6216e-04 - val_precision: 1.0000\n",
      "Epoch 12/50\n",
      "\u001B[1m1420/1420\u001B[0m \u001B[32m━━━━━━━━━━━━━━━━━━━━\u001B[0m\u001B[37m\u001B[0m \u001B[1m7s\u001B[0m 5ms/step - f1_score: 0.9607 - loss: 0.0049 - precision: 0.9970 - val_f1_score: 1.0000 - val_loss: 2.8233e-04 - val_precision: 1.0000\n",
      "Epoch 13/50\n",
      "\u001B[1m1420/1420\u001B[0m \u001B[32m━━━━━━━━━━━━━━━━━━━━\u001B[0m\u001B[37m\u001B[0m \u001B[1m6s\u001B[0m 4ms/step - f1_score: 0.9620 - loss: 0.0046 - precision: 0.9971 - val_f1_score: 1.0000 - val_loss: 9.8733e-04 - val_precision: 1.0000\n",
      "Epoch 14/50\n",
      "\u001B[1m1420/1420\u001B[0m \u001B[32m━━━━━━━━━━━━━━━━━━━━\u001B[0m\u001B[37m\u001B[0m \u001B[1m7s\u001B[0m 5ms/step - f1_score: 0.9612 - loss: 0.0046 - precision: 0.9972 - val_f1_score: 1.0000 - val_loss: 6.2885e-04 - val_precision: 1.0000\n",
      "Epoch 15/50\n",
      "\u001B[1m1420/1420\u001B[0m \u001B[32m━━━━━━━━━━━━━━━━━━━━\u001B[0m\u001B[37m\u001B[0m \u001B[1m9s\u001B[0m 4ms/step - f1_score: 0.9646 - loss: 0.0048 - precision: 0.9970 - val_f1_score: 1.0000 - val_loss: 0.0011 - val_precision: 1.0000\n",
      "Epoch 16/50\n",
      "\u001B[1m1420/1420\u001B[0m \u001B[32m━━━━━━━━━━━━━━━━━━━━\u001B[0m\u001B[37m\u001B[0m \u001B[1m7s\u001B[0m 5ms/step - f1_score: 0.9661 - loss: 0.0041 - precision: 0.9972 - val_f1_score: 1.0000 - val_loss: 2.9461e-04 - val_precision: 1.0000\n",
      "Epoch 17/50\n",
      "\u001B[1m1420/1420\u001B[0m \u001B[32m━━━━━━━━━━━━━━━━━━━━\u001B[0m\u001B[37m\u001B[0m \u001B[1m11s\u001B[0m 5ms/step - f1_score: 0.9679 - loss: 0.0054 - precision: 0.9969 - val_f1_score: 1.0000 - val_loss: 4.9712e-04 - val_precision: 1.0000\n",
      "\u001B[1m1779/1779\u001B[0m \u001B[32m━━━━━━━━━━━━━━━━━━━━\u001B[0m\u001B[37m\u001B[0m \u001B[1m2s\u001B[0m 1ms/step\n"
     ]
    },
    {
     "output_type": "stream",
     "name": "stderr",
     "text": [
      "WARNING:absl:You are saving your model as an HDF5 file via `model.save()` or `keras.saving.save_model(model)`. This file format is considered legacy. We recommend using instead the native Keras format, e.g. `model.save('my_model.keras')` or `keras.saving.save_model(model, 'my_model.keras')`. \n"
     ]
    },
    {
     "output_type": "stream",
     "name": "stdout",
     "text": [
      "\n",
      "Classification Report (dataset: smote, batch size: 256):\n",
      "              precision    recall  f1-score   support\n",
      "\n",
      "           0       1.00      1.00      1.00     56825\n",
      "           1       0.64      0.78      0.70        77\n",
      "\n",
      "    accuracy                           1.00     56902\n",
      "   macro avg       0.82      0.89      0.85     56902\n",
      "weighted avg       1.00      1.00      1.00     56902\n",
      "\n",
      "\n",
      "Confusion Matrix (dataset: smote, batch size: 256):\n",
      "[[56791    34]\n",
      " [   17    60]]\n",
      "Model saved as model_smote_batch256.h5\n",
      "\n",
      "Training neural network with dataset: undersampled, batch size: 32\n",
      "Epoch 1/50\n",
      "\u001B[1m21/21\u001B[0m \u001B[32m━━━━━━━━━━━━━━━━━━━━\u001B[0m\u001B[37m\u001B[0m \u001B[1m4s\u001B[0m 31ms/step - f1_score: 0.5339 - loss: 1.0309 - precision: 0.4321 - val_f1_score: 1.0000 - val_loss: 0.2185 - val_precision: 1.0000\n",
      "Epoch 2/50\n",
      "\u001B[1m21/21\u001B[0m \u001B[32m━━━━━━━━━━━━━━━━━━━━\u001B[0m\u001B[37m\u001B[0m \u001B[1m0s\u001B[0m 9ms/step - f1_score: 0.5530 - loss: 0.6092 - precision: 0.5464 - val_f1_score: 1.0000 - val_loss: 0.2368 - val_precision: 1.0000\n",
      "Epoch 3/50\n",
      "\u001B[1m21/21\u001B[0m \u001B[32m━━━━━━━━━━━━━━━━━━━━\u001B[0m\u001B[37m\u001B[0m \u001B[1m0s\u001B[0m 8ms/step - f1_score: 0.5343 - loss: 0.4748 - precision: 0.7110 - val_f1_score: 1.0000 - val_loss: 0.2567 - val_precision: 1.0000\n",
      "Epoch 4/50\n",
      "\u001B[1m21/21\u001B[0m \u001B[32m━━━━━━━━━━━━━━━━━━━━\u001B[0m\u001B[37m\u001B[0m \u001B[1m0s\u001B[0m 9ms/step - f1_score: 0.5282 - loss: 0.4110 - precision: 0.8175 - val_f1_score: 1.0000 - val_loss: 0.2617 - val_precision: 1.0000\n",
      "Epoch 5/50\n",
      "\u001B[1m21/21\u001B[0m \u001B[32m━━━━━━━━━━━━━━━━━━━━\u001B[0m\u001B[37m\u001B[0m \u001B[1m0s\u001B[0m 8ms/step - f1_score: 0.5276 - loss: 0.3380 - precision: 0.8591 - val_f1_score: 1.0000 - val_loss: 0.2705 - val_precision: 1.0000\n",
      "Epoch 6/50\n",
      "\u001B[1m21/21\u001B[0m \u001B[32m━━━━━━━━━━━━━━━━━━━━\u001B[0m\u001B[37m\u001B[0m \u001B[1m0s\u001B[0m 8ms/step - f1_score: 0.5582 - loss: 0.2945 - precision: 0.9399 - val_f1_score: 1.0000 - val_loss: 0.2659 - val_precision: 1.0000\n",
      "\u001B[1m1779/1779\u001B[0m \u001B[32m━━━━━━━━━━━━━━━━━━━━\u001B[0m\u001B[37m\u001B[0m \u001B[1m3s\u001B[0m 1ms/step\n"
     ]
    },
    {
     "output_type": "stream",
     "name": "stderr",
     "text": [
      "WARNING:absl:You are saving your model as an HDF5 file via `model.save()` or `keras.saving.save_model(model)`. This file format is considered legacy. We recommend using instead the native Keras format, e.g. `model.save('my_model.keras')` or `keras.saving.save_model(model, 'my_model.keras')`. \n"
     ]
    },
    {
     "output_type": "stream",
     "name": "stdout",
     "text": [
      "\n",
      "Classification Report (dataset: undersampled, batch size: 32):\n",
      "              precision    recall  f1-score   support\n",
      "\n",
      "           0       1.00      0.73      0.84     56825\n",
      "           1       0.00      0.83      0.01        77\n",
      "\n",
      "    accuracy                           0.73     56902\n",
      "   macro avg       0.50      0.78      0.43     56902\n",
      "weighted avg       1.00      0.73      0.84     56902\n",
      "\n",
      "\n",
      "Confusion Matrix (dataset: undersampled, batch size: 32):\n",
      "[[41508 15317]\n",
      " [   13    64]]\n",
      "Model saved as model_undersampled_batch32.h5\n",
      "\n",
      "Training neural network with dataset: undersampled, batch size: 64\n",
      "Epoch 1/50\n",
      "\u001B[1m11/11\u001B[0m \u001B[32m━━━━━━━━━━━━━━━━━━━━\u001B[0m\u001B[37m\u001B[0m \u001B[1m3s\u001B[0m 48ms/step - f1_score: 0.5317 - loss: 1.4896 - precision: 0.3136 - val_f1_score: 1.0000 - val_loss: 0.8074 - val_precision: 1.0000\n",
      "Epoch 2/50\n",
      "\u001B[1m11/11\u001B[0m \u001B[32m━━━━━━━━━━━━━━━━━━━━\u001B[0m\u001B[37m\u001B[0m \u001B[1m0s\u001B[0m 11ms/step - f1_score: 0.5261 - loss: 0.8938 - precision: 0.5370 - val_f1_score: 1.0000 - val_loss: 0.3556 - val_precision: 1.0000\n",
      "Epoch 3/50\n",
      "\u001B[1m11/11\u001B[0m \u001B[32m━━━━━━━━━━━━━━━━━━━━\u001B[0m\u001B[37m\u001B[0m \u001B[1m0s\u001B[0m 11ms/step - f1_score: 0.5411 - loss: 0.6173 - precision: 0.5998 - val_f1_score: 1.0000 - val_loss: 0.2636 - val_precision: 1.0000\n",
      "Epoch 4/50\n",
      "\u001B[1m11/11\u001B[0m \u001B[32m━━━━━━━━━━━━━━━━━━━━\u001B[0m\u001B[37m\u001B[0m \u001B[1m0s\u001B[0m 11ms/step - f1_score: 0.5271 - loss: 0.5196 - precision: 0.6882 - val_f1_score: 1.0000 - val_loss: 0.2243 - val_precision: 1.0000\n",
      "Epoch 5/50\n",
      "\u001B[1m11/11\u001B[0m \u001B[32m━━━━━━━━━━━━━━━━━━━━\u001B[0m\u001B[37m\u001B[0m \u001B[1m0s\u001B[0m 11ms/step - f1_score: 0.5663 - loss: 0.4868 - precision: 0.7338 - val_f1_score: 1.0000 - val_loss: 0.2113 - val_precision: 1.0000\n",
      "Epoch 6/50\n",
      "\u001B[1m11/11\u001B[0m \u001B[32m━━━━━━━━━━━━━━━━━━━━\u001B[0m\u001B[37m\u001B[0m \u001B[1m0s\u001B[0m 11ms/step - f1_score: 0.5281 - loss: 0.4642 - precision: 0.7650 - val_f1_score: 1.0000 - val_loss: 0.2099 - val_precision: 1.0000\n",
      "Epoch 7/50\n",
      "\u001B[1m11/11\u001B[0m \u001B[32m━━━━━━━━━━━━━━━━━━━━\u001B[0m\u001B[37m\u001B[0m \u001B[1m0s\u001B[0m 12ms/step - f1_score: 0.5370 - loss: 0.4360 - precision: 0.8244 - val_f1_score: 1.0000 - val_loss: 0.2050 - val_precision: 1.0000\n",
      "Epoch 8/50\n",
      "\u001B[1m11/11\u001B[0m \u001B[32m━━━━━━━━━━━━━━━━━━━━\u001B[0m\u001B[37m\u001B[0m \u001B[1m0s\u001B[0m 11ms/step - f1_score: 0.5403 - loss: 0.3814 - precision: 0.8575 - val_f1_score: 1.0000 - val_loss: 0.2213 - val_precision: 1.0000\n",
      "Epoch 9/50\n",
      "\u001B[1m11/11\u001B[0m \u001B[32m━━━━━━━━━━━━━━━━━━━━\u001B[0m\u001B[37m\u001B[0m \u001B[1m0s\u001B[0m 11ms/step - f1_score: 0.5258 - loss: 0.3321 - precision: 0.9286 - val_f1_score: 1.0000 - val_loss: 0.2439 - val_precision: 1.0000\n",
      "Epoch 10/50\n",
      "\u001B[1m11/11\u001B[0m \u001B[32m━━━━━━━━━━━━━━━━━━━━\u001B[0m\u001B[37m\u001B[0m \u001B[1m0s\u001B[0m 11ms/step - f1_score: 0.5354 - loss: 0.3174 - precision: 0.9425 - val_f1_score: 1.0000 - val_loss: 0.2533 - val_precision: 1.0000\n",
      "Epoch 11/50\n",
      "\u001B[1m11/11\u001B[0m \u001B[32m━━━━━━━━━━━━━━━━━━━━\u001B[0m\u001B[37m\u001B[0m \u001B[1m0s\u001B[0m 11ms/step - f1_score: 0.5317 - loss: 0.2868 - precision: 0.8966 - val_f1_score: 1.0000 - val_loss: 0.2659 - val_precision: 1.0000\n",
      "Epoch 12/50\n",
      "\u001B[1m11/11\u001B[0m \u001B[32m━━━━━━━━━━━━━━━━━━━━\u001B[0m\u001B[37m\u001B[0m \u001B[1m0s\u001B[0m 14ms/step - f1_score: 0.5611 - loss: 0.2773 - precision: 0.9748 - val_f1_score: 1.0000 - val_loss: 0.2724 - val_precision: 1.0000\n",
      "\u001B[1m1779/1779\u001B[0m \u001B[32m━━━━━━━━━━━━━━━━━━━━\u001B[0m\u001B[37m\u001B[0m \u001B[1m2s\u001B[0m 1ms/step\n"
     ]
    },
    {
     "output_type": "stream",
     "name": "stderr",
     "text": [
      "WARNING:absl:You are saving your model as an HDF5 file via `model.save()` or `keras.saving.save_model(model)`. This file format is considered legacy. We recommend using instead the native Keras format, e.g. `model.save('my_model.keras')` or `keras.saving.save_model(model, 'my_model.keras')`. \n"
     ]
    },
    {
     "output_type": "stream",
     "name": "stdout",
     "text": [
      "\n",
      "Classification Report (dataset: undersampled, batch size: 64):\n",
      "              precision    recall  f1-score   support\n",
      "\n",
      "           0       1.00      0.98      0.99     56825\n",
      "           1       0.05      0.84      0.09        77\n",
      "\n",
      "    accuracy                           0.98     56902\n",
      "   macro avg       0.52      0.91      0.54     56902\n",
      "weighted avg       1.00      0.98      0.99     56902\n",
      "\n",
      "\n",
      "Confusion Matrix (dataset: undersampled, batch size: 64):\n",
      "[[55502  1323]\n",
      " [   12    65]]\n",
      "Model saved as model_undersampled_batch64.h5\n",
      "\n",
      "Training neural network with dataset: undersampled, batch size: 128\n",
      "Epoch 1/50\n",
      "\u001B[1m6/6\u001B[0m \u001B[32m━━━━━━━━━━━━━━━━━━━━\u001B[0m\u001B[37m\u001B[0m \u001B[1m3s\u001B[0m 138ms/step - f1_score: 0.5459 - loss: 0.7011 - precision: 0.4210 - val_f1_score: 1.0000 - val_loss: 0.2446 - val_precision: 1.0000\n",
      "Epoch 2/50\n",
      "\u001B[1m6/6\u001B[0m \u001B[32m━━━━━━━━━━━━━━━━━━━━\u001B[0m\u001B[37m\u001B[0m \u001B[1m1s\u001B[0m 28ms/step - f1_score: 0.5321 - loss: 0.6426 - precision: 0.4455 - val_f1_score: 1.0000 - val_loss: 0.2114 - val_precision: 1.0000\n",
      "Epoch 3/50\n",
      "\u001B[1m6/6\u001B[0m \u001B[32m━━━━━━━━━━━━━━━━━━━━\u001B[0m\u001B[37m\u001B[0m \u001B[1m0s\u001B[0m 31ms/step - f1_score: 0.5513 - loss: 0.5933 - precision: 0.5037 - val_f1_score: 1.0000 - val_loss: 0.1966 - val_precision: 1.0000\n",
      "Epoch 4/50\n",
      "\u001B[1m6/6\u001B[0m \u001B[32m━━━━━━━━━━━━━━━━━━━━\u001B[0m\u001B[37m\u001B[0m \u001B[1m0s\u001B[0m 34ms/step - f1_score: 0.5528 - loss: 0.5576 - precision: 0.5370 - val_f1_score: 1.0000 - val_loss: 0.1927 - val_precision: 1.0000\n",
      "Epoch 5/50\n",
      "\u001B[1m6/6\u001B[0m \u001B[32m━━━━━━━━━━━━━━━━━━━━\u001B[0m\u001B[37m\u001B[0m \u001B[1m0s\u001B[0m 28ms/step - f1_score: 0.5339 - loss: 0.5082 - precision: 0.6051 - val_f1_score: 1.0000 - val_loss: 0.1896 - val_precision: 1.0000\n",
      "Epoch 6/50\n",
      "\u001B[1m6/6\u001B[0m \u001B[32m━━━━━━━━━━━━━━━━━━━━\u001B[0m\u001B[37m\u001B[0m \u001B[1m0s\u001B[0m 18ms/step - f1_score: 0.5460 - loss: 0.4719 - precision: 0.6742 - val_f1_score: 1.0000 - val_loss: 0.1898 - val_precision: 1.0000\n",
      "Epoch 7/50\n",
      "\u001B[1m6/6\u001B[0m \u001B[32m━━━━━━━━━━━━━━━━━━━━\u001B[0m\u001B[37m\u001B[0m \u001B[1m0s\u001B[0m 18ms/step - f1_score: 0.5492 - loss: 0.4489 - precision: 0.7526 - val_f1_score: 1.0000 - val_loss: 0.1874 - val_precision: 1.0000\n",
      "Epoch 8/50\n",
      "\u001B[1m6/6\u001B[0m \u001B[32m━━━━━━━━━━━━━━━━━━━━\u001B[0m\u001B[37m\u001B[0m \u001B[1m0s\u001B[0m 18ms/step - f1_score: 0.5364 - loss: 0.4121 - precision: 0.7790 - val_f1_score: 1.0000 - val_loss: 0.1889 - val_precision: 1.0000\n",
      "Epoch 9/50\n",
      "\u001B[1m6/6\u001B[0m \u001B[32m━━━━━━━━━━━━━━━━━━━━\u001B[0m\u001B[37m\u001B[0m \u001B[1m0s\u001B[0m 18ms/step - f1_score: 0.5408 - loss: 0.4010 - precision: 0.8137 - val_f1_score: 1.0000 - val_loss: 0.1979 - val_precision: 1.0000\n",
      "Epoch 10/50\n",
      "\u001B[1m6/6\u001B[0m \u001B[32m━━━━━━━━━━━━━━━━━━━━\u001B[0m\u001B[37m\u001B[0m \u001B[1m0s\u001B[0m 18ms/step - f1_score: 0.5445 - loss: 0.3614 - precision: 0.8732 - val_f1_score: 1.0000 - val_loss: 0.2139 - val_precision: 1.0000\n",
      "Epoch 11/50\n",
      "\u001B[1m6/6\u001B[0m \u001B[32m━━━━━━━━━━━━━━━━━━━━\u001B[0m\u001B[37m\u001B[0m \u001B[1m0s\u001B[0m 21ms/step - f1_score: 0.5484 - loss: 0.3444 - precision: 0.9005 - val_f1_score: 1.0000 - val_loss: 0.2187 - val_precision: 1.0000\n",
      "Epoch 12/50\n",
      "\u001B[1m6/6\u001B[0m \u001B[32m━━━━━━━━━━━━━━━━━━━━\u001B[0m\u001B[37m\u001B[0m \u001B[1m0s\u001B[0m 17ms/step - f1_score: 0.5497 - loss: 0.3178 - precision: 0.9302 - val_f1_score: 1.0000 - val_loss: 0.2214 - val_precision: 1.0000\n",
      "\u001B[1m1779/1779\u001B[0m \u001B[32m━━━━━━━━━━━━━━━━━━━━\u001B[0m\u001B[37m\u001B[0m \u001B[1m2s\u001B[0m 1ms/step\n"
     ]
    },
    {
     "output_type": "stream",
     "name": "stderr",
     "text": [
      "WARNING:absl:You are saving your model as an HDF5 file via `model.save()` or `keras.saving.save_model(model)`. This file format is considered legacy. We recommend using instead the native Keras format, e.g. `model.save('my_model.keras')` or `keras.saving.save_model(model, 'my_model.keras')`. \n"
     ]
    },
    {
     "output_type": "stream",
     "name": "stdout",
     "text": [
      "\n",
      "Classification Report (dataset: undersampled, batch size: 128):\n",
      "              precision    recall  f1-score   support\n",
      "\n",
      "           0       1.00      0.94      0.97     56825\n",
      "           1       0.02      0.86      0.04        77\n",
      "\n",
      "    accuracy                           0.94     56902\n",
      "   macro avg       0.51      0.90      0.50     56902\n",
      "weighted avg       1.00      0.94      0.97     56902\n",
      "\n",
      "\n",
      "Confusion Matrix (dataset: undersampled, batch size: 128):\n",
      "[[53558  3267]\n",
      " [   11    66]]\n",
      "Model saved as model_undersampled_batch128.h5\n",
      "\n",
      "Training neural network with dataset: undersampled, batch size: 256\n",
      "Epoch 1/50\n",
      "\u001B[1m3/3\u001B[0m \u001B[32m━━━━━━━━━━━━━━━━━━━━\u001B[0m\u001B[37m\u001B[0m \u001B[1m3s\u001B[0m 229ms/step - f1_score: 0.5580 - loss: 1.2079 - precision: 0.3171 - val_f1_score: 1.0000 - val_loss: 0.7125 - val_precision: 1.0000\n",
      "Epoch 2/50\n",
      "\u001B[1m3/3\u001B[0m \u001B[32m━━━━━━━━━━━━━━━━━━━━\u001B[0m\u001B[37m\u001B[0m \u001B[1m0s\u001B[0m 47ms/step - f1_score: 0.5565 - loss: 0.9271 - precision: 0.3529 - val_f1_score: 1.0000 - val_loss: 0.3482 - val_precision: 1.0000\n",
      "Epoch 3/50\n",
      "\u001B[1m3/3\u001B[0m \u001B[32m━━━━━━━━━━━━━━━━━━━━\u001B[0m\u001B[37m\u001B[0m \u001B[1m0s\u001B[0m 40ms/step - f1_score: 0.5545 - loss: 0.7734 - precision: 0.4171 - val_f1_score: 1.0000 - val_loss: 0.2301 - val_precision: 1.0000\n",
      "Epoch 4/50\n",
      "\u001B[1m3/3\u001B[0m \u001B[32m━━━━━━━━━━━━━━━━━━━━\u001B[0m\u001B[37m\u001B[0m \u001B[1m0s\u001B[0m 41ms/step - f1_score: 0.5433 - loss: 0.7175 - precision: 0.4151 - val_f1_score: 1.0000 - val_loss: 0.1844 - val_precision: 1.0000\n",
      "Epoch 5/50\n",
      "\u001B[1m3/3\u001B[0m \u001B[32m━━━━━━━━━━━━━━━━━━━━\u001B[0m\u001B[37m\u001B[0m \u001B[1m0s\u001B[0m 41ms/step - f1_score: 0.5417 - loss: 0.6817 - precision: 0.4442 - val_f1_score: 1.0000 - val_loss: 0.1667 - val_precision: 1.0000\n",
      "Epoch 6/50\n",
      "\u001B[1m3/3\u001B[0m \u001B[32m━━━━━━━━━━━━━━━━━━━━\u001B[0m\u001B[37m\u001B[0m \u001B[1m0s\u001B[0m 47ms/step - f1_score: 0.5443 - loss: 0.5871 - precision: 0.4896 - val_f1_score: 1.0000 - val_loss: 0.1617 - val_precision: 1.0000\n",
      "Epoch 7/50\n",
      "\u001B[1m3/3\u001B[0m \u001B[32m━━━━━━━━━━━━━━━━━━━━\u001B[0m\u001B[37m\u001B[0m \u001B[1m0s\u001B[0m 40ms/step - f1_score: 0.5433 - loss: 0.5888 - precision: 0.4647 - val_f1_score: 1.0000 - val_loss: 0.1639 - val_precision: 1.0000\n",
      "Epoch 8/50\n",
      "\u001B[1m3/3\u001B[0m \u001B[32m━━━━━━━━━━━━━━━━━━━━\u001B[0m\u001B[37m\u001B[0m \u001B[1m0s\u001B[0m 41ms/step - f1_score: 0.5407 - loss: 0.5769 - precision: 0.4955 - val_f1_score: 1.0000 - val_loss: 0.1670 - val_precision: 1.0000\n",
      "Epoch 9/50\n",
      "\u001B[1m3/3\u001B[0m \u001B[32m━━━━━━━━━━━━━━━━━━━━\u001B[0m\u001B[37m\u001B[0m \u001B[1m0s\u001B[0m 80ms/step - f1_score: 0.5443 - loss: 0.5253 - precision: 0.5333 - val_f1_score: 1.0000 - val_loss: 0.1727 - val_precision: 1.0000\n",
      "Epoch 10/50\n",
      "\u001B[1m3/3\u001B[0m \u001B[32m━━━━━━━━━━━━━━━━━━━━\u001B[0m\u001B[37m\u001B[0m \u001B[1m0s\u001B[0m 76ms/step - f1_score: 0.5310 - loss: 0.5063 - precision: 0.5532 - val_f1_score: 1.0000 - val_loss: 0.1801 - val_precision: 1.0000\n",
      "Epoch 11/50\n",
      "\u001B[1m3/3\u001B[0m \u001B[32m━━━━━━━━━━━━━━━━━━━━\u001B[0m\u001B[37m\u001B[0m \u001B[1m0s\u001B[0m 62ms/step - f1_score: 0.5479 - loss: 0.5264 - precision: 0.5640 - val_f1_score: 1.0000 - val_loss: 0.1883 - val_precision: 1.0000\n",
      "\u001B[1m1779/1779\u001B[0m \u001B[32m━━━━━━━━━━━━━━━━━━━━\u001B[0m\u001B[37m\u001B[0m \u001B[1m3s\u001B[0m 2ms/step\n"
     ]
    },
    {
     "output_type": "stream",
     "name": "stderr",
     "text": [
      "WARNING:absl:You are saving your model as an HDF5 file via `model.save()` or `keras.saving.save_model(model)`. This file format is considered legacy. We recommend using instead the native Keras format, e.g. `model.save('my_model.keras')` or `keras.saving.save_model(model, 'my_model.keras')`. \n"
     ]
    },
    {
     "output_type": "stream",
     "name": "stdout",
     "text": [
      "\n",
      "Classification Report (dataset: undersampled, batch size: 256):\n",
      "              precision    recall  f1-score   support\n",
      "\n",
      "           0       1.00      0.54      0.70     56825\n",
      "           1       0.00      0.90      0.01        77\n",
      "\n",
      "    accuracy                           0.54     56902\n",
      "   macro avg       0.50      0.72      0.35     56902\n",
      "weighted avg       1.00      0.54      0.70     56902\n",
      "\n",
      "\n",
      "Confusion Matrix (dataset: undersampled, batch size: 256):\n",
      "[[30838 25987]\n",
      " [    8    69]]\n",
      "Model saved as model_undersampled_batch256.h5\n"
     ]
    }
   ]
  },
  {
   "metadata": {
    "id": "343e62589241e094"
   },
   "cell_type": "markdown",
   "source": [
    "# Evaluation\n",
    "\n",
    "Now, let's load the saved models and evaluate their performance. We also tuned the optimal threshold for the sigmoid function in the final layer."
   ],
   "id": "343e62589241e094"
  },
  {
   "cell_type": "code",
   "source": [
    "results = []\n",
    "for dataset_name,_,_,_ in datasets:\n",
    "    for batch in batches:\n",
    "        model_name = f'model_{dataset_name}_batch{batch}.h5'\n",
    "        model = load_model(model_name)\n",
    "        thresholds = [0.3, 0.4, 0.5]\n",
    "        for threshold in thresholds:\n",
    "             y_pred = (model.predict(X_test) > threshold).astype(int).flatten()\n",
    "             precision = precision_score(y_test, y_pred, pos_label=1)\n",
    "             f1 = f1_score(y_test, y_pred, pos_label=1)\n",
    "             results.append({\n",
    "                'dataset': dataset_name,\n",
    "                'batch_size': batch,\n",
    "                'precision': precision,\n",
    "                'f1_score': f1,\n",
    "                'threshold': threshold\n",
    "            })\n",
    "             print(f\"\\nMetrics for dataset: {dataset_name}, batch size: {batch}, threshold: {threshold}\")\n",
    "             print(f\"Precision: {precision:.4f}\")\n",
    "             print(f\"F1-Score: {f1:.4f}\")"
   ],
   "metadata": {
    "id": "V_YXxyF8oPMs",
    "outputId": "bdf429b1-972b-4aea-edda-6cf14f378b93",
    "colab": {
     "base_uri": "https://localhost:8080/"
    }
   },
   "id": "V_YXxyF8oPMs",
   "execution_count": 94,
   "outputs": [
    {
     "output_type": "stream",
     "name": "stderr",
     "text": [
      "WARNING:absl:Compiled the loaded model, but the compiled metrics have yet to be built. `model.compile_metrics` will be empty until you train or evaluate the model.\n"
     ]
    },
    {
     "output_type": "stream",
     "name": "stdout",
     "text": [
      "\u001B[1m1779/1779\u001B[0m \u001B[32m━━━━━━━━━━━━━━━━━━━━\u001B[0m\u001B[37m\u001B[0m \u001B[1m2s\u001B[0m 1ms/step\n",
      "\n",
      "Metrics for dataset: original, batch size: 32, threshold: 0.3\n",
      "Precision: 0.0488\n",
      "F1-Score: 0.0924\n",
      "\u001B[1m1779/1779\u001B[0m \u001B[32m━━━━━━━━━━━━━━━━━━━━\u001B[0m\u001B[37m\u001B[0m \u001B[1m2s\u001B[0m 1ms/step\n",
      "\n",
      "Metrics for dataset: original, batch size: 32, threshold: 0.4\n",
      "Precision: 0.0601\n",
      "F1-Score: 0.1125\n",
      "\u001B[1m1779/1779\u001B[0m \u001B[32m━━━━━━━━━━━━━━━━━━━━\u001B[0m\u001B[37m\u001B[0m \u001B[1m2s\u001B[0m 1ms/step\n"
     ]
    },
    {
     "output_type": "stream",
     "name": "stderr",
     "text": [
      "WARNING:absl:Compiled the loaded model, but the compiled metrics have yet to be built. `model.compile_metrics` will be empty until you train or evaluate the model.\n"
     ]
    },
    {
     "output_type": "stream",
     "name": "stdout",
     "text": [
      "\n",
      "Metrics for dataset: original, batch size: 32, threshold: 0.5\n",
      "Precision: 0.0743\n",
      "F1-Score: 0.1369\n",
      "\u001B[1m1779/1779\u001B[0m \u001B[32m━━━━━━━━━━━━━━━━━━━━\u001B[0m\u001B[37m\u001B[0m \u001B[1m2s\u001B[0m 1ms/step\n",
      "\n",
      "Metrics for dataset: original, batch size: 64, threshold: 0.3\n",
      "Precision: 0.0323\n",
      "F1-Score: 0.0623\n",
      "\u001B[1m1779/1779\u001B[0m \u001B[32m━━━━━━━━━━━━━━━━━━━━\u001B[0m\u001B[37m\u001B[0m \u001B[1m3s\u001B[0m 2ms/step\n",
      "\n",
      "Metrics for dataset: original, batch size: 64, threshold: 0.4\n",
      "Precision: 0.0476\n",
      "F1-Score: 0.0902\n",
      "\u001B[1m1779/1779\u001B[0m \u001B[32m━━━━━━━━━━━━━━━━━━━━\u001B[0m\u001B[37m\u001B[0m \u001B[1m2s\u001B[0m 1ms/step\n"
     ]
    },
    {
     "output_type": "stream",
     "name": "stderr",
     "text": [
      "WARNING:absl:Compiled the loaded model, but the compiled metrics have yet to be built. `model.compile_metrics` will be empty until you train or evaluate the model.\n"
     ]
    },
    {
     "output_type": "stream",
     "name": "stdout",
     "text": [
      "\n",
      "Metrics for dataset: original, batch size: 64, threshold: 0.5\n",
      "Precision: 0.0719\n",
      "F1-Score: 0.1327\n",
      "\u001B[1m1779/1779\u001B[0m \u001B[32m━━━━━━━━━━━━━━━━━━━━\u001B[0m\u001B[37m\u001B[0m \u001B[1m2s\u001B[0m 1ms/step\n",
      "\n",
      "Metrics for dataset: original, batch size: 128, threshold: 0.3\n",
      "Precision: 0.0629\n",
      "F1-Score: 0.1174\n",
      "\u001B[1m1779/1779\u001B[0m \u001B[32m━━━━━━━━━━━━━━━━━━━━\u001B[0m\u001B[37m\u001B[0m \u001B[1m3s\u001B[0m 2ms/step\n",
      "\n",
      "Metrics for dataset: original, batch size: 128, threshold: 0.4\n",
      "Precision: 0.0754\n",
      "F1-Score: 0.1387\n",
      "\u001B[1m1779/1779\u001B[0m \u001B[32m━━━━━━━━━━━━━━━━━━━━\u001B[0m\u001B[37m\u001B[0m \u001B[1m2s\u001B[0m 1ms/step\n"
     ]
    },
    {
     "output_type": "stream",
     "name": "stderr",
     "text": [
      "WARNING:absl:Compiled the loaded model, but the compiled metrics have yet to be built. `model.compile_metrics` will be empty until you train or evaluate the model.\n"
     ]
    },
    {
     "output_type": "stream",
     "name": "stdout",
     "text": [
      "\n",
      "Metrics for dataset: original, batch size: 128, threshold: 0.5\n",
      "Precision: 0.0915\n",
      "F1-Score: 0.1656\n",
      "\u001B[1m1779/1779\u001B[0m \u001B[32m━━━━━━━━━━━━━━━━━━━━\u001B[0m\u001B[37m\u001B[0m \u001B[1m2s\u001B[0m 1ms/step\n",
      "\n",
      "Metrics for dataset: original, batch size: 256, threshold: 0.3\n",
      "Precision: 0.0578\n",
      "F1-Score: 0.1083\n",
      "\u001B[1m1779/1779\u001B[0m \u001B[32m━━━━━━━━━━━━━━━━━━━━\u001B[0m\u001B[37m\u001B[0m \u001B[1m3s\u001B[0m 2ms/step\n",
      "\n",
      "Metrics for dataset: original, batch size: 256, threshold: 0.4\n",
      "Precision: 0.0811\n",
      "F1-Score: 0.1481\n",
      "\u001B[1m1779/1779\u001B[0m \u001B[32m━━━━━━━━━━━━━━━━━━━━\u001B[0m\u001B[37m\u001B[0m \u001B[1m2s\u001B[0m 1ms/step\n"
     ]
    },
    {
     "output_type": "stream",
     "name": "stderr",
     "text": [
      "WARNING:absl:Compiled the loaded model, but the compiled metrics have yet to be built. `model.compile_metrics` will be empty until you train or evaluate the model.\n"
     ]
    },
    {
     "output_type": "stream",
     "name": "stdout",
     "text": [
      "\n",
      "Metrics for dataset: original, batch size: 256, threshold: 0.5\n",
      "Precision: 0.1104\n",
      "F1-Score: 0.1956\n",
      "\u001B[1m1779/1779\u001B[0m \u001B[32m━━━━━━━━━━━━━━━━━━━━\u001B[0m\u001B[37m\u001B[0m \u001B[1m2s\u001B[0m 1ms/step\n",
      "\n",
      "Metrics for dataset: smote, batch size: 32, threshold: 0.3\n",
      "Precision: 0.5536\n",
      "F1-Score: 0.6561\n",
      "\u001B[1m1779/1779\u001B[0m \u001B[32m━━━━━━━━━━━━━━━━━━━━\u001B[0m\u001B[37m\u001B[0m \u001B[1m2s\u001B[0m 1ms/step\n",
      "\n",
      "Metrics for dataset: smote, batch size: 32, threshold: 0.4\n",
      "Precision: 0.5688\n",
      "F1-Score: 0.6667\n",
      "\u001B[1m1779/1779\u001B[0m \u001B[32m━━━━━━━━━━━━━━━━━━━━\u001B[0m\u001B[37m\u001B[0m \u001B[1m4s\u001B[0m 2ms/step\n"
     ]
    },
    {
     "output_type": "stream",
     "name": "stderr",
     "text": [
      "WARNING:absl:Compiled the loaded model, but the compiled metrics have yet to be built. `model.compile_metrics` will be empty until you train or evaluate the model.\n"
     ]
    },
    {
     "output_type": "stream",
     "name": "stdout",
     "text": [
      "\n",
      "Metrics for dataset: smote, batch size: 32, threshold: 0.5\n",
      "Precision: 0.5905\n",
      "F1-Score: 0.6813\n",
      "\u001B[1m1779/1779\u001B[0m \u001B[32m━━━━━━━━━━━━━━━━━━━━\u001B[0m\u001B[37m\u001B[0m \u001B[1m2s\u001B[0m 1ms/step\n",
      "\n",
      "Metrics for dataset: smote, batch size: 64, threshold: 0.3\n",
      "Precision: 0.5304\n",
      "F1-Score: 0.6354\n",
      "\u001B[1m1779/1779\u001B[0m \u001B[32m━━━━━━━━━━━━━━━━━━━━\u001B[0m\u001B[37m\u001B[0m \u001B[1m2s\u001B[0m 1ms/step\n",
      "\n",
      "Metrics for dataset: smote, batch size: 64, threshold: 0.4\n",
      "Precision: 0.5755\n",
      "F1-Score: 0.6667\n",
      "\u001B[1m1779/1779\u001B[0m \u001B[32m━━━━━━━━━━━━━━━━━━━━\u001B[0m\u001B[37m\u001B[0m \u001B[1m2s\u001B[0m 1ms/step\n"
     ]
    },
    {
     "output_type": "stream",
     "name": "stderr",
     "text": [
      "WARNING:absl:Compiled the loaded model, but the compiled metrics have yet to be built. `model.compile_metrics` will be empty until you train or evaluate the model.\n"
     ]
    },
    {
     "output_type": "stream",
     "name": "stdout",
     "text": [
      "\n",
      "Metrics for dataset: smote, batch size: 64, threshold: 0.5\n",
      "Precision: 0.5922\n",
      "F1-Score: 0.6778\n",
      "\u001B[1m1779/1779\u001B[0m \u001B[32m━━━━━━━━━━━━━━━━━━━━\u001B[0m\u001B[37m\u001B[0m \u001B[1m2s\u001B[0m 1ms/step\n",
      "\n",
      "Metrics for dataset: smote, batch size: 128, threshold: 0.3\n",
      "Precision: 0.5351\n",
      "F1-Score: 0.6387\n",
      "\u001B[1m1779/1779\u001B[0m \u001B[32m━━━━━━━━━━━━━━━━━━━━\u001B[0m\u001B[37m\u001B[0m \u001B[1m2s\u001B[0m 1ms/step\n",
      "\n",
      "Metrics for dataset: smote, batch size: 128, threshold: 0.4\n",
      "Precision: 0.5495\n",
      "F1-Score: 0.6489\n",
      "\u001B[1m1779/1779\u001B[0m \u001B[32m━━━━━━━━━━━━━━━━━━━━\u001B[0m\u001B[37m\u001B[0m \u001B[1m2s\u001B[0m 1ms/step\n"
     ]
    },
    {
     "output_type": "stream",
     "name": "stderr",
     "text": [
      "WARNING:absl:Compiled the loaded model, but the compiled metrics have yet to be built. `model.compile_metrics` will be empty until you train or evaluate the model.\n"
     ]
    },
    {
     "output_type": "stream",
     "name": "stdout",
     "text": [
      "\n",
      "Metrics for dataset: smote, batch size: 128, threshold: 0.5\n",
      "Precision: 0.5701\n",
      "F1-Score: 0.6630\n",
      "\u001B[1m1779/1779\u001B[0m \u001B[32m━━━━━━━━━━━━━━━━━━━━\u001B[0m\u001B[37m\u001B[0m \u001B[1m2s\u001B[0m 1ms/step\n",
      "\n",
      "Metrics for dataset: smote, batch size: 256, threshold: 0.3\n",
      "Precision: 0.6162\n",
      "F1-Score: 0.6932\n",
      "\u001B[1m1779/1779\u001B[0m \u001B[32m━━━━━━━━━━━━━━━━━━━━\u001B[0m\u001B[37m\u001B[0m \u001B[1m2s\u001B[0m 1ms/step\n",
      "\n",
      "Metrics for dataset: smote, batch size: 256, threshold: 0.4\n",
      "Precision: 0.6354\n",
      "F1-Score: 0.7052\n",
      "\u001B[1m1779/1779\u001B[0m \u001B[32m━━━━━━━━━━━━━━━━━━━━\u001B[0m\u001B[37m\u001B[0m \u001B[1m2s\u001B[0m 1ms/step\n"
     ]
    },
    {
     "output_type": "stream",
     "name": "stderr",
     "text": [
      "WARNING:absl:Compiled the loaded model, but the compiled metrics have yet to be built. `model.compile_metrics` will be empty until you train or evaluate the model.\n"
     ]
    },
    {
     "output_type": "stream",
     "name": "stdout",
     "text": [
      "\n",
      "Metrics for dataset: smote, batch size: 256, threshold: 0.5\n",
      "Precision: 0.6383\n",
      "F1-Score: 0.7018\n",
      "\u001B[1m1779/1779\u001B[0m \u001B[32m━━━━━━━━━━━━━━━━━━━━\u001B[0m\u001B[37m\u001B[0m \u001B[1m3s\u001B[0m 1ms/step\n",
      "\n",
      "Metrics for dataset: undersampled, batch size: 32, threshold: 0.3\n",
      "Precision: 0.0014\n",
      "F1-Score: 0.0028\n",
      "\u001B[1m1779/1779\u001B[0m \u001B[32m━━━━━━━━━━━━━━━━━━━━\u001B[0m\u001B[37m\u001B[0m \u001B[1m2s\u001B[0m 1ms/step\n",
      "\n",
      "Metrics for dataset: undersampled, batch size: 32, threshold: 0.4\n",
      "Precision: 0.0016\n",
      "F1-Score: 0.0033\n",
      "\u001B[1m1779/1779\u001B[0m \u001B[32m━━━━━━━━━━━━━━━━━━━━\u001B[0m\u001B[37m\u001B[0m \u001B[1m2s\u001B[0m 1ms/step\n"
     ]
    },
    {
     "output_type": "stream",
     "name": "stderr",
     "text": [
      "WARNING:absl:Compiled the loaded model, but the compiled metrics have yet to be built. `model.compile_metrics` will be empty until you train or evaluate the model.\n"
     ]
    },
    {
     "output_type": "stream",
     "name": "stdout",
     "text": [
      "\n",
      "Metrics for dataset: undersampled, batch size: 32, threshold: 0.5\n",
      "Precision: 0.0042\n",
      "F1-Score: 0.0083\n",
      "\u001B[1m1779/1779\u001B[0m \u001B[32m━━━━━━━━━━━━━━━━━━━━\u001B[0m\u001B[37m\u001B[0m \u001B[1m2s\u001B[0m 1ms/step\n",
      "\n",
      "Metrics for dataset: undersampled, batch size: 64, threshold: 0.3\n",
      "Precision: 0.0030\n",
      "F1-Score: 0.0060\n",
      "\u001B[1m1779/1779\u001B[0m \u001B[32m━━━━━━━━━━━━━━━━━━━━\u001B[0m\u001B[37m\u001B[0m \u001B[1m2s\u001B[0m 1ms/step\n",
      "\n",
      "Metrics for dataset: undersampled, batch size: 64, threshold: 0.4\n",
      "Precision: 0.0102\n",
      "F1-Score: 0.0202\n",
      "\u001B[1m1779/1779\u001B[0m \u001B[32m━━━━━━━━━━━━━━━━━━━━\u001B[0m\u001B[37m\u001B[0m \u001B[1m2s\u001B[0m 1ms/step\n"
     ]
    },
    {
     "output_type": "stream",
     "name": "stderr",
     "text": [
      "WARNING:absl:Compiled the loaded model, but the compiled metrics have yet to be built. `model.compile_metrics` will be empty until you train or evaluate the model.\n"
     ]
    },
    {
     "output_type": "stream",
     "name": "stdout",
     "text": [
      "\n",
      "Metrics for dataset: undersampled, batch size: 64, threshold: 0.5\n",
      "Precision: 0.0468\n",
      "F1-Score: 0.0887\n",
      "\u001B[1m1779/1779\u001B[0m \u001B[32m━━━━━━━━━━━━━━━━━━━━\u001B[0m\u001B[37m\u001B[0m \u001B[1m3s\u001B[0m 2ms/step\n",
      "\n",
      "Metrics for dataset: undersampled, batch size: 128, threshold: 0.3\n",
      "Precision: 0.0014\n",
      "F1-Score: 0.0029\n",
      "\u001B[1m1779/1779\u001B[0m \u001B[32m━━━━━━━━━━━━━━━━━━━━\u001B[0m\u001B[37m\u001B[0m \u001B[1m2s\u001B[0m 1ms/step\n",
      "\n",
      "Metrics for dataset: undersampled, batch size: 128, threshold: 0.4\n",
      "Precision: 0.0026\n",
      "F1-Score: 0.0053\n",
      "\u001B[1m1779/1779\u001B[0m \u001B[32m━━━━━━━━━━━━━━━━━━━━\u001B[0m\u001B[37m\u001B[0m \u001B[1m2s\u001B[0m 1ms/step\n"
     ]
    },
    {
     "output_type": "stream",
     "name": "stderr",
     "text": [
      "WARNING:absl:Compiled the loaded model, but the compiled metrics have yet to be built. `model.compile_metrics` will be empty until you train or evaluate the model.\n"
     ]
    },
    {
     "output_type": "stream",
     "name": "stdout",
     "text": [
      "\n",
      "Metrics for dataset: undersampled, batch size: 128, threshold: 0.5\n",
      "Precision: 0.0198\n",
      "F1-Score: 0.0387\n",
      "\u001B[1m1779/1779\u001B[0m \u001B[32m━━━━━━━━━━━━━━━━━━━━\u001B[0m\u001B[37m\u001B[0m \u001B[1m4s\u001B[0m 2ms/step\n",
      "\n",
      "Metrics for dataset: undersampled, batch size: 256, threshold: 0.3\n",
      "Precision: 0.0014\n",
      "F1-Score: 0.0027\n",
      "\u001B[1m1779/1779\u001B[0m \u001B[32m━━━━━━━━━━━━━━━━━━━━\u001B[0m\u001B[37m\u001B[0m \u001B[1m4s\u001B[0m 2ms/step\n",
      "\n",
      "Metrics for dataset: undersampled, batch size: 256, threshold: 0.4\n",
      "Precision: 0.0014\n",
      "F1-Score: 0.0028\n",
      "\u001B[1m1779/1779\u001B[0m \u001B[32m━━━━━━━━━━━━━━━━━━━━\u001B[0m\u001B[37m\u001B[0m \u001B[1m2s\u001B[0m 1ms/step\n",
      "\n",
      "Metrics for dataset: undersampled, batch size: 256, threshold: 0.5\n",
      "Precision: 0.0026\n",
      "F1-Score: 0.0053\n"
     ]
    }
   ]
  },
  {
   "metadata": {},
   "cell_type": "markdown",
   "source": "Now, we plot the models’ performances based on their F1 scores to compare them.",
   "id": "7c967a75f1c20cde"
  },
  {
   "cell_type": "code",
   "source": [
    "print(\"\\nResults Table:\")\n",
    "results_df = pd.DataFrame(results)\n",
    "print(results_df)\n",
    "\n",
    "plt.figure(figsize=(14, 6))\n",
    "\n",
    "line_styles = {0.3: '--', 0.4: '-', 0.5: ':'}\n",
    "colors = {'original': 'blue', 'smote': 'green', 'undersampled': 'red'}\n",
    "\n",
    "plt.subplot(1, 2, 1)\n",
    "for dataset_name in results_df['dataset'].unique():\n",
    "    for threshold in thresholds:\n",
    "        subset = results_df[(results_df['dataset'] == dataset_name) & (results_df['threshold'] == threshold)]\n",
    "        if not subset.empty:\n",
    "            plt.plot(\n",
    "                subset['batch_size'],\n",
    "                subset['f1_score'],\n",
    "                marker='o',\n",
    "                linestyle=line_styles[threshold],\n",
    "                color=colors[dataset_name],\n",
    "                label=f'{dataset_name} (thr={threshold})'\n",
    "            )\n",
    "plt.xlabel('Batch Size')\n",
    "plt.ylabel('F1-Score (Fraud Class)')\n",
    "plt.title('F1-Score vs Batch Size by Dataset and Threshold')\n",
    "plt.legend(bbox_to_anchor=(1.05, 1), loc='upper left')\n",
    "plt.grid(True)\n",
    "\n",
    "plt.subplot(1, 2, 2)\n",
    "for dataset_name in results_df['dataset'].unique():\n",
    "    for threshold in thresholds:\n",
    "        subset = results_df[(results_df['dataset'] == dataset_name) & (results_df['threshold'] == threshold)]\n",
    "        if not subset.empty:\n",
    "            plt.plot(\n",
    "                subset['batch_size'],\n",
    "                subset['precision'],\n",
    "                marker='o',\n",
    "                linestyle=line_styles[threshold],\n",
    "                color=colors[dataset_name],\n",
    "                label=f'{dataset_name} (thr={threshold})'\n",
    "            )\n",
    "plt.xlabel('Batch Size')\n",
    "plt.ylabel('Precision (Fraud Class)')\n",
    "plt.title('Precision vs Batch Size by Dataset and Threshold')\n",
    "plt.legend(bbox_to_anchor=(1.05, 1), loc='upper left')\n",
    "plt.grid(True)\n",
    "\n",
    "plt.tight_layout()\n",
    "plt.show()\n",
    "\n",
    "plt.savefig('model_comparison_plot.png')\n",
    "plt.close()\n",
    "\n",
    "print(\"\\nPlot saved as 'model_comparison_plot.png'\")"
   ],
   "metadata": {
    "id": "B00TMryLoHMb",
    "outputId": "e67c0103-4849-4750-d10d-13dd3c05decb",
    "colab": {
     "base_uri": "https://localhost:8080/",
     "height": 1000
    }
   },
   "id": "B00TMryLoHMb",
   "execution_count": 107,
   "outputs": [
    {
     "output_type": "stream",
     "name": "stdout",
     "text": [
      "\n",
      "Results Table:\n",
      "         dataset  batch_size  precision  f1_score  threshold\n",
      "0       original          32   0.048798  0.092414        0.3\n",
      "1       original          32   0.060144  0.112510        0.4\n",
      "2       original          32   0.074279  0.136874        0.5\n",
      "3       original          64   0.032289  0.062268        0.3\n",
      "4       original          64   0.047619  0.090226        0.4\n",
      "5       original          64   0.071895  0.132663        0.5\n",
      "6       original         128   0.062905  0.117444        0.3\n",
      "7       original         128   0.075366  0.138716        0.4\n",
      "8       original         128   0.091530  0.165637        0.5\n",
      "9       original         256   0.057793  0.108285        0.3\n",
      "10      original         256   0.081081  0.148148        0.4\n",
      "11      original         256   0.110368  0.195556        0.5\n",
      "12         smote          32   0.553571  0.656085        0.3\n",
      "13         smote          32   0.568807  0.666667        0.4\n",
      "14         smote          32   0.590476  0.681319        0.5\n",
      "15         smote          64   0.530435  0.635417        0.3\n",
      "16         smote          64   0.575472  0.666667        0.4\n",
      "17         smote          64   0.592233  0.677778        0.5\n",
      "18         smote         128   0.535088  0.638743        0.3\n",
      "19         smote         128   0.549550  0.648936        0.4\n",
      "20         smote         128   0.570093  0.663043        0.5\n",
      "21         smote         256   0.616162  0.693182        0.3\n",
      "22         smote         256   0.635417  0.705202        0.4\n",
      "23         smote         256   0.638298  0.701754        0.5\n",
      "24  undersampled          32   0.001378  0.002752        0.3\n",
      "25  undersampled          32   0.001646  0.003285        0.4\n",
      "26  undersampled          32   0.004161  0.008281        0.5\n",
      "27  undersampled          64   0.002996  0.005974        0.3\n",
      "28  undersampled          64   0.010235  0.020235        0.4\n",
      "29  undersampled          64   0.046830  0.088737        0.5\n",
      "30  undersampled         128   0.001445  0.002886        0.3\n",
      "31  undersampled         128   0.002650  0.005285        0.4\n",
      "32  undersampled         128   0.019802  0.038710        0.5\n",
      "33  undersampled         256   0.001361  0.002718        0.3\n",
      "34  undersampled         256   0.001405  0.002807        0.4\n",
      "35  undersampled         256   0.002648  0.005281        0.5\n"
     ]
    },
    {
     "output_type": "display_data",
     "data": {
      "text/plain": [
       "<Figure size 1400x600 with 2 Axes>"
      ],
      "image/png": "[encoded data removed]"
     },
     "metadata": {}
    },
    {
     "output_type": "stream",
     "name": "stdout",
     "text": [
      "\n",
      "Plot saved as 'model_comparison_plot.png'\n"
     ]
    }
   ]
  },
  {
   "metadata": {},
   "cell_type": "markdown",
   "source": "As we can see, oversampling had a significant impact on the model’s accuracy by helping it learn features of the minority class. On the other hand, undersampling may have caused the loss of many important data points.",
   "id": "e3b51d6e6e03c8a1"
  },
  {
   "metadata": {
    "ExecuteTime": {
     "end_time": "2025-08-10T14:09:23.472176Z",
     "start_time": "2025-08-10T14:09:23.410058Z"
    }
   },
   "cell_type": "code",
   "source": "model = load_model('model_comparison_plot.h5')",
   "id": "ccdd146c570096a9",
   "outputs": [
    {
     "ename": "NameError",
     "evalue": "name 'load_model' is not defined",
     "output_type": "error",
     "traceback": [
      "\u001B[31m---------------------------------------------------------------------------\u001B[39m",
      "\u001B[31mNameError\u001B[39m                                 Traceback (most recent call last)",
      "\u001B[36mCell\u001B[39m\u001B[36m \u001B[39m\u001B[32mIn[1]\u001B[39m\u001B[32m, line 1\u001B[39m\n\u001B[32m----> \u001B[39m\u001B[32m1\u001B[39m model = \u001B[43mload_model\u001B[49m(\u001B[33m'\u001B[39m\u001B[33mmodel_comparison_plot.h5\u001B[39m\u001B[33m'\u001B[39m)\n",
      "\u001B[31mNameError\u001B[39m: name 'load_model' is not defined"
     ]
    }
   ],
   "execution_count": 1
  }
 ],
 "metadata": {
  "kernelspec": {
   "display_name": "Python 3",
   "language": "python",
   "name": "python3"
  },
  "language_info": {
   "codemirror_mode": {
    "name": "ipython",
    "version": 2
   },
   "file_extension": ".py",
   "mimetype": "text/x-python",
   "name": "python",
   "nbconvert_exporter": "python",
   "pygments_lexer": "ipython2",
   "version": "2.7.6"
  },
  "colab": {
   "provenance": []
  }
 },
 "nbformat": 4,
 "nbformat_minor": 5
}
