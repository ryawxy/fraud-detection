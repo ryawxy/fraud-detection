{
 "cells": [
  {
   "metadata": {},
   "cell_type": "markdown",
   "source": "# Libraries",
   "id": "d13905edf6c11d1b"
  },
  {
   "metadata": {},
   "cell_type": "markdown",
   "source": "We begin by importing all the necessary libraries used throughout this notebook.",
   "id": "307e13d614316558"
  },
  {
   "metadata": {
    "ExecuteTime": {
     "end_time": "2025-07-01T20:45:10.912702Z",
     "start_time": "2025-07-01T20:45:10.906526Z"
    }
   },
   "cell_type": "code",
   "source": [
    "from typing import Any\n",
    "import numpy as np\n",
    "import pandas as pd\n",
    "from tqdm import tqdm\n",
    "import torch\n",
    "from torch_geometric.data import Data\n",
    "from sklearn.preprocessing import LabelEncoder\n",
    "from torch_geometric.utils import k_hop_subgraph, degree\n",
    "from sklearn.preprocessing import StandardScaler\n",
    "from sklearn.model_selection import train_test_split\n",
    "from argparse import ArgumentParser, ArgumentDefaultsHelpFormatter\n",
    "import yaml"
   ],
   "id": "5619069e506fef14",
   "outputs": [],
   "execution_count": 78
  },
  {
   "metadata": {},
   "cell_type": "markdown",
   "source": "# Loading the Dataset",
   "id": "d63c376536811dce"
  },
  {
   "metadata": {},
   "cell_type": "markdown",
   "source": [
    "In this section, we load the dataset used in our experiment.\n",
    "The dataset is a simulated financial fraud dataset containing the following columns: ` Time `, ` Source `, ` Target `, ` Amount `, ` Location `, ` Type `, and ` Label `. The Label column contains values from 0 to 2, where:\n",
    "\n",
    "- 0 indicates a legitimate transaction,\n",
    "- 1 indicates a fraudulent transaction, and\n",
    "- 2 denotes unlabeled data."
   ],
   "id": "8bd9e1df8e5d6169"
  },
  {
   "metadata": {
    "collapsed": true,
    "ExecuteTime": {
     "end_time": "2025-06-29T14:20:11.573965Z",
     "start_time": "2025-06-29T14:20:11.531080Z"
    }
   },
   "cell_type": "code",
   "outputs": [],
   "execution_count": 2,
   "source": "df = pd.read_csv('/S-FFSD-dataset/data/raw/S-FFSD.csv')",
   "id": "initial_id"
  },
  {
   "metadata": {},
   "cell_type": "markdown",
   "source": "# Exploring the Dataset",
   "id": "40a9bce2d3748ed4"
  },
  {
   "metadata": {
    "ExecuteTime": {
     "end_time": "2025-06-29T14:20:34.484966Z",
     "start_time": "2025-06-29T14:20:34.477601Z"
    }
   },
   "cell_type": "code",
   "source": "df.head(10)",
   "id": "2f4bbff1613e422c",
   "outputs": [
    {
     "data": {
      "text/plain": [
       "   Time  Source Target  Amount Location   Type  Labels\n",
       "0     0  S10000  T1000   13.74     L100  TP100       2\n",
       "1     1  S10001  T1001   73.17     L101  TP101       2\n",
       "2     2  S10002  T1000   68.59     L100  TP100       2\n",
       "3     3  S10003  T1002   57.00     L100  TP102       2\n",
       "4     4  S10004  T1000   11.55     L100  TP100       2\n",
       "5     5  S10005  T1000  245.40     L100  TP100       2\n",
       "6     6  S10006  T1000  134.85     L100  TP100       2\n",
       "7     7  S10007  T1000   59.92     L100  TP100       0\n",
       "8     8  S10008  T1003  805.97     L100  TP100       2\n",
       "9     9  S10009  T1000   44.13     L100  TP100       2"
      ],
      "text/html": [
       "<div>\n",
       "<style scoped>\n",
       "    .dataframe tbody tr th:only-of-type {\n",
       "        vertical-align: middle;\n",
       "    }\n",
       "\n",
       "    .dataframe tbody tr th {\n",
       "        vertical-align: top;\n",
       "    }\n",
       "\n",
       "    .dataframe thead th {\n",
       "        text-align: right;\n",
       "    }\n",
       "</style>\n",
       "<table border=\"1\" class=\"dataframe\">\n",
       "  <thead>\n",
       "    <tr style=\"text-align: right;\">\n",
       "      <th></th>\n",
       "      <th>Time</th>\n",
       "      <th>Source</th>\n",
       "      <th>Target</th>\n",
       "      <th>Amount</th>\n",
       "      <th>Location</th>\n",
       "      <th>Type</th>\n",
       "      <th>Labels</th>\n",
       "    </tr>\n",
       "  </thead>\n",
       "  <tbody>\n",
       "    <tr>\n",
       "      <th>0</th>\n",
       "      <td>0</td>\n",
       "      <td>S10000</td>\n",
       "      <td>T1000</td>\n",
       "      <td>13.74</td>\n",
       "      <td>L100</td>\n",
       "      <td>TP100</td>\n",
       "      <td>2</td>\n",
       "    </tr>\n",
       "    <tr>\n",
       "      <th>1</th>\n",
       "      <td>1</td>\n",
       "      <td>S10001</td>\n",
       "      <td>T1001</td>\n",
       "      <td>73.17</td>\n",
       "      <td>L101</td>\n",
       "      <td>TP101</td>\n",
       "      <td>2</td>\n",
       "    </tr>\n",
       "    <tr>\n",
       "      <th>2</th>\n",
       "      <td>2</td>\n",
       "      <td>S10002</td>\n",
       "      <td>T1000</td>\n",
       "      <td>68.59</td>\n",
       "      <td>L100</td>\n",
       "      <td>TP100</td>\n",
       "      <td>2</td>\n",
       "    </tr>\n",
       "    <tr>\n",
       "      <th>3</th>\n",
       "      <td>3</td>\n",
       "      <td>S10003</td>\n",
       "      <td>T1002</td>\n",
       "      <td>57.00</td>\n",
       "      <td>L100</td>\n",
       "      <td>TP102</td>\n",
       "      <td>2</td>\n",
       "    </tr>\n",
       "    <tr>\n",
       "      <th>4</th>\n",
       "      <td>4</td>\n",
       "      <td>S10004</td>\n",
       "      <td>T1000</td>\n",
       "      <td>11.55</td>\n",
       "      <td>L100</td>\n",
       "      <td>TP100</td>\n",
       "      <td>2</td>\n",
       "    </tr>\n",
       "    <tr>\n",
       "      <th>5</th>\n",
       "      <td>5</td>\n",
       "      <td>S10005</td>\n",
       "      <td>T1000</td>\n",
       "      <td>245.40</td>\n",
       "      <td>L100</td>\n",
       "      <td>TP100</td>\n",
       "      <td>2</td>\n",
       "    </tr>\n",
       "    <tr>\n",
       "      <th>6</th>\n",
       "      <td>6</td>\n",
       "      <td>S10006</td>\n",
       "      <td>T1000</td>\n",
       "      <td>134.85</td>\n",
       "      <td>L100</td>\n",
       "      <td>TP100</td>\n",
       "      <td>2</td>\n",
       "    </tr>\n",
       "    <tr>\n",
       "      <th>7</th>\n",
       "      <td>7</td>\n",
       "      <td>S10007</td>\n",
       "      <td>T1000</td>\n",
       "      <td>59.92</td>\n",
       "      <td>L100</td>\n",
       "      <td>TP100</td>\n",
       "      <td>0</td>\n",
       "    </tr>\n",
       "    <tr>\n",
       "      <th>8</th>\n",
       "      <td>8</td>\n",
       "      <td>S10008</td>\n",
       "      <td>T1003</td>\n",
       "      <td>805.97</td>\n",
       "      <td>L100</td>\n",
       "      <td>TP100</td>\n",
       "      <td>2</td>\n",
       "    </tr>\n",
       "    <tr>\n",
       "      <th>9</th>\n",
       "      <td>9</td>\n",
       "      <td>S10009</td>\n",
       "      <td>T1000</td>\n",
       "      <td>44.13</td>\n",
       "      <td>L100</td>\n",
       "      <td>TP100</td>\n",
       "      <td>2</td>\n",
       "    </tr>\n",
       "  </tbody>\n",
       "</table>\n",
       "</div>"
      ]
     },
     "execution_count": 4,
     "metadata": {},
     "output_type": "execute_result"
    }
   ],
   "execution_count": 4
  },
  {
   "metadata": {
    "ExecuteTime": {
     "end_time": "2025-06-29T14:54:10.097074Z",
     "start_time": "2025-06-29T14:54:10.073104Z"
    }
   },
   "cell_type": "code",
   "source": "df.info()",
   "id": "6e74407fe4456442",
   "outputs": [
    {
     "name": "stdout",
     "output_type": "stream",
     "text": [
      "<class 'pandas.core.frame.DataFrame'>\n",
      "RangeIndex: 77881 entries, 0 to 77880\n",
      "Data columns (total 7 columns):\n",
      " #   Column    Non-Null Count  Dtype  \n",
      "---  ------    --------------  -----  \n",
      " 0   Time      77881 non-null  int64  \n",
      " 1   Source    77881 non-null  object \n",
      " 2   Target    77881 non-null  object \n",
      " 3   Amount    77881 non-null  float64\n",
      " 4   Location  77881 non-null  object \n",
      " 5   Type      77881 non-null  object \n",
      " 6   Labels    77881 non-null  int64  \n",
      "dtypes: float64(1), int64(2), object(4)\n",
      "memory usage: 4.2+ MB\n"
     ]
    }
   ],
   "execution_count": 5
  },
  {
   "metadata": {
    "ExecuteTime": {
     "end_time": "2025-06-29T14:54:27.415536Z",
     "start_time": "2025-06-29T14:54:27.398101Z"
    }
   },
   "cell_type": "code",
   "source": "df.describe()",
   "id": "362011e9014716f1",
   "outputs": [
    {
     "data": {
      "text/plain": [
       "               Time         Amount        Labels\n",
       "count  77881.000000   77881.000000  77881.000000\n",
       "mean   38940.000000     195.624898      1.306249\n",
       "std    22482.452494    4642.508520      0.915825\n",
       "min        0.000000       0.000000      0.000000\n",
       "25%    19470.000000       5.000000      0.000000\n",
       "50%    38940.000000      16.610000      2.000000\n",
       "75%    58410.000000      69.000000      2.000000\n",
       "max    77880.000000  800000.000000      2.000000"
      ],
      "text/html": [
       "<div>\n",
       "<style scoped>\n",
       "    .dataframe tbody tr th:only-of-type {\n",
       "        vertical-align: middle;\n",
       "    }\n",
       "\n",
       "    .dataframe tbody tr th {\n",
       "        vertical-align: top;\n",
       "    }\n",
       "\n",
       "    .dataframe thead th {\n",
       "        text-align: right;\n",
       "    }\n",
       "</style>\n",
       "<table border=\"1\" class=\"dataframe\">\n",
       "  <thead>\n",
       "    <tr style=\"text-align: right;\">\n",
       "      <th></th>\n",
       "      <th>Time</th>\n",
       "      <th>Amount</th>\n",
       "      <th>Labels</th>\n",
       "    </tr>\n",
       "  </thead>\n",
       "  <tbody>\n",
       "    <tr>\n",
       "      <th>count</th>\n",
       "      <td>77881.000000</td>\n",
       "      <td>77881.000000</td>\n",
       "      <td>77881.000000</td>\n",
       "    </tr>\n",
       "    <tr>\n",
       "      <th>mean</th>\n",
       "      <td>38940.000000</td>\n",
       "      <td>195.624898</td>\n",
       "      <td>1.306249</td>\n",
       "    </tr>\n",
       "    <tr>\n",
       "      <th>std</th>\n",
       "      <td>22482.452494</td>\n",
       "      <td>4642.508520</td>\n",
       "      <td>0.915825</td>\n",
       "    </tr>\n",
       "    <tr>\n",
       "      <th>min</th>\n",
       "      <td>0.000000</td>\n",
       "      <td>0.000000</td>\n",
       "      <td>0.000000</td>\n",
       "    </tr>\n",
       "    <tr>\n",
       "      <th>25%</th>\n",
       "      <td>19470.000000</td>\n",
       "      <td>5.000000</td>\n",
       "      <td>0.000000</td>\n",
       "    </tr>\n",
       "    <tr>\n",
       "      <th>50%</th>\n",
       "      <td>38940.000000</td>\n",
       "      <td>16.610000</td>\n",
       "      <td>2.000000</td>\n",
       "    </tr>\n",
       "    <tr>\n",
       "      <th>75%</th>\n",
       "      <td>58410.000000</td>\n",
       "      <td>69.000000</td>\n",
       "      <td>2.000000</td>\n",
       "    </tr>\n",
       "    <tr>\n",
       "      <th>max</th>\n",
       "      <td>77880.000000</td>\n",
       "      <td>800000.000000</td>\n",
       "      <td>2.000000</td>\n",
       "    </tr>\n",
       "  </tbody>\n",
       "</table>\n",
       "</div>"
      ]
     },
     "execution_count": 6,
     "metadata": {},
     "output_type": "execute_result"
    }
   ],
   "execution_count": 6
  },
  {
   "metadata": {},
   "cell_type": "markdown",
   "source": "# Time-Based Feature Engineering",
   "id": "777d759a6a01d2ee"
  },
  {
   "metadata": {},
   "cell_type": "markdown",
   "source": [
    "In this section, we define a function to perform feature engineering on the ` Time ` column. First, we segment the time values into defined time spans by setting specific upper and lower bounds. This allows us to extract meaningful statistical patterns based on when each transaction occurred.\n",
    "Next, we iterate through the dataset to calculate various statistics within each time span, including the average, total, and standard deviation of transaction amounts, as well as the transaction bias. We also compute the number of transactions, the number of unique locations, and the number of unique transaction types in each span. Finally, we concatenate these newly generated features with the original dataframe."
   ],
   "id": "df8db2c7bf31ffb6"
  },
  {
   "metadata": {
    "ExecuteTime": {
     "end_time": "2025-07-01T15:15:34.853634Z",
     "start_time": "2025-07-01T15:15:34.849225Z"
    }
   },
   "cell_type": "code",
   "source": [
    "def featmap_gen(tmp_df=None):\n",
    "\n",
    "    time_span = [2, 3, 5, 15, 20, 50, 100, 150,\n",
    "                 200, 300, 864, 2590, 5100, 10000, 24000]\n",
    "    time_name = [str(i) for i in time_span]\n",
    "    time_list = tmp_df['Time']\n",
    "    post_fe = []\n",
    "    for trans_idx, trans_feat in tqdm(tmp_df.iterrows()):\n",
    "        new_df = pd.Series(trans_feat)\n",
    "        temp_time = new_df.Time\n",
    "        temp_amt = new_df.Amount\n",
    "        for length, tname in zip(time_span, time_name):\n",
    "            lowbound = (time_list >= temp_time - length)\n",
    "            upbound = (time_list <= temp_time)\n",
    "            correct_data = tmp_df[lowbound & upbound]\n",
    "            new_df['trans_at_avg_{}'.format(\n",
    "                tname)] = correct_data['Amount'].mean()\n",
    "            new_df['trans_at_totl_{}'.format(\n",
    "                tname)] = correct_data['Amount'].sum()\n",
    "            new_df['trans_at_std_{}'.format(\n",
    "                tname)] = correct_data['Amount'].std()\n",
    "            new_df['trans_at_bias_{}'.format(\n",
    "                tname)] = temp_amt - correct_data['Amount'].mean()\n",
    "            new_df['trans_at_num_{}'.format(tname)] = len(correct_data)\n",
    "            new_df['trans_target_num_{}'.format(tname)] = len(\n",
    "                correct_data.Target.unique())\n",
    "            new_df['trans_location_num_{}'.format(tname)] = len(\n",
    "                correct_data.Location.unique())\n",
    "            new_df['trans_type_num_{}'.format(tname)] = len(\n",
    "                correct_data.Type.unique())\n",
    "        post_fe.append(new_df)\n",
    "    return pd.DataFrame(post_fe)"
   ],
   "id": "1e3cffb2a4c133d3",
   "outputs": [],
   "execution_count": 41
  },
  {
   "metadata": {},
   "cell_type": "markdown",
   "source": "# Neighbor-Based Feature Engineering",
   "id": "d8963b4417818d4c"
  },
  {
   "metadata": {},
   "cell_type": "markdown",
   "source": [
    "**In this section, we define three methods for later use.**\n",
    "\n",
    "First, we define a method to find the neighbors of each node in the graph, which will be constructed based on the feature labels of the data points. This helps the model incorporate information from related nodes, enhancing its ability to detect anomalous patterns.\n",
    "\n",
    "The parameter `k` specifies the number of hops for neighbor search. The `where` parameter indicates whether to find incoming or outgoing neighbors. The `choose_risk` label is used to filter the neighbor indices `neigh_idxs`, including only those neighbors whose labels match the specified `risk_label`.\n"
   ],
   "id": "cd6e6d799065a2e7"
  },
  {
   "metadata": {
    "ExecuteTime": {
     "end_time": "2025-07-01T15:21:36.113867Z",
     "start_time": "2025-07-01T15:21:36.109454Z"
    }
   },
   "cell_type": "code",
   "outputs": [],
   "execution_count": 49,
   "source": [
    "def k_neighs(\n",
    "        graph: Data,\n",
    "        center_idx: int,\n",
    "        k: int,\n",
    "        where: str,\n",
    "        choose_risk: bool = False,\n",
    "        risk_label: int = 1\n",
    ") -> torch.Tensor:\n",
    "\n",
    "    if k not in [1, 2]:\n",
    "        raise ValueError(\"k must be 1 or 2\")\n",
    "    flow = 'target_to_source' if where == 'in' else 'source_to_target'\n",
    "\n",
    "    subset, edge_index, mapping, _ = k_hop_subgraph(\n",
    "        center_idx,\n",
    "        num_hops=k,\n",
    "        edge_index=graph.edge_index,\n",
    "        relabel_nodes=True,\n",
    "        flow=flow\n",
    "    )\n",
    "\n",
    "    neigh_idxs = subset[subset != center_idx]\n",
    "\n",
    "    if k == 2:\n",
    "        subset_1hop, _, _, _ = k_hop_subgraph(\n",
    "            center_idx,\n",
    "            num_hops=1,\n",
    "            edge_index=graph.edge_index,\n",
    "            relabel_nodes=True,\n",
    "            flow=flow\n",
    "        )\n",
    "        neigh_1hop = subset_1hop[subset_1hop != center_idx]\n",
    "        neigh_idxs = neigh_idxs[~torch.isin(neigh_idxs, neigh_1hop)]\n",
    "\n",
    "    if choose_risk:\n",
    "        neigh_labels = graph.y[neigh_idxs]\n",
    "        target_idxs = neigh_idxs[neigh_labels == risk_label]\n",
    "    else:\n",
    "        target_idxs = neigh_idxs\n",
    "\n",
    "    return target_idxs"
   ],
   "id": "fe611bc140bc1562"
  },
  {
   "metadata": {},
   "cell_type": "markdown",
   "source": "The `count_risk_neighs` method calculates the number of **risky** neighbors each node has in a graph. It iterates through each node, counts how many of its neighbors have a **risky** label, and returns these counts as a tensor.",
   "id": "ef841dd532c9801"
  },
  {
   "metadata": {
    "ExecuteTime": {
     "end_time": "2025-07-01T15:15:40.177353Z",
     "start_time": "2025-07-01T15:15:40.174597Z"
    }
   },
   "cell_type": "code",
   "outputs": [],
   "execution_count": 43,
   "source": [
    "def count_risk_neighs(\n",
    "        graph: Data,\n",
    "        risk_label: int = 1\n",
    ") -> torch.Tensor:\n",
    "\n",
    "    ret = []\n",
    "    for center_idx in range(graph.num_nodes):\n",
    "        neigh_idxs = k_neighs(graph, center_idx, k=1, where=\"out\", choose_risk=True, risk_label=risk_label)\n",
    "        risk_neigh_num = len(neigh_idxs)\n",
    "        ret.append(risk_neigh_num)\n",
    "    return torch.tensor(ret, dtype=torch.float)"
   ],
   "id": "e8c06cb1f57493bc"
  },
  {
   "metadata": {},
   "cell_type": "markdown",
   "source": [
    "The `feat_map` method is designed to generate node features based on neighborhood information in the graph. It computes aggregated features from the neighbors of each node and returns a tensor containing these features, along with their corresponding feature names. For each node, the method generates the following features:\n",
    "\n",
    "- **1hop_degree**: Sum of the `degree` feature for 1-hop neighbors.\n",
    "- **2hop_degree**: Sum of the `degree` feature for 2-hop neighbors.\n",
    "- **1hop_riskstat**: Sum of the `riskstat` feature for 1-hop neighbors.\n",
    "- **2hop_riskstat**: Sum of the `riskstat` feature for 2-hop neighbors."
   ],
   "id": "dfc3de77d5f4919f"
  },
  {
   "metadata": {
    "ExecuteTime": {
     "end_time": "2025-07-01T15:15:42.754379Z",
     "start_time": "2025-07-01T15:15:42.750071Z"
    }
   },
   "cell_type": "code",
   "outputs": [],
   "execution_count": 44,
   "source": [
    "def feat_map(graph, node_feat):\n",
    "\n",
    "    tensor_list = []\n",
    "    for idx in tqdm(range(graph.num_nodes)):\n",
    "        neighs_1_of_center = k_neighs(graph, idx, 1, \"in\")\n",
    "        neighs_2_of_center = k_neighs(graph, idx, 2, \"in\")\n",
    "\n",
    "        tensor = torch.FloatTensor([\n",
    "            node_feat[neighs_1_of_center, 0].sum().item(),\n",
    "            node_feat[neighs_2_of_center, 0].sum().item(),\n",
    "            node_feat[neighs_1_of_center, 1].sum().item(),\n",
    "            node_feat[neighs_2_of_center, 1].sum().item(),\n",
    "        ])\n",
    "        tensor_list.append(tensor)\n",
    "\n",
    "    feat_names = [\"1hop_degree\", \"2hop_degree\",\n",
    "                  \"1hop_riskstat\", \"2hop_riskstat\"]\n",
    "\n",
    "    tensor_list = torch.stack(tensor_list)\n",
    "    return tensor_list, feat_names"
   ],
   "id": "84e4df5c071c70c6"
  },
  {
   "metadata": {},
   "cell_type": "markdown",
   "source": "# Data Preprocessing",
   "id": "17ef7d008b893f0f"
  },
  {
   "metadata": {},
   "cell_type": "markdown",
   "source": "As a first step, we perform feature engineering using the previously defined ` featmap_gen ` function.",
   "id": "a4bb0c9d5926b7d3"
  },
  {
   "metadata": {
    "ExecuteTime": {
     "end_time": "2025-06-29T15:34:09.881704Z",
     "start_time": "2025-06-29T15:10:36.674706Z"
    }
   },
   "cell_type": "code",
   "outputs": [
    {
     "name": "stderr",
     "output_type": "stream",
     "text": [
      "77881it [23:29, 55.26it/s]\n"
     ]
    }
   ],
   "execution_count": 13,
   "source": "df = featmap_gen(df.reset_index(drop=True))",
   "id": "14a185f8b8cca1a7"
  },
  {
   "metadata": {},
   "cell_type": "markdown",
   "source": [
    "**Next, we handle the missing values by filling them with zeros.**\n",
    "\n",
    "This approach is appropriate because the number of missing entries is relatively small compared to the size of the dataset. Moreover, since the dataset is simulated, there is no real-world information available to impute the missing values more accurately."
   ],
   "id": "ef06d8b109ae5d0a"
  },
  {
   "metadata": {
    "ExecuteTime": {
     "end_time": "2025-06-29T15:36:36.950766Z",
     "start_time": "2025-06-29T15:36:36.914989Z"
    }
   },
   "cell_type": "code",
   "source": [
    "df.replace(np.nan, 0, inplace=True)\n",
    "df.reset_index(drop=True, inplace=True)"
   ],
   "id": "9c857b9940f133c8",
   "outputs": [],
   "execution_count": 14
  },
  {
   "metadata": {},
   "cell_type": "markdown",
   "source": [
    "In this part we create an adjeceny matrix for the categorical features.\n",
    "To begin, we initialize three empty lists:\n",
    "\n",
    "- ` out `: Stores the final output results.\n",
    "- ` alls `: Keeps track of the source nodes.\n",
    "- ` allt `: Keeps track of the target nodes.\n",
    "\n",
    "Next, in the **outer loop**, we iterate through each column specified in the `pair` list.\n",
    "Within the **inner loop**, we group the data based on the current column. For each group, we identify transactions that share the same value and create edges between them.\n",
    "\n",
    "However, to limit the number of connections and preserve temporal relevance, we only create edges between transactions that fall within a defined sequential threshold, specified by the `edge_per_trans parameter`."
   ],
   "id": "dcd105361bdac3b3"
  },
  {
   "metadata": {
    "ExecuteTime": {
     "end_time": "2025-07-01T15:15:04.998896Z",
     "start_time": "2025-07-01T15:15:04.512743Z"
    }
   },
   "cell_type": "code",
   "source": "df = pd.read_csv('/S-FFSD-dataset/data/processed/df.csv')",
   "id": "e98aedd717078f20",
   "outputs": [],
   "execution_count": 34
  },
  {
   "metadata": {
    "ExecuteTime": {
     "end_time": "2025-07-01T15:15:08.327297Z",
     "start_time": "2025-07-01T15:15:06.411588Z"
    }
   },
   "cell_type": "code",
   "source": [
    "alls = []\n",
    "allt = []\n",
    "pair = [\"Source\", \"Target\", \"Location\", \"Type\"]\n",
    "edge_per_trans = 3\n",
    "\n",
    "for column in pair:\n",
    "    src, tgt = [], []\n",
    "    for c_id, c_df in tqdm(df.groupby(column), desc=column):\n",
    "        c_df = c_df.sort_values(by=\"Time\")\n",
    "        df_len = len(c_df)\n",
    "        sorted_idxs = c_df.index\n",
    "        src.extend([sorted_idxs[i] for i in range(df_len)\n",
    "                    for j in range(edge_per_trans) if i + j < df_len])\n",
    "        tgt.extend([sorted_idxs[i+j] for i in range(df_len)\n",
    "                    for j in range(edge_per_trans) if i + j < df_len])\n",
    "    alls.extend(src)\n",
    "    allt.extend(tgt)"
   ],
   "id": "174288e391c89d62",
   "outputs": [
    {
     "name": "stderr",
     "output_type": "stream",
     "text": [
      "Source: 100%|██████████| 30346/30346 [00:01<00:00, 26688.66it/s]\n",
      "Target: 100%|██████████| 886/886 [00:00<00:00, 5165.84it/s]\n",
      "Location: 100%|██████████| 296/296 [00:00<00:00, 2044.62it/s]\n",
      "Type: 100%|██████████| 166/166 [00:00<00:00, 1171.03it/s]\n"
     ]
    }
   ],
   "execution_count": 35
  },
  {
   "metadata": {},
   "cell_type": "markdown",
   "source": "Next, we store the edge information in `edge_index` tensor.",
   "id": "a49d7fb83202420b"
  },
  {
   "metadata": {
    "ExecuteTime": {
     "end_time": "2025-07-01T15:15:10.293904Z",
     "start_time": "2025-07-01T15:15:10.200080Z"
    }
   },
   "cell_type": "code",
   "source": "edge_index = torch.tensor([alls, allt], dtype=torch.long)",
   "id": "94332a3ae30bedda",
   "outputs": [],
   "execution_count": 36
  },
  {
   "metadata": {},
   "cell_type": "markdown",
   "source": "As part of preprocessing, we need to ensure that all data is numeric, as non-numeric values can cause issues during the training process. Therefore, all categorical columns must be encoded.",
   "id": "49eb2b176dd062a0"
  },
  {
   "metadata": {
    "ExecuteTime": {
     "end_time": "2025-07-01T15:15:11.378974Z",
     "start_time": "2025-07-01T15:15:11.317939Z"
    }
   },
   "cell_type": "code",
   "source": [
    "cal_list = [\"Source\", \"Target\", \"Location\", \"Type\"]\n",
    "for col in cal_list:\n",
    "    le = LabelEncoder()\n",
    "    df[col] = le.fit_transform(df[col].astype(str))"
   ],
   "id": "b523af50210ca1eb",
   "outputs": [],
   "execution_count": 37
  },
  {
   "metadata": {},
   "cell_type": "markdown",
   "source": "Let's split the data into feature and target sets.",
   "id": "f243ba9ff5b31bfe"
  },
  {
   "metadata": {
    "ExecuteTime": {
     "end_time": "2025-07-01T15:15:13.264157Z",
     "start_time": "2025-07-01T15:15:13.223047Z"
    }
   },
   "cell_type": "code",
   "source": [
    "feat_data = df.drop(\"Labels\", axis=1)\n",
    "labels = df[\"Labels\"]"
   ],
   "id": "1101ad42e831f0bb",
   "outputs": [],
   "execution_count": 38
  },
  {
   "metadata": {},
   "cell_type": "markdown",
   "source": "We need to convert the feature nodes and label nodes into tensors to create the graph object in the next step.",
   "id": "e378320c70ec4bdc"
  },
  {
   "metadata": {},
   "cell_type": "code",
   "outputs": [],
   "execution_count": null,
   "source": [
    "x = torch.tensor(feat_data.values, dtype=torch.float32)\n",
    "y = torch.tensor(labels.values, dtype=torch.long)"
   ],
   "id": "876493860139f944"
  },
  {
   "metadata": {
    "ExecuteTime": {
     "end_time": "2025-07-01T15:16:21.527926Z",
     "start_time": "2025-07-01T15:16:21.525346Z"
    }
   },
   "cell_type": "code",
   "source": "graph = Data(x=x, edge_index=edge_index, y=y)",
   "id": "929fb9ff806d2f03",
   "outputs": [],
   "execution_count": 46
  },
  {
   "metadata": {},
   "cell_type": "markdown",
   "source": [
    "Now it's time to use the previously defined methods to create neighbor-based features, which include:\n",
    "\n",
    "- The in-degree of each node\n",
    "- The number of risky neighbors for each node\n",
    "\n",
    "Next, we fill any missing values with zero and concatenate these features into a single DataFrame. Finally, to ensure that all feature values are within a similar range, we standardize the DataFrame.\n"
   ],
   "id": "15397cf97a469b25"
  },
  {
   "metadata": {
    "ExecuteTime": {
     "end_time": "2025-07-01T15:33:41.065381Z",
     "start_time": "2025-07-01T15:21:45.546109Z"
    }
   },
   "cell_type": "code",
   "source": [
    "print(f\"graph info: {graph}\")\n",
    "\n",
    "node_feat = torch.cat([\n",
    "degree(graph.edge_index[1], num_nodes=graph.num_nodes).unsqueeze(1).float(),\n",
    "count_risk_neighs(graph).unsqueeze(1).float()], dim=1)\n",
    "\n",
    "origin_feat_name = ['degree', 'riskstat']\n",
    "\n",
    "features_neigh, feat_names = feat_map(graph, node_feat)\n",
    "features_neigh = torch.cat((node_feat, features_neigh), dim=1).numpy()\n",
    "feat_names = origin_feat_name + feat_names\n",
    "features_neigh[np.isnan(features_neigh)] = 0.\n",
    "features_neigh = pd.DataFrame(features_neigh, columns=feat_names)"
   ],
   "id": "d81c5fe296879e5a",
   "outputs": [
    {
     "name": "stdout",
     "output_type": "stream",
     "text": [
      "graph info: Data(x=[77881, 126], edge_index=[2, 860968], y=[77881])\n"
     ]
    },
    {
     "name": "stderr",
     "output_type": "stream",
     "text": [
      "100%|██████████| 77881/77881 [09:14<00:00, 140.55it/s]\n"
     ]
    }
   ],
   "execution_count": 50
  },
  {
   "metadata": {
    "ExecuteTime": {
     "end_time": "2025-07-01T15:33:44.326418Z",
     "start_time": "2025-07-01T15:33:44.149019Z"
    }
   },
   "cell_type": "code",
   "source": [
    "scaler = StandardScaler()\n",
    "features_neigh = pd.DataFrame(scaler.fit_transform(features_neigh), columns=features_neigh.columns)\n",
    "features_neigh.to_csv('/Users/raya/Desktop/fraud-detection/S-FFSD-dataset/data/processed/features_neigh.csv', index=False)"
   ],
   "id": "a4810af503dee39a",
   "outputs": [],
   "execution_count": 51
  },
  {
   "metadata": {},
   "cell_type": "markdown",
   "source": "# Entropy-Based Feature Engineering",
   "id": "6305887748081a38"
  },
  {
   "metadata": {},
   "cell_type": "markdown",
   "source": "An important feature in fraud detection problems is **Trading Entropy**. For each user, trading entropy can be calculated to capture the variability in their trading behavior. A significant deviation from the normal entropy pattern may indicate a higher probability of fraudulent activity.",
   "id": "34cb6850197e0c76"
  },
  {
   "metadata": {
    "ExecuteTime": {
     "end_time": "2025-07-01T20:51:47.742389Z",
     "start_time": "2025-07-01T20:51:47.739Z"
    }
   },
   "cell_type": "code",
   "source": [
    "def calcu_trading_entropy(\n",
    "        data_2: pd.DataFrame\n",
    ") -> float:\n",
    "\n",
    "    if len(data_2) == 0:\n",
    "        return 0\n",
    "\n",
    "    amounts = np.array([data_2[data_2['Type'] == type]['Amount'].sum()\n",
    "                        for type in data_2['Type'].unique()])\n",
    "    proportions = amounts / amounts.sum() if amounts.sum() else np.ones_like(amounts)\n",
    "    ent = -np.array([proportion * np.log(1e-5 + proportion)\n",
    "                     for proportion in proportions]).sum()\n",
    "    return ent"
   ],
   "id": "98b3ffa577286751",
   "outputs": [],
   "execution_count": 99
  },
  {
   "metadata": {},
   "cell_type": "markdown",
   "source": "# Data Transformation",
   "id": "65d8be3fdc7444ba"
  },
  {
   "metadata": {
    "ExecuteTime": {
     "end_time": "2025-07-01T20:40:29.787432Z",
     "start_time": "2025-07-01T20:40:29.781685Z"
    }
   },
   "cell_type": "code",
   "source": [
    "def span_data_2d(\n",
    "        data: pd.DataFrame,\n",
    "        time_windows=None\n",
    ") -> Any:\n",
    "\n",
    "    if time_windows is None:\n",
    "        time_windows = [1, 3, 5, 10, 20, 50, 100, 500]\n",
    "    data = data[data['Labels'] != 2]\n",
    "\n",
    "    nume_feature_ret, label_ret = [], []\n",
    "    for row_idx in tqdm(range(len(data))):\n",
    "        record = data.iloc[row_idx]\n",
    "        acct_no = record['Source']\n",
    "        feature_of_one_record = []\n",
    "\n",
    "        for time_span in time_windows:\n",
    "            feature_of_one_timestamp = []\n",
    "            prev_records = data.iloc[(row_idx - time_span):row_idx, :]\n",
    "            prev_and_now_records = data.iloc[(\n",
    "                                                     row_idx - time_span):row_idx + 1, :]\n",
    "            prev_records = prev_records[prev_records['Source'] == acct_no]\n",
    "\n",
    "            feature_of_one_timestamp.append(\n",
    "                prev_records['Amount'].sum() / time_span)\n",
    "            feature_of_one_timestamp.append(prev_records['Amount'].sum())\n",
    "            feature_of_one_timestamp.append(\n",
    "                record['Amount'] - feature_of_one_timestamp[0])\n",
    "            feature_of_one_timestamp.append(len(prev_records))\n",
    "            old_ent = calcu_trading_entropy(prev_records[['Amount', 'Type']])\n",
    "            new_ent = calcu_trading_entropy(\n",
    "                prev_and_now_records[['Amount', 'Type']])\n",
    "            feature_of_one_timestamp.append(old_ent - new_ent)\n",
    "\n",
    "            feature_of_one_record.append(feature_of_one_timestamp)\n",
    "\n",
    "        nume_feature_ret.append(feature_of_one_record)\n",
    "        label_ret.append(record['Labels'])\n",
    "\n",
    "    nume_feature_ret = np.array(nume_feature_ret).transpose(0, 2, 1)\n",
    "\n",
    "    assert nume_feature_ret.shape == (\n",
    "        len(data), 5, len(time_windows)), \"output shape invalid.\"\n",
    "\n",
    "    return nume_feature_ret.astype(np.float32), np.array(label_ret).astype(np.int64)"
   ],
   "id": "3343adcdf39b00d",
   "outputs": [],
   "execution_count": 61
  },
  {
   "metadata": {
    "ExecuteTime": {
     "end_time": "2025-07-01T20:40:35.908453Z",
     "start_time": "2025-07-01T20:40:35.901029Z"
    }
   },
   "cell_type": "code",
   "source": [
    "def span_data_3d(\n",
    "        data: pd.DataFrame,\n",
    "        time_windows=None,\n",
    "        spatio_windows=None,\n",
    ") -> Any:\n",
    "\n",
    "    if time_windows is None:\n",
    "        time_windows = [1, 3, 5, 10, 20, 50, 100, 500]\n",
    "    if spatio_windows is None:\n",
    "        spatio_windows = [1, 2, 3, 4,5]\n",
    "    data = data[data['Labels'] != 2]\n",
    "    data['Location'] = data['Location'].apply(lambda x: int(x.split('L')[1]))\n",
    "    data['Location'] = data['Location'].apply(lambda x: 1 if x == 100 else x)\n",
    "    data['Location'] = data['Location'].apply(lambda x: 2 if 102 >= x > 100 else x)\n",
    "    data['Location'] = data['Location'].apply(lambda x: 3 if 110 >= x > 102 else x)\n",
    "    data['Location'] = data['Location'].apply(lambda x: 4 if 140 >= x > 110 else x)\n",
    "    data['Location'] = data['Location'].apply(lambda x: 5 if x > 140 else x)\n",
    "\n",
    "    nume_feature_ret, label_ret = [], []\n",
    "    for row_idx in tqdm(range(len(data))):\n",
    "        record = data.iloc[row_idx]\n",
    "        acct_no = record['Source']\n",
    "        location = int(record['Location'])\n",
    "        feature_of_one_record = []\n",
    "        for time_span in time_windows:\n",
    "            feature_of_one_timestamp = []\n",
    "            prev_records = data.iloc[(row_idx - time_span):row_idx, :]\n",
    "            prev_and_now_records = data.iloc[(\n",
    "                                                     row_idx - time_span):row_idx + 1, :]\n",
    "            prev_records = prev_records[prev_records['Source'] == acct_no]\n",
    "\n",
    "            for spatio_span in spatio_windows:\n",
    "                feature_of_one_spatio_stamp = []\n",
    "                one_spatio_records = prev_records[prev_records['Location'] > location - spatio_span]\n",
    "                one_spatio_records = one_spatio_records[one_spatio_records['Location'] < location + spatio_span]\n",
    "\n",
    "                feature_of_one_spatio_stamp.append(\n",
    "                    one_spatio_records['Amount'].sum() / time_span)\n",
    "                feature_of_one_spatio_stamp.append(one_spatio_records['Amount'].sum())\n",
    "                feature_of_one_spatio_stamp.append(\n",
    "                    record['Amount'] - feature_of_one_spatio_stamp[0])\n",
    "                feature_of_one_spatio_stamp.append(len(one_spatio_records))\n",
    "\n",
    "                old_ent = calcu_trading_entropy(prev_records[['Amount', 'Type']])\n",
    "                new_ent = calcu_trading_entropy(\n",
    "                    prev_and_now_records[['Amount', 'Type']])\n",
    "                feature_of_one_spatio_stamp.append(old_ent - new_ent)\n",
    "\n",
    "                feature_of_one_timestamp.append(feature_of_one_spatio_stamp)\n",
    "            feature_of_one_record.append(feature_of_one_timestamp)\n",
    "        nume_feature_ret.append(feature_of_one_record)\n",
    "        label_ret.append(record['Labels'])\n",
    "\n",
    "    nume_feature_ret = np.array(nume_feature_ret)\n",
    "    print(nume_feature_ret.shape)\n",
    "    assert nume_feature_ret.shape == (\n",
    "        len(data), len(time_windows), len(spatio_windows), 5), \"output shape invalid.\"\n",
    "\n",
    "    return nume_feature_ret.astype(np.float32), np.array(label_ret).astype(np.int64)"
   ],
   "id": "5f82ec2bbafd0d3",
   "outputs": [],
   "execution_count": 63
  },
  {
   "metadata": {},
   "cell_type": "markdown",
   "source": "# Training",
   "id": "ab9c93edcce66a5b"
  },
  {
   "metadata": {
    "ExecuteTime": {
     "end_time": "2025-07-01T20:51:04.548042Z",
     "start_time": "2025-07-01T20:51:04.545120Z"
    }
   },
   "cell_type": "code",
   "source": [
    "def parse_args():\n",
    "    parser = ArgumentParser(formatter_class=ArgumentDefaultsHelpFormatter,\n",
    "                            conflict_handler='resolve')\n",
    "    parser.add_argument(\"--method\", default=\"mcnn\", type=str)\n",
    "    args = parser.parse_args(args=[])\n",
    "    method = args.method\n",
    "    yaml_file = \"/S-FFSD-dataset/config/cfg.yaml\"\n",
    "    with open(yaml_file) as file:\n",
    "        config = yaml.safe_load(file)\n",
    "    config['method'] = method\n",
    "    return config"
   ],
   "id": "40c3405e77e0b8eb",
   "outputs": [],
   "execution_count": 93
  },
  {
   "metadata": {
    "ExecuteTime": {
     "end_time": "2025-07-01T20:51:37.561026Z",
     "start_time": "2025-07-01T20:51:37.556818Z"
    }
   },
   "cell_type": "code",
   "source": [
    "def base_load_data(args: dict):\n",
    "    data_path = \"/S-FFSD-dataset/data/raw/S-FFSD.csv\"\n",
    "    feat_df = pd.read_csv(data_path)\n",
    "    train_size = 1 - args['test_size']\n",
    "    features, labels = span_data_2d(feat_df)\n",
    "    trf, tef, trl, tel = train_test_split(\n",
    "        features, labels, train_size=train_size, stratify=labels, shuffle=True)\n",
    "    trf_file, tef_file, trl_file, tel_file = args['trainfeature'], args[\n",
    "        'testfeature'], args['trainlabel'], args['testlabel']\n",
    "    np.save(trf_file, trf)\n",
    "    np.save(tef_file, tef)\n",
    "    np.save(trl_file, trl)\n",
    "    np.save(tel_file, tel)\n",
    "    return"
   ],
   "id": "b3f9a4204da7103e",
   "outputs": [],
   "execution_count": 96
  },
  {
   "metadata": {
    "ExecuteTime": {
     "end_time": "2025-07-01T20:52:32.005574Z",
     "start_time": "2025-07-01T20:52:32.002406Z"
    }
   },
   "cell_type": "code",
   "source": [
    "from model.training import mcnn_main\n",
    "def main(args):\n",
    "        base_load_data(args)\n",
    "        mcnn_main(\n",
    "            args['trainfeature'],\n",
    "            args['trainlabel'],\n",
    "            args['testfeature'],\n",
    "            args['testlabel'],\n",
    "            epochs=args['epochs'],\n",
    "            batch_size=args['batch_size'],\n",
    "            lr=args['lr'],\n",
    "            device=args['device']\n",
    "        )"
   ],
   "id": "30b4585fea2fc418",
   "outputs": [],
   "execution_count": 101
  },
  {
   "metadata": {
    "ExecuteTime": {
     "end_time": "2025-07-01T20:57:42.964294Z",
     "start_time": "2025-07-01T20:52:33.139929Z"
    }
   },
   "cell_type": "code",
   "source": "main(parse_args())",
   "id": "b8e71154942cff4",
   "outputs": [
    {
     "name": "stderr",
     "output_type": "stream",
     "text": [
      "100%|██████████| 29643/29643 [04:24<00:00, 111.94it/s]\n",
      "/Users/raya/Desktop/fraud-detection/.venv/lib/python3.10/site-packages/torch/nn/modules/lazy.py:180: UserWarning: Lazy modules are a new feature under heavy development so changes to the API or functionality can happen at any moment.\n",
      "  warnings.warn('Lazy modules are a new feature under heavy development '\n"
     ]
    },
    {
     "name": "stdout",
     "output_type": "stream",
     "text": [
      "Epoch: 0, loss: 1.4299, auc: 0.5268, F1: 0.5236, AP: 0.1867\n",
      "Epoch: 1, loss: 0.8474, auc: 0.6401, F1: 0.5849, AP: 0.2448\n",
      "Epoch: 2, loss: 0.6451, auc: 0.6920, F1: 0.5481, AP: 0.2658\n",
      "Epoch: 3, loss: 0.6390, auc: 0.6812, F1: 0.5289, AP: 0.2577\n",
      "Epoch: 4, loss: 1.1745, auc: 0.6820, F1: 0.5435, AP: 0.2598\n",
      "Epoch: 5, loss: 1.6782, auc: 0.6940, F1: 0.5778, AP: 0.2718\n",
      "Epoch: 6, loss: 0.9265, auc: 0.7010, F1: 0.6265, AP: 0.2893\n",
      "Epoch: 7, loss: 0.7861, auc: 0.7138, F1: 0.6547, AP: 0.3090\n",
      "Epoch: 8, loss: 0.6765, auc: 0.7118, F1: 0.6628, AP: 0.3128\n",
      "Epoch: 9, loss: 1.6850, auc: 0.6903, F1: 0.5870, AP: 0.2718\n",
      "Epoch: 10, loss: 1.7727, auc: 0.6958, F1: 0.6152, AP: 0.2824\n",
      "Epoch: 11, loss: 0.7498, auc: 0.7146, F1: 0.6626, AP: 0.3141\n",
      "Epoch: 12, loss: 0.8691, auc: 0.7173, F1: 0.6554, AP: 0.3112\n",
      "Epoch: 13, loss: 0.5888, auc: 0.7169, F1: 0.6723, AP: 0.3215\n",
      "Epoch: 14, loss: 0.6619, auc: 0.7174, F1: 0.6735, AP: 0.3227\n",
      "Epoch: 15, loss: 0.5973, auc: 0.7231, F1: 0.6808, AP: 0.3305\n",
      "Epoch: 16, loss: 0.5610, auc: 0.7238, F1: 0.6804, AP: 0.3305\n",
      "Epoch: 17, loss: 0.5525, auc: 0.7057, F1: 0.6851, AP: 0.3278\n",
      "Epoch: 18, loss: 0.5466, auc: 0.7051, F1: 0.6856, AP: 0.3280\n",
      "Epoch: 19, loss: 0.5384, auc: 0.7060, F1: 0.6837, AP: 0.3265\n",
      "Epoch: 20, loss: 0.5311, auc: 0.7090, F1: 0.6846, AP: 0.3283\n",
      "Epoch: 21, loss: 0.5243, auc: 0.7133, F1: 0.6843, AP: 0.3296\n",
      "Epoch: 22, loss: 0.5232, auc: 0.7213, F1: 0.6797, AP: 0.3289\n",
      "Epoch: 23, loss: 0.5198, auc: 0.7303, F1: 0.6770, AP: 0.3310\n",
      "Epoch: 24, loss: 0.5083, auc: 0.7414, F1: 0.6774, AP: 0.3368\n",
      "Epoch: 25, loss: 0.5141, auc: 0.7407, F1: 0.6712, AP: 0.3325\n",
      "Epoch: 26, loss: 0.5068, auc: 0.7456, F1: 0.6702, AP: 0.3345\n",
      "Epoch: 27, loss: 0.5179, auc: 0.7441, F1: 0.6675, AP: 0.3321\n",
      "Epoch: 28, loss: 0.4987, auc: 0.7498, F1: 0.6639, AP: 0.3332\n",
      "Epoch: 29, loss: 0.5010, auc: 0.7514, F1: 0.6581, AP: 0.3311\n",
      "test set | auc: 0.7129, F1: 0.6893, AP: 0.3339\n"
     ]
    }
   ],
   "execution_count": 102
  }
 ],
 "metadata": {
  "kernelspec": {
   "display_name": "Python 3",
   "language": "python",
   "name": "python3"
  },
  "language_info": {
   "codemirror_mode": {
    "name": "ipython",
    "version": 2
   },
   "file_extension": ".py",
   "mimetype": "text/x-python",
   "name": "python",
   "nbconvert_exporter": "python",
   "pygments_lexer": "ipython2",
   "version": "2.7.6"
  }
 },
 "nbformat": 4,
 "nbformat_minor": 5
}
