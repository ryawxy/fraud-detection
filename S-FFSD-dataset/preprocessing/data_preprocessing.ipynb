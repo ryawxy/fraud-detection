{
 "cells": [
  {
   "metadata": {},
   "cell_type": "markdown",
   "source": "# Libraries",
   "id": "d13905edf6c11d1b"
  },
  {
   "metadata": {},
   "cell_type": "markdown",
   "source": "We begin by importing all the necessary libraries used throughout this notebook.",
   "id": "307e13d614316558"
  },
  {
   "metadata": {
    "ExecuteTime": {
     "end_time": "2025-06-29T16:17:23.483658Z",
     "start_time": "2025-06-29T16:17:23.363513Z"
    }
   },
   "cell_type": "code",
   "source": [
    "import numpy as np\n",
    "import pandas as pd\n",
    "from tqdm import tqdm\n",
    "import dgl"
   ],
   "id": "5619069e506fef14",
   "outputs": [
    {
     "ename": "FileNotFoundError",
     "evalue": "Cannot find DGL C++ graphbolt library at /Users/raya/Desktop/fraud-detection/.venv/lib/python3.10/site-packages/dgl/graphbolt/libgraphbolt_pytorch_2.7.1.dylib",
     "output_type": "error",
     "traceback": [
      "\u001B[0;31m---------------------------------------------------------------------------\u001B[0m",
      "\u001B[0;31mFileNotFoundError\u001B[0m                         Traceback (most recent call last)",
      "Cell \u001B[0;32mIn[4], line 4\u001B[0m\n\u001B[1;32m      2\u001B[0m \u001B[38;5;28;01mimport\u001B[39;00m\u001B[38;5;250m \u001B[39m\u001B[38;5;21;01mpandas\u001B[39;00m\u001B[38;5;250m \u001B[39m\u001B[38;5;28;01mas\u001B[39;00m\u001B[38;5;250m \u001B[39m\u001B[38;5;21;01mpd\u001B[39;00m\n\u001B[1;32m      3\u001B[0m \u001B[38;5;28;01mfrom\u001B[39;00m\u001B[38;5;250m \u001B[39m\u001B[38;5;21;01mtqdm\u001B[39;00m\u001B[38;5;250m \u001B[39m\u001B[38;5;28;01mimport\u001B[39;00m tqdm\n\u001B[0;32m----> 4\u001B[0m \u001B[38;5;28;01mimport\u001B[39;00m\u001B[38;5;250m \u001B[39m\u001B[38;5;21;01mdgl\u001B[39;00m\n",
      "File \u001B[0;32m~/Desktop/fraud-detection/.venv/lib/python3.10/site-packages/dgl/__init__.py:16\u001B[0m\n\u001B[1;32m     13\u001B[0m \u001B[38;5;28;01mfrom\u001B[39;00m\u001B[38;5;250m \u001B[39m\u001B[38;5;21;01m.\u001B[39;00m\u001B[38;5;21;01mlogging\u001B[39;00m\u001B[38;5;250m \u001B[39m\u001B[38;5;28;01mimport\u001B[39;00m enable_verbose_logging  \u001B[38;5;66;03m# usort: skip\u001B[39;00m\n\u001B[1;32m     14\u001B[0m \u001B[38;5;28;01mfrom\u001B[39;00m\u001B[38;5;250m \u001B[39m\u001B[38;5;21;01m.\u001B[39;00m\u001B[38;5;21;01mbackend\u001B[39;00m\u001B[38;5;250m \u001B[39m\u001B[38;5;28;01mimport\u001B[39;00m backend_name, load_backend  \u001B[38;5;66;03m# usort: skip\u001B[39;00m\n\u001B[0;32m---> 16\u001B[0m \u001B[38;5;28;01mfrom\u001B[39;00m\u001B[38;5;250m \u001B[39m\u001B[38;5;21;01m.\u001B[39;00m\u001B[38;5;250m \u001B[39m\u001B[38;5;28;01mimport\u001B[39;00m (\n\u001B[1;32m     17\u001B[0m     container,\n\u001B[1;32m     18\u001B[0m     cuda,\n\u001B[1;32m     19\u001B[0m     dataloading,\n\u001B[1;32m     20\u001B[0m     function,\n\u001B[1;32m     21\u001B[0m     ops,\n\u001B[1;32m     22\u001B[0m     random,\n\u001B[1;32m     23\u001B[0m     sampling,\n\u001B[1;32m     24\u001B[0m     storages,\n\u001B[1;32m     25\u001B[0m )\n\u001B[1;32m     26\u001B[0m \u001B[38;5;28;01mfrom\u001B[39;00m\u001B[38;5;250m \u001B[39m\u001B[38;5;21;01m.\u001B[39;00m\u001B[38;5;21;01m_ffi\u001B[39;00m\u001B[38;5;21;01m.\u001B[39;00m\u001B[38;5;21;01mbase\u001B[39;00m\u001B[38;5;250m \u001B[39m\u001B[38;5;28;01mimport\u001B[39;00m __version__, DGLError\n\u001B[1;32m     27\u001B[0m \u001B[38;5;28;01mfrom\u001B[39;00m\u001B[38;5;250m \u001B[39m\u001B[38;5;21;01m.\u001B[39;00m\u001B[38;5;21;01m_ffi\u001B[39;00m\u001B[38;5;21;01m.\u001B[39;00m\u001B[38;5;21;01mfunction\u001B[39;00m\u001B[38;5;250m \u001B[39m\u001B[38;5;28;01mimport\u001B[39;00m (\n\u001B[1;32m     28\u001B[0m     extract_ext_funcs,\n\u001B[1;32m     29\u001B[0m     get_global_func,\n\u001B[1;32m     30\u001B[0m     list_global_func_names,\n\u001B[1;32m     31\u001B[0m     register_func,\n\u001B[1;32m     32\u001B[0m )\n",
      "File \u001B[0;32m~/Desktop/fraud-detection/.venv/lib/python3.10/site-packages/dgl/dataloading/__init__.py:13\u001B[0m\n\u001B[1;32m     11\u001B[0m \u001B[38;5;28;01mif\u001B[39;00m F\u001B[38;5;241m.\u001B[39mget_preferred_backend() \u001B[38;5;241m==\u001B[39m \u001B[38;5;124m\"\u001B[39m\u001B[38;5;124mpytorch\u001B[39m\u001B[38;5;124m\"\u001B[39m:\n\u001B[1;32m     12\u001B[0m     \u001B[38;5;28;01mfrom\u001B[39;00m\u001B[38;5;250m \u001B[39m\u001B[38;5;21;01m.\u001B[39;00m\u001B[38;5;21;01mspot_target\u001B[39;00m\u001B[38;5;250m \u001B[39m\u001B[38;5;28;01mimport\u001B[39;00m \u001B[38;5;241m*\u001B[39m\n\u001B[0;32m---> 13\u001B[0m     \u001B[38;5;28;01mfrom\u001B[39;00m\u001B[38;5;250m \u001B[39m\u001B[38;5;21;01m.\u001B[39;00m\u001B[38;5;21;01mdataloader\u001B[39;00m\u001B[38;5;250m \u001B[39m\u001B[38;5;28;01mimport\u001B[39;00m \u001B[38;5;241m*\u001B[39m\n\u001B[1;32m     14\u001B[0m     \u001B[38;5;28;01mfrom\u001B[39;00m\u001B[38;5;250m \u001B[39m\u001B[38;5;21;01m.\u001B[39;00m\u001B[38;5;21;01mdist_dataloader\u001B[39;00m\u001B[38;5;250m \u001B[39m\u001B[38;5;28;01mimport\u001B[39;00m \u001B[38;5;241m*\u001B[39m\n",
      "File \u001B[0;32m~/Desktop/fraud-detection/.venv/lib/python3.10/site-packages/dgl/dataloading/dataloader.py:27\u001B[0m\n\u001B[1;32m     25\u001B[0m \u001B[38;5;28;01mfrom\u001B[39;00m\u001B[38;5;250m \u001B[39m\u001B[38;5;21;01m.\u001B[39;00m\u001B[38;5;21;01m.\u001B[39;00m\u001B[38;5;21;01mbatch\u001B[39;00m\u001B[38;5;250m \u001B[39m\u001B[38;5;28;01mimport\u001B[39;00m batch \u001B[38;5;28;01mas\u001B[39;00m batch_graphs\n\u001B[1;32m     26\u001B[0m \u001B[38;5;28;01mfrom\u001B[39;00m\u001B[38;5;250m \u001B[39m\u001B[38;5;21;01m.\u001B[39;00m\u001B[38;5;21;01m.\u001B[39;00m\u001B[38;5;21;01mcuda\u001B[39;00m\u001B[38;5;250m \u001B[39m\u001B[38;5;28;01mimport\u001B[39;00m GPUCache\n\u001B[0;32m---> 27\u001B[0m \u001B[38;5;28;01mfrom\u001B[39;00m\u001B[38;5;250m \u001B[39m\u001B[38;5;21;01m.\u001B[39;00m\u001B[38;5;21;01m.\u001B[39;00m\u001B[38;5;21;01mdistributed\u001B[39;00m\u001B[38;5;250m \u001B[39m\u001B[38;5;28;01mimport\u001B[39;00m DistGraph\n\u001B[1;32m     28\u001B[0m \u001B[38;5;28;01mfrom\u001B[39;00m\u001B[38;5;250m \u001B[39m\u001B[38;5;21;01m.\u001B[39;00m\u001B[38;5;21;01m.\u001B[39;00m\u001B[38;5;21;01mframe\u001B[39;00m\u001B[38;5;250m \u001B[39m\u001B[38;5;28;01mimport\u001B[39;00m LazyFeature\n\u001B[1;32m     29\u001B[0m \u001B[38;5;28;01mfrom\u001B[39;00m\u001B[38;5;250m \u001B[39m\u001B[38;5;21;01m.\u001B[39;00m\u001B[38;5;21;01m.\u001B[39;00m\u001B[38;5;21;01mheterograph\u001B[39;00m\u001B[38;5;250m \u001B[39m\u001B[38;5;28;01mimport\u001B[39;00m DGLGraph\n",
      "File \u001B[0;32m~/Desktop/fraud-detection/.venv/lib/python3.10/site-packages/dgl/distributed/__init__.py:5\u001B[0m\n\u001B[1;32m      3\u001B[0m \u001B[38;5;28;01mfrom\u001B[39;00m\u001B[38;5;250m \u001B[39m\u001B[38;5;21;01m.\u001B[39;00m\u001B[38;5;21;01mdist_context\u001B[39;00m\u001B[38;5;250m \u001B[39m\u001B[38;5;28;01mimport\u001B[39;00m exit_client, initialize\n\u001B[1;32m      4\u001B[0m \u001B[38;5;28;01mfrom\u001B[39;00m\u001B[38;5;250m \u001B[39m\u001B[38;5;21;01m.\u001B[39;00m\u001B[38;5;21;01mdist_dataloader\u001B[39;00m\u001B[38;5;250m \u001B[39m\u001B[38;5;28;01mimport\u001B[39;00m DistDataLoader\n\u001B[0;32m----> 5\u001B[0m \u001B[38;5;28;01mfrom\u001B[39;00m\u001B[38;5;250m \u001B[39m\u001B[38;5;21;01m.\u001B[39;00m\u001B[38;5;21;01mdist_graph\u001B[39;00m\u001B[38;5;250m \u001B[39m\u001B[38;5;28;01mimport\u001B[39;00m DistGraph, DistGraphServer, edge_split, node_split\n\u001B[1;32m      6\u001B[0m \u001B[38;5;28;01mfrom\u001B[39;00m\u001B[38;5;250m \u001B[39m\u001B[38;5;21;01m.\u001B[39;00m\u001B[38;5;21;01mdist_tensor\u001B[39;00m\u001B[38;5;250m \u001B[39m\u001B[38;5;28;01mimport\u001B[39;00m DistTensor\n\u001B[1;32m      7\u001B[0m \u001B[38;5;28;01mfrom\u001B[39;00m\u001B[38;5;250m \u001B[39m\u001B[38;5;21;01m.\u001B[39;00m\u001B[38;5;21;01mgraph_partition_book\u001B[39;00m\u001B[38;5;250m \u001B[39m\u001B[38;5;28;01mimport\u001B[39;00m GraphPartitionBook, PartitionPolicy\n",
      "File \u001B[0;32m~/Desktop/fraud-detection/.venv/lib/python3.10/site-packages/dgl/distributed/dist_graph.py:11\u001B[0m\n\u001B[1;32m      7\u001B[0m \u001B[38;5;28;01mfrom\u001B[39;00m\u001B[38;5;250m \u001B[39m\u001B[38;5;21;01mcollections\u001B[39;00m\u001B[38;5;21;01m.\u001B[39;00m\u001B[38;5;21;01mabc\u001B[39;00m\u001B[38;5;250m \u001B[39m\u001B[38;5;28;01mimport\u001B[39;00m MutableMapping\n\u001B[1;32m      9\u001B[0m \u001B[38;5;28;01mimport\u001B[39;00m\u001B[38;5;250m \u001B[39m\u001B[38;5;21;01mnumpy\u001B[39;00m\u001B[38;5;250m \u001B[39m\u001B[38;5;28;01mas\u001B[39;00m\u001B[38;5;250m \u001B[39m\u001B[38;5;21;01mnp\u001B[39;00m\n\u001B[0;32m---> 11\u001B[0m \u001B[38;5;28;01mfrom\u001B[39;00m\u001B[38;5;250m \u001B[39m\u001B[38;5;21;01m.\u001B[39;00m\u001B[38;5;21;01m.\u001B[39;00m\u001B[38;5;250m \u001B[39m\u001B[38;5;28;01mimport\u001B[39;00m backend \u001B[38;5;28;01mas\u001B[39;00m F, graphbolt \u001B[38;5;28;01mas\u001B[39;00m gb, heterograph_index\n\u001B[1;32m     12\u001B[0m \u001B[38;5;28;01mfrom\u001B[39;00m\u001B[38;5;250m \u001B[39m\u001B[38;5;21;01m.\u001B[39;00m\u001B[38;5;21;01m.\u001B[39;00m\u001B[38;5;21;01m_ffi\u001B[39;00m\u001B[38;5;21;01m.\u001B[39;00m\u001B[38;5;21;01mndarray\u001B[39;00m\u001B[38;5;250m \u001B[39m\u001B[38;5;28;01mimport\u001B[39;00m empty_shared_mem\n\u001B[1;32m     13\u001B[0m \u001B[38;5;28;01mfrom\u001B[39;00m\u001B[38;5;250m \u001B[39m\u001B[38;5;21;01m.\u001B[39;00m\u001B[38;5;21;01m.\u001B[39;00m\u001B[38;5;21;01mbase\u001B[39;00m\u001B[38;5;250m \u001B[39m\u001B[38;5;28;01mimport\u001B[39;00m ALL, DGLError, EID, ETYPE, is_all, NID\n",
      "File \u001B[0;32m~/Desktop/fraud-detection/.venv/lib/python3.10/site-packages/dgl/graphbolt/__init__.py:36\u001B[0m\n\u001B[1;32m     32\u001B[0m     \u001B[38;5;28;01mexcept\u001B[39;00m \u001B[38;5;167;01mException\u001B[39;00m:  \u001B[38;5;66;03m# pylint: disable=W0703\u001B[39;00m\n\u001B[1;32m     33\u001B[0m         \u001B[38;5;28;01mraise\u001B[39;00m \u001B[38;5;167;01mImportError\u001B[39;00m(\u001B[38;5;124m\"\u001B[39m\u001B[38;5;124mCannot load Graphbolt C++ library\u001B[39m\u001B[38;5;124m\"\u001B[39m)\n\u001B[0;32m---> 36\u001B[0m \u001B[43mload_graphbolt\u001B[49m\u001B[43m(\u001B[49m\u001B[43m)\u001B[49m\n\u001B[1;32m     38\u001B[0m \u001B[38;5;66;03m# pylint: disable=wrong-import-position\u001B[39;00m\n\u001B[1;32m     39\u001B[0m \u001B[38;5;28;01mfrom\u001B[39;00m\u001B[38;5;250m \u001B[39m\u001B[38;5;21;01m.\u001B[39;00m\u001B[38;5;21;01mbase\u001B[39;00m\u001B[38;5;250m \u001B[39m\u001B[38;5;28;01mimport\u001B[39;00m \u001B[38;5;241m*\u001B[39m\n",
      "File \u001B[0;32m~/Desktop/fraud-detection/.venv/lib/python3.10/site-packages/dgl/graphbolt/__init__.py:26\u001B[0m, in \u001B[0;36mload_graphbolt\u001B[0;34m()\u001B[0m\n\u001B[1;32m     24\u001B[0m path \u001B[38;5;241m=\u001B[39m os\u001B[38;5;241m.\u001B[39mpath\u001B[38;5;241m.\u001B[39mjoin(dirname, \u001B[38;5;124m\"\u001B[39m\u001B[38;5;124mgraphbolt\u001B[39m\u001B[38;5;124m\"\u001B[39m, basename)\n\u001B[1;32m     25\u001B[0m \u001B[38;5;28;01mif\u001B[39;00m \u001B[38;5;129;01mnot\u001B[39;00m os\u001B[38;5;241m.\u001B[39mpath\u001B[38;5;241m.\u001B[39mexists(path):\n\u001B[0;32m---> 26\u001B[0m     \u001B[38;5;28;01mraise\u001B[39;00m \u001B[38;5;167;01mFileNotFoundError\u001B[39;00m(\n\u001B[1;32m     27\u001B[0m         \u001B[38;5;124mf\u001B[39m\u001B[38;5;124m\"\u001B[39m\u001B[38;5;124mCannot find DGL C++ graphbolt library at \u001B[39m\u001B[38;5;132;01m{\u001B[39;00mpath\u001B[38;5;132;01m}\u001B[39;00m\u001B[38;5;124m\"\u001B[39m\n\u001B[1;32m     28\u001B[0m     )\n\u001B[1;32m     30\u001B[0m \u001B[38;5;28;01mtry\u001B[39;00m:\n\u001B[1;32m     31\u001B[0m     torch\u001B[38;5;241m.\u001B[39mclasses\u001B[38;5;241m.\u001B[39mload_library(path)\n",
      "\u001B[0;31mFileNotFoundError\u001B[0m: Cannot find DGL C++ graphbolt library at /Users/raya/Desktop/fraud-detection/.venv/lib/python3.10/site-packages/dgl/graphbolt/libgraphbolt_pytorch_2.7.1.dylib"
     ]
    }
   ],
   "execution_count": 4
  },
  {
   "metadata": {},
   "cell_type": "markdown",
   "source": "# Loading the Dataset",
   "id": "d63c376536811dce"
  },
  {
   "metadata": {},
   "cell_type": "markdown",
   "source": [
    "In this section, we load the dataset used in our experiment.\n",
    "The dataset is a simulated financial fraud dataset containing the following columns: ` Time `, ` Source `, ` Target `, ` Amount `, ` Location `, ` Type `, and ` Label `. The Label column contains values from 0 to 2, where:\n",
    "\n",
    "- 0 indicates a legitimate transaction,\n",
    "- 1 indicates a fraudulent transaction, and\n",
    "- 2 denotes unlabeled data."
   ],
   "id": "8bd9e1df8e5d6169"
  },
  {
   "metadata": {
    "collapsed": true,
    "ExecuteTime": {
     "end_time": "2025-06-29T14:20:11.573965Z",
     "start_time": "2025-06-29T14:20:11.531080Z"
    }
   },
   "cell_type": "code",
   "outputs": [],
   "execution_count": 2,
   "source": "df = pd.read_csv('/Users/raya/Desktop/fraud-detection/S-FFSD-dataset/data/raw/S-FFSD.csv')",
   "id": "initial_id"
  },
  {
   "metadata": {},
   "cell_type": "markdown",
   "source": "# Exploring the Dataset",
   "id": "40a9bce2d3748ed4"
  },
  {
   "metadata": {
    "ExecuteTime": {
     "end_time": "2025-06-29T14:20:34.484966Z",
     "start_time": "2025-06-29T14:20:34.477601Z"
    }
   },
   "cell_type": "code",
   "source": "df.head(10)",
   "id": "2f4bbff1613e422c",
   "outputs": [
    {
     "data": {
      "text/plain": [
       "   Time  Source Target  Amount Location   Type  Labels\n",
       "0     0  S10000  T1000   13.74     L100  TP100       2\n",
       "1     1  S10001  T1001   73.17     L101  TP101       2\n",
       "2     2  S10002  T1000   68.59     L100  TP100       2\n",
       "3     3  S10003  T1002   57.00     L100  TP102       2\n",
       "4     4  S10004  T1000   11.55     L100  TP100       2\n",
       "5     5  S10005  T1000  245.40     L100  TP100       2\n",
       "6     6  S10006  T1000  134.85     L100  TP100       2\n",
       "7     7  S10007  T1000   59.92     L100  TP100       0\n",
       "8     8  S10008  T1003  805.97     L100  TP100       2\n",
       "9     9  S10009  T1000   44.13     L100  TP100       2"
      ],
      "text/html": [
       "<div>\n",
       "<style scoped>\n",
       "    .dataframe tbody tr th:only-of-type {\n",
       "        vertical-align: middle;\n",
       "    }\n",
       "\n",
       "    .dataframe tbody tr th {\n",
       "        vertical-align: top;\n",
       "    }\n",
       "\n",
       "    .dataframe thead th {\n",
       "        text-align: right;\n",
       "    }\n",
       "</style>\n",
       "<table border=\"1\" class=\"dataframe\">\n",
       "  <thead>\n",
       "    <tr style=\"text-align: right;\">\n",
       "      <th></th>\n",
       "      <th>Time</th>\n",
       "      <th>Source</th>\n",
       "      <th>Target</th>\n",
       "      <th>Amount</th>\n",
       "      <th>Location</th>\n",
       "      <th>Type</th>\n",
       "      <th>Labels</th>\n",
       "    </tr>\n",
       "  </thead>\n",
       "  <tbody>\n",
       "    <tr>\n",
       "      <th>0</th>\n",
       "      <td>0</td>\n",
       "      <td>S10000</td>\n",
       "      <td>T1000</td>\n",
       "      <td>13.74</td>\n",
       "      <td>L100</td>\n",
       "      <td>TP100</td>\n",
       "      <td>2</td>\n",
       "    </tr>\n",
       "    <tr>\n",
       "      <th>1</th>\n",
       "      <td>1</td>\n",
       "      <td>S10001</td>\n",
       "      <td>T1001</td>\n",
       "      <td>73.17</td>\n",
       "      <td>L101</td>\n",
       "      <td>TP101</td>\n",
       "      <td>2</td>\n",
       "    </tr>\n",
       "    <tr>\n",
       "      <th>2</th>\n",
       "      <td>2</td>\n",
       "      <td>S10002</td>\n",
       "      <td>T1000</td>\n",
       "      <td>68.59</td>\n",
       "      <td>L100</td>\n",
       "      <td>TP100</td>\n",
       "      <td>2</td>\n",
       "    </tr>\n",
       "    <tr>\n",
       "      <th>3</th>\n",
       "      <td>3</td>\n",
       "      <td>S10003</td>\n",
       "      <td>T1002</td>\n",
       "      <td>57.00</td>\n",
       "      <td>L100</td>\n",
       "      <td>TP102</td>\n",
       "      <td>2</td>\n",
       "    </tr>\n",
       "    <tr>\n",
       "      <th>4</th>\n",
       "      <td>4</td>\n",
       "      <td>S10004</td>\n",
       "      <td>T1000</td>\n",
       "      <td>11.55</td>\n",
       "      <td>L100</td>\n",
       "      <td>TP100</td>\n",
       "      <td>2</td>\n",
       "    </tr>\n",
       "    <tr>\n",
       "      <th>5</th>\n",
       "      <td>5</td>\n",
       "      <td>S10005</td>\n",
       "      <td>T1000</td>\n",
       "      <td>245.40</td>\n",
       "      <td>L100</td>\n",
       "      <td>TP100</td>\n",
       "      <td>2</td>\n",
       "    </tr>\n",
       "    <tr>\n",
       "      <th>6</th>\n",
       "      <td>6</td>\n",
       "      <td>S10006</td>\n",
       "      <td>T1000</td>\n",
       "      <td>134.85</td>\n",
       "      <td>L100</td>\n",
       "      <td>TP100</td>\n",
       "      <td>2</td>\n",
       "    </tr>\n",
       "    <tr>\n",
       "      <th>7</th>\n",
       "      <td>7</td>\n",
       "      <td>S10007</td>\n",
       "      <td>T1000</td>\n",
       "      <td>59.92</td>\n",
       "      <td>L100</td>\n",
       "      <td>TP100</td>\n",
       "      <td>0</td>\n",
       "    </tr>\n",
       "    <tr>\n",
       "      <th>8</th>\n",
       "      <td>8</td>\n",
       "      <td>S10008</td>\n",
       "      <td>T1003</td>\n",
       "      <td>805.97</td>\n",
       "      <td>L100</td>\n",
       "      <td>TP100</td>\n",
       "      <td>2</td>\n",
       "    </tr>\n",
       "    <tr>\n",
       "      <th>9</th>\n",
       "      <td>9</td>\n",
       "      <td>S10009</td>\n",
       "      <td>T1000</td>\n",
       "      <td>44.13</td>\n",
       "      <td>L100</td>\n",
       "      <td>TP100</td>\n",
       "      <td>2</td>\n",
       "    </tr>\n",
       "  </tbody>\n",
       "</table>\n",
       "</div>"
      ]
     },
     "execution_count": 4,
     "metadata": {},
     "output_type": "execute_result"
    }
   ],
   "execution_count": 4
  },
  {
   "metadata": {
    "ExecuteTime": {
     "end_time": "2025-06-29T14:54:10.097074Z",
     "start_time": "2025-06-29T14:54:10.073104Z"
    }
   },
   "cell_type": "code",
   "source": "df.info()",
   "id": "6e74407fe4456442",
   "outputs": [
    {
     "name": "stdout",
     "output_type": "stream",
     "text": [
      "<class 'pandas.core.frame.DataFrame'>\n",
      "RangeIndex: 77881 entries, 0 to 77880\n",
      "Data columns (total 7 columns):\n",
      " #   Column    Non-Null Count  Dtype  \n",
      "---  ------    --------------  -----  \n",
      " 0   Time      77881 non-null  int64  \n",
      " 1   Source    77881 non-null  object \n",
      " 2   Target    77881 non-null  object \n",
      " 3   Amount    77881 non-null  float64\n",
      " 4   Location  77881 non-null  object \n",
      " 5   Type      77881 non-null  object \n",
      " 6   Labels    77881 non-null  int64  \n",
      "dtypes: float64(1), int64(2), object(4)\n",
      "memory usage: 4.2+ MB\n"
     ]
    }
   ],
   "execution_count": 5
  },
  {
   "metadata": {
    "ExecuteTime": {
     "end_time": "2025-06-29T14:54:27.415536Z",
     "start_time": "2025-06-29T14:54:27.398101Z"
    }
   },
   "cell_type": "code",
   "source": "df.describe()",
   "id": "362011e9014716f1",
   "outputs": [
    {
     "data": {
      "text/plain": [
       "               Time         Amount        Labels\n",
       "count  77881.000000   77881.000000  77881.000000\n",
       "mean   38940.000000     195.624898      1.306249\n",
       "std    22482.452494    4642.508520      0.915825\n",
       "min        0.000000       0.000000      0.000000\n",
       "25%    19470.000000       5.000000      0.000000\n",
       "50%    38940.000000      16.610000      2.000000\n",
       "75%    58410.000000      69.000000      2.000000\n",
       "max    77880.000000  800000.000000      2.000000"
      ],
      "text/html": [
       "<div>\n",
       "<style scoped>\n",
       "    .dataframe tbody tr th:only-of-type {\n",
       "        vertical-align: middle;\n",
       "    }\n",
       "\n",
       "    .dataframe tbody tr th {\n",
       "        vertical-align: top;\n",
       "    }\n",
       "\n",
       "    .dataframe thead th {\n",
       "        text-align: right;\n",
       "    }\n",
       "</style>\n",
       "<table border=\"1\" class=\"dataframe\">\n",
       "  <thead>\n",
       "    <tr style=\"text-align: right;\">\n",
       "      <th></th>\n",
       "      <th>Time</th>\n",
       "      <th>Amount</th>\n",
       "      <th>Labels</th>\n",
       "    </tr>\n",
       "  </thead>\n",
       "  <tbody>\n",
       "    <tr>\n",
       "      <th>count</th>\n",
       "      <td>77881.000000</td>\n",
       "      <td>77881.000000</td>\n",
       "      <td>77881.000000</td>\n",
       "    </tr>\n",
       "    <tr>\n",
       "      <th>mean</th>\n",
       "      <td>38940.000000</td>\n",
       "      <td>195.624898</td>\n",
       "      <td>1.306249</td>\n",
       "    </tr>\n",
       "    <tr>\n",
       "      <th>std</th>\n",
       "      <td>22482.452494</td>\n",
       "      <td>4642.508520</td>\n",
       "      <td>0.915825</td>\n",
       "    </tr>\n",
       "    <tr>\n",
       "      <th>min</th>\n",
       "      <td>0.000000</td>\n",
       "      <td>0.000000</td>\n",
       "      <td>0.000000</td>\n",
       "    </tr>\n",
       "    <tr>\n",
       "      <th>25%</th>\n",
       "      <td>19470.000000</td>\n",
       "      <td>5.000000</td>\n",
       "      <td>0.000000</td>\n",
       "    </tr>\n",
       "    <tr>\n",
       "      <th>50%</th>\n",
       "      <td>38940.000000</td>\n",
       "      <td>16.610000</td>\n",
       "      <td>2.000000</td>\n",
       "    </tr>\n",
       "    <tr>\n",
       "      <th>75%</th>\n",
       "      <td>58410.000000</td>\n",
       "      <td>69.000000</td>\n",
       "      <td>2.000000</td>\n",
       "    </tr>\n",
       "    <tr>\n",
       "      <th>max</th>\n",
       "      <td>77880.000000</td>\n",
       "      <td>800000.000000</td>\n",
       "      <td>2.000000</td>\n",
       "    </tr>\n",
       "  </tbody>\n",
       "</table>\n",
       "</div>"
      ]
     },
     "execution_count": 6,
     "metadata": {},
     "output_type": "execute_result"
    }
   ],
   "execution_count": 6
  },
  {
   "metadata": {},
   "cell_type": "markdown",
   "source": "# Time-Based Feature Engineering",
   "id": "777d759a6a01d2ee"
  },
  {
   "metadata": {},
   "cell_type": "markdown",
   "source": [
    "In this section, we define a function to perform feature engineering on the ` Time ` column. First, we segment the time values into defined time spans by setting specific upper and lower bounds. This allows us to extract meaningful statistical patterns based on when each transaction occurred.\n",
    "Next, we iterate through the dataset to calculate various statistics within each time span, including the average, total, and standard deviation of transaction amounts, as well as the transaction bias. We also compute the number of transactions, the number of unique locations, and the number of unique transaction types in each span. Finally, we concatenate these newly generated features with the original dataframe."
   ],
   "id": "df8db2c7bf31ffb6"
  },
  {
   "metadata": {
    "ExecuteTime": {
     "end_time": "2025-06-29T15:10:34.463069Z",
     "start_time": "2025-06-29T15:10:34.458279Z"
    }
   },
   "cell_type": "code",
   "source": [
    "def featmap_gen(tmp_df=None):\n",
    "\n",
    "    time_span = [2, 3, 5, 15, 20, 50, 100, 150,\n",
    "                 200, 300, 864, 2590, 5100, 10000, 24000]\n",
    "    time_name = [str(i) for i in time_span]\n",
    "    time_list = tmp_df['Time']\n",
    "    post_fe = []\n",
    "    for trans_idx, trans_feat in tqdm(tmp_df.iterrows()):\n",
    "        new_df = pd.Series(trans_feat)\n",
    "        temp_time = new_df.Time\n",
    "        temp_amt = new_df.Amount\n",
    "        for length, tname in zip(time_span, time_name):\n",
    "            lowbound = (time_list >= temp_time - length)\n",
    "            upbound = (time_list <= temp_time)\n",
    "            correct_data = tmp_df[lowbound & upbound]\n",
    "            new_df['trans_at_avg_{}'.format(\n",
    "                tname)] = correct_data['Amount'].mean()\n",
    "            new_df['trans_at_totl_{}'.format(\n",
    "                tname)] = correct_data['Amount'].sum()\n",
    "            new_df['trans_at_std_{}'.format(\n",
    "                tname)] = correct_data['Amount'].std()\n",
    "            new_df['trans_at_bias_{}'.format(\n",
    "                tname)] = temp_amt - correct_data['Amount'].mean()\n",
    "            new_df['trans_at_num_{}'.format(tname)] = len(correct_data)\n",
    "            new_df['trans_target_num_{}'.format(tname)] = len(\n",
    "                correct_data.Target.unique())\n",
    "            new_df['trans_location_num_{}'.format(tname)] = len(\n",
    "                correct_data.Location.unique())\n",
    "            new_df['trans_type_num_{}'.format(tname)] = len(\n",
    "                correct_data.Type.unique())\n",
    "        post_fe.append(new_df)\n",
    "    return pd.DataFrame(post_fe)"
   ],
   "id": "1e3cffb2a4c133d3",
   "outputs": [],
   "execution_count": 12
  },
  {
   "metadata": {},
   "cell_type": "markdown",
   "source": "# Data Preprocessing",
   "id": "17ef7d008b893f0f"
  },
  {
   "metadata": {},
   "cell_type": "markdown",
   "source": "As a first step, we perform feature engineering using the previously defined ` featmap_gen ` function.",
   "id": "a4bb0c9d5926b7d3"
  },
  {
   "metadata": {
    "ExecuteTime": {
     "end_time": "2025-06-29T15:34:09.881704Z",
     "start_time": "2025-06-29T15:10:36.674706Z"
    }
   },
   "cell_type": "code",
   "outputs": [
    {
     "name": "stderr",
     "output_type": "stream",
     "text": [
      "77881it [23:29, 55.26it/s]\n"
     ]
    }
   ],
   "execution_count": 13,
   "source": "df = featmap_gen(df.reset_index(drop=True))",
   "id": "14a185f8b8cca1a7"
  },
  {
   "metadata": {},
   "cell_type": "markdown",
   "source": [
    "**Next, we handle the missing values by filling them with zeros.**\n",
    "\n",
    "This approach is appropriate because the number of missing entries is relatively small compared to the size of the dataset. Moreover, since the dataset is simulated, there is no real-world information available to impute the missing values more accurately."
   ],
   "id": "ef06d8b109ae5d0a"
  },
  {
   "metadata": {
    "ExecuteTime": {
     "end_time": "2025-06-29T15:36:36.950766Z",
     "start_time": "2025-06-29T15:36:36.914989Z"
    }
   },
   "cell_type": "code",
   "source": [
    "df.replace(np.nan, 0, inplace=True)\n",
    "df.reset_index(drop=True, inplace=True)"
   ],
   "id": "9c857b9940f133c8",
   "outputs": [],
   "execution_count": 14
  },
  {
   "metadata": {},
   "cell_type": "markdown",
   "source": [
    "In this part we create an adjeceny matrix for the categorical features.\n",
    "To begin, we initialize three empty lists:\n",
    "\n",
    "- ` out `: Stores the final output results.\n",
    "- ` alls `: Keeps track of the source nodes.\n",
    "- ` allt `: Keeps track of the target nodes.\n",
    "\n",
    "Next, in the **outer loop**, we iterate through each column specified in the `pair` list.\n",
    "Within the **inner loop**, we group the data based on the current column. For each group, we identify transactions that share the same value and create edges between them.\n",
    "\n",
    "However, to limit the number of connections and preserve temporal relevance, we only create edges between transactions that fall within a defined sequential threshold, specified by the `edge_per_trans parameter`."
   ],
   "id": "dcd105361bdac3b3"
  },
  {
   "metadata": {
    "ExecuteTime": {
     "end_time": "2025-06-29T15:40:29.450262Z",
     "start_time": "2025-06-29T15:40:27.927251Z"
    }
   },
   "cell_type": "code",
   "source": [
    "out = []\n",
    "alls = []\n",
    "allt = []\n",
    "pair = [\"Source\", \"Target\", \"Location\", \"Type\"]\n",
    "for column in pair:\n",
    "    src, tgt = [], []\n",
    "    edge_per_trans = 3\n",
    "    for c_id, c_df in tqdm(df.groupby(column), desc=column):\n",
    "        c_df = c_df.sort_values(by=\"Time\")\n",
    "        df_len = len(c_df)\n",
    "        sorted_idxs = c_df.index\n",
    "        src.extend([sorted_idxs[i] for i in range(df_len)\n",
    "                    for j in range(edge_per_trans) if i + j < df_len])\n",
    "        tgt.extend([sorted_idxs[i+j] for i in range(df_len)\n",
    "                    for j in range(edge_per_trans) if i + j < df_len])\n",
    "    alls.extend(src)\n",
    "    allt.extend(tgt)\n",
    "alls = np.array(alls)\n",
    "allt = np.array(allt)"
   ],
   "id": "174288e391c89d62",
   "outputs": [
    {
     "name": "stderr",
     "output_type": "stream",
     "text": [
      "Source: 100%|██████████| 30346/30346 [00:00<00:00, 32592.40it/s]\n",
      "Target: 100%|██████████| 886/886 [00:00<00:00, 6416.02it/s]\n",
      "Location: 100%|██████████| 296/296 [00:00<00:00, 2422.97it/s]\n",
      "Type: 100%|██████████| 166/166 [00:00<00:00, 1443.43it/s]\n"
     ]
    }
   ],
   "execution_count": 15
  },
  {
   "metadata": {
    "ExecuteTime": {
     "end_time": "2025-06-29T16:14:33.975334Z",
     "start_time": "2025-06-29T16:14:31.255978Z"
    }
   },
   "cell_type": "code",
   "source": "df.to_csv('/Users/raya/Desktop/fraud-detection/S-FFSD-dataset/data/processed/df.csv',index = False)\n",
   "id": "fedfa5a6cc59249b",
   "outputs": [],
   "execution_count": 36
  },
  {
   "metadata": {
    "ExecuteTime": {
     "end_time": "2025-06-29T16:10:24.247264Z",
     "start_time": "2025-06-29T16:10:24.230930Z"
    }
   },
   "cell_type": "code",
   "source": "dgl.graph((alls, allt))",
   "id": "360e80380b2e7638",
   "outputs": [
    {
     "ename": "NameError",
     "evalue": "name 'dgl' is not defined",
     "output_type": "error",
     "traceback": [
      "\u001B[31m---------------------------------------------------------------------------\u001B[39m",
      "\u001B[31mNameError\u001B[39m                                 Traceback (most recent call last)",
      "\u001B[36mCell\u001B[39m\u001B[36m \u001B[39m\u001B[32mIn[30]\u001B[39m\u001B[32m, line 1\u001B[39m\n\u001B[32m----> \u001B[39m\u001B[32m1\u001B[39m \u001B[43mdgl\u001B[49m.graph((alls, allt))\n",
      "\u001B[31mNameError\u001B[39m: name 'dgl' is not defined"
     ]
    }
   ],
   "execution_count": 30
  }
 ],
 "metadata": {
  "kernelspec": {
   "display_name": "Python 3",
   "language": "python",
   "name": "python3"
  },
  "language_info": {
   "codemirror_mode": {
    "name": "ipython",
    "version": 2
   },
   "file_extension": ".py",
   "mimetype": "text/x-python",
   "name": "python",
   "nbconvert_exporter": "python",
   "pygments_lexer": "ipython2",
   "version": "2.7.6"
  }
 },
 "nbformat": 4,
 "nbformat_minor": 5
}
